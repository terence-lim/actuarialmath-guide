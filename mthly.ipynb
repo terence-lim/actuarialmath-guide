{
 "cells": [
  {
   "attachments": {},
   "cell_type": "markdown",
   "metadata": {},
   "source": [
    "# 1/M'thly\n",
    "\n",
    "A new lifetime random variable is introduced to value benefits which depend on the number of complete periods of length $1/m$ years lived by a life (x).\n",
    "\n",
    "$K^{(m)}_x = \\dfrac{1}{m} \\lfloor m T_x \\rfloor$\n",
    "- 1/mthly curtate future lifetime random variable,\n",
    "where $m > 1$ is an integer, is the future lifetime of (x) in years rounded to the lower $\\frac{1}{m}$th of a year.\n",
    "\n",
    "## Life Insurance\n",
    "\n",
    "__Whole life insurance__\n",
    "\n",
    "$Z = v^{K_x^{(k)}+1/m}$\n",
    "- present value random variable of whole life insurance\n",
    "\n",
    "$A^{(m)}_x = E[Z] = \\sum_{k=0}^{\\infty} ~ v^{\\frac{k+1}{m}} ~ _{\\frac{k}{m}|\\frac{1}{m}}q_x$\n",
    "-  1/m'thly  whole life insurance\n",
    "\n",
    "$E[Z^2] = E[(v^2)^{K_x^{(k)}+1/m}] = ^2A^{(m)}_x$\n",
    "- second moment is also obtained from $A^{(m)}_x$ at double the force of interest\n",
    "\n",
    "__Term life insurance__\n",
    "\n",
    "$Z = 0$ if $K_x^{(m)} \\ge t$, else $v^{K_x^{(k)}+1/m}$\n",
    "- death benefit is payable at the end of the 1/m-th year of death , provided this occurs within $t$ years.\n",
    "\n",
    "$A^{1^{(m)}}_{x:\\overline{t|}} = \\sum_{k=0}^{mt-1} ~ v^{\\frac{k+1}{m}} ~ _{\\frac{k}{m}|\\frac{1}{m}}q_x $\n",
    "- EPV of 1/m-thly term insurance benefits\n"
   ]
  },
  {
   "attachments": {},
   "cell_type": "markdown",
   "metadata": {},
   "source": [
    "## Life Annuity Twin\n",
    "\n",
    "$A^{(m)}_{x} = 1 - d^{(m)} ~ \\ddot{a}^{(m)}_{x} ~ \\Longleftrightarrow ~ \\ddot{a}^{(m)}_{x} = \\dfrac{1 - A^{(m)}_{x}}{d^{(m)}}$\n",
    "-  1/m'thly  whole life annuity due\n",
    "\n",
    "$A^{(m)}_{x:\\overline {t|}} = 1 - d^{(m)} ~ \\ddot{a}^{(m)}_{x:\\overline {t|}} ~ \\Longleftrightarrow ~ \\ddot{a}^{(m)}_{x:\\overline {t|}} = \\dfrac{1 - A^{(m)}_{x:\\overline {t|}}}{d^{(m)}}$\n",
    "-  1/m'thly temporary annuity due and endowment insurance\n"
   ]
  },
  {
   "attachments": {},
   "cell_type": "markdown",
   "metadata": {},
   "source": [
    "## Immediate Life Annuity\n",
    "\n",
    "$a^{(m)}_{x} = \\ddot{a}^{(m)}_{x} - \\dfrac{1}{m}$\n",
    "- immediate 1/m'thly whole life annuity\n",
    "\n",
    "$a^{(m)}_{x:\\overline {t|}} = \\ddot{a}^{(m)}_{x:\\overline {t|}} - \\dfrac{1}{m}(1 - ~_tE_x)$\n",
    "- immediate 1/m'thly temporary life annuity"
   ]
  },
  {
   "attachments": {},
   "cell_type": "markdown",
   "metadata": {},
   "source": [
    "## Examples\n",
    "\n",
    "Ths `Mthly` class implements methods to compute life insurance and annuity values with m'thly-pay. "
   ]
  },
  {
   "cell_type": "code",
   "execution_count": 1,
   "metadata": {},
   "outputs": [],
   "source": [
    "from actuarialmath.mthly import Mthly\n",
    "from actuarialmath.premiums import Premiums\n",
    "from actuarialmath.lifetable import LifeTable"
   ]
  },
  {
   "attachments": {},
   "cell_type": "markdown",
   "metadata": {},
   "source": [
    "__SOA Question 6.4__\n",
    "\n",
    "For whole life annuities-due of 15 per month on each of 200 lives age 62 with\n",
    "independent future lifetimes, you are given:\n",
    "- $i = 0.06$\n",
    "- $A_{62}^{(12)} = 0.2105$ and $^2A_{62}^{(12)} = 0.4075$\n",
    "- $\\pi$ is the single premium to be paid by each of the 200 lives\n",
    "- $S$ is the present value random variable at time 0 of total payments made to the 200 lives\n",
    "\n",
    "Using the normal approximation, calculate $\\pi$ such that $Pr(200 \\pi > S ) =\n",
    "0.90$."
   ]
  },
  {
   "cell_type": "code",
   "execution_count": 2,
   "metadata": {},
   "outputs": [
    {
     "name": "stdout",
     "output_type": "stream",
     "text": [
      "SOA Question 6.4:  (E) 1893.9\n",
      "1893.912859650868\n"
     ]
    }
   ],
   "source": [
    "print(\"SOA Question 6.4:  (E) 1893.9\")\n",
    "mthly = Mthly(m=12, life=Premiums().set_interest(i=0.06))\n",
    "A1, A2 = 0.4075, 0.2105\n",
    "mean = mthly.annuity_twin(A1)*15*12\n",
    "var = mthly.annuity_variance(A1=A1, A2=A2, b=15 * 12)\n",
    "S = Premiums.portfolio_percentile(mean=mean, variance=var, prob=.9, N=200)\n",
    "print(S / 200)\n"
   ]
  },
  {
   "attachments": {},
   "cell_type": "markdown",
   "metadata": {},
   "source": [
    "__SOA Question 4.2__\n",
    "\n",
    "For a special 2-year term insurance policy on (x), you are given:\n",
    "- Death benefits are payable at the end of the half-year of death\n",
    "- The amount of the death benefit is 300,000 for the first half-year and increases by 30,000 per half-year thereafter\n",
    "- $q_x = 0.16$ and $q_{x + 1} = 0.23$\n",
    "- $i^{(2)} = 0.18$\n",
    "- Deaths are assumed to follow a constant force of mortality between integral ages\n",
    "- Z is the present value random variable for this insurance\n",
    "\n",
    "Calculate $Pr(Z > 277,000)$."
   ]
  },
  {
   "cell_type": "code",
   "execution_count": 3,
   "metadata": {},
   "outputs": [
    {
     "name": "stdout",
     "output_type": "stream",
     "text": [
      "SOA Question 4.2:  (D) 0.18\n",
      "               Z         q\n",
      "m                         \n",
      "1  275229.357798  0.083485\n",
      "2  277754.397778  0.076515\n",
      "3  277986.052822  0.102903\n",
      "4  276285.832315  0.090297\n",
      "0.17941813045022975\n"
     ]
    }
   ],
   "source": [
    "print(\"SOA Question 4.2:  (D) 0.18\")\n",
    "life = LifeTable(udd=False).set_table(q={0: 0.16, 1: 0.23})\\\n",
    "                           .set_interest(i_m=0.18, m=2)\n",
    "mthly = Mthly(m=2, life=life)\n",
    "Z = mthly.Z_m(0, t=2, benefit=lambda x,t: 300000 + t*30000*2)\n",
    "print(Z)\n",
    "print(Z[Z['Z'] >= 277000]['q'].sum())\n"
   ]
  },
  {
   "attachments": {},
   "cell_type": "markdown",
   "metadata": {},
   "source": [
    "## Methods"
   ]
  },
  {
   "cell_type": "code",
   "execution_count": 4,
   "metadata": {},
   "outputs": [
    {
     "name": "stdout",
     "output_type": "stream",
     "text": [
      "\n",
      "class Mthly - Compute 1/M'thly insurance and annuities\n",
      "\n",
      "    Args:\n",
      "      m : number of payments per year\n",
      "      life : original survival and life contingent functions\n",
      "\n",
      "    Methods:\n",
      "    --------\n",
      "\n",
      "    v_m(k):\n",
      "      Compute discount rate compounded over k m'thly periods\n",
      "\n",
      "    p_m(x, s_m, t_m):\n",
      "      Compute survival probability over m'thly periods\n",
      "\n",
      "    q_m(x, s_m, t_m, u_m):\n",
      "      Compute deferred mortality over m'thly periods\n",
      "\n",
      "    Z_m(x, s, t, benefit, moment):\n",
      "      Return PV of insurance r.v. Z and probability of death at mthly intervals\n",
      "\n",
      "    E_x(x, s, t, moment, endowment):\n",
      "      Compute pure endowment factor\n",
      "\n",
      "    A_x(x, s, t, u, benefit, moment):\n",
      "      Compute insurance factor with m'thly benefits\n",
      "\n",
      "    whole_life_insurance(x, s, moment, b):\n",
      "      Whole life insurance: A_x\n",
      "\n",
      "    term_insurance(x, s, t, b, moment):\n",
      "      Term life insurance: A_x:t^1\n",
      "\n",
      "    deferred_insurance(x, s, n, b, t, moment):\n",
      "      Deferred insurance n|_A_x:t^1 = discounted whole life\n",
      "\n",
      "    endowment_insurance(x, s, t, b, endowment, moment):\n",
      "      Endowment insurance: A_x:t = term insurance + pure endowment\n",
      "\n",
      "    immediate_annuity(x, s, t, b):\n",
      "      Immediate m'thly annuity\n",
      "\n",
      "    insurance_twin(a):\n",
      "      Return insurance twin of m'thly annuity\n",
      "\n",
      "    annuity_twin(A):\n",
      "      Return value of annuity twin of m'thly insurance\n",
      "\n",
      "    annuity_variance(A2, A1, b):\n",
      "      Variance of m'thly annuity from m'thly insurance moments\n",
      "\n",
      "    whole_life_annuity(x, s, b, variance):\n",
      "      Whole life m'thly annuity: a_x\n",
      "\n",
      "    temporary_annuity(x, s, t, b, variance):\n",
      "      Temporary m'thly life annuity: a_x:t\n",
      "\n",
      "    deferred_annuity(x, s, u, t, b):\n",
      "      Deferred m'thly life annuity due n|t_a_x =  n+t_a_x - n_a_x\n",
      "\n",
      "    immediate_annuity(x, s, t, b):\n",
      "      Immediate m'thly annuity\n",
      "\n",
      "\n"
     ]
    }
   ],
   "source": [
    "import describe\n",
    "describe.methods(Mthly)"
   ]
  }
 ],
 "metadata": {
  "kernelspec": {
   "display_name": "Python 3.10.5 ('env3.10')",
   "language": "python",
   "name": "python3"
  },
  "language_info": {
   "codemirror_mode": {
    "name": "ipython",
    "version": 3
   },
   "file_extension": ".py",
   "mimetype": "text/x-python",
   "name": "python",
   "nbconvert_exporter": "python",
   "pygments_lexer": "ipython3",
   "version": "3.11.3"
  },
  "orig_nbformat": 4,
  "vscode": {
   "interpreter": {
    "hash": "a53bd658f9a5b7202fd97fcbe4e35965efc28d0eb9d85b0766bd67191bc6202c"
   }
  }
 },
 "nbformat": 4,
 "nbformat_minor": 2
}
