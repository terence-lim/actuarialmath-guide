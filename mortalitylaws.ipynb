{
 "cells": [
  {
   "attachments": {},
   "cell_type": "markdown",
   "metadata": {},
   "source": [
    "# Mortality Laws\n",
    "\n",
    "When using special mortality laws for lifetime distribution, shortcut formulas may be available.\n",
    "\n"
   ]
  },
  {
   "attachments": {},
   "cell_type": "markdown",
   "metadata": {},
   "source": [
    "## Beta distribution\n",
    "\n",
    "With two parameters $\\alpha, \\omega$:\n",
    "\n",
    "$l_x \\sim (\\omega - x)^{\\alpha}$\n",
    "\n",
    "$\\mu_x = \\dfrac{\\alpha}{\\omega - x}$\n",
    "\n",
    "$_tp_x = (\\dfrac{\\omega - (x + t)}{\\omega - x})^{\\alpha}$\n",
    "\n",
    "$\\overset{\\circ}{e}_{x} = \\dfrac{\\omega - x}{\\alpha + 1}$\n",
    "\n"
   ]
  },
  {
   "attachments": {},
   "cell_type": "markdown",
   "metadata": {},
   "source": [
    "## Uniform distribution\n",
    "\n",
    "\n",
    "Is Beta distribution with $\\alpha = 1$\n",
    "\n",
    "$l_x \\sim \\omega - x$\n",
    "\n",
    "$\\mu_x = \\dfrac{1}{\\omega - x}$\n",
    "\n",
    "$_tp_x = \\dfrac{\\omega - (x + t)}{\\omega - x}$\n",
    "\n",
    "$\\overset{\\circ}{e}_{x} = \\dfrac{\\omega - x}{2}$\n",
    "\n",
    "$\\overset{\\circ}{e}_{x:\\overline{n|}} =\\ _np_x\\ n +\\ _nq_x\\ \\dfrac{n}{2}$\n",
    "\n",
    "$_nE_x = v^n \\dfrac{\\omega - (x+n)}{\\omega - x}$\n",
    "\n",
    "$\\bar{A}_{x} = \\dfrac{\\bar{a}_{\\overline{\\omega - x|}}}{\\omega - x}$\n",
    "\n",
    "$\\bar{A}^ {1}_{x:\\overline{n|}} = \\dfrac{\\bar{a}_{\\overline{n|}}}{\\omega - x}$\n",
    "\n"
   ]
  },
  {
   "attachments": {},
   "cell_type": "markdown",
   "metadata": {},
   "source": [
    "## Makeham's Law\n",
    "\n",
    "With three parameters $c > 1,\\ B > 0,\\ A \\ge -B$, it includes an element in the force of mortality that does not depend on age. \n",
    "\n",
    "\n",
    "$\\mu_x = A + B c^x$\n",
    "\n",
    "\n",
    "$_tp_x = e^{\\frac{B c^x}{\\ln c}(c^t - 1) - A t}$\n",
    "\n"
   ]
  },
  {
   "attachments": {},
   "cell_type": "markdown",
   "metadata": {},
   "source": [
    "## Gompertz's Law\n",
    "\n",
    "Is Makeham's Law with $A=0$\n",
    "\n",
    "$\\mu_x = B c^x$\n",
    "\n",
    "$_tp_x = e^{\\frac{B c^x}{\\ln c}(c^t - 1)}$\n"
   ]
  },
  {
   "attachments": {},
   "cell_type": "markdown",
   "metadata": {},
   "source": [
    "## Examples\n",
    "\n",
    "The `MortalityLaws` class, and `Beta`, `Uniform`, `Makeham` and `Gompertz` subclasses, implement methods to apply shortcut equations that are available when assuming these special mortality laws for the distribution of future lifetime."
   ]
  },
  {
   "cell_type": "code",
   "execution_count": 1,
   "metadata": {},
   "outputs": [],
   "source": [
    "from actuarialmath.mortalitylaws import MortalityLaws, Uniform, Beta, Makeham, Gompertz"
   ]
  },
  {
   "attachments": {},
   "cell_type": "markdown",
   "metadata": {},
   "source": [
    "__SOA Question 2.3__:\n",
    "\n",
    "You are given that mortality follows Gompertz Law with B = 0.00027 and c = 1.1.\n",
    "Calculate $f_{50}(10)$."
   ]
  },
  {
   "cell_type": "code",
   "execution_count": 2,
   "metadata": {},
   "outputs": [
    {
     "name": "stdout",
     "output_type": "stream",
     "text": [
      "SOA Question 2.3: (A) 0.0483\n",
      "0.048389180223511644\n"
     ]
    }
   ],
   "source": [
    "print(\"SOA Question 2.3: (A) 0.0483\")\n",
    "print(Gompertz(B=0.00027, c=1.1).f_x(x=50, t=10))"
   ]
  },
  {
   "attachments": {},
   "cell_type": "markdown",
   "metadata": {},
   "source": [
    "__SOA Question 2.6__\n",
    "\n",
    "You are given the survival function:\n",
    "\n",
    "$S_0(x) = \\left( 1 − \\frac{x}{60} \\right)^{\\frac{1}{3}}, \\quad 0 \\le x \\le 60$\n",
    "\n",
    "Calculate $1000 \\mu_{35}$."
   ]
  },
  {
   "cell_type": "code",
   "execution_count": 3,
   "metadata": {},
   "outputs": [
    {
     "name": "stdout",
     "output_type": "stream",
     "text": [
      "# SOA Question 2.6: (C) 13.3\n",
      "13.333333333333332\n"
     ]
    }
   ],
   "source": [
    "print(\"# SOA Question 2.6: (C) 13.3\")\n",
    "print(Beta(omega=60, alpha=1/3).mu_x(35) * 1000)"
   ]
  },
  {
   "attachments": {},
   "cell_type": "markdown",
   "metadata": {},
   "source": [
    "__Beta distribution__:"
   ]
  },
  {
   "cell_type": "code",
   "execution_count": 4,
   "metadata": {},
   "outputs": [
    {
     "name": "stdout",
     "output_type": "stream",
     "text": [
      "0.007188905547861446\n",
      "50.0\n",
      "13.333333333333332\n"
     ]
    }
   ],
   "source": [
    "life = Beta(omega=100, alpha=0.5)\n",
    "print(life.q_x(25, t=1, u=10))                    # 0.0072\n",
    "print(life.e_x(25))                               # 50\n",
    "print(Beta(omega=60, alpha=1/3).mu_x(35) * 1000)  # 13.33\n"
   ]
  },
  {
   "attachments": {},
   "cell_type": "markdown",
   "metadata": {},
   "source": [
    "__Uniform distribution__:"
   ]
  },
  {
   "cell_type": "code",
   "execution_count": 5,
   "metadata": {},
   "outputs": [
    {
     "name": "stdout",
     "output_type": "stream",
     "text": [
      "Uniform\n",
      "16.03290804858584\n",
      "4.47503070125663\n",
      "0.989010989010989\n",
      "32.30769230769231\n",
      "\n",
      "0.7505031903214833\n",
      "0.378867519462745\n",
      "0.07552885288417432\n",
      "0.8260320432056576\n",
      "0.30333866657857067\n"
     ]
    }
   ],
   "source": [
    "print('Uniform')\n",
    "uniform = Uniform(80).set_interest(delta=0.04)\n",
    "print(uniform.whole_life_annuity(20))           # 15.53\n",
    "print(uniform.temporary_annuity(20, t=5))       # 4.35\n",
    "print(Uniform(161).p_x(70, t=1))                # 0.98901\n",
    "print(Uniform(95).e_x(30, t=40, curtate=False)) # 27.692\n",
    "print()\n",
    "\n",
    "uniform = Uniform(omega=80).set_interest(delta=0.04)\n",
    "print(uniform.E_x(20, t=5))  # .7505\n",
    "print(uniform.whole_life_insurance(20, discrete=False))      # .3789\n",
    "print(uniform.term_insurance(20, t=5, discrete=False))       # .0755\n",
    "print(uniform.endowment_insurance(20, t=5, discrete=False))  # .8260\n",
    "print(uniform.deferred_insurance(20, u=5, discrete=False))   # .3033"
   ]
  },
  {
   "attachments": {},
   "cell_type": "markdown",
   "metadata": {},
   "source": [
    "__Makeham's and Gompertz's Laws__:"
   ]
  },
  {
   "cell_type": "code",
   "execution_count": 6,
   "metadata": {},
   "outputs": [
    {
     "name": "stdout",
     "output_type": "stream",
     "text": [
      "869.3908338193208\n",
      "0.048389180223511644\n",
      "0.0031580641631654026\n"
     ]
    }
   ],
   "source": [
    "life = Gompertz(B=0.000005, c=1.10)\n",
    "p = life.p_x(80, t=10)  # 869.4\n",
    "print(life.portfolio_percentile(N=1000, mean=p, variance=p*(1-p), prob=0.99)) \n",
    "\n",
    "print(Gompertz(B=0.00027, c=1.1).f_x(50, t=10)) # 0.04839\n",
    "life = Makeham(A=0.00022, B=2.7e-6, c=1.124)\n",
    "print(life.mu_x(60) * 0.9803)  # 0.00316"
   ]
  },
  {
   "attachments": {},
   "cell_type": "markdown",
   "metadata": {},
   "source": [
    "## Methods"
   ]
  },
  {
   "cell_type": "code",
   "execution_count": 7,
   "metadata": {},
   "outputs": [
    {
     "name": "stdout",
     "output_type": "stream",
     "text": [
      "\n",
      "class MortalityLaws - Apply shortcut formulas for special mortality laws\n",
      "\n",
      "    Methods:\n",
      "    --------\n",
      "\n",
      "    l_r(x, s, r):\n",
      "      Fractional lives given special mortality law: l_[x]+s+r\n",
      "\n",
      "    p_r(x, s, r, t):\n",
      "      Fractional age survival probability given special mortality law\n",
      "\n",
      "    q_r(x, s, r, t, u):\n",
      "      Fractional age deferred mortality given special mortality law\n",
      "\n",
      "    mu_r(x, s, r):\n",
      "      Fractional age force of mortality given special mortality law\n",
      "\n",
      "    f_r(x, s, r, t):\n",
      "      fractional age lifetime density given special mortality law\n",
      "\n",
      "    e_r(x, s, r, t):\n",
      "      Fractional age future lifetime given special mortality law\n",
      "\n",
      "\n"
     ]
    }
   ],
   "source": [
    "import describe\n",
    "describe.methods(MortalityLaws)\n"
   ]
  },
  {
   "cell_type": "code",
   "execution_count": 8,
   "metadata": {},
   "outputs": [
    {
     "name": "stdout",
     "output_type": "stream",
     "text": [
      "\n",
      "class Beta - Shortcuts with beta distribution of deaths (is Uniform when alpha = 1)\n",
      "\n",
      "    Args:\n",
      "      omega : maximum age\n",
      "      alpha : alpha paramter of beta distribution\n",
      "      lives : assumed starting number of lives for survival function\n",
      "\n"
     ]
    }
   ],
   "source": [
    "import describe\n",
    "describe.methods(Beta)"
   ]
  },
  {
   "cell_type": "code",
   "execution_count": 9,
   "metadata": {},
   "outputs": [
    {
     "name": "stdout",
     "output_type": "stream",
     "text": [
      "\n",
      "class Uniform - Shortcuts with uniform distribution of deaths aka DeMoivre's Law\n",
      "\n",
      "    Args:\n",
      "      omega : maximum age\n",
      "      udd : assume UDD (True, default) or CFM (False) between integer ages\n",
      "\n"
     ]
    }
   ],
   "source": [
    "import describe\n",
    "describe.methods(Uniform)"
   ]
  },
  {
   "cell_type": "code",
   "execution_count": 10,
   "metadata": {},
   "outputs": [
    {
     "name": "stdout",
     "output_type": "stream",
     "text": [
      "\n",
      "class Makeham - Includes element in force of mortality that does not depend on age\n",
      "\n",
      "    Args:\n",
      "      A, B, c : parameters of Makeham distribution\n",
      "\n"
     ]
    }
   ],
   "source": [
    "describe.methods(Makeham)\n"
   ]
  },
  {
   "cell_type": "code",
   "execution_count": 11,
   "metadata": {},
   "outputs": [
    {
     "name": "stdout",
     "output_type": "stream",
     "text": [
      "\n",
      "class Gompertz - Is Makeham's Law with A = 0\n",
      "\n",
      "    Args:\n",
      "      B, c : parameters of Gompertz distribution\n",
      "\n"
     ]
    }
   ],
   "source": [
    "describe.methods(Gompertz)"
   ]
  }
 ],
 "metadata": {
  "kernelspec": {
   "display_name": "Python 3.10.5 ('env3.10')",
   "language": "python",
   "name": "python3"
  },
  "language_info": {
   "codemirror_mode": {
    "name": "ipython",
    "version": 3
   },
   "file_extension": ".py",
   "mimetype": "text/x-python",
   "name": "python",
   "nbconvert_exporter": "python",
   "pygments_lexer": "ipython3",
   "version": "3.11.3"
  },
  "orig_nbformat": 4,
  "vscode": {
   "interpreter": {
    "hash": "a53bd658f9a5b7202fd97fcbe4e35965efc28d0eb9d85b0766bd67191bc6202c"
   }
  }
 },
 "nbformat": 4,
 "nbformat_minor": 2
}
