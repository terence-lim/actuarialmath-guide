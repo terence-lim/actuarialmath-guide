{
 "cells": [
  {
   "attachments": {},
   "cell_type": "markdown",
   "metadata": {},
   "source": [
    "# Life Table\n"
   ]
  },
  {
   "attachments": {},
   "cell_type": "markdown",
   "metadata": {},
   "source": [
    "A life table, from some initial age $x_0$ to a maximum age $\\omega$, represents a survival model with probabilities $_tp_x$.  A life table is typically tabulated for the number of lives $l_x$ at integer ages $x$ only -- fractional age assumptions would be needed to calculate survival probabilities for non-integer ages and durations. \n",
    "\n",
    "\n",
    "$l_{x_0+t} = l_{x_0}~_tp_{x_0}$.\n",
    "\n",
    "- $l_{x_0}$ is an arbitrary positive number of lives at starting age $x_0$ called the radix\n",
    "\n",
    "$d_x = l_x - l_{x+1}$\n",
    "- it is usual for a life table to also show the values of $d_x$, the expected of deaths in the year of age $x$ to $x+1$.\n",
    "\n",
    "$q_x = \\dfrac{d_x}{l_x}$\n",
    "- the mortality rate can then be derived, which is the probability that a life aged $x$ dies within one year.\n",
    "\n",
    "Recursion formulas from earlier sections allow the recursive construction of a table of other life contingent values, such as life expectancy, insurance, and annuities, at all ages. "
   ]
  },
  {
   "attachments": {},
   "cell_type": "markdown",
   "metadata": {},
   "source": [
    "## Methods\n",
    "\n",
    "The `LifeTable` class specifies a given life table to be the survival model.  It inherits all the general methods for computing life contingency risks, and overrides those methods where values can be looked up or calculated from life table entries. "
   ]
  },
  {
   "cell_type": "code",
   "execution_count": 1,
   "metadata": {},
   "outputs": [
    {
     "name": "stdout",
     "output_type": "stream",
     "text": [
      "\n",
      "class LifeTable - Calculate life table, and iteratively fill in missing values\n",
      "\n",
      "    Args:\n",
      "      udd : assume UDD or constant force of mortality for fractional ages\n",
      "      verbose : whether to echo update steps\n",
      "\n",
      "    Notes:\n",
      "      4 types of columns can be loaded and calculated in the life table:\n",
      "\n",
      "      - 'q' : probability (x) dies in one year\n",
      "      - 'l' : number of lives aged x\n",
      "      - 'd' : number of deaths of age x\n",
      "      - 'p' : probability (x) survives at least one year\n",
      "\n",
      "    Methods:\n",
      "    --------\n",
      "\n",
      "    set_table(fill, minage, maxage, l, d, p, q):\n",
      "      Update life table\n",
      "\n",
      "    fill_table(radix):\n",
      "      Iteratively fill in missing table cells (does not check consistency)\n",
      "\n",
      "    frame():\n",
      "      Return life table columns and values in a DataFrame\n",
      "\n",
      "    __getitem__(col):\n",
      "      Returns a column of the life table\n",
      "\n",
      "\n"
     ]
    }
   ],
   "source": [
    "from actuarialmath import LifeTable\n",
    "import describe\n",
    "describe.methods(LifeTable)"
   ]
  },
  {
   "attachments": {},
   "cell_type": "markdown",
   "metadata": {},
   "source": [
    "## Examples\n"
   ]
  },
  {
   "cell_type": "markdown",
   "metadata": {},
   "source": [
    "The `set_table` method is called to load a life table, by age, with given values of number of lives, number of deaths, mortality rate, and/or survival probability: if the `fill` flag is set to True (by default), `fill_table` is automatically called to fill in any missing values using recursion and identify formulas.  All other computational methods can then be called in the usual manner, which will use the survival model provided by the life table."
   ]
  },
  {
   "attachments": {},
   "cell_type": "markdown",
   "metadata": {},
   "source": [
    "__AMLCR2 Exercise 3.2__\n",
    "\n",
    "You are given the following life table extract.\n",
    "\n",
    "| Age,x | $l_x$ |\n",
    "|---|---|\n",
    "| 52|  89948 | \n",
    "| 53|  89089 | \n",
    "| 54|  88176 | \n",
    "| 55|  87208 | \n",
    "| 56|  86181 | \n",
    "| 57|  85093 | \n",
    "| 58|  83940 | \n",
    "| 59|  82719 | \n",
    "| 60|  81429 | \n",
    "\n",
    "\n",
    "Calculate\n",
    "- $_{0.2}q_{52.4}$ assuming UDD (fractional age assumption),\n",
    "- $_{0.2}q_{52.4}$ assuming constant force of mortality (fractional age assumption),\n",
    "- $_{5.7}p_{52.4}$ assuming UDD,\n",
    "- $_{5.7}p_{52.4}$ assuming constant force of mortality,\n",
    "- $_{3.2|2.5}q_{52.4}$ assuming UDD, and\n",
    "- $_{3.2|2.5}q_{52.4}$ assuming constant force of mortality."
   ]
  },
  {
   "cell_type": "code",
   "execution_count": 9,
   "metadata": {},
   "outputs": [
    {
     "name": "stdout",
     "output_type": "stream",
     "text": [
      "[0.001917, 0.001917, 0.935422, 0.935423, 0.030957, 0.03095]\n"
     ]
    }
   ],
   "source": [
    "table = {x:l for x,l in zip(range(52, 61), \n",
    "                            [89948, 89089, 88176, 87208, 86181, \n",
    "                             85093, 83940, 82719, 81429])}\n",
    "life1 = LifeTable(udd=True).set_table(l=table)\n",
    "life2 = LifeTable(udd=False).set_table(l=table)\n",
    "print([round(r, 6) for r in [life1.q_r(x=52, r=0.4, t=0.2),   # 0.001917                                 \n",
    "                             life2.q_r(x=52, r=0.4, t=0.2),   # 0.001917                                 \n",
    "                             life1.p_r(x=52, r=0.4, t=5.7),   # 0.935422                                 \n",
    "                             life2.p_r(x=52, r=0.4, t=5.7),   # 0.935423                                 \n",
    "                             life1.q_r(x=52, r=0.4, u=3.2, t=2.5),  # 0.030957                           \n",
    "                             life2.q_r(x=52, r=0.4, u=3.2, t=2.5)]])  # 0.030950 "
   ]
  },
  {
   "attachments": {},
   "cell_type": "markdown",
   "metadata": {},
   "source": [
    "__SOA Question 6.53__\n",
    "\n",
    "A warranty pays 2000 at the end of the year of the first failure if a washing machine fails within\n",
    "three years of purchase. The warranty is purchased with a single premium, G, paid at the time of\n",
    "purchase of the washing machine.\n",
    "You are given:\n",
    "- 10% of the washing machines that are working at the start of each year fail by the end of that year\n",
    "- i = 0.08\n",
    "- The sales commission is 35% of G\n",
    "- G is calculated using the equivalence principle\n",
    "\n",
    "Calculate G."
   ]
  },
  {
   "cell_type": "code",
   "execution_count": 3,
   "metadata": {},
   "outputs": [
    {
     "name": "stdout",
     "output_type": "stream",
     "text": [
      "SOA Question 6.53:  (D) 720\n",
      "0.23405349794238678 720.1646090534978\n",
      "          l        d    q    p\n",
      "0  100000.0  10000.0  0.1  0.9\n",
      "1   90000.0   9000.0  0.1  0.9\n",
      "2   81000.0   8100.0  0.1  0.9\n",
      "3   72900.0      NaN  NaN  NaN\n"
     ]
    }
   ],
   "source": [
    "print(\"SOA Question 6.53:  (D) 720\")\n",
    "x = 0\n",
    "life = LifeTable().set_interest(i=0.08)\\\n",
    "                   .set_table(q={x: 0.1, x+1: 0.1, x+2: 0.1})\n",
    "A = life.term_insurance(x, t=3)\n",
    "G = life.gross_premium(a=1, A=A, benefit=2000, initial_premium=0.35)\n",
    "print(A, G)\n",
    "print(life.frame())\n"
   ]
  },
  {
   "attachments": {},
   "cell_type": "markdown",
   "metadata": {},
   "source": [
    "__SOA Question 6.41__\n",
    "\n",
    "For a special fully discrete 2-year term insurance on (x), you are given:\n",
    "- $q_x = 0.01$\n",
    "- $q_{x + 1} = 0.02$\n",
    "- $i = 0.05$\n",
    "- The death benefit in the first year is 100,000\n",
    "- Both the benefits and premiums increase by 1% in the second year\n",
    "\n",
    "Calculate the annual net premium in the first year."
   ]
  },
  {
   "cell_type": "code",
   "execution_count": 4,
   "metadata": {},
   "outputs": [
    {
     "name": "stdout",
     "output_type": "stream",
     "text": [
      "SOA Question 6.41:  (B) 1417\n",
      "1.9522857142857144 0.027662585034013608\n",
      "1416.9332301924137\n",
      "          l       d     q     p\n",
      "0  100000.0  1000.0  0.01  0.99\n",
      "1   99000.0  1980.0  0.02  0.98\n",
      "2   97020.0     NaN   NaN   NaN\n"
     ]
    }
   ],
   "source": [
    "print(\"SOA Question 6.41:  (B) 1417\")\n",
    "x = 0\n",
    "life = LifeTable().set_interest(i=0.05)\\\n",
    "                  .set_table(q={x:.01, x+1:.02})\n",
    "P = 1416.93\n",
    "a = 1 + life.E_x(x, t=1) * 1.01\n",
    "A = (life.deferred_insurance(x, u=0, t=1)\n",
    "     + 1.01 * life.deferred_insurance(x, u=1, t=1))\n",
    "print(a, A)\n",
    "P = 100000 * A / a\n",
    "print(P)\n",
    "print(life.frame())\n"
   ]
  },
  {
   "attachments": {},
   "cell_type": "markdown",
   "metadata": {},
   "source": [
    "__SOA Question 3.11__\n",
    "\n",
    "For the country of Bienna, you are given:\n",
    "- Bienna publishes mortality rates in biennial form, that is, mortality rates are of the form: $_2q_{2x},$ for $x = 0,1, 2,...$\n",
    "\n",
    "- Deaths are assumed to be uniformly distributed between ages $2x$ and $2x + 2$, for $x = 0,1, 2,...$\n",
    "- $_2q_{50} = 0.02$\n",
    "- $_2q_{52} = 0.04$\n",
    "Calculate the probability that (50) dies during the next 2.5 years."
   ]
  },
  {
   "cell_type": "code",
   "execution_count": 5,
   "metadata": {},
   "outputs": [
    {
     "name": "stdout",
     "output_type": "stream",
     "text": [
      "SOA Question 3.11:  (B) 0.03\n",
      "0.0298\n",
      "           l       d     q     p\n",
      "25  100000.0  2000.0  0.02  0.98\n",
      "26   98000.0  3920.0  0.04  0.96\n",
      "27   94080.0     NaN   NaN   NaN\n"
     ]
    }
   ],
   "source": [
    "print(\"SOA Question 3.11:  (B) 0.03\")\n",
    "life = LifeTable(udd=True).set_table(q={50//2: .02, 52//2: .04})\n",
    "print(life.q_r(50//2, t=2.5/2))\n",
    "print(life.frame())\n"
   ]
  },
  {
   "attachments": {},
   "cell_type": "markdown",
   "metadata": {},
   "source": [
    "__SOA Question 3.5__\n",
    "\n",
    "You are given:\n",
    "| $x$ | 60 | 61 | 62 | 63 |64 | 65 | 66 | 67 |\n",
    "|---|---|---|---|---|---|---|---|---|\n",
    "| $l_x$ | 99,999 | 88,888 |77,777 | 66,666 | 55,555 | 44,444 | 33,333 | 22,222|\n",
    "\n",
    "$a =~ _{3.4|2.5}q_{60}$ assuming a uniform distribution of deaths over each year of age\n",
    "\n",
    "$b =~ _{3.4|2.5}q_{60}$ assuming a constant force of mortality over each year of age\n",
    "\n",
    "Calculate $100,000( a − b )$"
   ]
  },
  {
   "cell_type": "code",
   "execution_count": 6,
   "metadata": {},
   "outputs": [
    {
     "name": "stdout",
     "output_type": "stream",
     "text": [
      "SOA Question 3.5:  (E) 106\n",
      "106.16575827938624\n"
     ]
    }
   ],
   "source": [
    "print(\"SOA Question 3.5:  (E) 106\")\n",
    "l = {60+x: n*11111 for x,n in enumerate([9, 8, 7, 6, 5, 4, 3, 2])}\n",
    "a, b = (LifeTable(udd=udd).set_table(l=l).q_r(60, u=3.4, t=2.5)\n",
    "        for udd in [True, False])\n",
    "print(100000 * (a - b))"
   ]
  },
  {
   "attachments": {},
   "cell_type": "markdown",
   "metadata": {},
   "source": [
    "__SOA Question 3.14__\n",
    "\n",
    "You are given the following information from a life table:\n",
    "\n",
    "| x | $l_x$ | $d_x$ | $p_x$ | $q_x$ |\n",
    "|---|---|---|---|---|\n",
    "| 95 | − | − | − | 0.40 |\n",
    "| 96 | − | − | 0.20 | − |\n",
    "| 97 | − | 72 | − | 1.00 |\n",
    "\n",
    "You are also given:\n",
    "- $l_{90} = 1000$ and $l_{93} = 825$\n",
    "- Deaths are uniformly distributed over each year of age.\n",
    "\n",
    "Calculate the probability that (90) dies between ages 93 and 95.5."
   ]
  },
  {
   "cell_type": "code",
   "execution_count": 7,
   "metadata": {},
   "outputs": [
    {
     "name": "stdout",
     "output_type": "stream",
     "text": [
      "SOA Question 3.14:  (C) 0.345\n",
      "0.345\n",
      "         l      d    q    p\n",
      "90  1000.0    NaN  NaN  NaN\n",
      "93   825.0    NaN  NaN  NaN\n",
      "95   600.0  240.0  0.4  0.6\n",
      "96   360.0  288.0  0.8  0.2\n",
      "97    72.0   72.0  1.0  0.0\n",
      "98     0.0    NaN  NaN  NaN\n"
     ]
    }
   ],
   "source": [
    "print(\"SOA Question 3.14:  (C) 0.345\")\n",
    "life = LifeTable(udd=True).set_table(l={90: 1000, 93: 825},\n",
    "                                     d={97: 72},\n",
    "                                     p={96: .2},\n",
    "                                     q={95: .4, 97: 1})\n",
    "print(life.q_r(90, u=93-90, t=95.5-93))\n",
    "print(life.frame())\n"
   ]
  }
 ],
 "metadata": {
  "kernelspec": {
   "display_name": "Python 3.10.5 ('env3.10')",
   "language": "python",
   "name": "python3"
  },
  "language_info": {
   "codemirror_mode": {
    "name": "ipython",
    "version": 3
   },
   "file_extension": ".py",
   "mimetype": "text/x-python",
   "name": "python",
   "nbconvert_exporter": "python",
   "pygments_lexer": "ipython3",
   "version": "3.11.4"
  },
  "orig_nbformat": 4,
  "vscode": {
   "interpreter": {
    "hash": "a53bd658f9a5b7202fd97fcbe4e35965efc28d0eb9d85b0766bd67191bc6202c"
   }
  }
 },
 "nbformat": 4,
 "nbformat_minor": 2
}
