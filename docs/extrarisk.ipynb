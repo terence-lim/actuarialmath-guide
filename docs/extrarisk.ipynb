{
 "cells": [
  {
   "attachments": {},
   "cell_type": "markdown",
   "metadata": {},
   "source": [
    "# Extra Risk\n",
    "\n",
    "If the underwriter determines that an individual should be offered insurance but at above standard rates, there are different ways in which we can model the extra mortality risk in a premium calculation.\n",
    "\n",
    "## Age rating\n",
    "\n",
    "$(x) \\gets (x+k)$\n",
    "- add years to age, referred to as age rating: the insurer may compensate\n",
    "for extra risk by treating the individual as being older, for example, an\n",
    "impaired life aged 40 might be asked to pay the same premium paid by a non-\n",
    "impaired life aged 45.\n",
    "\n",
    "## Multiple of mortality rate\n",
    "\n",
    "$q_{x} \\gets q_{x} \\cdot k$\n",
    "- multiply mortality rate by a constant, which assumes that lives are subject to mortality rates that are higher than the standard lives' mortality rates.\n",
    "\n",
    "## Force of mortality\n",
    "\n",
    "A linear transformation of $\\mu_x$ affects survival probability in the following ways: Recall that $\\mu$ is exponentiated to get $p$, hence adding a constant to $\\mu$ requires multiplying $~_tp_x$ by the constant exponentiated, while multiplying $\\mu$ by a factor requires raising $~_tp_x$ to that power\n",
    "\n",
    "$\\mu_{x+t} \\gets \\mu_{x+t} + k \\Rightarrow ~_tp_x \\gets ~_tp_x ~ e^{-kt}$\n",
    "- add constant to force of mortality, when the extra risk is largely independent of age\n",
    "\n",
    "$\\mu_{x+t} \\gets \\mu_{x+t} \\cdot k \\Rightarrow ~_tp_x \\gets ~(_tp_x)^{k}$\n",
    "- multiply force of mortality by constant\n",
    "\n",
    "\n",
    "\n"
   ]
  },
  {
   "attachments": {},
   "cell_type": "markdown",
   "metadata": {},
   "source": [
    "## Methods\n",
    "\n",
    "The `ExtraRisk` class implements methods to adjust the survival or mortality function by extra risks."
   ]
  },
  {
   "cell_type": "code",
   "execution_count": 1,
   "metadata": {},
   "outputs": [
    {
     "name": "stdout",
     "output_type": "stream",
     "text": [
      "\n",
      "class ExtraRisk - Adjust mortality by extra risk\n",
      "\n",
      "    Args:\n",
      "      life : contains original survival and mortality rates\n",
      "      extra : amount of extra risk to adjust\n",
      "      risk : adjust by {\"ADD_FORCE\", \"MULTIPLY_FORCE\", \"ADD_AGE\", \"MULTIPLY_RATE\"}\n",
      "\n",
      "    Methods:\n",
      "    --------\n",
      "\n",
      "    q_x(x, s):\n",
      "      Return q_[x]+s after adding age rating or multipliying mortality rate\n",
      "\n",
      "    p_x(x, s):\n",
      "      Return p_[x]+s after adding or multiplying force of mortality\n",
      "\n",
      "    __getitem__(col):\n",
      "      Returns survival function values adjusted by extra risk\n",
      "\n",
      "\n"
     ]
    }
   ],
   "source": [
    "from actuarialmath import ExtraRisk, SelectLife, SULT\n",
    "import describe\n",
    "describe.methods(ExtraRisk)"
   ]
  },
  {
   "attachments": {},
   "cell_type": "markdown",
   "metadata": {},
   "source": [
    "## Examples\n",
    "\n",
    "The `ExtraRisk` class is initialized with its `life` argument set to an instance of a survival model, with amount of `extra` risk and type of `risk` (either \"ADD_FORCE\", \"MULTIPLY_FORCE\", \"ADD_AGE\" or \"MULTIPLY_RATE\") specified. The `q_x` or `p_x` methods can then be called to return the adjusted mortality rate or survival probability respectively, or an entire column of values by age can be retrieved as the item \"q\" or \"p\".\n"
   ]
  },
  {
   "attachments": {},
   "cell_type": "markdown",
   "metadata": {},
   "source": [
    "__SOA Question 5.5__\n",
    "\n",
    "For an annuity-due that pays 100 at the beginning of each year that (45) is alive, you are given:\n",
    "- Mortality for standard lives follows the Standard Ultimate Life Table\n",
    "- The force of mortality for standard lives age 45 + t is represented as $\\mu_{45+t}^{SULT}$\n",
    "- The force of mortality for substandard lives age 45 + t, $\\mu_{45+t}^{S}$, is defined as:\n",
    "\n",
    "$$\\begin{align*}\n",
    "\\mu_{45+t}^{S} &= \\mu_{45+t}^{SULT} + 0.05, \\quad 0 \\le t < 1\\\\\n",
    "&= \\mu_{45+t}^{SULT}, \\quad t \\ge 1\n",
    "\\end{align*}$$\n",
    "- $i = 0.05$\n",
    "\n",
    "Calculate the actuarial present value of this annuity for a substandard life age 45."
   ]
  },
  {
   "cell_type": "code",
   "execution_count": 2,
   "metadata": {},
   "outputs": [
    {
     "name": "stdout",
     "output_type": "stream",
     "text": [
      "SOA Question 5.5: (A) 1699.6\n",
      "1699.6076593190103\n"
     ]
    }
   ],
   "source": [
    "print(\"SOA Question 5.5: (A) 1699.6\")\n",
    "life = SULT()\n",
    "extra = ExtraRisk(life=life, extra=0.05, risk=\"ADD_FORCE\")\n",
    "select = SelectLife(periods=1).set_interest(i=.05)\\\n",
    "                              .set_select(s=0, age_selected=True, q=extra['q'])\\\n",
    "                              .set_select(s=1, age_selected=False, a=life['a'])\\\n",
    "                              .fill_table()\n",
    "print(100*select['a'][45][0])"
   ]
  },
  {
   "attachments": {},
   "cell_type": "markdown",
   "metadata": {},
   "source": [
    "__SOA Question 4.19__\n",
    "\n",
    "(80) purchases a whole life insurance policy of 100,000. You are given:\n",
    "- The policy is priced with a select period of one year\n",
    "- The select mortality rate equals 80% of the mortality rate from the Standard\n",
    "Ultimate Life Table\n",
    "- Ultimate mortality follows the Standard Ultimate Life Table\n",
    "- $i = 0.05$\n",
    "\n",
    "Calculate the actuarial present value of the death benefits for this insurance"
   ]
  },
  {
   "cell_type": "code",
   "execution_count": 3,
   "metadata": {},
   "outputs": [
    {
     "name": "stdout",
     "output_type": "stream",
     "text": [
      "SOA Question 4.19:  (B) 59050\n",
      "59050.59973285648\n"
     ]
    }
   ],
   "source": [
    "print(\"SOA Question 4.19:  (B) 59050\")\n",
    "life = SULT()\n",
    "extra = ExtraRisk(life=life, extra=0.8, risk=\"MULTIPLY_RATE\")\n",
    "select = SelectLife(periods=1).set_interest(i=.05)\\\n",
    "                              .set_select(s=0, age_selected=True, q=extra['q'])\\\n",
    "                              .set_select(s=1, age_selected=False, q=life['q'])\\\n",
    "                              .fill_table()\n",
    "print(100000*select.whole_life_insurance(80, s=0))\n"
   ]
  },
  {
   "attachments": {},
   "cell_type": "markdown",
   "metadata": {},
   "source": [
    "__Other examples__"
   ]
  },
  {
   "cell_type": "code",
   "execution_count": 4,
   "metadata": {},
   "outputs": [
    {
     "name": "stdout",
     "output_type": "stream",
     "text": [
      "0.9992288829941123 0.9984583606096613\n"
     ]
    }
   ],
   "source": [
    "life = SULT()\n",
    "extra = ExtraRisk(life=life, extra=2, risk=\"MULTIPLY_FORCE\")\n",
    "print(life.p_x(45), extra.p_x(45))"
   ]
  }
 ],
 "metadata": {
  "kernelspec": {
   "display_name": "Python 3.10.5 ('env3.10')",
   "language": "python",
   "name": "python3"
  },
  "language_info": {
   "codemirror_mode": {
    "name": "ipython",
    "version": 3
   },
   "file_extension": ".py",
   "mimetype": "text/x-python",
   "name": "python",
   "nbconvert_exporter": "python",
   "pygments_lexer": "ipython3",
   "version": "3.11.4"
  },
  "orig_nbformat": 4,
  "vscode": {
   "interpreter": {
    "hash": "a53bd658f9a5b7202fd97fcbe4e35965efc28d0eb9d85b0766bd67191bc6202c"
   }
  }
 },
 "nbformat": 4,
 "nbformat_minor": 2
}
