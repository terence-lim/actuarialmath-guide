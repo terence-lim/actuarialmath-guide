{
 "cells": [
  {
   "attachments": {},
   "cell_type": "markdown",
   "metadata": {},
   "source": [
    "# Recursion\n",
    "\n",
    "Using annual values provided we can calculate other values at other ages and durations by applying recursion formulas and other actuarial identities.\n",
    "\n",
    "## Chain rule\n",
    "\n",
    "$_{t+n}p_x =\\ _np_x \\cdot\\ _tp_{x+n}$\n",
    "\n",
    "- survival probability chain rule\n",
    "\n",
    "$_{t+n}E_x =\\ _nE_x \\cdot\\ _tE_{x+n}$\n",
    "\n",
    "- pure endowment chain rule"
   ]
  },
  {
   "attachments": {},
   "cell_type": "markdown",
   "metadata": {},
   "source": [
    "## Expected future lifetime\n",
    "\n",
    "For both complete and curtate future lifetime, we can decompose the formula for the life expectancy of $(x)$ into a temporary life expectancy, plus the probability of surviving till the end of that term times the remaining life expectancy.\n",
    "\n",
    "$e_{x} = e_{x:\\overline{m|}} +\\ _mp_x\\ e_{x+m}$\n",
    "\n",
    "- recursion formula for curtate expectation of lifetime\n",
    "\n",
    "$\\overset{\\circ}{e}_{x} = \\overset{\\circ}{e}_{x:\\overline{m|}} +\\ _mp_x\\ \\overset{\\circ}{e}_{x+m}$\n",
    "\n",
    "- recursion formula for complete expectation of lifetime\n",
    "\n",
    "\n",
    "$e_{x:\\overline{m+n|}} = e_{x:\\overline{m|}} +\\ _mp_x\\ e_{x:\\overline{n|}}$\n",
    "\n",
    "- recursion formula for limited curtate expectation of lifetime\n",
    "\n",
    "$\\overset{\\circ}{e}_{x:\\overline{m+n|}} = \\overset{\\circ}{e}_{x:\\overline{m|}} +\\ _mp_x\\ \\overset{\\circ}{e}_{x+m:\\overline{n|}}$\n",
    "\n",
    "- recursion formula for limited complete expectation of lifetime\n",
    "\n",
    "$e_{x} = p_x(1 + e_{x+1})$\n",
    "\n",
    "- special case of a one-year recursion formula for curtate expectaion of lifetime\n",
    "\n",
    "$\\overset{\\circ}{e}_{x} = \\overset{\\circ}{e}_{x:\\overline{1|}} + p_x\\ \\overset{\\circ}{e}_{x+1}$\n",
    "\n",
    "- special case of a one-year recursion formula for complete expectation of lifetime\n",
    "\n",
    "$e_{x:\\overline{1|}} = p_x$\n",
    "\n",
    "- shortcut for one-year limited curtate expectaion of lifetime\n",
    "\n",
    "\n"
   ]
  },
  {
   "attachments": {},
   "cell_type": "markdown",
   "metadata": {},
   "source": [
    "## Life insurance\n",
    "\n",
    "$A_{x} = v ~ q_x + v ~ p_x ~ A_{x+1} ~\\Rightarrow~ A_{x+1} = \\dfrac{A_{x} - v ~ q_x}{v ~ p_x}$\n",
    "\n",
    "- whole life insurance recursion\n",
    "\n",
    "$A^{1}_{x:\\overline{t|}} = v ~ q_x + v ~ p_x ~ A^{1}_{x+1:\\overline{t-1|}} $\n",
    "\n",
    "- term life insurance recursion\n",
    "\n",
    "$A^{1}_{x:\\overline{1|}} = v ~ q_x $\n",
    "\n",
    "- shortcut for one-year term life insurance\n",
    "\n",
    "$^{2}A^{1}_{x:\\overline{1|}} = v^2 ~ q_x$\n",
    "\n",
    "- shortcut for second moment of one-year term life insurance\n",
    "\n",
    "$A_{x:\\overline{0|}} =~ _0E_x = 1$\n",
    "\n",
    "- endowment insurance at end of term is pure endowment\n",
    "\n",
    "$A_{x:\\overline{1|}} = q_x ~ v + p_x ~ v = v$\n",
    "\n",
    "- shortcut for one-year endowment insurance\n",
    "\n",
    "$^2A_{x:\\overline{1|}} =  v^2$\n",
    "\n",
    "- shortcut for second moment of one-year endowment insurance\n",
    "\n",
    "\n",
    "$IA^{1}_{x:\\overline{t|}} = v ~ q_x + v ~ p_x ~ (A_{x+1} + IA^{1}_{x+1:\\overline{t-1|}})$\n",
    "\n",
    "- increasing insurance recursion\n",
    "\n",
    "$DA^{1}_{x:\\overline{t|}} = t ~ v ~ q_x + v ~ p_x ~ (DA^{1}_{x+1:\\overline{t-1|}})$\n",
    "\n",
    "- decreasing insurance recursion"
   ]
  },
  {
   "attachments": {},
   "cell_type": "markdown",
   "metadata": {},
   "source": [
    "## Life annuities\n",
    "\n",
    "$\\ddot{a}_{x} = 1 + v ~ p_x ~ \\ddot{a}_{x+1} ~\\Rightarrow ~\\ddot{a}_{x+1} = \\dfrac{\\ddot{a}_{x} - 1}{v ~ p_x}$\n",
    "\n",
    "- whole life annuity recursion\n",
    "\n",
    "$\\ddot{a}_{x:\\overline{t|}} = 1 + v ~ p_x ~ \\ddot{a}_{x+1:\\overline{t-1|}} $\n",
    "\n",
    "- temporary annuity recursion\n",
    "\n",
    "$\\ddot{a}_{x:\\overline{1|}} = 1$\n",
    "\n",
    "- shortcut for one-year temporary annuity\n",
    "\n"
   ]
  },
  {
   "attachments": {},
   "cell_type": "markdown",
   "metadata": {},
   "source": [
    "## Methods\n",
    "\n",
    "\n",
    "The `Recursion` class implements methods to apply recursive, shortcut and actuarial formulas, and traces the steps taken to find the solution.\n",
    "\n",
    "__Caveats__:\n",
    "\n",
    "1. Not all possible recursion rules and actuarial equations have (yet) been implemented in the present version of the package. \n",
    "\n",
    "2. You may set the recursion depth to a larger limit than the default of 3 (with the keyword argument `depth` when initializing a Recursion class object).\n",
    "\n",
    "3. But generally, the current implementation may be fragile if the solution is not available within a relatively shallow search. \n",
    "\n",
    "__Notes__:\n",
    "\n",
    "- If a colab or jupyter notebook is auto-detected, the steps are displayed in latex format; else as raw text.\n",
    "- These display options can be changed by calling the `blog_options` static method "
   ]
  },
  {
   "cell_type": "code",
   "execution_count": 1,
   "metadata": {},
   "outputs": [
    {
     "name": "stdout",
     "output_type": "stream",
     "text": [
      "\n",
      "class Recursion - Solve by appling recursive, shortcut and actuarial formulas repeatedly\n",
      "\n",
      "    Args:\n",
      "      depth : maximum depth of recursions (default is 3)\n",
      "      verbose : whether to echo recursion steps (True, default)\n",
      "\n",
      "    Notes:\n",
      "      7 types of function values can be loaded for recursion computations:\n",
      "\n",
      "      - 'q' : (deferred) probability (x) dies in t years\n",
      "      - 'p' : probability (x) survives t years\n",
      "      - 'e' : (temporary) expected future lifetime, or moments\n",
      "      - 'A' : deferred, term, endowment or whole life insurance, or moments\n",
      "      - 'IA' : decreasing life insurance of t years\n",
      "      - 'DA' : increasing life insurance of t years\n",
      "      - 'a' : deferred, temporary or whole life annuity of t years, or moments\n",
      "\n",
      "    Methods:\n",
      "    --------\n",
      "\n",
      "    set_q(val, x, s, t, u):\n",
      "      Set mortality rate u|t_q_[x+s] to given value\n",
      "\n",
      "    set_p(val, x, s, t):\n",
      "      Set survival probability t_p_[x+s] to given value\n",
      "\n",
      "    set_e(val, x, s, t, curtate, moment):\n",
      "      Set expected future lifetime e_[x+s]:t to given value\n",
      "\n",
      "    set_E(val, x, s, t, endowment, moment):\n",
      "      Set pure endowment t_E_[x+s] to given value\n",
      "\n",
      "    set_A(val, x, s, t, u, b, moment, endowment, discrete):\n",
      "      Set insurance u|_A_[x+s]:t to given value\n",
      "\n",
      "    set_IA(val, x, s, t, b, discrete):\n",
      "      Set increasing insurance IA_[x+s]:t to given value\n",
      "\n",
      "    set_DA(val, x, s, t, b, discrete):\n",
      "      Set decreasing insurance DA_[x+s]:t to given value\n",
      "\n",
      "    set_a(val, x, s, t, u, b, variance, discrete):\n",
      "      Set annuity u|_a_[x+s]:t to given value\n",
      "\n",
      "    blog_options(latex, notebook):\n",
      "      Static method to change display options for tracing the recursion steps\n",
      "\n",
      "\n"
     ]
    }
   ],
   "source": [
    "from actuarialmath import Recursion, ConstantForce, Contract\n",
    "import describe\n",
    "describe.methods(Recursion)\n"
   ]
  },
  {
   "attachments": {},
   "cell_type": "markdown",
   "metadata": {},
   "source": [
    "## Examples\n",
    "\n",
    "The given values of functions are set by calling the respective \"setter\" methods `set_q, set_p, set_e, set_E, set_A, set_IA, set_DA,` or `set_a`. Then derived function values, at other ages or durations, can be computed -- the successful recursion steps taken are displayed if the `verbose` flag is initiated to True (which is the default value).\n",
    "\n"
   ]
  },
  {
   "attachments": {},
   "cell_type": "markdown",
   "metadata": {},
   "source": [
    "__AMLCR2 Exercise 2.6__\n",
    "\n",
    "Given $P_x =0.99$ , $P_{x+1} = 0.985$, $_3P_{x+1} = 0.95$, $q_{x+3} = 0.02$, \n",
    "\n",
    "Calculate (a) $P_{x+3}$, (b) $_2P_x$, (c) $_2P_{x+1}$, (d) $_3P_x$, (e) $_{1|2}q_x$."
   ]
  },
  {
   "cell_type": "code",
   "execution_count": 2,
   "metadata": {},
   "outputs": [
    {
     "data": {
      "text/latex": [
       "\\begin{array}{llll}\n",
       "~\\texttt{Survival}~p_{x+3}~:=\\\\\n",
       "~~~p_{x+3} = 1 - ~q_{x+3}& \\quad \\texttt{complement of mortality}\\end{array}"
      ]
     },
     "metadata": {},
     "output_type": "display_data"
    },
    {
     "name": "stdout",
     "output_type": "stream",
     "text": [
      "0.98 0.98\n"
     ]
    },
    {
     "data": {
      "text/latex": [
       "\\begin{array}{llll}\n",
       "~\\texttt{Survival}~_{2}p_{x}~:=\\\\\n",
       "~~~_{2}p_{x} = ~_{3}p_{x} / ~p_{x+2}& \\quad \\texttt{survival chain rule}\\\\\n",
       "~~~~~p_{x+2} = ~_{2}p_{x+1} / ~p_{x+1}& \\quad \\texttt{survival chain rule}\\\\\n",
       "~~~~~~~_{2}p_{x+1} = ~_{3}p_{x+1} / ~p_{x+3}& \\quad \\texttt{survival chain rule}\\\\\n",
       "~~~~~_{3}p_{x} = ~_{4}p_{x} / ~p_{x+3}& \\quad \\texttt{survival chain rule}\\\\\n",
       "~~~~~~~_{4}p_{x} = ~_{3}p_{x+1} * ~p_{x}& \\quad \\texttt{survival chain rule}\\\\\n",
       "~~~~~~~~~p_{x+3} = 1 - ~q_{x+3}& \\quad \\texttt{complement of mortality}\\end{array}"
      ]
     },
     "metadata": {},
     "output_type": "display_data"
    },
    {
     "name": "stdout",
     "output_type": "stream",
     "text": [
      "0.9751500000000001 0.97515\n"
     ]
    },
    {
     "data": {
      "text/latex": [
       "\\begin{array}{llll}\n",
       "~\\texttt{Survival}~_{2}p_{x+1}~:=\\\\\n",
       "~~~_{2}p_{x+1} = ~_{3}p_{x} / ~p_{x}& \\quad \\texttt{survival chain rule}\\\\\n",
       "~~~~~_{3}p_{x} = ~_{4}p_{x} / ~p_{x+3}& \\quad \\texttt{survival chain rule}\\\\\n",
       "~~~~~~~_{4}p_{x} = ~_{3}p_{x+1} * ~p_{x}& \\quad \\texttt{survival chain rule}\\\\\n",
       "~~~~~~~~~p_{x+3} = 1 - ~q_{x+3}& \\quad \\texttt{complement of mortality}\\end{array}"
      ]
     },
     "metadata": {},
     "output_type": "display_data"
    },
    {
     "name": "stdout",
     "output_type": "stream",
     "text": [
      "0.9693877551020409 0.96939\n"
     ]
    },
    {
     "data": {
      "text/latex": [
       "\\begin{array}{llll}\n",
       "~\\texttt{Survival}~_{3}p_{x}~:=\\\\\n",
       "~~~_{3}p_{x} = ~_{4}p_{x} / ~p_{x+3}& \\quad \\texttt{survival chain rule}\\\\\n",
       "~~~~~_{4}p_{x} = ~_{3}p_{x+1} * ~p_{x}& \\quad \\texttt{survival chain rule}\\\\\n",
       "~~~~~~~~~p_{x+3} = 1 - ~q_{x+3}& \\quad \\texttt{complement of mortality}\\end{array}"
      ]
     },
     "metadata": {},
     "output_type": "display_data"
    },
    {
     "name": "stdout",
     "output_type": "stream",
     "text": [
      "0.9596938775510204 0.95969\n"
     ]
    },
    {
     "data": {
      "text/latex": [
       "\\begin{array}{llll}\n",
       "~\\texttt{Mortality}~_{{1|2}}q_{x}~:=\\\\\n",
       "~~~_{{1|2}}q_{x} = ~p_{x} - ~_{3}p_{x}& \\quad \\texttt{complement survival}\\\\\n",
       "~~~~~_{3}p_{x} = ~_{4}p_{x} / ~p_{x+3}& \\quad \\texttt{survival chain rule}\\\\\n",
       "~~~~~~~_{4}p_{x} = ~_{3}p_{x+1} * ~p_{x}& \\quad \\texttt{survival chain rule}\\\\\n",
       "~~~~~~~~~p_{x+3} = 1 - ~q_{x+3}& \\quad \\texttt{complement of mortality}\\end{array}"
      ]
     },
     "metadata": {},
     "output_type": "display_data"
    },
    {
     "name": "stdout",
     "output_type": "stream",
     "text": [
      "0.030306122448979567 0.03031\n"
     ]
    }
   ],
   "source": [
    "from actuarialmath.recursion import Recursion\n",
    "x = 0\n",
    "life = Recursion(depth=3).set_interest(i=0.06)\\\n",
    "                         .set_p(0.99, x=x)\\\n",
    "                         .set_p(0.985, x=x+1)\\\n",
    "                         .set_p(0.95, x=x+1, t=3)\\\n",
    "                         .set_q(0.02, x=x+3)\n",
    "\n",
    "print(life.p_x(x=x+3), 0.98)\n",
    "print(life.p_x(x=x, t=2),  0.97515)\n",
    "print(life.p_x(x=x+1, t=2), 0.96939)\n",
    "print(life.p_x(x=x, t=3), 0.95969)\n",
    "print(life.q_x(x=x, t=2, u=1),  0.03031)"
   ]
  },
  {
   "attachments": {},
   "cell_type": "markdown",
   "metadata": {},
   "source": [
    "__SOA Question 6.40__\n",
    "\n",
    "For a special fully discrete whole life insurance, you are given:\n",
    "\n",
    "- The death benefit is $1000(1.03)^k$ for death in policy year k, for $k = 1, 2, 3...$\n",
    "- $q_x = 0.05$\n",
    "- $i = 0.06$\n",
    "- $\\ddot{a}_{x+1} = 7.00$\n",
    "- The annual net premium for this insurance at issue age x is 110\n",
    "\n",
    "Calculate the annual net premium for this insurance at issue age $x + 1$."
   ]
  },
  {
   "cell_type": "code",
   "execution_count": 3,
   "metadata": {},
   "outputs": [
    {
     "name": "stdout",
     "output_type": "stream",
     "text": [
      "SOA Question 6.40: (C) 116 \n"
     ]
    },
    {
     "data": {
      "text/latex": [
       "\\begin{array}{llll}\n",
       "~\\texttt{Whole Life Annuity}~\\ddot{a}_{{x}}~:=\\\\\n",
       "~~~\\ddot{a}_{{x}} = 1 + ~E_{x} * ~\\ddot{a}_{{x+1}}& \\quad \\texttt{backward recursion}\\\\\n",
       "~~~~~E_{x} = ~p_{x} * v& \\quad \\texttt{pure endowment}\\\\\n",
       "~~~~~~~p_{x} = 1 - ~q_{x}& \\quad \\texttt{complement of mortality}\\end{array}"
      ]
     },
     "metadata": {},
     "output_type": "display_data"
    },
    {
     "name": "stdout",
     "output_type": "stream",
     "text": [
      "7.2735849056603765 0.8000943396226414\n"
     ]
    },
    {
     "data": {
      "text/latex": [
       "\\begin{array}{llll}\n",
       "~\\texttt{Whole Life Insurance}~A_{{x+1}}~:=\\\\\n",
       "~~~A_{{x+1}} = [ ~A_{{x}} / v - ~q_{x} * b ] / ~p_{x}& \\quad \\texttt{forward recursion}\\\\\n",
       "~~~~~~~~~p_{x} = 1 - ~q_{x}& \\quad \\texttt{complement of mortality}\\end{array}"
      ]
     },
     "metadata": {},
     "output_type": "display_data"
    },
    {
     "name": "stdout",
     "output_type": "stream",
     "text": [
      "116.51945397474269\n"
     ]
    }
   ],
   "source": [
    "print(\"SOA Question 6.40: (C) 116 \")\n",
    "x = 0\n",
    "life = Recursion().set_interest(i=0.06).set_a(7, x=x+1).set_q(0.05, x=x)\n",
    "a = life.whole_life_annuity(x)\n",
    "A = 110 * a / 1000\n",
    "print(a, A)\n",
    "life = Recursion().set_interest(i=0.06).set_A(A, x=x).set_q(0.05, x=x)\n",
    "A1 = life.whole_life_insurance(x+1)\n",
    "P = life.gross_premium(A=A1 / 1.03, a=7) * 1000\n",
    "print(P)"
   ]
  },
  {
   "attachments": {},
   "cell_type": "markdown",
   "metadata": {},
   "source": [
    "__SOA Question 6.10__ :  (D) 0.91\n",
    "\n",
    "For a fully discrete 3-year term insurance of 1000 on (*x*),\n",
    "you are given:\n",
    "\n",
    "1. $p_x$ = 0.975\n",
    "\n",
    "2. *i* = 0.06\n",
    "\n",
    "3. The actuarial present value of the death benefit is 152.85\n",
    "\n",
    "4. The annual net premium is 56.05\n",
    "\n",
    " Calculate $p_{x+2}$."
   ]
  },
  {
   "cell_type": "code",
   "execution_count": 4,
   "metadata": {},
   "outputs": [
    {
     "name": "stdout",
     "output_type": "stream",
     "text": [
      "SOA Question 6.10: (D) 0.91\n"
     ]
    },
    {
     "data": {
      "text/latex": [
       "\\begin{array}{llll}\n",
       "~\\texttt{Survival}~p_{x+2}~:=\\\\\n",
       "~~~p_{x+2} = ~E_{x+2} /v& \\quad \\texttt{one-year pure endowment}\\\\\n",
       "~~~~~E_{x+2} = ~A_{{x+2:\\overline{1|}}} - ~A^1_{{x+2:\\overline{1|}}}& \\quad \\texttt{endowment insurance minus term}\\\\\n",
       "~~~~~~~A^1_{{x+2:\\overline{1|}}} = [ ~A^1_{{x+1:\\overline{2|}}} / v - ~q_{x+1} * b ] / ~p_{x+1}& \\quad \\texttt{forward recursion}\\\\\n",
       "~~~~~~~~~p_{x+1} = [ ~\\ddot{a}_{{x+1:\\overline{2|}}} - 1 ] / [ v * ~\\ddot{a}_{{x+2:\\overline{1|}}} ]& \\quad \\texttt{annuity recursion}\\\\\n",
       "~~~~~~~~~~~\\ddot{a}_{{x+1:\\overline{2|}}} = [ ~\\ddot{a}_{{x:\\overline{3|}}} - 1 ] / ~E_{x}& \\quad \\texttt{forward recursion}\\\\\n",
       "~~~~~~~~~A^1_{{x+1:\\overline{2|}}} = [ ~A^1_{{x:\\overline{3|}}} / v - ~q_{x} * b ] / ~p_{x}& \\quad \\texttt{forward recursion}\\\\\n",
       "~~~~~~~~~~~~~E_{x} = ~p_{x} * v& \\quad \\texttt{pure endowment}\\end{array}"
      ]
     },
     "metadata": {},
     "output_type": "display_data"
    },
    {
     "name": "stdout",
     "output_type": "stream",
     "text": [
      "0.9097382950525702\n"
     ]
    }
   ],
   "source": [
    "print(\"SOA Question 6.10: (D) 0.91\")\n",
    "x = 0\n",
    "life = Recursion(depth=5).set_interest(i=0.06)\\\n",
    "                         .set_p(0.975, x=x)\\\n",
    "                         .set_a(152.85/56.05, x=x, t=3)\\\n",
    "                         .set_A(152.85, x=x, t=3, b=1000)\n",
    "p = life.p_x(x=x+2)\n",
    "print(p)"
   ]
  },
  {
   "attachments": {},
   "cell_type": "markdown",
   "metadata": {},
   "source": [
    "__SOA Question 6.48__\n",
    "\n",
    "For a special fully discrete 5-year deferred 3-year term insurance of 100,000 on (x) you are given:\n",
    "- There are two premium payments, each equal to P . The first is paid at the beginning of the first year and the second is paid at the end of the 5-year deferral period\n",
    "- $p_x = 0.95$\n",
    "- $q_{x + 5} = 0.02$\n",
    "- $q_{x + 6} = 0.03$\n",
    "- $q_{x + 7} = 0.04$\n",
    "- $i = 0.06$\n",
    "\n",
    "Calculate P using the equivalence principle."
   ]
  },
  {
   "cell_type": "code",
   "execution_count": 5,
   "metadata": {},
   "outputs": [
    {
     "name": "stdout",
     "output_type": "stream",
     "text": [
      "SOA Question 6.48:  (A) 3195\n"
     ]
    },
    {
     "data": {
      "text/latex": [
       "\\begin{array}{llll}\n",
       "~\\texttt{Pure Endowment}~_{5}E_{x}~:=\\\\\n",
       "~~~_{5}E_{x} = ~_{5}p_{x} * v^{5}& \\quad \\texttt{pure endowment}\\end{array}"
      ]
     },
     "metadata": {},
     "output_type": "display_data"
    },
    {
     "data": {
      "text/latex": [
       "\\begin{array}{llll}\n",
       "~\\texttt{Pure Endowment}~_{5}E_{x}~:=\\\\\n",
       "~~~_{5}E_{x} = ~_{5}p_{x} * v^{5}& \\quad \\texttt{pure endowment}\\end{array}"
      ]
     },
     "metadata": {},
     "output_type": "display_data"
    },
    {
     "data": {
      "text/latex": [
       "\\begin{array}{llll}\n",
       "~\\texttt{Term Insurance}~A^1_{{x+5:\\overline{3|}}}~:=\\\\\n",
       "~~~A^1_{{x+5:\\overline{3|}}} = ~A_{{x+5:\\overline{3|}}} - ~_{3}E_{x+5}& \\quad \\texttt{endowment insurance - pure}\\\\\n",
       "~~~~~_{3}E_{x+5} = ~E_{x+5} * ~_{2}E_{x+6}& \\quad \\texttt{pure endowment chain rule}\\\\\n",
       "~~~~~~~_{2}E_{x+6} = ~E_{x+6} * ~E_{x+7}& \\quad \\texttt{pure endowment chain rule}\\\\\n",
       "~~~~~~~~~E_{x+7} = ~p_{x+7} * v& \\quad \\texttt{pure endowment}\\\\\n",
       "~~~~~~~~~E_{x+6} = ~p_{x+6} * v& \\quad \\texttt{pure endowment}\\\\\n",
       "~~~~~~~E_{x+5} = ~p_{x+5} * v& \\quad \\texttt{pure endowment}\\\\\n",
       "~~~~~~~~~p_{x+7} = 1 - ~q_{x+7}& \\quad \\texttt{complement of mortality}\\\\\n",
       "~~~~~A^1_{{x+5:\\overline{3|}}} = v * [ ~q_{x+5} * b + ~p_{x+5} * ~A^1_{{x+6:\\overline{2|}}} ]& \\quad \\texttt{backward recursion}\\\\\n",
       "~~~~~~~A^1_{{x+6:\\overline{2|}}} = v * [ ~q_{x+6} * b + ~p_{x+6} * ~A^1_{{x+7:\\overline{1|}}} ]& \\quad \\texttt{backward recursion}\\\\\n",
       "~~~~~~~~~p_{x+6} = 1 - ~q_{x+6}& \\quad \\texttt{complement of mortality}\\\\\n",
       "~~~~~~~~~p_{x+5} = 1 - ~q_{x+5}& \\quad \\texttt{complement of mortality}\\end{array}"
      ]
     },
     "metadata": {},
     "output_type": "display_data"
    },
    {
     "data": {
      "text/latex": [
       "\\begin{array}{llll}\n",
       "~\\texttt{Term Insurance}~A^1_{{x+5:\\overline{3|}}}~:=\\\\\n",
       "~~~A^1_{{x+5:\\overline{3|}}} = ~A_{{x+5:\\overline{3|}}} - ~_{3}E_{x+5}& \\quad \\texttt{endowment insurance - pure}\\\\\n",
       "~~~~~_{3}E_{x+5} = ~E_{x+5} * ~_{2}E_{x+6}& \\quad \\texttt{pure endowment chain rule}\\\\\n",
       "~~~~~~~_{2}E_{x+6} = ~E_{x+6} * ~E_{x+7}& \\quad \\texttt{pure endowment chain rule}\\\\\n",
       "~~~~~~~~~E_{x+7} = ~p_{x+7} * v& \\quad \\texttt{pure endowment}\\\\\n",
       "~~~~~~~~~E_{x+6} = ~p_{x+6} * v& \\quad \\texttt{pure endowment}\\\\\n",
       "~~~~~~~E_{x+5} = ~p_{x+5} * v& \\quad \\texttt{pure endowment}\\\\\n",
       "~~~~~~~~~p_{x+7} = 1 - ~q_{x+7}& \\quad \\texttt{complement of mortality}\\\\\n",
       "~~~~~A^1_{{x+5:\\overline{3|}}} = v * [ ~q_{x+5} * b + ~p_{x+5} * ~A^1_{{x+6:\\overline{2|}}} ]& \\quad \\texttt{backward recursion}\\\\\n",
       "~~~~~~~A^1_{{x+6:\\overline{2|}}} = v * [ ~q_{x+6} * b + ~p_{x+6} * ~A^1_{{x+7:\\overline{1|}}} ]& \\quad \\texttt{backward recursion}\\\\\n",
       "~~~~~~~~~p_{x+6} = 1 - ~q_{x+6}& \\quad \\texttt{complement of mortality}\\\\\n",
       "~~~~~~~~~p_{x+5} = 1 - ~q_{x+5}& \\quad \\texttt{complement of mortality}\\end{array}"
      ]
     },
     "metadata": {},
     "output_type": "display_data"
    },
    {
     "name": "stdout",
     "output_type": "stream",
     "text": [
      "3195.118917658744\n"
     ]
    }
   ],
   "source": [
    "print(\"SOA Question 6.48:  (A) 3195\")\n",
    "life = Recursion(depth=3).set_interest(i=0.06)\n",
    "x = 0\n",
    "life.set_p(0.95, x=x, t=5)\n",
    "life.set_q(0.02, x=x+5)\n",
    "life.set_q(0.03, x=x+6)\n",
    "life.set_q(0.04, x=x+7)\n",
    "a = 1 + life.E_x(x, t=5)\n",
    "A = life.deferred_insurance(x, u=5, t=3)\n",
    "P = life.gross_premium(A=A, a=a, benefit=100000)\n",
    "print(P)"
   ]
  },
  {
   "attachments": {},
   "cell_type": "markdown",
   "metadata": {},
   "source": [
    "__SOA Question 6.17__\n",
    "\n",
    "An insurance company sells special fully discrete two-year endowment insurance policies to smokers (S) and non-smokers (NS) age x. You are given:\n",
    "\n",
    "- The death benefit is 100,000; the maturity benefit is 30,000\n",
    "- The level annual premium for non-smoker policies is determined by the\n",
    "equivalence principle\n",
    "- The annual premium for smoker policies is twice the non-smoker annual premium\n",
    "- $\\mu^{NS}_{x+t} = 0.1.\\quad t > 0$\n",
    "- $q^S_{x+k} = 1.5 q_{x+k}^{NS}$, for $k = 0, 1$\n",
    "- $i = 0.08$\n",
    "\n",
    "Calculate the expected present value of the loss at issue random variable on a smoker policy."
   ]
  },
  {
   "cell_type": "code",
   "execution_count": 6,
   "metadata": {},
   "outputs": [
    {
     "name": "stdout",
     "output_type": "stream",
     "text": [
      "SOA Question 6.17:  (A) -30000\n",
      "37251.49857703495 1.8378124241073746 20269.478042694158\n"
     ]
    },
    {
     "data": {
      "text/latex": [
       "\\begin{array}{llll}\n",
       "~\\texttt{Term Insurance}~A^1_{{x:\\overline{2|}}}~:=\\\\\n",
       "~~~A^1_{{x:\\overline{2|}}} = ~A_{{x:\\overline{2|}}} - ~_{2}E_{x}& \\quad \\texttt{endowment insurance - pure}\\\\\n",
       "~~~~~_{2}E_{x} = ~_{2}p_{x} * v^{2}& \\quad \\texttt{pure endowment}\\\\\n",
       "~~~~~~~_{2}p_{x} = ~p_{x+1} * ~p_{x}& \\quad \\texttt{survival chain rule}\\\\\n",
       "~~~~~A^1_{{x:\\overline{2|}}} = v * [ ~q_{x} * b + ~p_{x} * ~A^1_{{x+1:\\overline{1|}}} ]& \\quad \\texttt{backward recursion}\\\\\n",
       "~~~~~~~p_{x+1} = 1 - ~q_{x+1}& \\quad \\texttt{complement of mortality}\\\\\n",
       "~~~~~~~~~E_{x} = ~p_{x} * v& \\quad \\texttt{pure endowment}\\\\\n",
       "~~~~~~~~~p_{x} = 1 - ~q_{x}& \\quad \\texttt{complement of mortality}\\end{array}"
      ]
     },
     "metadata": {},
     "output_type": "display_data"
    },
    {
     "data": {
      "text/latex": [
       "\\begin{array}{llll}\n",
       "~\\texttt{Temporary Annuity}~\\ddot{a}_{{x:\\overline{2|}}}~:=\\\\\n",
       "~~~\\ddot{a}_{{x:\\overline{2|}}} = 1 + ~E_{x} * ~\\ddot{a}_{{x+1:\\overline{1|}}}& \\quad \\texttt{backward recursion}\\\\\n",
       "~~~~~E_{x} = ~p_{x} * v& \\quad \\texttt{pure endowment}\\\\\n",
       "~~~~~~~p_{x} = 1 - ~q_{x}& \\quad \\texttt{complement of mortality}\\end{array}"
      ]
     },
     "metadata": {},
     "output_type": "display_data"
    },
    {
     "data": {
      "text/latex": [
       "\\begin{array}{llll}\n",
       "~\\texttt{Pure Endowment}~_{2}E_{x}~:=\\\\\n",
       "~~~_{2}E_{x} = ~_{2}p_{x} * v^{2}& \\quad \\texttt{pure endowment}\\\\\n",
       "~~~~~_{2}p_{x} = ~p_{x+1} * ~p_{x}& \\quad \\texttt{survival chain rule}\\\\\n",
       "~~~~~~~p_{x} = 1 - ~q_{x}& \\quad \\texttt{complement of mortality}\\\\\n",
       "~~~~~~~~~p_{x+1} = 1 - ~q_{x+1}& \\quad \\texttt{complement of mortality}\\end{array}"
      ]
     },
     "metadata": {},
     "output_type": "display_data"
    },
    {
     "name": "stdout",
     "output_type": "stream",
     "text": [
      "-30107.42633581115\n"
     ]
    }
   ],
   "source": [
    "print(\"SOA Question 6.17:  (A) -30000\")\n",
    "x = 0\n",
    "life = ConstantForce(mu=0.1).set_interest(i=0.08)\n",
    "A = life.endowment_insurance(x, t=2, b=100000, endowment=30000)\n",
    "a = life.temporary_annuity(x, t=2)\n",
    "P = life.gross_premium(a=a, A=A)\n",
    "print(A, a, P)\n",
    "\n",
    "life1 = Recursion().set_interest(i=0.08)\\\n",
    "                   .set_q(life.q_x(x, t=1) * 1.5, x=x, t=1)\\\n",
    "                   .set_q(life.q_x(x+1, t=1) * 1.5, x=x+1, t=1)\n",
    "contract = Contract(premium=P * 2, benefit=100000, endowment=30000)\n",
    "L = life1.gross_policy_value(x, t=0, n=2, contract=contract)\n",
    "print(L)\n"
   ]
  },
  {
   "attachments": {},
   "cell_type": "markdown",
   "metadata": {},
   "source": [
    "__SOA Question 2.5__ :  (B) 37.1\n",
    "\n",
    "You are given the following:\n",
    "1. $e_{40:20} = 18$\n",
    "2. $e_{60} = 25$\n",
    "3. $_{20}q_{40} = 0.2$\n",
    "4. $q_{40} = 0.003$\n",
    "\n",
    "Calculate $e_{41}$.\n",
    "\n",
    "*hints:*\n",
    "\n",
    "\n",
    "- solve for $e_{40}$ from limited lifetime formula\n",
    "- compute $e_{41}$ using backward recursion"
   ]
  },
  {
   "cell_type": "code",
   "execution_count": 7,
   "metadata": {},
   "outputs": [
    {
     "name": "stdout",
     "output_type": "stream",
     "text": [
      "SOA Question 2.5:  (B) 37.1\n"
     ]
    },
    {
     "data": {
      "text/latex": [
       "\\begin{array}{llll}\n",
       "~\\texttt{Lifetime}~e_{{x+41}}~:=\\\\\n",
       "~~~e_{{x+41}} = [ ~e_{{x+40}} - ~e_{{x+40:\\overline{1|}}} ] / ~p_{x+40}& \\quad \\texttt{forward recursion}\\\\\n",
       "~~~~~e_{{x+40}} = ~e_{{x+40:\\overline{20|}}} + ~_{20}p_{x+40} * ~e_{{x+60}}& \\quad \\texttt{backward recursion}\\\\\n",
       "~~~~~~~~~_{20}p_{x+40} = 1 - ~_{{20}}q_{x+40}& \\quad \\texttt{complement of mortality}\\\\\n",
       "~~~~~~~e_{{x+40:\\overline{1|}}} = ~p_{x+40}& \\quad \\texttt{1-year curtate shortcut}\\\\\n",
       "~~~~~~~~~p_{x+40} = 1 - ~q_{x+40}& \\quad \\texttt{complement of mortality}\\end{array}"
      ]
     },
     "metadata": {},
     "output_type": "display_data"
    },
    {
     "name": "stdout",
     "output_type": "stream",
     "text": [
      "37.11434302908726\n"
     ]
    }
   ],
   "source": [
    "print(\"SOA Question 2.5:  (B) 37.1\")\n",
    "life = Recursion(verbose=True).set_e(25, x=60, curtate=True)\\\n",
    "                              .set_q(0.2, x=40, t=20)\\\n",
    "                              .set_q(0.003, x=40)\\\n",
    "                              .set_e(18, x=40, t=20, curtate=True)\n",
    "e = life.e_x(41, curtate=True)\n",
    "print(e)"
   ]
  }
 ],
 "metadata": {
  "kernelspec": {
   "display_name": "Python 3.10.5 ('env3.10')",
   "language": "python",
   "name": "python3"
  },
  "language_info": {
   "codemirror_mode": {
    "name": "ipython",
    "version": 3
   },
   "file_extension": ".py",
   "mimetype": "text/x-python",
   "name": "python",
   "nbconvert_exporter": "python",
   "pygments_lexer": "ipython3",
   "version": "3.11.4"
  },
  "orig_nbformat": 4,
  "vscode": {
   "interpreter": {
    "hash": "a53bd658f9a5b7202fd97fcbe4e35965efc28d0eb9d85b0766bd67191bc6202c"
   }
  }
 },
 "nbformat": 4,
 "nbformat_minor": 2
}
