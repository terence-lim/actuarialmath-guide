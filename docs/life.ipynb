{
 "cells": [
  {
   "attachments": {},
   "cell_type": "markdown",
   "metadata": {},
   "source": [
    "# Life Contingent Risks\n",
    "\n",
    "Life contingencies use probability models as well as interest rate functions. By modeling future lifetimes as random variables, probabilities of survival or death can be calculated. This section reviews essential probability relationships and the moments of common distributions.\n",
    "\n"
   ]
  },
  {
   "cell_type": "markdown",
   "metadata": {},
   "source": [
    "## Probability\n",
    "\n",
    "The cumulative distribution function of a r.v. _X_ is the probability $F(x) = Pr(X \\le x)$. For a continuous r.v., $f(x) = \\frac{d}{dx} F(x)$ is the probability density function. For a discrete r.v. $p(x) = Pr(X=x)$ is the probability mass function.\n",
    "\n",
    "$E(x) = \\int_{-\\infty}^{\\infty} xf(x) dx$ when continuous, or $\\sum_x x f(x)$ when discrete\n",
    "- is the mean, or first moment of $X$.\n",
    "\n",
    "$Var(x) = E[(X - E[x])^2]$\n",
    "- is the variance, or second central moment of $X$, often denoted $\\sigma^2$\n"
   ]
  },
  {
   "cell_type": "markdown",
   "metadata": {},
   "source": [
    "__Linearity of expectations__\n",
    "\n",
    "$E(a + bX + cY) = a + bE(X) + cE(Y)$\n",
    "- the mean of the sum of random variables is the sum of the means"
   ]
  },
  {
   "cell_type": "markdown",
   "metadata": {},
   "source": [
    "\n",
    "__Variances__\n",
    "\n",
    "$Var(aX + bY) = a^2~Var(X) + b^2~Var(Y) + 2~a~b~Cov(X,Y)$\n",
    "- is the formula to compute the variance of the weighted sum of two random variables\n",
    "\n",
    "$Cov(X, Y) = E[XY] - E[X] \\cdot E[Y]$\n",
    "- is the formula to compute the covariance between two random variables"
   ]
  },
  {
   "cell_type": "markdown",
   "metadata": {},
   "source": [
    "\n",
    "__Bernoulli__: \n",
    "\n",
    "The Bernoulli is a discrete distribution that takes one of two values $Y \\in \\{a,~b\\}$ with probabilities $(p, ~1-p)$\n",
    "\n",
    "$E[Y] = a~p + b~(1-p)$\n",
    "\n",
    "- mean of Bernoulli distribution\n",
    "\n",
    "$Var[Y] = (a-b)^2~p~(1-p)$\n",
    "\n",
    "- Bernoulli shortcut formula for the variance\n",
    "\n",
    "__Binomial__: \n",
    "\n",
    "A binomial r.v. measures the total number of successes from $N$ independent 0-1 Bernoulli r.v., where each has a probability of success $p$.\n",
    "\n",
    "$E[Y] = N~p$\n",
    "\n",
    "- mean of Binomial distribution\n",
    "\n",
    "$Var[Y] = N~p~(1-p)$\n",
    "\n",
    "- variance of Binomial distribution"
   ]
  },
  {
   "cell_type": "markdown",
   "metadata": {},
   "source": [
    "\n",
    "__Mixture__\n",
    "\n",
    "A mixture distribution is a random variable $Y$ whose distribution function can be expressed as a weighted average of the distribution functions of $n$ random variables $Y_1, \\cdots, Y_n$. A common case is when Y is a mixture of two Binomial distributions $(p',~N)$, where $p' \\in (p_1,~p_2)$ with respective probabilities $(p,~1-p)$: a value is first drawn from a Bernoulli random variable w.p. $p$, then depending on its value, a final value is then drawn from the selected one of the two component Binomial distributions.\n",
    "\n",
    "$E[Y] = p~N~p_1 + (1-p)~N~p_2$\n",
    "\n",
    "- mean of mixture of two Binomial distributions\n",
    "\n",
    "$Var[Y] = E[Y^2] - E[Y]^2 = E[Var(Y~|~p') + E(Y~|~p')^2] - E[Y]^2$\n",
    "\n",
    "- variance of mixture of two Binomial distributions\n",
    "\n",
    "__Conditional Variance__\n",
    "\n",
    "\n",
    "$Var[Y] = Var(E[Y~|~p']) + E[Var (Y~|~p')]$\n",
    "\n",
    "- alternative calculation of the variance of a mixture by using conditional variance formula, where the first term  can be easily calculated using the Bernoulli shortcut, since $E[Y~|~p']$ is a Bernoulli random variable that takes a value of either $E[Y~|~p_1]$ or $E[Y~|~p_2]$ with respective probabilities $(p, 1-p)$"
   ]
  },
  {
   "cell_type": "markdown",
   "metadata": {},
   "source": [
    "## Portfolio Percentile\n",
    "\n",
    "__Normal Approximation__\n",
    "\n",
    "A portfolio, $Y$, which is the sum of $N$ iid random variables each with mean $\\mu$ and variance $\\sigma^2$, has a normal distribution with\n",
    "  - mean $E[Y] = N~\\mu$ and \n",
    "  - variance $Var[Y] = N~\\sigma^2$\n",
    "\n",
    "__Percentiles__\n",
    "\n",
    "Percentiles are essentially an inverse function of the cumulative probability distribution. If $F(y)$ is the cdf for $Y$, then the _p_'th quantile (or $100p$'th percentile) is a number $y_p$ such that $F(y_p) = Pr(Y \\le y_p)= p$.\n",
    "\n",
    "$Y_p = E[Y] + z_p~\\sqrt{Var[Y]}$\n",
    "  - value of $Y$ at percentile $p$ when Y is normally distributed, where $z_p$ is the inverse standard normal function $z_p = \\Phi^{-1}(p)$\n"
   ]
  },
  {
   "attachments": {},
   "cell_type": "markdown",
   "metadata": {},
   "source": [
    "## Methods\n",
    "\n",
    "\n",
    "The `Life` class implements methods for computing moments and probability distributions of random variables."
   ]
  },
  {
   "cell_type": "code",
   "execution_count": 2,
   "metadata": {},
   "outputs": [
    {
     "name": "stdout",
     "output_type": "stream",
     "text": [
      "\n",
      "class Life - Compute moments and probabilities\n",
      "\n",
      "    Methods:\n",
      "    --------\n",
      "\n",
      "    variance(a, b, var_a, var_b, cov_ab):\n",
      "      Variance of weighted sum of two r.v.\n",
      "\n",
      "    covariance(a, b, ab):\n",
      "      Covariance of two r.v.\n",
      "\n",
      "    bernoulli(p, a, b, variance):\n",
      "      Mean or variance of bernoulli r.v. with values {a, b}\n",
      "\n",
      "    binomial(p, N, variance):\n",
      "      Mean or variance of binomial r.v.\n",
      "\n",
      "    mixture(p, p1, p2, N, variance):\n",
      "      Mean or variance of binomial mixture\n",
      "\n",
      "    conditional_variance(p, p1, p2, N):\n",
      "      Conditional variance formula\n",
      "\n",
      "    portfolio_percentile(mean, variance, prob, N):\n",
      "      Probability percentile of the sum of N iid r.v.'s\n",
      "\n",
      "    set_interest(interest):\n",
      "      Set interest rate, which can be given in any form\n",
      "\n",
      "    quantiles_frame(quantiles):\n",
      "      Display selected quantile values from Normal distribution table\n",
      "\n",
      "\n"
     ]
    }
   ],
   "source": [
    "import math\n",
    "from actuarialmath import Life\n",
    "import describe\n",
    "describe.methods(Life)"
   ]
  },
  {
   "attachments": {},
   "cell_type": "markdown",
   "metadata": {},
   "source": [
    "## Examples\n"
   ]
  },
  {
   "cell_type": "markdown",
   "metadata": {},
   "source": [
    "The `variance` method computes the variance of $aX + bY$ by plugging in the required inputs into the formula $a^2~Var(X) + b^2~Var(Y) + 2~a~b~Cov(X,Y)$. Similarly, the `covariance` method computes the covariance of $X$ and $Y$ by pluggin the required inputs into the formula $E[XY] - E[X] \\cdot E[Y]$"
   ]
  },
  {
   "cell_type": "code",
   "execution_count": 14,
   "metadata": {},
   "outputs": [
    {
     "data": {
      "text/plain": [
       "133"
      ]
     },
     "execution_count": 14,
     "metadata": {},
     "output_type": "execute_result"
    }
   ],
   "source": [
    "Life.variance(a=2, b=3, var_a=4, var_b=5, cov_ab=6)"
   ]
  },
  {
   "cell_type": "code",
   "execution_count": 17,
   "metadata": {},
   "outputs": [
    {
     "data": {
      "text/plain": [
       "2"
      ]
     },
     "execution_count": 17,
     "metadata": {},
     "output_type": "execute_result"
    }
   ],
   "source": [
    "Life.covariance(a=2, b=3, ab=8)"
   ]
  },
  {
   "cell_type": "markdown",
   "metadata": {},
   "source": [
    "The `bernoulli` and `binomial` methods compute the mean or variance (by setting the argument `variance=True`) of the respective probability distributions"
   ]
  },
  {
   "cell_type": "code",
   "execution_count": 23,
   "metadata": {},
   "outputs": [
    {
     "name": "stdout",
     "output_type": "stream",
     "text": [
      "0.5 0.25\n"
     ]
    }
   ],
   "source": [
    "print(Life.bernoulli(p=0.5, a=0, b=1), Life.bernoulli(p=0.5, a=0, b=1, variance=True))"
   ]
  },
  {
   "cell_type": "code",
   "execution_count": 24,
   "metadata": {},
   "outputs": [
    {
     "name": "stdout",
     "output_type": "stream",
     "text": [
      "50.0 25.0\n"
     ]
    }
   ],
   "source": [
    "print(Life.binomial(p=0.5, N=100), Life.binomial(p=0.5, N=100, variance=True))"
   ]
  },
  {
   "cell_type": "markdown",
   "metadata": {},
   "source": [
    "For a mixture of two binomial distribution, the `mixture` method computes the mean or variance, while the `conditional_variance` method computes the variance using the conditional variance formula."
   ]
  },
  {
   "cell_type": "code",
   "execution_count": 25,
   "metadata": {},
   "outputs": [
    {
     "name": "stdout",
     "output_type": "stream",
     "text": [
      "35.0 47.5\n"
     ]
    }
   ],
   "source": [
    "print(Life.mixture(p=0.5, p1=0.3, p2=0.4, N=100),\n",
    "      Life.mixture(p=0.5, p1=0.3, p2=0.4, N=100, variance=True))"
   ]
  },
  {
   "cell_type": "markdown",
   "metadata": {},
   "source": [
    "The sum of $N$ iid r.v. with identical mean and variance can be approximated by a normal distribution that is computed by the `portfolio_cdf` method, or whose $100p$'th percentile is computed by the `portfolio_percentile` method."
   ]
  },
  {
   "cell_type": "code",
   "execution_count": 41,
   "metadata": {},
   "outputs": [
    {
     "data": {
      "text/plain": [
       "0.7602499389065233"
      ]
     },
     "execution_count": 41,
     "metadata": {},
     "output_type": "execute_result"
    }
   ],
   "source": [
    "Life.portfolio_cdf(mean=0, variance=1, N=50, value=5)"
   ]
  },
  {
   "cell_type": "code",
   "execution_count": 42,
   "metadata": {},
   "outputs": [
    {
     "data": {
      "text/plain": [
       "4.994313317536634"
      ]
     },
     "execution_count": 42,
     "metadata": {},
     "output_type": "execute_result"
    }
   ],
   "source": [
    "Life.portfolio_percentile(mean=0, variance=1, N=50, prob=0.76)"
   ]
  },
  {
   "cell_type": "markdown",
   "metadata": {},
   "source": [
    "The `set_interest` method is called to initialize and store an `Interest` object with the assumed interest rate, expressed in any annual or $m$-thly form, which is used in all subsequent life contingency computations."
   ]
  },
  {
   "cell_type": "code",
   "execution_count": 43,
   "metadata": {},
   "outputs": [
    {
     "data": {
      "text/plain": [
       "0.04879016416943205"
      ]
     },
     "execution_count": 43,
     "metadata": {},
     "output_type": "execute_result"
    }
   ],
   "source": [
    "life = Life().set_interest(i=0.05)\n",
    "life.interest.delta"
   ]
  },
  {
   "attachments": {},
   "cell_type": "markdown",
   "metadata": {},
   "source": [
    "__SOA Question 2.2__: \n",
    "\n",
    "Scientists are searching for a vaccine for a disease. You are given:\n",
    "- 100,000 lives age x are exposed to the disease\n",
    "- Future lifetimes are independent, except that the vaccine, if available, will be given to all at the end of year 1\n",
    "- The probability that the vaccine will be available is 0.2\n",
    "- For each life during year 1, $q_x$ = 0.02\n",
    "- For each life during year 2, $q_{x+1}$ = 0.01 if the vaccine has been given and $q_{x+1}$ = 0.02 if it has not been given\n",
    "\n",
    "Calculate the standard deviation of the number of survivors at the end of year 2."
   ]
  },
  {
   "cell_type": "code",
   "execution_count": 4,
   "metadata": {},
   "outputs": [
    {
     "name": "stdout",
     "output_type": "stream",
     "text": [
      "SOA Question 2.2: (D) 400\n",
      "396.5914603215815\n",
      "396.5914603237804\n"
     ]
    }
   ],
   "source": [
    "print(\"SOA Question 2.2: (D) 400\")\n",
    "p1 = (1. - 0.02) * (1. - 0.01)  # 2_p_x if vaccine given\n",
    "p2 = (1. - 0.02) * (1. - 0.02)  # 2_p_x if vaccine not given\n",
    "print(math.sqrt(Life.conditional_variance(p=.2, p1=p1, p2=p2, N=100000)))\n",
    "print(math.sqrt(Life.mixture(p=.2, p1=p1, p2=p2, N=100000, variance=True)))\n"
   ]
  },
  {
   "attachments": {},
   "cell_type": "markdown",
   "metadata": {},
   "source": [
    "__Normal distribution table__: \n",
    "\n",
    "The `quantiles_frame` method displays an extract of normal distribution table for common quantile values, that is made available during SOA FAM-L exam. "
   ]
  },
  {
   "cell_type": "code",
   "execution_count": 5,
   "metadata": {},
   "outputs": [
    {
     "name": "stdout",
     "output_type": "stream",
     "text": [
      "Values of z for selected values of Pr(Z<=z)\n",
      "-------------------------------------------\n",
      "z         0.842  1.036  1.282  1.645  1.960  2.326  2.576\n",
      "Pr(Z<=z)  0.800  0.850  0.900  0.950  0.975  0.990  0.995\n"
     ]
    }
   ],
   "source": [
    "print(\"Values of z for selected values of Pr(Z<=z)\")\n",
    "print(\"-------------------------------------------\")\n",
    "print(Life.quantiles_frame().to_string(float_format=lambda x: f\"{x:.3f}\"))"
   ]
  }
 ],
 "metadata": {
  "kernelspec": {
   "display_name": "Python 3.10.5 ('env3.10')",
   "language": "python",
   "name": "python3"
  },
  "language_info": {
   "codemirror_mode": {
    "name": "ipython",
    "version": 3
   },
   "file_extension": ".py",
   "mimetype": "text/x-python",
   "name": "python",
   "nbconvert_exporter": "python",
   "pygments_lexer": "ipython3",
   "version": "3.11.4"
  },
  "orig_nbformat": 4,
  "vscode": {
   "interpreter": {
    "hash": "a53bd658f9a5b7202fd97fcbe4e35965efc28d0eb9d85b0766bd67191bc6202c"
   }
  }
 },
 "nbformat": 4,
 "nbformat_minor": 2
}
