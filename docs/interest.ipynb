{
 "cells": [
  {
   "attachments": {},
   "cell_type": "markdown",
   "metadata": {},
   "source": [
    "# Interest Theory\n",
    "\n",
    "Interest theory functions, that are in common actuarial and financial use, are reviewed.  Interest rates are generally assumed to be fixed and constant."
   ]
  },
  {
   "cell_type": "markdown",
   "metadata": {},
   "source": [
    "## Interest rates\n",
    "\n",
    "$i$ is the amount earned on \\$1 after one year\n",
    "\n",
    "- effective annual _interest rate_\n",
    "\n",
    "$i^{(m)}$ is the nominal interest rate compounded _m_ times per year\n",
    "\n",
    "- it is numerically equal to $m$ times the effective interest rate over 1/m'th of a year.\n",
    "\n",
    "$d = \\dfrac{i}{1 + i}$\n",
    "\n",
    "- annual _discount rate_ of interest\n",
    "\n",
    "$d^{(m)}$ is the nominal discount rate compounded _m_ times per year\n",
    "\n",
    "- it is numerically equal to $m$ times the discount rate over 1/m'th of a year.\n",
    "\n",
    "$v = \\dfrac{1}{1 + i}$\n",
    "\n",
    "- annual _discount factor_\n",
    "\n",
    "$\\delta = \\log(1+i)$\n",
    "\n",
    "- _continuosly-compounded rate_ of interest, or _force of interest per year_\n",
    "\n"
   ]
  },
  {
   "attachments": {},
   "cell_type": "markdown",
   "metadata": {},
   "source": [
    "\n",
    "__Relationships between interest rates__\n",
    "\n",
    "$$\n",
    "\\begin{align*}\n",
    "v^{t} & = e^{- \\delta t} \\\\\n",
    "& = (1-d)^{t} \\\\\n",
    "& = (1+i)^{-t} \\\\\n",
    "& = (1-\\dfrac{d^{(m)}}{m})^{mt} \\\\\n",
    "& = (1+\\dfrac{i^{(m)}}{m})^{-mt} \\\\\n",
    "\\end{align*}\n",
    "$$\n"
   ]
  },
  {
   "attachments": {},
   "cell_type": "markdown",
   "metadata": {},
   "source": [
    "\n",
    "__Doubling the force of interest__\n",
    "\n",
    "Note that doubling the force of interest is not the same as doubling the rate of interest.\n",
    "\n",
    "$~^2\\delta \\leftarrow 2 \\delta$\n",
    "\n",
    "$~^2i \\leftarrow 2 i + i^2$\n",
    "\n",
    "$~^2d \\leftarrow 2 d - d^2$\n",
    "\n",
    "$~^2v \\leftarrow v^2$\n",
    "\n"
   ]
  },
  {
   "attachments": {},
   "cell_type": "markdown",
   "metadata": {},
   "source": [
    "__Annuity certain__\n",
    "\n",
    "Present value of an annuity certain that pays at a rate of \\$1 per year for $n$ years\n",
    "\n",
    "$\\ddot{a}_{\\overline{n|}} = \\dfrac{1 - v^{n}}{d}$\n",
    "\n",
    "- Annuity certain due: pays $1 at the beginning of the year \n",
    "\n",
    "$a_{\\overline{n|}} = \\dfrac{1 - v^{n}}{i} = \\ddot{a}_{\\overline{n+1|}} - 1$\n",
    "\n",
    "- Immediate annuity certain: pays $1 at the end of the year\n",
    "\n",
    "$\\overline{a}_{\\overline{n|}}  = \\dfrac{1 - v^{n}}{\\delta}$\n",
    "\n",
    "- Continuous annuity certain: pays at a rate of $1 per year continuously."
   ]
  },
  {
   "attachments": {},
   "cell_type": "markdown",
   "metadata": {},
   "source": [
    "## Methods\n",
    "\n",
    "The ``Interest`` class implements methods to convert between nominal, discount, continuously-compounded and 1/m'thy rates of interest, and compute the value of an annuity certain."
   ]
  },
  {
   "cell_type": "code",
   "execution_count": 1,
   "metadata": {},
   "outputs": [
    {
     "name": "stdout",
     "output_type": "stream",
     "text": [
      "\n",
      "class Interest - Store an assumed interest rate, and compute interest rate functions\n",
      "    \n",
      "    Args:\n",
      "      i : assumed annual interest rate\n",
      "      d : or annual discount rate\n",
      "      v : or annual discount factor\n",
      "      delta : or continuously compounded interest rate\n",
      "      v_t : or discount rate as a function of time\n",
      "      i_m : or m-thly interest rate\n",
      "      d_m : or m-thly discount rate\n",
      "      m : m'thly frequency, if i_m or d_m are specified\n",
      "\n",
      "    Methods:\n",
      "    --------\n",
      "\n",
      "    annuity(t, m, due):\n",
      "      Compute value of the annuity certain factor\n",
      "\n",
      "    mthly(m, i, d, i_m, d_m):\n",
      "      Convert to or from m'thly interest rates\n",
      "\n",
      "    double_force(i, delta, d, v):\n",
      "      Double the force of interest\n",
      "\n",
      "\n"
     ]
    }
   ],
   "source": [
    "from actuarialmath import Interest\n",
    "import describe\n",
    "describe.methods(Interest)"
   ]
  },
  {
   "attachments": {},
   "cell_type": "markdown",
   "metadata": {},
   "source": [
    "## Examples\n"
   ]
  },
  {
   "cell_type": "markdown",
   "metadata": {},
   "source": [
    "The `Interest` class can be initialized with an assumed annual interest rate expressed in any one of the forms `i, d, v, delta, i_m, d_m` (where the latter two forms also require the argument `m` to specify the number of times compounded in a year). Then that rate can be retrieved in any other annual form as an attribute."
   ]
  },
  {
   "cell_type": "code",
   "execution_count": 2,
   "metadata": {},
   "outputs": [
    {
     "name": "stdout",
     "output_type": "stream",
     "text": [
      "0.047619047619047616 0.9523809523809523 0.04879016416943205 0.05\n"
     ]
    }
   ],
   "source": [
    "interest = Interest(i=0.05)\n",
    "print(interest.d, interest.v, interest.delta, interest.i)"
   ]
  },
  {
   "cell_type": "markdown",
   "metadata": {},
   "source": [
    "The `mthly` static method converts between annual-pay and m-thly pay interest rates in any form."
   ]
  },
  {
   "cell_type": "code",
   "execution_count": 3,
   "metadata": {},
   "outputs": [
    {
     "name": "stdout",
     "output_type": "stream",
     "text": [
      "Continuously-compounded annual rate of interest: 0.05\n",
      "  Convert to annual interest rate:               0.05127109637602412 0.051271096376023007\n",
      "  Convert to annual discount rate:               0.04877057549928606 0.04877057549928587\n",
      "  Convert to annual interest rate (monthly-pay): 0.05010431149342143\n",
      "  Convert to annual discount rate (monthly-pay): 0.049895977858680496\n"
     ]
    }
   ],
   "source": [
    "delta = 0.05\n",
    "i = Interest(delta=delta).i      # convert to annual interest rate\n",
    "d = Interest(delta=delta).d      # convert to annual discount rate\n",
    "i_m = Interest.mthly(i=i, m=12)  # convert to annual interest rate monthly-pay\n",
    "d_m = Interest.mthly(d=d, m=12)  # convert to annual discount rate monthly-pay\n",
    "print('Continuously-compounded annual rate of interest:', delta)\n",
    "print('  Convert to annual interest rate:              ', i, Interest.mthly(i_m=i_m, m=12))\n",
    "print('  Convert to annual discount rate:              ', d, Interest.mthly(d_m=d_m, m=12))\n",
    "print('  Convert to annual interest rate (monthly-pay):', i_m)\n",
    "print('  Convert to annual discount rate (monthly-pay):', d_m)\n"
   ]
  },
  {
   "cell_type": "markdown",
   "metadata": {},
   "source": [
    "The `annuity` class method computes the present value of an annuity that pays at the rate of $1 per year continuously or discrete (due, immediate, or m'thly)"
   ]
  },
  {
   "cell_type": "code",
   "execution_count": 4,
   "metadata": {},
   "outputs": [
    {
     "name": "stdout",
     "output_type": "stream",
     "text": [
      "Annuity Factors By Payment Frequency (perpetual, i=5%):\n",
      "1. Immediate:                  19.999999999999982\n",
      "2. Immediate (quarterly pay):  20.371188429095998\n",
      "3. Continuous:                 20.49593431428785\n",
      "4. Due (quarterly pay):        20.621188429096076\n",
      "5. Due:                        20.999999999999975\n"
     ]
    },
    {
     "data": {
      "image/png": "[encoded data removed]",
      "text/plain": [
       "<Figure size 640x480 with 1 Axes>"
      ]
     },
     "metadata": {},
     "output_type": "display_data"
    }
   ],
   "source": [
    "import matplotlib.pyplot as plt\n",
    "t = range(100)\n",
    "plt.plot(t, [interest.annuity(t=s, due=True) for s in t])\n",
    "plt.title(f'Present Value of Annuity Certain Due (i={interest.i * 100}%)')\n",
    "plt.xlabel('Period (years)')\n",
    "plt.ylabel('Annuity Due Factor')\n",
    "print(\"Annuity Factors By Payment Frequency (perpetual, i=5%):\")\n",
    "print('1. Immediate:                 ', interest.annuity(t=Interest.WHOLE, due=False))\n",
    "print('2. Immediate (quarterly pay): ', interest.annuity(t=Interest.WHOLE, m=4, due=False))\n",
    "print('3. Continuous:                ', interest.annuity(t=Interest.WHOLE, m=0))\n",
    "print('4. Due (quarterly pay):       ', interest.annuity(t=Interest.WHOLE, m=4, due=True))\n",
    "print('5. Due:                       ', interest.annuity(t=Interest.WHOLE, due=True))\n"
   ]
  },
  {
   "attachments": {},
   "cell_type": "markdown",
   "metadata": {},
   "source": [
    "The `double_force` static method takes an interest rate in any form, and converts to the same form after doubling the force of interest."
   ]
  },
  {
   "cell_type": "code",
   "execution_count": 5,
   "metadata": {},
   "outputs": [
    {
     "name": "stdout",
     "output_type": "stream",
     "text": [
      "Example: double the force of interest i=0.05\n",
      "i: 0.05 d: 0.047619047619047616\n",
      "i: 0.1025 0.1025\n",
      "d: 0.092971 0.092971\n"
     ]
    }
   ],
   "source": [
    "print(\"Example: double the force of interest i=0.05\")\n",
    "i = 0.05\n",
    "d = Interest(i=i).d               # convert interest rate to discount rate\n",
    "print('i:', i, 'd:', d)\n",
    "i2 = Interest.double_force(i=i)   # interest rate after doubling force\n",
    "d2 = Interest.double_force(d=d)   # discount rate after doubling force\n",
    "print('i:', round(i2, 6), round(Interest(d=d2).i, 6))\n",
    "print('d:', round(d2, 6), round(Interest(i=i2).d, 6))\n"
   ]
  },
  {
   "attachments": {},
   "cell_type": "markdown",
   "metadata": {},
   "source": [
    "__SOA Question 3.10__: \n",
    "\n",
    "A group of 100 people start a Scissor Usage Support Group. The rate at which members enter and leave the group is dependent on whether they are right-handed or left-handed. You are given the following:\n",
    "- The initial membership is made up of 75% left-handed members (L) and 25%\n",
    "right-handed members (R)\n",
    "- After the group initially forms, 35 new (L) and 15 new (R) join the group at the start of each subsequent year\n",
    "- Members leave the group only at the end of each year\n",
    "- $q^L$ = 0.25 for all years\n",
    "- $q^R$ = 0.50 for all years\n",
    "Calculate the proportion of the Scissor Usage Support Group’s expected membership that is left-handed at the start of the group’s6 th year, before any new members join for that year."
   ]
  },
  {
   "cell_type": "code",
   "execution_count": 6,
   "metadata": {},
   "outputs": [
    {
     "name": "stdout",
     "output_type": "stream",
     "text": [
      "SOA Question 3.10:  (C) 0.86\n",
      "0.8578442833761983\n"
     ]
    }
   ],
   "source": [
    "print(\"SOA Question 3.10:  (C) 0.86\")\n",
    "interest = Interest(v=0.75)\n",
    "L = 35 * interest.annuity(t=4, due=False) + 75 * interest.v_t(t=5)\n",
    "interest = Interest(v=0.5)\n",
    "R = 15 * interest.annuity(t=4, due=False) + 25 * interest.v_t(t=5)\n",
    "print(L / (L + R))\n"
   ]
  }
 ],
 "metadata": {
  "kernelspec": {
   "display_name": "Python 3.10.5 ('env3.10')",
   "language": "python",
   "name": "python3"
  },
  "language_info": {
   "codemirror_mode": {
    "name": "ipython",
    "version": 3
   },
   "file_extension": ".py",
   "mimetype": "text/x-python",
   "name": "python",
   "nbconvert_exporter": "python",
   "pygments_lexer": "ipython3",
   "version": "3.11.4"
  },
  "orig_nbformat": 4,
  "vscode": {
   "interpreter": {
    "hash": "a53bd658f9a5b7202fd97fcbe4e35965efc28d0eb9d85b0766bd67191bc6202c"
   }
  }
 },
 "nbformat": 4,
 "nbformat_minor": 2
}
