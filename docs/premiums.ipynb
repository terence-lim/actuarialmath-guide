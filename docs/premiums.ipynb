{
 "cells": [
  {
   "attachments": {},
   "cell_type": "markdown",
   "metadata": {},
   "source": [
    "# Premiums\n",
    "\n",
    "When insurance company agrees to pay some life contingent benefits, the policyholder agrees to pay premiums to the insurance company to secure these benefits. The premiums will also need to reimburse the insurance company for the expenses associated with the policy.\n",
    "\n",
    "The calculation of the premium may not explicitly allow for the insurance company's expenses, which we refer to as a net premium (also called a risk premium or benefit premium). If the calculation does explicitly allow for expenses, the premium is called a gross premium (also called expense-loaded premium).\n",
    "\n",
    "Premiums for life insurance are payable in advance, with the first premium payable when the policy is purchased.\n",
    "\n",
    "- _Fully continuous insurance_: both benefits and premiums are payable continuously\n",
    "\n",
    "- _Fully discrete insurance_: benefits are paid at the end of the year, premiums are paid at the beginning of the year\n",
    "\n",
    "- _Semi-continuous insurance_: benefits are paid at moment of death, premiums are paid at the beginning of the year"
   ]
  },
  {
   "attachments": {},
   "cell_type": "markdown",
   "metadata": {},
   "source": [
    "## Present value of loss at issue r.v. $_0L$\n",
    "\n",
    "The loss at issue random variable is defined as the present value of the amount the insurance loses.\n",
    "\n",
    "$_0L$ = PV of future benefits - PV of future premiums\n",
    "- PV of loss at issue\n",
    "\n",
    "__Fully continuous whole life insurance__:\n",
    "\n",
    "$_0L = v^{T_x} - P \\overline{a}_{\\overline{T_x|}} = v^{T_x} - P (\\dfrac{1 - v^{T_x}}{\\delta})$\n",
    "\n",
    "- loss at issue is the present value of the insurance payment less the present value of the level premimum annuity of $P$ per year\n",
    "\n",
    "$_0L = \\overline{A}_x - P \\overline{a}_x = \\overline{A}_x(1 + \\dfrac{P}{\\delta}) - \\dfrac{\\pi}{\\delta}$\n",
    "\n",
    "- expected loss at issue by applying expected values to the loss at issue equation\n"
   ]
  },
  {
   "attachments": {},
   "cell_type": "markdown",
   "metadata": {},
   "source": [
    "## Equivalence principle\n",
    "\n",
    "Under this principle, premiums are set such that the actuarial present value of the benefit premiums equals the actuarial present value of the benefits, hence expected loss at issue is zero:\n",
    "\n",
    "$~ E[_0L] = EPV_0 (\\textsf{future benefits}) - EPV_0 (\\textsf{future premiums}) = 0$\n",
    "\n",
    "\n"
   ]
  },
  {
   "attachments": {},
   "cell_type": "markdown",
   "metadata": {},
   "source": [
    "## Net premium\n",
    "\n",
    "For net premiums, we take into consideration outgoing benefit payments only:\n",
    "expenses are not a part of the calculation. The benefit may be a death benefit or a survival benefit or a combination. Under the equivalence principle, the net premium is set such that the expected value of the future loss is zero at the start of the contract, $E[L_0] = 0$.\n",
    "\n",
    "__Whole life insurance:__\n",
    "\n",
    "$P_{x} = \\dfrac{A_{x}}{\\ddot{a}_{x}}$\n",
    "- fully discrete whole life insurance net premium\n",
    "\n",
    "$\\overline{P}_{x} = \\dfrac{\\overline{A}_{x}}{\\overline{a}_{x}}$\n",
    "- fully continuous whole life insurance net premium\n",
    "\n",
    "__Term life insurance:__\n",
    "\n",
    "$P^{1}_{x:\\overline{t|}} = \\dfrac{A^{1}_{x:\\overline{t|}}}{\\ddot{a}_{x:\\overline{t|}}}$\n",
    "- fully discrete term life net premium\n",
    "\n",
    "$\\overline{P}^{1}_{x:\\overline{t|}} = \\dfrac{\\overline{A}^{1}_{x:\\overline{t|}}}{\\overline{a}_{x:\\overline{t|}}}$\n",
    "- fully continuous term life net premium\n",
    "\n",
    "__Pure endowment:__\n",
    "\n",
    "$P^{~~~1}_{x:\\overline{t|}} = \\dfrac{~_tE_x}{\\ddot{a}_{x:\\overline{t|}}}$\n",
    "\n",
    "- fully discrete pure endowment net premium\n",
    "\n",
    "$\\overline{P}^{~~~1}_{x:\\overline{t|}} = \\dfrac{~_tE_x}{\\overline{a}_{x:\\overline{t|}}}$\n",
    "\n",
    "- fully continuous pure endowment net premium\n",
    "\n",
    "__Endowment insurance:__\n",
    "\n",
    "\n",
    "$P_{x:\\overline{t|}} = \\dfrac{A_{x:\\overline{t|}}}{\\ddot{a}_{x:\\overline{t|}}}$ \n",
    "\n",
    "- fully discrete endowment insurance net premium\n",
    "\n",
    "\n",
    "$\\overline{P}_{x:\\overline{t|}} = \\dfrac{\\overline{A}_{x:\\overline{t|}}}{\\overline{a}_{x:\\overline{t|}}}$\n",
    "\n",
    "- fully continuous endowment insurance net premium\n",
    "\n",
    "\n",
    "__Shortcuts for whole life and endowment insurance only__:\n",
    "\n",
    "For whole life and endowment insurance only, by plugging in the insurance or annuity twin, the following shortcuts are available for calculating net premiums from only the life insurance or annuity factor.\n",
    "\n",
    "$P_{x} = b ~ (\\dfrac{1}{\\ddot{a}_x} - d) = b ~ (\\dfrac{dA_x}{1 - A_x})\\ $\n",
    "- fully discrete whole life shortcut\n",
    "\n",
    "$\\overline{P}_{x} = b ~ (\\dfrac{1}{\\overline{a}_x} - \\delta) = b ~ (\\dfrac{d\\overline{A}_x}{1 - \\overline{A}_x})$\n",
    "- fully continuous whole life shortcut\n",
    "\n",
    "$P_{x:\\overline{t|}} = b ~ (\\dfrac{1}{\\ddot{a}_{x:\\overline{n|}}} - d) = b ~ (\\dfrac{dA_{x:\\overline{n|}}}{1 - A_{x:\\overline{n|}}})\\ $\n",
    "- fully discrete endowment insurance shortcut\n",
    "\n",
    "$\\overline{P}_{x:\\overline{t|}} = b ~ (\\dfrac{1}{\\overline{a}_{x:\\overline{n|}}} - \\delta) = b ~ (\\dfrac{d\\overline{A}_{x:\\overline{n|}}}{1 - \\overline{A}_{x:\\overline{n|}}})$\n",
    "- fully continuous endowment insurance shortcut"
   ]
  },
  {
   "attachments": {},
   "cell_type": "markdown",
   "metadata": {},
   "source": [
    "## Gross premium\n",
    "\n",
    "When we calculate a gross premium for an insurance policy or an annuity, we\n",
    "take account of the expenses the insurer incurs. There are three main types\n",
    "of expense associated with policies -- initial expenses, renewal expenses and\n",
    "termination or claim expenses.  \n",
    "\n",
    "\n",
    "__Expenses__:\n",
    "\n",
    "$e_i = $ initial_per_policy + initial_per_premium $\\times$ gross_premium\n",
    "\n",
    "- initial expenses at the beginning of year 1 when a policy is issued, which may be both proportional to premiums or may be 'per policy', meaning that the amount is fixed for all policies, and is not related to the size of the contract.\n",
    "\n",
    "$e_r = $ renewal_per_policy + renewal_per_premium $\\times$ gross_premium\n",
    "\n",
    "- renewal expenses in the beginning of each year 2+, may be both per policy or percent of premium.\n",
    "\n",
    "$E =$ settlement expense\n",
    "\n",
    "- is paid along with death benefit ($b$); hence total claim cost upon death is:\n",
    "\n",
    "  claim cost $= b + E = $ death benefit + settlement expense.\n",
    "\n",
    "\n",
    "__Return of premiums paid without interest upon death__:\n",
    "\n",
    "$EPV_0(\\mathrm{return~of~premiums~paid}) = \\sum_{k=0}^{t-1} ~ P (k+1) ~ v^{k+1} ~ _{k|}q_x  = P \\cdot (IA)^{1}_{x:\\overline{t|}}$\n",
    "\n",
    "- an additional benefit in some insurance policies, whose EPV can be calculated using an increasing insurance factor\n",
    "\n",
    "__Equivalence principle__:\n",
    "\n",
    "If gross premiums are set under equivalence principle, then expected gross future loss at issue equals zero:\n",
    "\n",
    "$~ E[_0L^g] = EPV_0 (\\textsf{future benefits}) + EPV_0 (\\textsf{future expenses})- EPV_0 (\\textsf{future premiums}) = 0$\n",
    "\n",
    "\n",
    "\n"
   ]
  },
  {
   "attachments": {},
   "cell_type": "markdown",
   "metadata": {},
   "source": [
    "## Portfolio Percentile Premium\n",
    "\n",
    "The portfolio percentile premium principle is an alternative to the equivalence premium principle. Using the mean and variance of the future loss random variable, the portfolio percentile premium principle can be used to determine a premium. We assume a large portfolio of $N$ identical and independent policies. The present value of the total future loss $\\overline{L}$ of the portfolio can be approximated by a normal distribution over the sum of the individual losses $L_i$\n",
    "\n",
    "$$\\begin{align*}\n",
    "\\overline{L} & = L_1 + L_2 + \\cdots + L_N\\\\\n",
    "E[\\overline{L}] &= N ~ E[L]\\\\\n",
    "Var[\\overline{L}] &= N ~ Var[L]\\\\\n",
    "\\end{align*}$$\n",
    "\n",
    "Note $E[\\overline{L}]$ and $Var[\\overline{L}]$ are functions of the unspecified premium $P$. A probability percentile $q$ (say, 95% confidence) and a threshold $L^*$ (say, 0) are chosen, then $P$ is solved for implicitly from the following equation, such that the probability of $\\overline{L}$ not exceeding $L^*$ is $q$\n",
    "\n",
    "$$Pr[\\overline{L} < L^*] = \n",
    "Pr \\left[\\dfrac{\\overline{L} - E[\\overline{L}]}{\\sqrt{Var[\\overline{L}]}}\n",
    "< \\dfrac{L^* - E[\\overline{L}]}{\\sqrt{Var[\\overline{L}]}}\\right]\n",
    "= \\Phi\\left( \\dfrac{L^* - E[\\overline{L}]}{\\sqrt{Var[\\overline{L}]}}\\right) = q$$\n"
   ]
  },
  {
   "attachments": {},
   "cell_type": "markdown",
   "metadata": {},
   "source": [
    "## Methods\n",
    "\n",
    "\n",
    "The `Premiums` class implements methods for computing net and gross premiums under the equivalence principle"
   ]
  },
  {
   "cell_type": "code",
   "execution_count": 1,
   "metadata": {},
   "outputs": [
    {
     "name": "stdout",
     "output_type": "stream",
     "text": [
      "\n",
      "class Premiums - Compute et and gross premiums under equivalence principle\n",
      "\n",
      "    Methods:\n",
      "    --------\n",
      "\n",
      "    net_premium(x, s, t, u, n, b, endowment, discrete, return_premium, annuity, initial_cost):\n",
      "      Net level premium for special n-pay, u-deferred t-year term insurance\n",
      "\n",
      "    insurance_equivalence(premium, b, discrete):\n",
      "      Compute whole life or endowment insurance factor, given net premium\n",
      "\n",
      "    annuity_equivalence(premium, b, discrete):\n",
      "      Compute whole life or temporary annuity factor, given net premium\n",
      "\n",
      "    premium_equivalence(A, a, b, discrete):\n",
      "      Compute premium from whole life or endowment insurance and annuity factors\n",
      "\n",
      "    gross_premium(a, A, IA, discrete, benefit, E, endowment, settlement_policy, initial_policy, initial_premium, renewal_policy, renewal_premium):\n",
      "      Gross premium by equivalence principle\n",
      "\n",
      "\n"
     ]
    }
   ],
   "source": [
    "import numpy as np\n",
    "from actuarialmath import Premiums\n",
    "import describe\n",
    "describe.methods(Premiums)"
   ]
  },
  {
   "attachments": {},
   "cell_type": "markdown",
   "metadata": {},
   "source": [
    "## Examples\n"
   ]
  },
  {
   "cell_type": "markdown",
   "metadata": {},
   "source": [
    "When net premiums are set by the equivalence principle, then the three class methods `insurance_equivalence`, `annuity_equivalence` or `premium_equivalence` can be called to compute the insurance, annuity or net premium respectively given any one of the other value, for whole life and endowment insurances. For other general life insurance or annuity benefits, `net_premium` computes the net premium under EPP given any term (`t`), deferral period (`u`), endowment benefit amount (`endowment`), other initial expected costs (`initial_cost`), or refund of premium without interest at death (`return_premium`)."
   ]
  },
  {
   "cell_type": "code",
   "execution_count": 9,
   "metadata": {},
   "outputs": [
    {
     "name": "stdout",
     "output_type": "stream",
     "text": [
      "Insurance: 0.4 0.4\n",
      "Annuity: 9.999999999999996 9.999999999999996\n",
      "Net Premium: 0.040000000000000015 0.040000000000000015 0.040000000000000015\n"
     ]
    }
   ],
   "source": [
    "life = Premiums().set_interest(delta=0.06)\\\n",
    "                 .set_survival(mu=lambda x,s: 0.04)\n",
    "P = life.net_premium(x=0, discrete=False)\n",
    "A = life.whole_life_insurance(x=0, discrete=False)\n",
    "a = life.whole_life_annuity(x=0, discrete=False)\n",
    "print('Insurance:', A, life.insurance_equivalence(premium=P, discrete=False))\n",
    "print('Annuity:', a, life.annuity_equivalence(premium=P, discrete=False))\n",
    "print('Net Premium:', P, \n",
    "      life.premium_equivalence(A=A, discrete=False), \n",
    "      life.premium_equivalence(a=a, discrete=False))"
   ]
  },
  {
   "cell_type": "markdown",
   "metadata": {},
   "source": [
    "The `gross_premium` class method computes the level premium under the equivalence principles given expense and claim amounts (initial and renewal expenses per policy or per \\$1 premium, settlement expense, death benefit, and endowment) and corresponding actuarial present value factors (`A` for insurance benefits, `a` for premium annuity, `IA` for refund of premium without interest death benefit, and `E` for endowment benefit)."
   ]
  },
  {
   "attachments": {},
   "cell_type": "markdown",
   "metadata": {},
   "source": [
    "__SOA Question 6.2__\n",
    "\n",
    "For a fully discrete 10-year term life insurance policy on (x), you are given:\n",
    "- Death benefits are 100,000 plus the return of all gross premiums paid without\n",
    "interest\n",
    "- Expenses are 50% of the first year’s gross premium, 5% of renewal gross\n",
    "premiums and 200 per policy expenses each year\n",
    "- Expenses are payable at the beginning of the year\n",
    "- $A^1_{x:\\overline{10|}}  = 0.17094$\n",
    "- $(IA)^1_{x:\\overline{10|}} = 0.96728$\n",
    "- $\\ddot{a}_{x:\\overline{10|}} = 6.8865$\n",
    "\n",
    "Calculate the gross premium using the equivalence principle."
   ]
  },
  {
   "cell_type": "code",
   "execution_count": 3,
   "metadata": {},
   "outputs": [
    {
     "name": "stdout",
     "output_type": "stream",
     "text": [
      "SOA Question 6.2: (E) 3604\n",
      "3604.229940320728\n"
     ]
    }
   ],
   "source": [
    "print(\"SOA Question 6.2: (E) 3604\")\n",
    "life = Premiums()\n",
    "A, IA, a = 0.17094, 0.96728, 6.8865\n",
    "print(life.gross_premium(a=a,\n",
    "                         A=A,\n",
    "                         IA=IA,\n",
    "                         benefit=100000,\n",
    "                         initial_premium=0.5,\n",
    "                         renewal_premium=.05,\n",
    "                         renewal_policy=200,\n",
    "                         initial_policy=200))\n"
   ]
  },
  {
   "attachments": {},
   "cell_type": "markdown",
   "metadata": {},
   "source": [
    "__SOA Question 6.16__\n",
    "\n",
    "For a fully discrete 20-year endowment insurance of 100,000 on (30), you are given:\n",
    "- d = 0.05\n",
    "- Expenses, payable at the beginning of each year, are:\n",
    "\n",
    "| | First Year | First Year | Renewal Years | Renewal Years |\n",
    "| --- | --- | --- | --- | --- |\n",
    "| | Percent of Premium | Per Policy | Percent of Premium | Per Policy |\n",
    "| Taxes | 4% | 0 | 4% | 0  |\n",
    "| Sales Commission | 35% | 0 | 2% | 0  |\n",
    "| Policy Maintenance | 0% | 250 | 0% | 50  |\n",
    "\n",
    "- The net premium is 2143\n",
    "\n",
    "Calculate the gross premium using the equivalence principle."
   ]
  },
  {
   "cell_type": "code",
   "execution_count": 4,
   "metadata": {},
   "outputs": [
    {
     "name": "stdout",
     "output_type": "stream",
     "text": [
      "SOA Question 6.16: (A) 2408.6\n",
      "0.3000139997200056 13.999720005599887 2408.575206281868\n"
     ]
    }
   ],
   "source": [
    "print(\"SOA Question 6.16: (A) 2408.6\")\n",
    "life = Premiums().set_interest(d=0.05)\n",
    "A = life.insurance_equivalence(premium=2143, b=100000)\n",
    "a = life.annuity_equivalence(premium=2143, b=100000)\n",
    "p = life.gross_premium(A=A,\n",
    "                       a=a,\n",
    "                       benefit=100000,\n",
    "                       settlement_policy=0,\n",
    "                       initial_policy=250,\n",
    "                       initial_premium=.04+.35,\n",
    "                       renewal_policy=50,\n",
    "                       renewal_premium=.04+.02)\n",
    "print(A, a, p)\n"
   ]
  },
  {
   "attachments": {},
   "cell_type": "markdown",
   "metadata": {},
   "source": [
    "__SOA Question 6.20__\n",
    "\n",
    "For a special fully discrete 3-year term insurance on (75), you are given:\n",
    "\n",
    "- The death benefit during the first two years is the sum of the net premiums paid\n",
    "without interest\n",
    "\n",
    "- The death benefit in the third year is 10,000\n",
    "\n",
    "| $x$ | $p_x$ |\n",
    "|---|---|\n",
    "| 75 | 0.90 |\n",
    "| 76 | 0.88 |\n",
    "| 77 | 0.85 |\n",
    "\n",
    "- $i = 0.04$\n",
    "\n",
    "Calculate the annual net premium."
   ]
  },
  {
   "cell_type": "code",
   "execution_count": 5,
   "metadata": {},
   "outputs": [
    {
     "name": "stdout",
     "output_type": "stream",
     "text": [
      "SOA Question 6.20:  (B) 459\n",
      "458.83181728297285\n"
     ]
    }
   ],
   "source": [
    "\n",
    "print(\"SOA Question 6.20:  (B) 459\")\n",
    "l = lambda x,s: dict(zip([75, 76, 77, 78],\n",
    "                         np.cumprod([1, .9, .88, .85]))).get(x+s, 0)\n",
    "life = Premiums().set_interest(i=0.04).set_survival(l=l)\n",
    "a = life.temporary_annuity(75, t=3)\n",
    "IA = life.increasing_insurance(75, t=2)\n",
    "A = life.deferred_insurance(75, u=2, t=1)\n",
    "print(life.solve(lambda P: P*IA + A*10000 - P*a, target=0, grid=100))\n",
    "\n"
   ]
  },
  {
   "attachments": {},
   "cell_type": "markdown",
   "metadata": {},
   "source": [
    "__SOA Question 6.29__\n",
    "\n",
    "(35) purchases a fully discrete whole life insurance policy of 100,000.\n",
    "You are given:\n",
    "- The annual gross premium, calculated using the equivalence principle, is 1770\n",
    "- The expenses in policy year 1 are 50% of premium and 200 per policy\n",
    "- The expenses in policy years 2 and later are 10% of premium and 50 per policy\n",
    "- All expenses are incurred at the beginning of the policy year\n",
    "- $i = 0.035$\n",
    "\n",
    "Calculate $\\ddot{a}_{35}$."
   ]
  },
  {
   "cell_type": "code",
   "execution_count": 6,
   "metadata": {},
   "outputs": [
    {
     "name": "stdout",
     "output_type": "stream",
     "text": [
      "SOA Question 6.29  (B) 20.5\n",
      "20.480268314431726\n"
     ]
    }
   ],
   "source": [
    "print(\"SOA Question 6.29  (B) 20.5\")\n",
    "life = Premiums().set_interest(i=0.035)\n",
    "def fun(a):\n",
    "    return life.gross_premium(A=life.insurance_twin(a=a),\n",
    "                                a=a,\n",
    "                                benefit=100000,\n",
    "                                initial_policy=200,\n",
    "                                initial_premium=.5,\n",
    "                                renewal_policy=50,\n",
    "                                renewal_premium=.1)\n",
    "print(life.solve(fun, target=1770, grid=[20, 22]))\n"
   ]
  },
  {
   "cell_type": "markdown",
   "metadata": {},
   "source": [
    "__SOA Question 6.33__\n",
    "\n",
    "An insurance company sells 15-year pure endowments of 10,000 to 500 lives, each age x, with independent future lifetimes. The single premium for each pure endowment is determined by the equivalence principle.\n",
    "\n",
    "You are given:\n",
    "\n",
    "- $i$ = 0.03\n",
    "- $\\mu_x(t) = 0.02 t, \\quad t \\ge 0$\n",
    "- $_0L$ is the aggregate loss at issue random variable for these pure endowments.\n",
    "\n",
    "Using the normal approximation without continuity correction, calculate $Pr(_0L) > 50,000)$."
   ]
  },
  {
   "cell_type": "code",
   "execution_count": 7,
   "metadata": {},
   "outputs": [
    {
     "name": "stdout",
     "output_type": "stream",
     "text": [
      "SOA Question 6.33:  (B) 0.13\n",
      "0.12828940905648634\n"
     ]
    }
   ],
   "source": [
    "print(\"SOA Question 6.33:  (B) 0.13\")\n",
    "life = Premiums().set_survival(mu=lambda x,t: 0.02*t).set_interest(i=0.03)\n",
    "var = life.E_x(x=0, t=15, moment=life.VARIANCE, endowment=10000)\n",
    "p = 1 - life.portfolio_cdf(mean=0, variance=var, value=50000, N=500)\n",
    "print(p)"
   ]
  },
  {
   "attachments": {},
   "cell_type": "markdown",
   "metadata": {},
   "source": [
    "__SOA Question 5.6__:\n",
    "\n",
    "For a group of 100 lives age x with independent future lifetimes, you are given:\n",
    "\n",
    "- Each life is to be paid 1 at the beginning of each year, if alive\n",
    "- $A_x = 0.45$\n",
    "- $_2A_x = 0.22$\n",
    "- $i = 0.05$\n",
    "- $Y$ is the present value random variable of the aggregate payments.\n",
    "\n",
    "Using the normal approximation to Y, calculate the initial size of the fund needed in order to be 95% certain of being able to make the payments for these life annuities.\n"
   ]
  },
  {
   "cell_type": "code",
   "execution_count": 8,
   "metadata": {},
   "outputs": [
    {
     "name": "stdout",
     "output_type": "stream",
     "text": [
      "SOA Question 5.6:  (D) 1200\n",
      "1200.6946732201702\n"
     ]
    }
   ],
   "source": [
    "print(\"SOA Question 5.6:  (D) 1200\")\n",
    "life = Premiums().set_interest(i=0.05)\n",
    "var = life.annuity_variance(A2=0.22, A1=0.45)\n",
    "mean = life.annuity_twin(A=0.45)\n",
    "fund = life.portfolio_percentile(mean, var, prob=.95, N=100)\n",
    "print(fund)\n"
   ]
  }
 ],
 "metadata": {
  "kernelspec": {
   "display_name": "Python 3.10.5 ('env3.10')",
   "language": "python",
   "name": "python3"
  },
  "language_info": {
   "codemirror_mode": {
    "name": "ipython",
    "version": 3
   },
   "file_extension": ".py",
   "mimetype": "text/x-python",
   "name": "python",
   "nbconvert_exporter": "python",
   "pygments_lexer": "ipython3",
   "version": "3.11.4"
  },
  "orig_nbformat": 4,
  "vscode": {
   "interpreter": {
    "hash": "a53bd658f9a5b7202fd97fcbe4e35965efc28d0eb9d85b0766bd67191bc6202c"
   }
  }
 },
 "nbformat": 4,
 "nbformat_minor": 2
}
