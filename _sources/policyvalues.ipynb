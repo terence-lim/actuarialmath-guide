{
 "cells": [
  {
   "attachments": {},
   "cell_type": "markdown",
   "metadata": {},
   "source": [
    "# Policy Values\n",
    "\n",
    "Policy value at time $t$ is the present value, at time $t$, of the future loss random variable\n",
    "\n",
    "__Net future loss at issue__\n",
    "\n",
    "For net future loss, we consider benefit payments and net premiums only.\n",
    "\n",
    "$_0L = b~v^{K_x + 1} - P\\ddot{a}_{\\overline{K_x + 1|}} = (b + \\dfrac{P}{d})~v^{K_x+1} - \\dfrac{P}{d}$\n",
    "- net future loss at issue of fully discrete whole life insurance\n",
    "\n",
    "$_0L = b~v^{T_x} - P\\overline{a}_{\\overline{T_x|}} = (b + \\dfrac{P}{\\delta})~v^{T_x} - \\dfrac{P}{\\delta}$ (continuous)\n",
    "- net future loss at issue of fully continuous whole life insurance\n",
    "\n",
    "__Gross future loss at issue__\n",
    "\n",
    "For gross future loss, expenses are included along with benefits payments and gross premiums.\n",
    "\n",
    "$_0L = (b + E + \\dfrac{G - e_r}{d})~v^{K_x+1} - \\dfrac{G - e_r}{d} + (e_i - e_r)$\n",
    "- gross future loss at issue of fully discrete whole life insurance\n",
    "\n"
   ]
  },
  {
   "attachments": {},
   "cell_type": "markdown",
   "metadata": {},
   "source": [
    "## Net policy value\n",
    "\n",
    "The amount needed at time $t$ to cover the shortfall of expected future benefits greater than the EPV of future premiums is called the policy value for the policy at time $t$, denoted $_tV$,\n",
    "\n",
    "$_tV = E[_tL] = EPV_t (\\textsf{future benefits}) - EPV_t (\\textsf{future premiums})$\n",
    "\n",
    "- net policy value at time $t$ is the expected net future loss of benefits less premiums after time $t$\n",
    "\n",
    "$_0V = 0$ \n",
    "- net policy value at issue is 0 because of the equivalence principle\n",
    "\n",
    "$_nV = 0$ \n",
    "- net policy value at year $n$ is 0 for a n-year term insurance\n",
    "\n",
    "$_nV = $ endowment benefit\n",
    "- net policy value at year $n$ is equal to the endowment benefit for a n-year endowment insurance\n",
    "\n",
    "__Shortcuts for whole life and endowment insurance:__ \n",
    "\n",
    "$_tV = b[1 - \\dfrac{\\ddot{a}_{x+t}}{\\ddot{a}_{x}}]$ or $b[\\dfrac{A_{x+t} - A_x}{1 - A_x}]\\space $\n",
    "- net policy value at time $t$ of fully-discrete whole life insurance*\n",
    "\n",
    " \n",
    "$_tV = b[1 - \\dfrac{\\overline{a}_{x+t}}{\\overline{a}_{x}}]$ or $b[\\dfrac{\\overline{A}_{x+t} - \\overline{A}_x}{1 - \\overline{A}_x}] \\space $\n",
    "- net policy value at time $t$ of fully-continuous whole life insurance*\n",
    "\n",
    "*Add $:\\overline{n|}$ to $A$'s and $a$'s for endowment insurance"
   ]
  },
  {
   "attachments": {},
   "cell_type": "markdown",
   "metadata": {},
   "source": [
    "## Gross policy value\n",
    "\n",
    "Gross premium policy values explicitly allow for expenses and for the full gross premium, whereas net premium policy values exclude expenses from cash flows, and only the net premium is counted.\n",
    "\n",
    "\n",
    "$_tV^g = E[_tL^g] = EPV_t (\\textsf{future benefits}) + EPV_t (\\textsf{future expenses}) - EPV_t (\\textsf{future premiums})$\n",
    "\n",
    "- gross policy value at time $t$ is the expected net future loss of benefits and expenses less premiums after time $t$"
   ]
  },
  {
   "attachments": {},
   "cell_type": "markdown",
   "metadata": {},
   "source": [
    "## Variance of future loss\n",
    "\n",
    "These formulas apply to _whole life_ and _endowment insurance_ __only__:\n",
    "\n",
    "__Net future loss__\n",
    "\n",
    "$Var[_tL] = (b + \\dfrac{P}{d})^2~[^{2}A_{x+t:\\overline{n-t|}} - (A_{x+t:\\overline{n-t|}})^2]$\n",
    "- fully discrete endowment insurance*\n",
    "  \n",
    "$Var[_tL] = (b + \\dfrac{P}{\\delta})^2~[^{2}\\overline{A}_{x+t:\\overline{n-t|}} - (\\overline{A}_{x+t:\\overline{n-t|}})^2]$\n",
    "\n",
    "- fully continuous endowment insurance*\n",
    "\n",
    "__Gross future loss__\n",
    "\n",
    "$Var[_tL] = (b + E + \\dfrac{G-e_r}{d})^2~[^{2}A_{x+t:\\overline{n-t|}} - (A_{x+t:\\overline{n-t|}})^2]$\n",
    "\n",
    "- fully discrete endowment insurance*\n",
    " \n",
    "__Shortcuts for variance of net future loss__ \n",
    "\n",
    "When net premiums are set under equivalence principle, these shortcuts are available without explicitly specifying the value of net premiums, again, for _whole life_ and _endowment insurance_ __only__:\n",
    "\n",
    "$Var[_tL] = b^2[\\dfrac{^{2}A_{x+t:\\overline{n-t|}} - (A_{x+t:\\overline{n-t|}})^2}{(1 - A_{x:\\overline{n|}})^2}]$\n",
    "\n",
    "- variance of net future loss for fully-discrete endowment insurance*\n",
    "    \n",
    "$Var[_tL] = b^2[\\dfrac{^{2}\\overline{A}_{x+t:\\overline{n-t|}} - (\\overline{A}_{x+t:\\overline{n-t|}})^2}{(1 - \\overline{A}_{x:\\overline{n|}})^2}]$\n",
    "\n",
    "- variance of net future loss for fully-continuous endowment insurance*\n",
    "\n",
    "*For whole life insurance, remove the $\\overline{:n|}$ and $\\overline{:n-t|}$ notations."
   ]
  },
  {
   "attachments": {},
   "cell_type": "markdown",
   "metadata": {},
   "source": [
    "## Expense reserve\n",
    "\n",
    "$P^e = P^g - P^n$\n",
    "\n",
    "- expense premium (sometimes, expense loading) is defined as the difference of gross premium and net premium\n",
    "\n",
    "$_tV^e = ~_tV^g - ~_tV = EPV_t(\\textsf{future expenses}) -  EPV_t(\\textsf{future expense loadings})$\n",
    "\n",
    "- expense reserves, defined as the difference between gross reserves and net reserves, equals the expected present value of future expenses less the expected present value of future expense loadings (or expense premiums)\n",
    "\n",
    "Generally: \n",
    "- $_tV^e < 0$\n",
    "- $~_tV > ~_tV^g > 0 > ~_tV^e$"
   ]
  },
  {
   "attachments": {},
   "cell_type": "markdown",
   "metadata": {},
   "source": [
    "## Methods\n",
    "\n",
    "The `PolicyValues` class implements methods for computing net and gross future losses, and policy values (expected present values).  The `Contract` class helps to store and retrieve policy contract terms, such as benefit amounts and various expenses.\n"
   ]
  },
  {
   "cell_type": "code",
   "execution_count": 1,
   "metadata": {},
   "outputs": [
    {
     "name": "stdout",
     "output_type": "stream",
     "text": [
      "\n",
      "class PolicyValues - Compute net and gross future losses and policy values\n",
      "\n",
      "    Methods:\n",
      "    --------\n",
      "\n",
      "    net_future_loss(A, A1, b):\n",
      "      Shortcuts for WL or Endowment Insurance net loss\n",
      "\n",
      "    net_variance_loss(A1, A2, A, b):\n",
      "      Shortcuts for variance of net loss of WL or Endowment Insurance\n",
      "\n",
      "    net_policy_variance(x, s, t, b, n, endowment, discrete):\n",
      "      Variance of future loss for WL or Endowment Ins assuming equivalence\n",
      "\n",
      "    gross_future_loss(A, a, contract):\n",
      "      Shortcut for WL or Endowment Insurance gross future loss\n",
      "\n",
      "    gross_policy_variance(x, s, t, n, contract):\n",
      "      Variance of gross policy value for WL and Endowment Insurance\n",
      "\n",
      "    gross_policy_value(x, s, t, n, contract):\n",
      "      Gross policy values for insurance: t_V = E[L_t]\n",
      "\n",
      "    L_from_t(t, contract):\n",
      "      PV of Loss L(t) at time of death t = T_x (or K_x if discrete)\n",
      "\n",
      "    L_to_t(L, contract):\n",
      "      Compute time of death T_x s.t. PV future loss is L\n",
      "\n",
      "    L_from_prob(x, prob, contract):\n",
      "      Compute PV of future loss at given percentile prob\n",
      "\n",
      "    L_to_prob(x, L, contract):\n",
      "      Compute percentile of L on the PV of future loss curve\"\n",
      "\n",
      "    L_plot(x, s, stop, T, contract, ax, title, color):\n",
      "      Plot PV of future loss r.v. L vs time of death T_x\n",
      "\n",
      "\n"
     ]
    }
   ],
   "source": [
    "from actuarialmath.policyvalues import PolicyValues, Contract\n",
    "import describe\n",
    "describe.methods(PolicyValues)"
   ]
  },
  {
   "attachments": {},
   "cell_type": "markdown",
   "metadata": {},
   "source": [
    "## Examples\n",
    "\n"
   ]
  },
  {
   "attachments": {},
   "cell_type": "markdown",
   "metadata": {},
   "source": [
    "__SOA Question 6.24__\n",
    "\n",
    "For a fully continuous whole life insurance of 1 on (x), you are given:\n",
    "\n",
    "- L is the present value of the loss at issue random variable if the premium rate is\n",
    "determined by the equivalence principle\n",
    "- L^* is the present value of the loss at issue random variable if the premium rate is 0.06\n",
    "- $\\delta = 0.07$\n",
    "- $\\overline{A}_x = 0.30$\n",
    "- $Var(L) = 0.18$\n",
    "\n",
    "Calculate $Var(L^*)$."
   ]
  },
  {
   "cell_type": "code",
   "execution_count": 2,
   "metadata": {},
   "outputs": [
    {
     "name": "stdout",
     "output_type": "stream",
     "text": [
      "SOA Question 6.24:  (E) 0.30\n",
      "0.30419999999999975\n"
     ]
    }
   ],
   "source": [
    "print(\"SOA Question 6.24:  (E) 0.30\")\n",
    "life = PolicyValues().set_interest(delta=0.07)\n",
    "x, A1 = 0, 0.30   # Policy for first insurance\n",
    "P = life.premium_equivalence(A=A1, discrete=False)  # Need its premium\n",
    "contract = Contract(premium=P, discrete=False)\n",
    "def fun(A2):  # Solve for A2, given Var(Loss)\n",
    "    return life.gross_variance_loss(A1=A1, A2=A2, contract=contract)\n",
    "A2 = life.solve(fun, target=0.18, grid=0.18)\n",
    "contract = Contract(premium=0.06, discrete=False)     # Solve second insurance\n",
    "variance = life.gross_variance_loss(A1=A1, A2=A2, contract=contract)\n",
    "print(variance)\n"
   ]
  },
  {
   "attachments": {},
   "cell_type": "markdown",
   "metadata": {},
   "source": [
    "__SOA Question 6.30__\n",
    "\n",
    "For a fully discrete whole life insurance of 100 on (x), you are given:\n",
    "- The first year expense is 10% of the gross annual premium\n",
    "- Expenses in subsequent years are 5% of the gross annual premium\n",
    "- The gross premium calculated using the equivalence principle is 2.338\n",
    "- $i = 0.04$\n",
    "- $\\ddot{a}_x = 16.50$\n",
    "- $^2A_x = 0.17$\n",
    "\n",
    "Calculate the variance of the loss at issue random variable."
   ]
  },
  {
   "cell_type": "code",
   "execution_count": 3,
   "metadata": {},
   "outputs": [
    {
     "name": "stdout",
     "output_type": "stream",
     "text": [
      "SOA Question 6.30:  (A) 900\n",
      "908.141412994607\n"
     ]
    }
   ],
   "source": [
    "print(\"SOA Question 6.30:  (A) 900\")\n",
    "life = PolicyValues().set_interest(i=0.04)\n",
    "contract = Contract(premium=2.338, benefit=100, initial_premium=.1,\n",
    "                    renewal_premium=0.05)\n",
    "var = life.gross_variance_loss(A1=life.insurance_twin(16.50),\n",
    "                                A2=0.17, contract=contract)\n",
    "print(var)\n",
    "\n"
   ]
  },
  {
   "attachments": {},
   "cell_type": "markdown",
   "metadata": {},
   "source": [
    "__SOA Question 7.32__\n",
    "\n",
    "For two fully continuous whole life insurance policies on (x), you are given:\n",
    "\n",
    "| | Death Benefit | Annual Premium Rate | Variance of the PV of Future Loss at t |\n",
    "|---|---|---|---|\n",
    "| Policy A | 1 | 0.10 | 0.455 |\n",
    "| Policy B | 2 | 0.16 | - |\n",
    "\n",
    "- $\\delta= 0.06$\n",
    "\n",
    "Calculate the variance of the present value of future loss at $t$ for Policy B."
   ]
  },
  {
   "cell_type": "code",
   "execution_count": 4,
   "metadata": {},
   "outputs": [
    {
     "name": "stdout",
     "output_type": "stream",
     "text": [
      "SOA Question 7.32:  (B) 1.4\n",
      "1.3848168384380901\n"
     ]
    }
   ],
   "source": [
    "print(\"SOA Question 7.32:  (B) 1.4\")\n",
    "life = PolicyValues().set_interest(i=0.06)\n",
    "contract = Contract(benefit=1, premium=0.1)\n",
    "def fun(A2):\n",
    "    return life.gross_variance_loss(A1=0, A2=A2, contract=contract)\n",
    "A2 = life.solve(fun, target=0.455, grid=0.455)\n",
    "contract = Contract(benefit=2, premium=0.16)\n",
    "var = life.gross_variance_loss(A1=0, A2=A2, contract=contract)\n",
    "print(var)"
   ]
  },
  {
   "attachments": {},
   "cell_type": "markdown",
   "metadata": {},
   "source": [
    "__SOA Question 6.12__\n",
    "\n",
    "For a fully discrete whole life insurance of 1000 on (x), you are given:\n",
    "- The following expenses are incurred at the beginning of each year:\n",
    "\n",
    "| | Year 1 | Years 2+ |\n",
    "|---|---|---|\n",
    "| Percent of premium | 75% | 10% |\n",
    "| Maintenance expenses | 10 | 2 |\n",
    "\n",
    "- An additional expense of 20 is paid when the death benefit is paid\n",
    "- The gross premium is determined using the equivalence principle\n",
    "- $i = 0.06$\n",
    "- $\\ddot{a}_x = 12.0$\n",
    "- $^2A_x = 0.14$\n",
    "\n",
    "Calculate the variance of the loss at issue random variable."
   ]
  },
  {
   "cell_type": "code",
   "execution_count": 5,
   "metadata": {},
   "outputs": [
    {
     "name": "stdout",
     "output_type": "stream",
     "text": [
      "SOA Question 6.12:  (E) 88900\n",
      "0.3207547169811321 35.38618830746352\n",
      "88862.59592874818\n"
     ]
    }
   ],
   "source": [
    "print(\"SOA Question 6.12:  (E) 88900\")\n",
    "life = PolicyValues().set_interest(i=0.06)\n",
    "a = 12\n",
    "A = life.insurance_twin(a)\n",
    "contract = Contract(benefit=1000, settlement_policy=20, \n",
    "                    initial_policy=10, initial_premium=0.75, \n",
    "                    renewal_policy=2, renewal_premium=0.1)\n",
    "contract.premium = life.gross_premium(A=A, a=a, **contract.premium_terms)\n",
    "print(A, contract.premium)\n",
    "L = life.gross_variance_loss(A1=A, A2=0.14, contract=contract)\n",
    "print(L)\n",
    "\n"
   ]
  },
  {
   "attachments": {},
   "cell_type": "markdown",
   "metadata": {},
   "source": [
    "__Plot present value of future loss r.v L__:\n",
    "\n",
    "Assume mortality follows Standard Ultimate Life Table. Indicate breakeven lifetime."
   ]
  },
  {
   "cell_type": "code",
   "execution_count": 6,
   "metadata": {},
   "outputs": [
    {
     "data": {
      "text/plain": [
       "-0.000695265147726408"
      ]
     },
     "execution_count": 6,
     "metadata": {},
     "output_type": "execute_result"
    },
    {
     "data": {
      "image/png": "[encoded data removed]",
      "text/plain": [
       "<Figure size 640x480 with 1 Axes>"
      ]
     },
     "metadata": {},
     "output_type": "display_data"
    }
   ],
   "source": [
    "from actuarialmath.sult import SULT\n",
    "life = SULT()\n",
    "x = 20\n",
    "P = life.net_premium(x=x)\n",
    "contract = Contract(premium=P, discrete=True)\n",
    "T = life.L_to_t(L=0, contract=contract)  # breakeven T                            \n",
    "life.L_plot(x=x, T=T, contract=contract)\n"
   ]
  }
 ],
 "metadata": {
  "kernelspec": {
   "display_name": "Python 3.10.5 ('env3.10')",
   "language": "python",
   "name": "python3"
  },
  "language_info": {
   "codemirror_mode": {
    "name": "ipython",
    "version": 3
   },
   "file_extension": ".py",
   "mimetype": "text/x-python",
   "name": "python",
   "nbconvert_exporter": "python",
   "pygments_lexer": "ipython3",
   "version": "3.11.4"
  },
  "orig_nbformat": 4,
  "vscode": {
   "interpreter": {
    "hash": "a53bd658f9a5b7202fd97fcbe4e35965efc28d0eb9d85b0766bd67191bc6202c"
   }
  }
 },
 "nbformat": 4,
 "nbformat_minor": 2
}
