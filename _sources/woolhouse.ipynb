{
 "cells": [
  {
   "attachments": {},
   "cell_type": "markdown",
   "metadata": {},
   "source": [
    "# Woolhouse M'thly\n",
    "\n",
    "Woolhouse's formula is a method of approximating 1/mthly life annuities from annual factors that does not depend on a fractional age assumption. It is based on the Euler-Maclaurin series expansion for the integral of a function.\n",
    "\n",
    "## Life Annuities\n",
    "\n",
    "\n",
    "$\\ddot{a}^{(m)}_{x} \\approx \\ddot{a}_{x} - \\dfrac{m-1}{2m} - \\dfrac{m^2 - 1}{12m^2}(\\mu_x + \\delta)$\n",
    "\n",
    "- 1/m'thly whole life annuity using the three-term Woolhouse approximation.  The third term is often omitted in practice, which leads to poor approximations in some cases.\n",
    "\n",
    "$ \\ddot{a}^{(m)}_{x:\\overline{t|}} \\approx \\ddot{a}^{(m)}_{x} - ~_tE_x ~ \\ddot{a}^{(m)}_{x+t} = \\ddot{a}_{x:\\overline{t|}} - \\dfrac{m-1}{2m}(1 - ~_tE_x) - \\dfrac{m^2 - 1}{12m^2}(\\mu_x + \\delta -~_tE_x(\\mu_{x+t} + \\delta))$\n",
    "\n",
    "- 1/m'thly temporary life annuity from the difference of whole life Woolhouse approximations\n",
    "\n",
    "$\\overline{a}_{x} \\approx \\ddot{a}_{x} - \\dfrac{1}{2} - \\dfrac{1}{12}(\\mu_x + \\delta)$\n",
    "\n",
    "- continuous life annuity with Woolhouse approximation when we let $m \\to \\infty$.\n",
    "\n",
    "\n",
    "$\\mu_x \\approx -\\dfrac{1}{2}(\\ln p_{x-1} + \\ln p_x)$\n",
    "\n",
    "- if the force of mortality $\\mu$ is not provided for the third Woolhouse term, it can be approximated from survival probabilities at integer ages.  \n"
   ]
  },
  {
   "attachments": {},
   "cell_type": "markdown",
   "metadata": {},
   "source": [
    "## Methods\n",
    "\n",
    "\n",
    "Ths `Woolhouse` class implements methods to compute m'thly-pay annuity values using the Woolhouse assumption with either two or three terms."
   ]
  },
  {
   "cell_type": "code",
   "execution_count": 1,
   "metadata": {},
   "outputs": [
    {
     "name": "stdout",
     "output_type": "stream",
     "text": [
      "\n",
      "class Woolhouse - 1/m'thly shortcuts with Woolhouse approximation\n",
      "\n",
      "    Args:\n",
      "      m : number of payments per year\n",
      "      life : original fractional survival and mortality functions\n",
      "      three_term : whether to include (True) or ignore (False) third term\n",
      "      approximate_mu : function to approximate mu_x for third term\n",
      "\n",
      "    Methods:\n",
      "    --------\n",
      "\n",
      "    mu_x(x, s):\n",
      "      Approximates or computes mu_x for third term\n",
      "\n",
      "\n"
     ]
    }
   ],
   "source": [
    "from actuarialmath import Woolhouse, SULT, Recursion, UDD, Contract\n",
    "import describe\n",
    "describe.methods(Woolhouse)"
   ]
  },
  {
   "attachments": {},
   "cell_type": "markdown",
   "metadata": {},
   "source": [
    "## Examples\n"
   ]
  },
  {
   "attachments": {},
   "cell_type": "markdown",
   "metadata": {},
   "source": [
    "__SOA Question 7.7__\n",
    "\n",
    "For a whole life insurance of 10,000 on (x), you are given:\n",
    "- Death benefits are payable at the end of the year of death\n",
    "- A premium of 30 is payable at the start of each month\n",
    "- Commissions are 5% of each premium\n",
    "- Expenses of 100 are payable at the start of each year\n",
    "- $i = 0.05$\n",
    "- $1000 A_{x+10} = 400$\n",
    "- $_{10} V$ is the gross premium policy value at the end of year 10 for this insurance\n",
    "\n",
    "Calculate $_{10} V$ using the two-term Woolhouse formula for annuities."
   ]
  },
  {
   "cell_type": "code",
   "execution_count": 2,
   "metadata": {},
   "outputs": [
    {
     "name": "stdout",
     "output_type": "stream",
     "text": [
      "SOA Question 7.7:  (D) 1110\n",
      " *Whole Life Annuity a_10(t=WL) <--\n",
      "   a_x = (1-A_x) / d                                           ~insurance twin\n",
      "      a_10(t=1) = 1                                 ~one-year discrete annuity\n",
      "      a_11(t=1) = 1                                 ~one-year discrete annuity\n",
      "12.141666666666666\n",
      "5260.0 -4152.028174603174 1107.9718253968258\n"
     ]
    }
   ],
   "source": [
    "print(\"SOA Question 7.7:  (D) 1110\")\n",
    "x = 0\n",
    "life = Recursion().set_interest(i=0.05).set_A(0.4, x=x+10)\n",
    "a = Woolhouse(m=12, life=life).whole_life_annuity(x+10)\n",
    "print(a)\n",
    "contract = Contract(premium=0, benefit=10000, renewal_policy=100)\n",
    "V = life.gross_future_loss(A=0.4, contract=contract.renewals())\n",
    "contract = Contract(premium=30*12, renewal_premium=0.05)\n",
    "V1 = life.gross_future_loss(a=a, contract=contract.renewals())\n",
    "print(V, V1, V+V1)\n"
   ]
  },
  {
   "attachments": {},
   "cell_type": "markdown",
   "metadata": {},
   "source": [
    "__SOA Question 6.25__:\n",
    "\n",
    "For a fully discrete 10-year deferred whole life annuity-due of 1000 per month on (55), you are given:\n",
    "- The premium, $G$, will be paid annually at the beginning of each year during the deferral period\n",
    "- Expenses are expected to be 300 per year for all years, payable at the beginning of the year\n",
    "- Mortality follows the Standard Ultimate Life Table\n",
    "- $i = 0.05$\n",
    "- Using the two-term Woolhouse approximation, the expected loss at issue is -800\n",
    "\n",
    "Calculate $G$."
   ]
  },
  {
   "cell_type": "code",
   "execution_count": 3,
   "metadata": {},
   "outputs": [
    {
     "name": "stdout",
     "output_type": "stream",
     "text": [
      "SOA Question 6.25:  (C) 12330\n",
      "98042.52569470297 8.019169307712845\n",
      "12325.781125438532\n"
     ]
    }
   ],
   "source": [
    "print(\"SOA Question 6.25:  (C) 12330\")\n",
    "life = SULT()\n",
    "woolhouse = Woolhouse(m=12, life=life)\n",
    "benefits = woolhouse.deferred_annuity(55, u=10, b=1000 * 12)\n",
    "expenses = life.whole_life_annuity(55, b=300)\n",
    "payments = life.temporary_annuity(55, t=10)\n",
    "print(benefits + expenses, payments)\n",
    "def fun(G):\n",
    "    return life.gross_future_loss(A=benefits + expenses, a=payments,\n",
    "                                  contract=Contract(premium=G))\n",
    "G = life.solve(fun, target=-800, grid=[12110, 12550])\n",
    "print(G)"
   ]
  },
  {
   "attachments": {},
   "cell_type": "markdown",
   "metadata": {},
   "source": [
    "__SOA Question 6.15__\n",
    "\n",
    "For a fully discrete whole life insurance of 1000 on (x) with net premiums payable quarterly, you are given:\n",
    "- $i = 0.05$\n",
    "- $\\ddot{a}_x = 3.4611$\n",
    "- $P^{(W)}$ and $P^{(UDD)}$ are the annualized net premiums calculated using the 2-term Woolhouse (W) and the uniform distribution of deaths (UDD) assumptions,\n",
    "respectively\n",
    "\n",
    "Calculate $\\dfrac{P^{(UDD)}}{P^{(W)}}$.\n"
   ]
  },
  {
   "cell_type": "code",
   "execution_count": 4,
   "metadata": {},
   "outputs": [
    {
     "name": "stdout",
     "output_type": "stream",
     "text": [
      "SOA Question 6.15:  (B) 1.002\n",
      "1.0022973504113772\n"
     ]
    }
   ],
   "source": [
    "print(\"SOA Question 6.15:  (B) 1.002\")\n",
    "x = 0\n",
    "life = Recursion().set_interest(i=0.05).set_a(3.4611, x=0)\n",
    "A = life.insurance_twin(3.4611)\n",
    "udd = UDD(m=4, life=life)\n",
    "a1 = udd.whole_life_annuity(x=x)\n",
    "woolhouse = Woolhouse(m=4, life=life)\n",
    "a2 = woolhouse.whole_life_annuity(x=x)\n",
    "print(life.gross_premium(a=a1, A=A)/life.gross_premium(a=a2, A=A))\n"
   ]
  },
  {
   "attachments": {},
   "cell_type": "markdown",
   "metadata": {},
   "source": [
    "__SOA Question 5.7__\n",
    "\n",
    "You are given:\n",
    "- $A_{35} = 0.188$\n",
    "- $A_{65} = 0.498$\n",
    "- $_{30}p_{35} = 0.883$\n",
    "- $i = 0.04$\n",
    "\n",
    "Calculate $1000 \\ddot{a}^{(2)}_{35:\\overline{30|}}$ using the two-term Woolhouse approximation."
   ]
  },
  {
   "cell_type": "code",
   "execution_count": 5,
   "metadata": {},
   "outputs": [
    {
     "name": "stdout",
     "output_type": "stream",
     "text": [
      "SOA Question 5.7:  (C) 17376.7\n",
      " *Whole Life Annuity a_35(t=WL) <--\n",
      "   a_x = (1-A_x) / d                                           ~insurance twin\n",
      "      a_35(t=1) = 1                                 ~one-year discrete annuity\n",
      "      a_36(t=1) = 1                                 ~one-year discrete annuity\n",
      " *Whole Life Annuity a_65(t=WL) <--\n",
      "   a_x = (1-A_x) / d                                           ~insurance twin\n",
      "      a_65(t=1) = 1                                 ~one-year discrete annuity\n",
      "      a_66(t=1) = 1                                 ~one-year discrete annuity\n",
      " *Pure Endowment E_35(t=30) <--\n",
      "   E_35(t=30) = p_35(t=30) * v(t=30)                           ~pure endowment\n",
      "17.37671459632958\n",
      " *Whole Life Annuity a_35(t=WL) <--\n",
      "   a_x = (1-A_x) / d                                           ~insurance twin\n",
      "      a_35(t=1) = 1                                 ~one-year discrete annuity\n",
      "      a_36(t=1) = 1                                 ~one-year discrete annuity\n",
      " *Whole Life Annuity a_65(t=WL) <--\n",
      "   a_x = (1-A_x) / d                                           ~insurance twin\n",
      "      a_65(t=1) = 1                                 ~one-year discrete annuity\n",
      "      a_66(t=1) = 1                                 ~one-year discrete annuity\n",
      " *Pure Endowment E_35(t=30) <--\n",
      "   E_35(t=30) = p_35(t=30) * v(t=30)                           ~pure endowment\n",
      "17376.71459632958\n"
     ]
    }
   ],
   "source": [
    "print(\"SOA Question 5.7:  (C) 17376.7\")\n",
    "life = Recursion().set_interest(i=0.04)\n",
    "life.set_A(0.188, x=35)\n",
    "life.set_A(0.498, x=65)\n",
    "life.set_p(0.883, x=35, t=30)\n",
    "mthly = Woolhouse(m=2, life=life, three_term=False)\n",
    "print(mthly.temporary_annuity(35, t=30))\n",
    "print(1000 * mthly.temporary_annuity(35, t=30))\n"
   ]
  }
 ],
 "metadata": {
  "kernelspec": {
   "display_name": "Python 3.10.5 ('env3.10')",
   "language": "python",
   "name": "python3"
  },
  "language_info": {
   "codemirror_mode": {
    "name": "ipython",
    "version": 3
   },
   "file_extension": ".py",
   "mimetype": "text/x-python",
   "name": "python",
   "nbconvert_exporter": "python",
   "pygments_lexer": "ipython3",
   "version": "3.10.11"
  },
  "orig_nbformat": 4,
  "vscode": {
   "interpreter": {
    "hash": "a53bd658f9a5b7202fd97fcbe4e35965efc28d0eb9d85b0766bd67191bc6202c"
   }
  }
 },
 "nbformat": 4,
 "nbformat_minor": 2
}
