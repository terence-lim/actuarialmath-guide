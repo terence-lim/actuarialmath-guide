{
 "cells": [
  {
   "attachments": {},
   "cell_type": "markdown",
   "metadata": {},
   "source": [
    "# Reserves\n",
    "\n",
    "The term reserves is sometimes used in place of policy values. AMLCR uses policy value to mean the expected value of the future loss random variable, and restricts reserve to mean the actual capital held in respect of a policy, which may be\n",
    "greater than or less than the policy value.\n",
    "\n",
    "## Recursion\n",
    "\n",
    "The following recursive formulae relating $_tV$ to $_{t+1}V$ for policy values can be derived for policies with discrete cash flows. \n",
    "\n",
    "__Gross reserves__\n",
    "\n",
    "$( _tV^g + G - e)(1 + i) = q_{x+t} ~ (b + E) + p_{x+t} ~ _{t+1}V^g$\n",
    "\n",
    "- recursion for gross reserves\n",
    "\n",
    "__Expense reserves__\n",
    "\n",
    "$( _tV^e + P^e - e)(1 + i) = q_{x+t} ~ E + p_{x+t} ~ _{t+1}V^e$\n",
    "\n",
    "- recursion for expense reserves\n",
    "\n",
    "__Net reserves__\n",
    "\n",
    "$( _tV + P)(1 + i) = q_{x+t} ~ b + p_{x+t} ~ _{t+1}V$\n",
    "\n",
    "- recursion for net reserves\n",
    "\n",
    "__Refund of benefit reserve__\n",
    "\n",
    "$( _tV + P)(1 + i) = q_{x+t} ~ (b +~ _{t+1}V) + p_{x+t} ~ _{t+1}V$\n",
    "\n",
    "- if reserves are also refunded after death, then the end-of-year value reserves should be added to death benefits in the reserves recursion formula\n",
    "\n"
   ]
  },
  {
   "attachments": {},
   "cell_type": "markdown",
   "metadata": {},
   "source": [
    "\n",
    "## Interim reserves\n",
    "\n",
    "Recursive formulae for interim reserves $_{t+r}V$ where $0 \\le r \\le 1$ can be similarly obtained.  These compute the reserve for fully discrete annual-premium insurances in the middle of the year.\n",
    "\n",
    "$( _tV + P)(1 + i)^r =~ _rq_{x+t} ~ b ~ v^{1-r} + ~_rp_{x+t} ~ _{t+r}V$\n",
    "\n",
    "- forward recursion for interim net reserves\n",
    "\n",
    "$_{t+r}V ~ (1 + i)^{1-r} =~  _{1-r}q_{x+t+r} ~ b + ~_{1-r}p_{x+t+r} ~ _{t+1}V$\n",
    "\n",
    "- backward recursion for interim net reserves"
   ]
  },
  {
   "attachments": {},
   "cell_type": "markdown",
   "metadata": {},
   "source": [
    "\n",
    "## Modified reserves\n",
    "\n",
    "Because acquisition expenses are large relative to the renewal and claims expenses, accounting with level net premiums typically results in large negative values for expense reserves (called deferred acquisition costs or DAC) particularly at issue. Modified premium reserves are computed without expenses, and modifies the net premium method to assume a lower initial net premium that allow implicitly for the DAC.\n",
    "\n",
    "\n",
    "__Full Preliminary Term__\n",
    "\n",
    "FPT is the most common method for modifying net premium policy value. It treats the insurance policy as one-year term insurance combined with a policy as if it were issued one year later.\n",
    "\n",
    "$\\alpha = A^{1}_{x:\\overline{1|}} = v ~ q_x$\n",
    "\n",
    "- initial FPT premium\n",
    "\n",
    "$\\beta = \\dfrac{A_{x+1}}{\\ddot{a}_{x+1}}$\n",
    "\n",
    "- renewal FPT premium \n",
    "\n",
    "$_0V^{FPT} ~ = ~ _1V^{FPT} ~ = 0$\n",
    "\n",
    "- since renewal premium set year 1 policy value to 0, while initial premium set to equal year 1 expected benefits.\n",
    "\n",
    "$_tV^{FPT}$ for $(x) ~= ~ _{t-1}V$ for $(x+1)$\n",
    "- since renewal FPT premium for (x) is net premium for (x+1) with term lengths adjusted\n"
   ]
  },
  {
   "attachments": {},
   "cell_type": "markdown",
   "metadata": {},
   "source": [
    "## Methods\n",
    "\n",
    "\n",
    "The `Reserves` class implements methods to solve reserves by recursion, and compute interim and modified reserves."
   ]
  },
  {
   "cell_type": "code",
   "execution_count": 1,
   "metadata": {},
   "outputs": [
    {
     "name": "stdout",
     "output_type": "stream",
     "text": [
      "\n",
      "class Reserves - Compute recursive, interim or modified reserves\n",
      "\n",
      "    Methods:\n",
      "    --------\n",
      "\n",
      "    set_reserves(T, endowment, V):\n",
      "      Set values of the reserves table and the endowment benefit amount\n",
      "\n",
      "    fill_reserves(x, s, reserve_benefit, contract):\n",
      "      Iteratively fill in missing values in reserves table\n",
      "\n",
      "    t_V_forward(x, s, t, premium, benefit, per_premium, per_policy, reserve_benefit):\n",
      "      Forward recursion (with optional reserve benefit)\n",
      "\n",
      "    t_V_backward(x, s, t, premium, benefit, per_premium, per_policy, reserve_benefit):\n",
      "      Backward recursion (with optional reserve benefit)\n",
      "\n",
      "    t_V(x, s, t, premium, benefit, reserve_benefit, per_premium, per_policy):\n",
      "      Solve year-t reserves by forward or backward recursion\n",
      "\n",
      "    r_V_forward(x, s, r, premium, benefit):\n",
      "      Forward recursion for interim reserves\n",
      "\n",
      "    r_V_backward(x, s, r, benefit):\n",
      "      Backward recursion for interim reserves\n",
      "\n",
      "    FPT_premium(x, s, n, b, first):\n",
      "      Initial or renewal Full Preliminary Term premiums\n",
      "\n",
      "    FPT_policy_value(x, s, t, b, n, endowment, discrete):\n",
      "      Compute Full Preliminary Term policy value at time t\n",
      "\n",
      "    V_plot(ax, color, title):\n",
      "      Plot values from reserves tables\n",
      "\n",
      "    reserves_frame():\n",
      "      Returns reserves table as a DataFrame\n",
      "\n",
      "\n"
     ]
    }
   ],
   "source": [
    "from actuarialmath import Reserves, Contract\n",
    "import describe\n",
    "describe.methods(Reserves)"
   ]
  },
  {
   "attachments": {},
   "cell_type": "markdown",
   "metadata": {},
   "source": [
    "## Examples\n"
   ]
  },
  {
   "cell_type": "markdown",
   "metadata": {},
   "source": [
    "The `FPT_premium` and `FPT_policy_value` methods compute the Full Preliminary Term premiums and policy values for whole life, temporary and endowment insurances."
   ]
  },
  {
   "cell_type": "code",
   "execution_count": 2,
   "metadata": {},
   "outputs": [
    {
     "name": "stdout",
     "output_type": "stream",
     "text": [
      "Level Net Premium: 2.465109289578718\n",
      "FPT premiums:      0.2377514556176763 2.582546365777722\n",
      "FPT policy values: [0, 0, 2.459, 5.0374, 7.7409]\n"
     ]
    }
   ],
   "source": [
    "import math\n",
    "def S(x, s, t):  # define a survival function\n",
    "    return math.exp(-.00022*t - (.0000027*1.124**(x+s)*(1.124**t-1))/math.log(1.124))\n",
    "life = Reserves().set_survival(S=S, minage=20, maxage=130)\\\n",
    "                  .set_interest(i=0.05)\n",
    "P = life.net_premium(x=20, b=1000)\n",
    "print('Level Net Premium:', P)\n",
    "print('FPT premiums:     ',\n",
    "      life.FPT_premium(x=20, b=1000, first=True), \n",
    "      life.FPT_premium(x=20, b=1000, first=False))\n",
    "print('FPT policy values:', \n",
    "      [round(life.FPT_policy_value(x=20, b=1000, t=t), 4) for t in range(5)])\n"
   ]
  },
  {
   "cell_type": "markdown",
   "metadata": {},
   "source": [
    "The `set_reserves` method is called to load given values of reserves into an internal table, and then `fill_reserves` method can be called to iteratively fill in missing values. Internally, this calls the `t_V` method which attempts both the `t_V_forward` and `t_V_backward` methods that implement the recursion formula forwards and backwards respectively. Interim reserves recursion formulas for fractional durations are similarly implemented in the `r_V_forward` and `r_V_backward` methods. Values of reserves over time can be plotted with `V_plot` or displayed with the `reserves_frame` methods."
   ]
  },
  {
   "attachments": {},
   "cell_type": "markdown",
   "metadata": {},
   "source": [
    "__SOA Question 7.31__\n",
    "\n",
    "For a fully discrete 3-year endowment insurance of 1000 on (x), you are given:\n",
    "-  Expenses, payable at the beginning of the year, are:\n",
    "\n",
    "| Year(s) | Percent of Premium | Per Policy |\n",
    "|---|---|---|\n",
    "| 1 | 20% | 15 |\n",
    "| 2 and 3 | 8% | 5 |\n",
    "\n",
    "- The expense reserve at the end of year 2 is –23.64\n",
    "- The gross annual premium calculated using the equivalence principle is G = 368.\n",
    "- $G = 1000 P_{x:\\overline{3|}} + P^e$ , where $P^e$ is the expense loading\n",
    "\n",
    "Calculate $P_{x:\\overline{3|}}$ ."
   ]
  },
  {
   "cell_type": "code",
   "execution_count": 3,
   "metadata": {},
   "outputs": [
    {
     "name": "stdout",
     "output_type": "stream",
     "text": [
      "SOA Question 7.31:  (E) 0.310\n",
      "0.309966\n"
     ]
    }
   ],
   "source": [
    "print(\"SOA Question 7.31:  (E) 0.310\")\n",
    "x = 0\n",
    "life = Reserves().set_reserves(T=3)\n",
    "G = 368.05\n",
    "def fun(P):  # solve net premium from expense reserve equation\n",
    "    return life.t_V(x=x, t=2, premium=G-P, benefit=lambda t: 0, \n",
    "                    per_policy=5 + .08*G)\n",
    "P = life.solve(fun, target=-23.64, grid=[.29, .31]) / 1000\n",
    "print(P)"
   ]
  },
  {
   "attachments": {},
   "cell_type": "markdown",
   "metadata": {},
   "source": [
    "__AMLCR2 Figure 7.4__:\n",
    "\n",
    "Policy values for each year of a 20-year term insurance, sum insured $500,000, issued to (50). Mortality follows the Standard Ultimate Life Table (note AMLCR2 used Standard Select Table), with interest rate $i=0.05$."
   ]
  },
  {
   "cell_type": "code",
   "execution_count": 4,
   "metadata": {},
   "outputs": [
    {
     "data": {
      "image/png": "[encoded data removed]",
      "text/plain": [
       "<Figure size 640x480 with 1 Axes>"
      ]
     },
     "metadata": {},
     "output_type": "display_data"
    }
   ],
   "source": [
    "from actuarialmath.sult import SULT\n",
    "life = SULT()\n",
    "x, T, b = 50, 20, 500000    # $500K 20-year term insurance for (50)               \n",
    "P = life.net_premium(x=x, t=T, b=b)\n",
    "life.set_reserves(T=T)\\\n",
    "    .fill_reserves(x=x, contract=Contract(premium=P, benefit=b))\n",
    "life.V_plot(title=f\"Reserves for ${b} {T}-year term insurance issued to ({x})\")"
   ]
  },
  {
   "attachments": {},
   "cell_type": "markdown",
   "metadata": {},
   "source": [
    "__AMLCR2 Figure 7.3__:\n",
    "\n",
    "Policy values for each year of a 20-year endowment insurance, sum insured $500,000, issued to (50). Mortality follows the Standard Ultimate Life Table (note AMLCR2 used Standard Select Table), with interest rate $i=0.05$."
   ]
  },
  {
   "cell_type": "code",
   "execution_count": 5,
   "metadata": {},
   "outputs": [
    {
     "data": {
      "image/png": "[encoded data removed]",
      "text/plain": [
       "<Figure size 640x480 with 1 Axes>"
      ]
     },
     "metadata": {},
     "output_type": "display_data"
    }
   ],
   "source": [
    "from actuarialmath.sult import SULT\n",
    "life = SULT()\n",
    "x, T, b = 50, 20, 500000    # $500K 20-year term insurance for (50)               \n",
    "P = life.net_premium(x=x, t=T, b=b, endowment=b)\n",
    "life.set_reserves(T=T)\\\n",
    "    .fill_reserves(x=x, contract=Contract(premium=P, benefit=b, endowment=b))\n",
    "life.V_plot(title=f\"Reserves for ${b} {T}-year endowment insurance issued to ({x})\")"
   ]
  }
 ],
 "metadata": {
  "kernelspec": {
   "display_name": "Python 3.10.5 ('env3.10')",
   "language": "python",
   "name": "python3"
  },
  "language_info": {
   "codemirror_mode": {
    "name": "ipython",
    "version": 3
   },
   "file_extension": ".py",
   "mimetype": "text/x-python",
   "name": "python",
   "nbconvert_exporter": "python",
   "pygments_lexer": "ipython3",
   "version": "3.11.4"
  },
  "orig_nbformat": 4,
  "vscode": {
   "interpreter": {
    "hash": "a53bd658f9a5b7202fd97fcbe4e35965efc28d0eb9d85b0766bd67191bc6202c"
   }
  }
 },
 "nbformat": 4,
 "nbformat_minor": 2
}
