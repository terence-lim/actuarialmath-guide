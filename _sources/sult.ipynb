{
 "cells": [
  {
   "attachments": {},
   "cell_type": "markdown",
   "metadata": {},
   "source": [
    "# SULT\n",
    "\n",
    "## Standard ultimate life table\n",
    "\n",
    "- interest rate $i=0.05$\n",
    "- 100000 initial lives aged 20\n",
    "- Makeham's Law with $A = 0.00022,~ B = 0.0000027, ~ c = 1.124$\n",
    "\n",
    "Source: SOA's \"Excel Workbook for FAM-L Tables\"\n",
    "\n",
    "## Pure endowment\n",
    "\n",
    "$_tE_x = v^t ~ \\dfrac{l_{x+t}}{l_x}$\n",
    "\n",
    "${^2_t}E_x = v^{2t} ~ \\dfrac{l_{x+t}}{l_x} = v^t ~ _tE_x$\n",
    "\n",
    "## Temporary Annuity\n",
    "\n",
    "$A^ {1}_{x:\\overline{t|}} = A_x - ~_tE_x ~ A_{x+t} = A_{x:\\overline{t|}} - ~_tE_x$\n",
    "\n",
    "${^2}A^ {1}_{x:\\overline{t|}} = {^2}A_x - ~{^2_t}E_x ~ {^2}A_{x+t} = {^2}A_x - ~v^{t} ~ _tE_x ~ {^2}A_{x+t}$\n"
   ]
  },
  {
   "attachments": {},
   "cell_type": "markdown",
   "metadata": {},
   "source": [
    "## Methods\n",
    "\n",
    "\n",
    "The `SULT` class generates and uses the standard ultimate life table, which is constructed, by default, from Makeham's Law and parameters in SOA's \"Excel Workbook for FAM-L Tables\""
   ]
  },
  {
   "cell_type": "code",
   "execution_count": 1,
   "metadata": {},
   "outputs": [
    {
     "name": "stdout",
     "output_type": "stream",
     "text": [
      "\n",
      "class SULT - Generates and uses a standard ultimate life table\n",
      "\n",
      "    Args:\n",
      "      i : interest rate\n",
      "      radix : initial number of lives\n",
      "      minage : minimum age\n",
      "      maxage : maximum age\n",
      "      S : survival function, default is Makeham with SOA FAM-L parameters\n",
      "\n",
      "    Methods:\n",
      "    --------\n",
      "\n",
      "    frame(minage, maxage):\n",
      "      Derive FAM-L exam table columns of SULT as a DataFrame\n",
      "\n",
      "    __getitem__(col):\n",
      "      Returns a column of the sult table\n",
      "\n",
      "\n"
     ]
    }
   ],
   "source": [
    "import math\n",
    "from actuarialmath import SULT\n",
    "import describe\n",
    "describe.methods(SULT)"
   ]
  },
  {
   "attachments": {},
   "cell_type": "markdown",
   "metadata": {},
   "source": [
    "## Examples\n",
    "\n"
   ]
  },
  {
   "attachments": {},
   "cell_type": "markdown",
   "metadata": {},
   "source": [
    "__SOA Question 6.52__\n",
    "\n",
    "For a fully discrete 10-payment whole life insurance of H on (45), you are given:\n",
    "- Expenses payable at the beginning of each year are as follows:\n",
    "\n",
    "| Expense Type | First Year | Years 2-10 | Years 11+ |\n",
    "|---|---|---|---|\n",
    "| Per policy | 100 | 20 | 10 |\n",
    "| % of Premium |105% | 5% | 0% |\n",
    "\n",
    "- Mortality follows the Standard Ultimate Life Table\n",
    "- i = 0.05\n",
    "- The gross annual premium, calculated using the equivalence principle, is of the form $G = gH + f$, where $g$ is the premium rate per 1 of insurance and $f$ is the per policy fee\n",
    "\n",
    "Calculate $f$."
   ]
  },
  {
   "cell_type": "code",
   "execution_count": 2,
   "metadata": {},
   "outputs": [
    {
     "name": "stdout",
     "output_type": "stream",
     "text": [
      "SOA Question 6.52:  (D) 50.80\n",
      "8.0750937741422 50.80135534704229\n"
     ]
    }
   ],
   "source": [
    "print(\"SOA Question 6.52:  (D) 50.80\")\n",
    "sult = SULT()\n",
    "a = sult.temporary_annuity(45, t=10)\n",
    "other_cost = 10 * sult.deferred_annuity(45, u=10)\n",
    "P = sult.gross_premium(a=a, \n",
    "                       A=0, \n",
    "                       benefit=0, \n",
    "                       initial_premium=1.05, \n",
    "                       renewal_premium=0.05,\n",
    "                       initial_policy=100 + other_cost, \n",
    "                       renewal_policy=20)\n",
    "print(a, P)\n"
   ]
  },
  {
   "attachments": {},
   "cell_type": "markdown",
   "metadata": {},
   "source": [
    "__SOA Question 6.47__\n",
    "\n",
    "For a 10-year deferred whole life annuity-due with payments of 100,000 per year on (70), you are given:\n",
    "- Annual gross premiums of $G$ are payable for 10 years\n",
    "- First year expenses are 75% of premium\n",
    "- Renewal expenses for years 2 and later are 5% of premium during the premium paying period\n",
    "- Mortality follows the Standard Ultimate Life Table\n",
    "- i = 0.05\n",
    "\n",
    "Calculate $G$ using the equivalence principle."
   ]
  },
  {
   "cell_type": "code",
   "execution_count": 3,
   "metadata": {},
   "outputs": [
    {
     "name": "stdout",
     "output_type": "stream",
     "text": [
      "SOA Question 6.47:  (D) 66400\n",
      "66384.13293704337\n"
     ]
    }
   ],
   "source": [
    "print(\"SOA Question 6.47:  (D) 66400\")\n",
    "sult = SULT()\n",
    "a = sult.temporary_annuity(70, t=10)\n",
    "A = sult.deferred_annuity(70, u=10)\n",
    "P = sult.gross_premium(a=a, A=A, benefit=100000, initial_premium=0.75,\n",
    "                        renewal_premium=0.05)\n",
    "print(P)\n"
   ]
  },
  {
   "attachments": {},
   "cell_type": "markdown",
   "metadata": {},
   "source": [
    "__SOA Question 6.43__\n",
    "\n",
    "For a fully discrete, 5-payment 10-year term insurance of 200,000 on (30), you are given:\n",
    "- Mortality follows the Standard Ultimate Life Table\n",
    "- The following expenses are incurred at the beginning of each respective year:\n",
    "\n",
    "| | Percent of Premium | Per Policy | Percent of Premium | Per Policy |\n",
    "|---|---|---|---|---|\n",
    "| | Year 1 | Year 1 | Years 2 - 10 | Years 2 - 10 |\n",
    "| Taxes | 5% | 0 | 5% | 0 |\n",
    "| Commissions | 30% | 0 | 10% | 0 |\n",
    "| Maintenance | 0% | 8 | 0% | 4 |\n",
    "\n",
    "- i = 0.05\n",
    "- $\\ddot{a}_{30:\\overline{5|}} = 4.5431$\n",
    "\n",
    "Calculate the annual gross premium using the equivalence principle."
   ]
  },
  {
   "cell_type": "code",
   "execution_count": 4,
   "metadata": {},
   "outputs": [
    {
     "name": "stdout",
     "output_type": "stream",
     "text": [
      "SOA Question 6.43:  (C) 170\n",
      "171.22371939459944\n"
     ]
    }
   ],
   "source": [
    "print(\"SOA Question 6.43:  (C) 170\")\n",
    "sult = SULT()\n",
    "a = sult.temporary_annuity(30, t=5)\n",
    "A = sult.term_insurance(30, t=10)\n",
    "other_expenses = 4 * sult.deferred_annuity(30, u=5, t=5)\n",
    "P = sult.gross_premium(a=a, A=A, benefit=200000, initial_premium=0.35,\n",
    "                        initial_policy=8 + other_expenses, renewal_policy=4,\n",
    "                        renewal_premium=0.15)\n",
    "print(P)\n"
   ]
  },
  {
   "attachments": {},
   "cell_type": "markdown",
   "metadata": {},
   "source": [
    "__SOA Question 6.39__\n",
    "\n",
    "XYZ Insurance writes 10,000 fully discrete whole life insurance policies of 1000 on lives age 40 and an additional 10,000 fully discrete whole life policies of 1000 on lives age 80.\n",
    "\n",
    "XYZ used the following assumptions to determine the net premiums for these policies:\n",
    "\n",
    "- Mortality follows the Standard Ultimate Life Table\n",
    "- i = 0.05\n",
    "\n",
    "During the first ten years, mortality did follow the Standard Ultimate Life Table.\n",
    "\n",
    "Calculate the average net premium per policy in force received at the beginning of the eleventh year."
   ]
  },
  {
   "cell_type": "code",
   "execution_count": 5,
   "metadata": {},
   "outputs": [
    {
     "name": "stdout",
     "output_type": "stream",
     "text": [
      "SOA Question 6.39:  (A) 29\n",
      "29.033866427845496\n"
     ]
    }
   ],
   "source": [
    "print(\"SOA Question 6.39:  (A) 29\")\n",
    "sult = SULT()\n",
    "P40 = sult.premium_equivalence(sult.whole_life_insurance(40), b=1000)\n",
    "P80 = sult.premium_equivalence(sult.whole_life_insurance(80), b=1000)\n",
    "p40 = sult.p_x(40, t=10)\n",
    "p80 = sult.p_x(80, t=10)\n",
    "P = (P40 * p40 + P80 * p80) / (p80 + p40)\n",
    "print(P)\n"
   ]
  },
  {
   "attachments": {},
   "cell_type": "markdown",
   "metadata": {},
   "source": [
    "__SOA Question 6.37__\n",
    "\n",
    "For a fully discrete whole life insurance policy of 50,000 on (35), with premiums payable for a maximum of 10 years, you are given:\n",
    "\n",
    "- Expenses of 100 are payable at the end of each year including the year of death\n",
    "- Mortality follows the Standard Ultimate Life Table\n",
    "- i = 0.05\n",
    "\n",
    "Calculate the annual gross premium using the equivalence principle."
   ]
  },
  {
   "cell_type": "code",
   "execution_count": 6,
   "metadata": {},
   "outputs": [
    {
     "name": "stdout",
     "output_type": "stream",
     "text": [
      "SOA Question 6.37:  (D) 820\n",
      "4836.382819496279 1797.2773668474615 8.092602358383987\n",
      "819.7190338249138\n"
     ]
    }
   ],
   "source": [
    "print(\"SOA Question 6.37:  (D) 820\")\n",
    "sult = SULT()\n",
    "benefits = sult.whole_life_insurance(35, b=50000 + 100)\n",
    "expenses = sult.immediate_annuity(35, b=100)\n",
    "a = sult.temporary_annuity(35, t=10)\n",
    "print(benefits, expenses, a)\n",
    "print((benefits + expenses) / a)\n"
   ]
  },
  {
   "attachments": {},
   "cell_type": "markdown",
   "metadata": {},
   "source": [
    "__SOA Question 6.35__\n",
    "\n",
    "For a fully discrete whole life insurance policy of 100,000 on (35), you are given:\n",
    "- First year commissions are 19% of the annual gross premium\n",
    "- Renewal year commissions are 4% of the annual gross premium\n",
    "- Mortality follows the Standard Ultimate Life Table\n",
    "- i = 0.05\n",
    "\n",
    "Calculate the annual gross premium for this policy using the equivalence principle."
   ]
  },
  {
   "cell_type": "code",
   "execution_count": 7,
   "metadata": {},
   "outputs": [
    {
     "name": "stdout",
     "output_type": "stream",
     "text": [
      "SOA Question 6.35:  (D) 530\n",
      "534.4072234303344\n"
     ]
    }
   ],
   "source": [
    "print(\"SOA Question 6.35:  (D) 530\")\n",
    "sult = SULT()\n",
    "A = sult.whole_life_insurance(35, b=100000)\n",
    "a = sult.whole_life_annuity(35)\n",
    "print(sult.gross_premium(a=a, A=A, initial_premium=.19, renewal_premium=.04))\n"
   ]
  },
  {
   "attachments": {},
   "cell_type": "markdown",
   "metadata": {},
   "source": [
    "__SOA Question 5.8__\n",
    "\n",
    "For an annual whole life annuity-due of 1 with a 5-year certain period on (55), you are given:\n",
    "- Mortality follows the Standard Ultimate Life Table\n",
    "- i = 0.05\n",
    "\n",
    "Calculate the probability that the sum of the undiscounted payments actually made under this annuity will exceed the expected present value, at issue, of the annuity."
   ]
  },
  {
   "cell_type": "code",
   "execution_count": 8,
   "metadata": {},
   "outputs": [
    {
     "name": "stdout",
     "output_type": "stream",
     "text": [
      "SOA Question 5.8: (C) 0.92118\n",
      "0.9211799771029529\n"
     ]
    }
   ],
   "source": [
    "print(\"SOA Question 5.8: (C) 0.92118\")\n",
    "sult = SULT()\n",
    "a = sult.certain_life_annuity(55, u=5)\n",
    "print(sult.p_x(55, t=math.floor(a)))\n"
   ]
  },
  {
   "attachments": {},
   "cell_type": "markdown",
   "metadata": {},
   "source": [
    "__SOA Question 5.3__\n",
    "\n",
    "You are given:\n",
    "\n",
    "- Mortality follows the Standard Ultimate Life Table\n",
    "- Deaths are uniformly distributed over each year of age\n",
    "- i = 0.05\n",
    "\n",
    "Calculate\n",
    "$\\frac{d}{dt}(\\overline{I}\\overline{a})_{40:\\overline{t|}}$ at $t = 10.5$."
   ]
  },
  {
   "cell_type": "code",
   "execution_count": 9,
   "metadata": {},
   "outputs": [
    {
     "name": "stdout",
     "output_type": "stream",
     "text": [
      "SOA Question 5.3:  (C) 6.239\n",
      "6.23871918627528\n"
     ]
    }
   ],
   "source": [
    "print(\"SOA Question 5.3:  (C) 6.239\")\n",
    "sult = SULT()\n",
    "t = 10.5\n",
    "print(t * sult.E_r(40, t=t))\n"
   ]
  },
  {
   "attachments": {},
   "cell_type": "markdown",
   "metadata": {},
   "source": [
    "__SOA Question 4.17__\n",
    "\n",
    "For a special whole life policy on (48), you are given:\n",
    "\n",
    "- The policy pays 5000 if the insured’s death is before the median curtate future\n",
    "lifetime at issue and 10,000 if death is after the median curtate future lifetime at issue\n",
    "- Mortality follows the Standard Ultimate Life Table\n",
    "- Death benefits are paid at the end of the year of death\n",
    "- i = 0.05\n",
    "\n",
    "Calculate the actuarial present value of benefits for this policy."
   ]
  },
  {
   "cell_type": "code",
   "execution_count": 10,
   "metadata": {},
   "outputs": [
    {
     "name": "stdout",
     "output_type": "stream",
     "text": [
      "SOA Question 4.17:  (A) 1126.7\n",
      "1126.774772894844\n"
     ]
    }
   ],
   "source": [
    "print(\"SOA Question 4.17:  (A) 1126.7\")\n",
    "sult = SULT()\n",
    "median = sult.Z_t(48, prob=0.5, discrete=False)\n",
    "benefit = lambda x,t: 5000 if t < median else 10000\n",
    "print(sult.A_x(48, benefit=benefit))\n"
   ]
  },
  {
   "attachments": {},
   "cell_type": "markdown",
   "metadata": {},
   "source": [
    "__SOA Question 4.14__\n",
    "\n",
    "A fund is established for the benefit of 400 workers all age 60 with independent future lifetimes. When they reach age 85, the fund will be dissolved and distributed to the survivors.\n",
    "\n",
    "The fund will earn interest at a rate of 5% per year.\n",
    "\n",
    "The initial fund balance, $F$, is determined so that the probability that the fund will pay at least 5000 to each survivor is 86%, using the normal approximation.\n",
    "\n",
    "Mortality follows the Standard Ultimate Life Table.\n",
    "\n",
    "Calculate $F$."
   ]
  },
  {
   "cell_type": "code",
   "execution_count": 11,
   "metadata": {},
   "outputs": [
    {
     "name": "stdout",
     "output_type": "stream",
     "text": [
      "SOA Question 4.14:  (E) 390000    \n",
      "389322.86778416135\n"
     ]
    }
   ],
   "source": [
    "print(\"SOA Question 4.14:  (E) 390000    \")\n",
    "sult = SULT()\n",
    "p = sult.p_x(60, t=85-60)\n",
    "mean = sult.bernoulli(p)\n",
    "var = sult.bernoulli(p, variance=True)\n",
    "F = sult.portfolio_percentile(mean=mean, variance=var, prob=.86, N=400)\n",
    "print(F * 5000 * sult.interest.v_t(85-60))\n"
   ]
  },
  {
   "attachments": {},
   "cell_type": "markdown",
   "metadata": {},
   "source": [
    "__SOA Question 4.5__\n",
    "\n",
    "For a 30-year term life insurance of 100,000 on (45), you are given:\n",
    "- The death benefit is payable at the moment of death\n",
    "- Mortality follows the Standard Ultimate Life Table\n",
    "- $\\delta = 0.05$\n",
    "- Deaths are uniformly distributed over each year of age\n",
    "\n",
    "Calculate the 95th percentile of the present value of benefits random variable for this insurance"
   ]
  },
  {
   "cell_type": "code",
   "execution_count": 12,
   "metadata": {},
   "outputs": [
    {
     "name": "stdout",
     "output_type": "stream",
     "text": [
      "SOA Question 4.5:  (C) 35200\n",
      "35187.952037196534\n"
     ]
    }
   ],
   "source": [
    "print(\"SOA Question 4.5:  (C) 35200\")\n",
    "sult = SULT(udd=True).set_interest(delta=0.05)\n",
    "Z = 100000 * sult.Z_from_prob(45, prob=0.95, discrete=False)\n",
    "print(Z)"
   ]
  },
  {
   "attachments": {},
   "cell_type": "markdown",
   "metadata": {},
   "source": [
    "__SOA Question 3.9__\n",
    "\n",
    "A father-son club has 4000 members, 2000 of which are age 20 and the other 2000 are age 45. In 25 years, the members of the club intend to hold a reunion.\n",
    "You are given:\n",
    "- All lives have independent future lifetimes.\n",
    "- Mortality follows the Standard Ultimate Life Table.\n",
    "\n",
    "Using the normal approximation, without the continuity correction, calculate the 99th percentile of the number of surviving members at the time of the reunion."
   ]
  },
  {
   "cell_type": "code",
   "execution_count": 13,
   "metadata": {},
   "outputs": [
    {
     "name": "stdout",
     "output_type": "stream",
     "text": [
      "SOA Question 3.9:  (E) 3850\n",
      "3850.144345130047\n"
     ]
    }
   ],
   "source": [
    "print(\"SOA Question 3.9:  (E) 3850\")\n",
    "sult = SULT()\n",
    "p1 = sult.p_x(20, t=25)\n",
    "p2 = sult.p_x(45, t=25)\n",
    "mean = sult.bernoulli(p1) * 2000 + sult.bernoulli(p2) * 2000\n",
    "var = (sult.bernoulli(p1, variance=True) * 2000 \n",
    "        + sult.bernoulli(p2, variance=True) * 2000)\n",
    "print(sult.portfolio_percentile(mean=mean, variance=var, prob=.99))\n"
   ]
  },
  {
   "attachments": {},
   "cell_type": "markdown",
   "metadata": {},
   "source": [
    "__SOA Question 3.8__\n",
    "\n",
    "A club is established with 2000 members, 1000 of exact age 35 and 1000 of exact age 45. You are given:\n",
    "- Mortality follows the Standard Ultimate Life Table\n",
    "- Future lifetimes are independent\n",
    "- N is the random variable for the number of members still alive 40 years after the club is established\n",
    "\n",
    "Using the normal approximation, without the continuity correction, calculate the smallest $n$ such that $Pr( N \\ge n ) \\le 0.05$."
   ]
  },
  {
   "cell_type": "code",
   "execution_count": 14,
   "metadata": {},
   "outputs": [
    {
     "name": "stdout",
     "output_type": "stream",
     "text": [
      "SOA Question 3.8:  (B) 1505\n",
      "1504.8328375406456\n"
     ]
    }
   ],
   "source": [
    "print(\"SOA Question 3.8:  (B) 1505\")\n",
    "sult = SULT()\n",
    "p1 = sult.p_x(35, t=40)\n",
    "p2 = sult.p_x(45, t=40)\n",
    "mean = sult.bernoulli(p1) * 1000 + sult.bernoulli(p2) * 1000\n",
    "var = (sult.bernoulli(p1, variance=True) * 1000 \n",
    "        + sult.bernoulli(p2, variance=True) * 1000)\n",
    "print(sult.portfolio_percentile(mean=mean, variance=var, prob=.95))\n"
   ]
  },
  {
   "attachments": {},
   "cell_type": "markdown",
   "metadata": {},
   "source": [
    "__SOA Question 3.4__\n",
    "\n",
    "The SULT Club has 4000 members all age 25 with independent future lifetimes. The\n",
    "mortality for each member follows the Standard Ultimate Life Table.\n",
    "\n",
    "Calculate the largest integer N, using the normal approximation, such that the probability that there are at least N survivors at age 95 is at least 90%."
   ]
  },
  {
   "cell_type": "code",
   "execution_count": 15,
   "metadata": {},
   "outputs": [
    {
     "name": "stdout",
     "output_type": "stream",
     "text": [
      "SOA Question 3.4:  (B) 815\n",
      "815.0943255167722\n"
     ]
    }
   ],
   "source": [
    "print(\"SOA Question 3.4:  (B) 815\")\n",
    "sult = SULT()\n",
    "mean = sult.p_x(25, t=95-25)\n",
    "var = sult.bernoulli(mean, variance=True)\n",
    "print(sult.portfolio_percentile(N=4000, mean=mean, variance=var, prob=.1))"
   ]
  },
  {
   "attachments": {},
   "cell_type": "markdown",
   "metadata": {},
   "source": [
    "__Generate SULT Table__:"
   ]
  },
  {
   "cell_type": "code",
   "execution_count": 16,
   "metadata": {},
   "outputs": [
    {
     "name": "stdout",
     "output_type": "stream",
     "text": [
      "Standard Ultimate Life Table at i=0.05\n"
     ]
    },
    {
     "data": {
      "text/html": [
       "<div>\n",
       "<style scoped>\n",
       "    .dataframe tbody tr th:only-of-type {\n",
       "        vertical-align: middle;\n",
       "    }\n",
       "\n",
       "    .dataframe tbody tr th {\n",
       "        vertical-align: top;\n",
       "    }\n",
       "\n",
       "    .dataframe thead th {\n",
       "        text-align: right;\n",
       "    }\n",
       "</style>\n",
       "<table border=\"1\" class=\"dataframe\">\n",
       "  <thead>\n",
       "    <tr style=\"text-align: right;\">\n",
       "      <th></th>\n",
       "      <th>l_x</th>\n",
       "      <th>q_x</th>\n",
       "      <th>a_x</th>\n",
       "      <th>A_x</th>\n",
       "      <th>2A_x</th>\n",
       "      <th>a_x:10</th>\n",
       "      <th>A_x:10</th>\n",
       "      <th>a_x:20</th>\n",
       "      <th>A_x:20</th>\n",
       "      <th>5_E_x</th>\n",
       "      <th>10_E_x</th>\n",
       "      <th>20_E_x</th>\n",
       "    </tr>\n",
       "  </thead>\n",
       "  <tbody>\n",
       "    <tr>\n",
       "      <th>20</th>\n",
       "      <td>100000.0</td>\n",
       "      <td>0.000250</td>\n",
       "      <td>19.9664</td>\n",
       "      <td>0.04922</td>\n",
       "      <td>0.00580</td>\n",
       "      <td>8.0991</td>\n",
       "      <td>0.61433</td>\n",
       "      <td>13.0559</td>\n",
       "      <td>0.37829</td>\n",
       "      <td>0.78252</td>\n",
       "      <td>0.61224</td>\n",
       "      <td>0.37440</td>\n",
       "    </tr>\n",
       "    <tr>\n",
       "      <th>21</th>\n",
       "      <td>99975.0</td>\n",
       "      <td>0.000253</td>\n",
       "      <td>19.9197</td>\n",
       "      <td>0.05144</td>\n",
       "      <td>0.00614</td>\n",
       "      <td>8.0990</td>\n",
       "      <td>0.61433</td>\n",
       "      <td>13.0551</td>\n",
       "      <td>0.37833</td>\n",
       "      <td>0.78250</td>\n",
       "      <td>0.61220</td>\n",
       "      <td>0.37429</td>\n",
       "    </tr>\n",
       "    <tr>\n",
       "      <th>22</th>\n",
       "      <td>99949.7</td>\n",
       "      <td>0.000257</td>\n",
       "      <td>19.8707</td>\n",
       "      <td>0.05378</td>\n",
       "      <td>0.00652</td>\n",
       "      <td>8.0988</td>\n",
       "      <td>0.61434</td>\n",
       "      <td>13.0541</td>\n",
       "      <td>0.37837</td>\n",
       "      <td>0.78248</td>\n",
       "      <td>0.61215</td>\n",
       "      <td>0.37417</td>\n",
       "    </tr>\n",
       "    <tr>\n",
       "      <th>23</th>\n",
       "      <td>99924.0</td>\n",
       "      <td>0.000262</td>\n",
       "      <td>19.8193</td>\n",
       "      <td>0.05622</td>\n",
       "      <td>0.00694</td>\n",
       "      <td>8.0986</td>\n",
       "      <td>0.61435</td>\n",
       "      <td>13.0531</td>\n",
       "      <td>0.37842</td>\n",
       "      <td>0.78245</td>\n",
       "      <td>0.61210</td>\n",
       "      <td>0.37404</td>\n",
       "    </tr>\n",
       "    <tr>\n",
       "      <th>24</th>\n",
       "      <td>99897.8</td>\n",
       "      <td>0.000267</td>\n",
       "      <td>19.7655</td>\n",
       "      <td>0.05879</td>\n",
       "      <td>0.00739</td>\n",
       "      <td>8.0983</td>\n",
       "      <td>0.61437</td>\n",
       "      <td>13.0519</td>\n",
       "      <td>0.37848</td>\n",
       "      <td>0.78243</td>\n",
       "      <td>0.61205</td>\n",
       "      <td>0.37390</td>\n",
       "    </tr>\n",
       "    <tr>\n",
       "      <th>...</th>\n",
       "      <td>...</td>\n",
       "      <td>...</td>\n",
       "      <td>...</td>\n",
       "      <td>...</td>\n",
       "      <td>...</td>\n",
       "      <td>...</td>\n",
       "      <td>...</td>\n",
       "      <td>...</td>\n",
       "      <td>...</td>\n",
       "      <td>...</td>\n",
       "      <td>...</td>\n",
       "      <td>...</td>\n",
       "    </tr>\n",
       "    <tr>\n",
       "      <th>96</th>\n",
       "      <td>17501.8</td>\n",
       "      <td>0.192887</td>\n",
       "      <td>3.5597</td>\n",
       "      <td>0.83049</td>\n",
       "      <td>0.69991</td>\n",
       "      <td>3.5356</td>\n",
       "      <td>0.83164</td>\n",
       "      <td>3.5597</td>\n",
       "      <td>0.83049</td>\n",
       "      <td>0.19872</td>\n",
       "      <td>0.01330</td>\n",
       "      <td>0.00000</td>\n",
       "    </tr>\n",
       "    <tr>\n",
       "      <th>97</th>\n",
       "      <td>14125.9</td>\n",
       "      <td>0.214030</td>\n",
       "      <td>3.3300</td>\n",
       "      <td>0.84143</td>\n",
       "      <td>0.71708</td>\n",
       "      <td>3.3159</td>\n",
       "      <td>0.84210</td>\n",
       "      <td>3.3300</td>\n",
       "      <td>0.84143</td>\n",
       "      <td>0.16765</td>\n",
       "      <td>0.00827</td>\n",
       "      <td>0.00000</td>\n",
       "    </tr>\n",
       "    <tr>\n",
       "      <th>98</th>\n",
       "      <td>11102.5</td>\n",
       "      <td>0.237134</td>\n",
       "      <td>3.1127</td>\n",
       "      <td>0.85177</td>\n",
       "      <td>0.73356</td>\n",
       "      <td>3.1050</td>\n",
       "      <td>0.85214</td>\n",
       "      <td>3.1127</td>\n",
       "      <td>0.85177</td>\n",
       "      <td>0.13850</td>\n",
       "      <td>0.00485</td>\n",
       "      <td>0.00000</td>\n",
       "    </tr>\n",
       "    <tr>\n",
       "      <th>99</th>\n",
       "      <td>8469.7</td>\n",
       "      <td>0.262294</td>\n",
       "      <td>2.9079</td>\n",
       "      <td>0.86153</td>\n",
       "      <td>0.74930</td>\n",
       "      <td>2.9039</td>\n",
       "      <td>0.86172</td>\n",
       "      <td>2.9079</td>\n",
       "      <td>0.86153</td>\n",
       "      <td>0.11173</td>\n",
       "      <td>0.00266</td>\n",
       "      <td>0.00000</td>\n",
       "    </tr>\n",
       "    <tr>\n",
       "      <th>100</th>\n",
       "      <td>6248.2</td>\n",
       "      <td>0.289584</td>\n",
       "      <td>2.7156</td>\n",
       "      <td>0.87068</td>\n",
       "      <td>0.76427</td>\n",
       "      <td>2.7137</td>\n",
       "      <td>0.87078</td>\n",
       "      <td>2.7156</td>\n",
       "      <td>0.87068</td>\n",
       "      <td>0.08777</td>\n",
       "      <td>0.00136</td>\n",
       "      <td>0.00000</td>\n",
       "    </tr>\n",
       "  </tbody>\n",
       "</table>\n",
       "<p>81 rows × 12 columns</p>\n",
       "</div>"
      ],
      "text/plain": [
       "          l_x       q_x      a_x      A_x     2A_x  a_x:10   A_x:10   a_x:20   \n",
       "20   100000.0  0.000250  19.9664  0.04922  0.00580  8.0991  0.61433  13.0559  \\\n",
       "21    99975.0  0.000253  19.9197  0.05144  0.00614  8.0990  0.61433  13.0551   \n",
       "22    99949.7  0.000257  19.8707  0.05378  0.00652  8.0988  0.61434  13.0541   \n",
       "23    99924.0  0.000262  19.8193  0.05622  0.00694  8.0986  0.61435  13.0531   \n",
       "24    99897.8  0.000267  19.7655  0.05879  0.00739  8.0983  0.61437  13.0519   \n",
       "..        ...       ...      ...      ...      ...     ...      ...      ...   \n",
       "96    17501.8  0.192887   3.5597  0.83049  0.69991  3.5356  0.83164   3.5597   \n",
       "97    14125.9  0.214030   3.3300  0.84143  0.71708  3.3159  0.84210   3.3300   \n",
       "98    11102.5  0.237134   3.1127  0.85177  0.73356  3.1050  0.85214   3.1127   \n",
       "99     8469.7  0.262294   2.9079  0.86153  0.74930  2.9039  0.86172   2.9079   \n",
       "100    6248.2  0.289584   2.7156  0.87068  0.76427  2.7137  0.87078   2.7156   \n",
       "\n",
       "      A_x:20    5_E_x   10_E_x   20_E_x  \n",
       "20   0.37829  0.78252  0.61224  0.37440  \n",
       "21   0.37833  0.78250  0.61220  0.37429  \n",
       "22   0.37837  0.78248  0.61215  0.37417  \n",
       "23   0.37842  0.78245  0.61210  0.37404  \n",
       "24   0.37848  0.78243  0.61205  0.37390  \n",
       "..       ...      ...      ...      ...  \n",
       "96   0.83049  0.19872  0.01330  0.00000  \n",
       "97   0.84143  0.16765  0.00827  0.00000  \n",
       "98   0.85177  0.13850  0.00485  0.00000  \n",
       "99   0.86153  0.11173  0.00266  0.00000  \n",
       "100  0.87068  0.08777  0.00136  0.00000  \n",
       "\n",
       "[81 rows x 12 columns]"
      ]
     },
     "execution_count": 16,
     "metadata": {},
     "output_type": "execute_result"
    }
   ],
   "source": [
    "\n",
    "print(\"Standard Ultimate Life Table at i=0.05\")\n",
    "sult.frame()\n"
   ]
  }
 ],
 "metadata": {
  "kernelspec": {
   "display_name": "Python 3.10.5 ('env3.10')",
   "language": "python",
   "name": "python3"
  },
  "language_info": {
   "codemirror_mode": {
    "name": "ipython",
    "version": 3
   },
   "file_extension": ".py",
   "mimetype": "text/x-python",
   "name": "python",
   "nbconvert_exporter": "python",
   "pygments_lexer": "ipython3",
   "version": "3.11.4"
  },
  "orig_nbformat": 4,
  "vscode": {
   "interpreter": {
    "hash": "a53bd658f9a5b7202fd97fcbe4e35965efc28d0eb9d85b0766bd67191bc6202c"
   }
  }
 },
 "nbformat": 4,
 "nbformat_minor": 2
}
