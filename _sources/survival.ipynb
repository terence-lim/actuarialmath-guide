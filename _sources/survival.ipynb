{
 "cells": [
  {
   "attachments": {},
   "cell_type": "markdown",
   "metadata": {},
   "source": [
    "# Survival Models\n",
    "\n",
    "The future lifetime of an individual is represented as a random variable. Under this framework, probabilities of death or survival, as well as an important quantity known as the force of mortality, can be calculated.  It is shown how these quantitites are related, along with some actuarial notation.\n"
   ]
  },
  {
   "attachments": {},
   "cell_type": "markdown",
   "metadata": {},
   "source": [
    "## Lifetime distribution\n",
    "\n",
    "Let $(x)$ denotes a life aged x, where $x \\ge 0$, and $T_x$ is time-to-death, or future lifetime, of $(x)$. This means that $x + T_x$ represents the age-at-death random variable for $(x)$.\n",
    "\n",
    "$F_{x}(t) = Pr[T_x \\le t] = \\int_0^t f_x(t) ds$\n",
    "\n",
    "- probability that $(x)$ does not survive beyond age $x+t$.\n",
    "\n",
    "\n",
    "__Lifetime density function__\n",
    "\n",
    "$f_x(t) =~ \\frac{\\partial}{\\partial t} F_x(t) =~ \\dfrac{f_0(x+t)}{S_0(x)}$\n",
    "\n",
    "- probability density function for the random variable $T_x$\n",
    "\n"
   ]
  },
  {
   "attachments": {},
   "cell_type": "markdown",
   "metadata": {},
   "source": [
    "## Survival function \n",
    "\n",
    "In life insurance problems we may be interested in the probability of survival rather than death\n",
    "\n",
    "$S_x(t) \\equiv ~_tp_x  = Pr[T_x > t] = 1 - F_x(t)$\n",
    "- the probability that (x) survives for at least t years\n",
    "\n",
    "$S_x(t) = \\dfrac{S_0(x+t)}{S_0(x)}$ \n",
    "- by assumption that $Pr[T_x \\le t] = Pr[T_0 \\le x + t | T_0 > x]$\n",
    "\n",
    "$S_x(t) = \\int_t^{\\infty} f_x(s) ds$\n",
    "\n",
    "- since $\\int_0^{t} f_x(s)) ds + \\int_t^{\\infty} f_x(s) ds = 1$\n",
    "\n",
    "$S_x(t) = \\dfrac{l_{x+t}}{l_x}$\n",
    "\n",
    "- relate survivor function to the number of lives in life table\n",
    "\n",
    "$S_x(t) = e^{-\\int_0^t \\mu_{x+t} ds}$\n",
    "\n",
    "- relate survival function to the force of mortality\n",
    "\n",
    "$S_x(0) = 1,~ S_x(\\infty) = 0, ~S'_x(t) \\le 0$\n",
    "- conditions to be a valid survival function\n"
   ]
  },
  {
   "attachments": {},
   "cell_type": "markdown",
   "metadata": {},
   "source": [
    "## Force of mortality\n",
    "\n",
    "$\\mu_{x+t} = \\dfrac{f_x(t)}{S_x(t)} = \\dfrac{-\\frac{\\partial}{\\partial t} _tp_x}{_tp_x} -\\dfrac{\\partial}{\\partial t} \\ln~ _tp_x$\n",
    "\n",
    "- is what actuaries call the force of mortality (and known as the hazard rate in survival analysis and the failure rate in reliability theory)\n",
    "\n",
    "$\\mu_{x} dx \\approx Pr[T_0 \\le x + dx | T_0 > x]$\n",
    "\n",
    "- can be interpreted as the probability that $(x)$ dies before attaining age $x + dx$\n",
    "\n",
    "$f_x(t)  =~ _tp_x ~\\mu_{x+t}$\n",
    "\n",
    "- can be related to the lifetime density function\n",
    "\n",
    "$\\int_0^{\\infty} \\mu_{x+s} ds = \\infty$\n",
    "\n",
    "- since $S_x(\\infty) = 0$\n",
    "\n",
    "\n"
   ]
  },
  {
   "attachments": {},
   "cell_type": "markdown",
   "metadata": {},
   "source": [
    "## Actuarial notation\n",
    "\n",
    "__Survival probability__\n",
    "\n",
    "$~_tp_x = Pr[T_x > t] \\equiv S_x(t)$\n",
    "\n",
    "- probability that $(x)$ survives to at least age $x+t$\n",
    "\n",
    "__Expected number of survivors__\n",
    "\n",
    "$l_{x} = l_{x_0} ~ _{x - x_{0}}p_{x_0}$\n",
    "\n",
    "- is the expected number of surviving lives at\n",
    "age $x$ from $l_{x_0}$ independent individuals aged $x_0$.\n",
    "\n",
    "__Mortality rate__\n",
    "\n",
    "$~_tq_x = 1 - ~_tp_x \\equiv F_x(t)$\n",
    "\n",
    "- probability that $(x)$ dies before age $x+t$.\n",
    "\n",
    "__Deferred mortality probability__\n",
    "\n",
    "$_{u|t} q_x = Pr[u < T_x \\le u + t] = \\int_u^{u+t} ~ _sp_x\\mu_{x+s} ds $\n",
    "\n",
    "- probability that $(x)$ survives $u$ years, and then dies in the subsequent $t$ years.\n",
    "\n",
    "$_{u|t} q_x =~ \\dfrac{l_{x+u} - l_{x+u+t}}{l_x}$\n",
    "\n",
    "- can be related to number of lives in the life table\n",
    "\n",
    "$_{u|t} q_x =~ _up_x {t}q_{x+u} =~ _{u+t}q_x -~ _uq_x =~ _up_x -~ _{u+t}p_x$\n",
    "\n",
    "- can be computed as either (1) deferred mortality (2) limited mortality or (3) complement of survival functions.\n",
    "\n",
    "\n",
    "\n",
    "\n",
    "\n"
   ]
  },
  {
   "attachments": {},
   "cell_type": "markdown",
   "metadata": {},
   "source": [
    "## Methods\n",
    "\n",
    "The `Survival` class implements methods to compute and apply relationships between the various forms of survival and mortality functions. The force of mortality function fully describes the lifetime distribution, just as the survival function does."
   ]
  },
  {
   "cell_type": "code",
   "execution_count": 1,
   "metadata": {},
   "outputs": [
    {
     "name": "stdout",
     "output_type": "stream",
     "text": [
      "\n",
      "class Survival - Set and derive basic survival and mortality functions\n",
      "\n",
      "    Examples:\n",
      "      >>> B, c = 0.00027, 1.1\n",
      "      >>> def S(x,s,t): return (math.exp(-B * c**(x+s) * (c**t - 1)/math.log(c)))\n",
      "      >>> f = Survival().set_survival(S=S).f_x(x=50, t=10)\n",
      "      >>> def ell(x,s): return (1 - (x+s) / 60)**(1 / 3)\n",
      "      >>> mu = Survival().set_survival(l=ell).mu_x(35) * 1000\n",
      "      >>> def ell(x,s): return (1 - ((x+s)/250)) if x+s < 40 else (1 - ((x+s)/100)**2)\n",
      "      >>> q = Survival().set_survival(l=ell).q_x(30, t=20)\n",
      "      >>> def fun(k):\n",
      "      >>>     return Survival().set_survival(l=lambda x,s: 100*(k - (x+s)/2)**(2/3))      >>>                      .mu_x(50)\n",
      "      >>> k = int(Survival.solve(fun, target=1/48, grid=50))\n",
      "\n",
      "    Methods:\n",
      "    --------\n",
      "\n",
      "    set_survival(S, f, l, mu, maxage, minage):\n",
      "      Construct the basic survival and mortality functions given any one form\n",
      "\n",
      "    l_x(x, s):\n",
      "      Number of lives at integer age [x]+s: l_[x]+s\n",
      "\n",
      "    d_x(x, s):\n",
      "      Number of deaths at integer age [x]+s: d_[x]+s\n",
      "\n",
      "    p_x(x, s, t):\n",
      "      Probability that [x]+s lives another t years: : t_p_[x]+s\n",
      "\n",
      "    q_x(x, s, t, u):\n",
      "      Probability that [x]+s lives for u, but not t+u years: u|t_q_[x]+s\n",
      "\n",
      "    f_x(x, s, t):\n",
      "      Lifetime density function of [x]+s after t years: f_[x]+s(t)\n",
      "\n",
      "    mu_x(x, s, t):\n",
      "      Force of mortality of [x] at  s+t years: mu_[x](s+t)\n",
      "\n",
      "\n"
     ]
    }
   ],
   "source": [
    "import math\n",
    "from actuarialmath import Survival\n",
    "import describe\n",
    "describe.methods(Survival)"
   ]
  },
  {
   "attachments": {},
   "cell_type": "markdown",
   "metadata": {},
   "source": [
    "## Examples\n",
    "\n"
   ]
  },
  {
   "attachments": {},
   "cell_type": "markdown",
   "metadata": {},
   "source": [
    "__SOA Question 2.3__:\n",
    "\n",
    "You are given that mortality follows Gompertz Law with B = 0.00027 and c = 1.1.\n",
    "Calculate $f_{50}(10)$."
   ]
  },
  {
   "cell_type": "code",
   "execution_count": 2,
   "metadata": {},
   "outputs": [
    {
     "name": "stdout",
     "output_type": "stream",
     "text": [
      "SOA Question 2.3: (A) 0.0483\n",
      "0.048327399045049846\n"
     ]
    }
   ],
   "source": [
    "print(\"SOA Question 2.3: (A) 0.0483\")\n",
    "B, c = 0.00027, 1.1\n",
    "def S(x,s,t): return (math.exp(-B * c**(x+s) * (c**t - 1)/math.log(c)))\n",
    "life = Survival().set_survival(S=S)\n",
    "print(life.f_x(x=50, t=10))"
   ]
  },
  {
   "attachments": {},
   "cell_type": "markdown",
   "metadata": {},
   "source": [
    "__SOA Question 2.6__\n",
    "\n",
    "You are given the survival function:\n",
    "\n",
    "$S_0(x) = \\left( 1 − \\frac{x}{60} \\right)^{\\frac{1}{3}}, \\quad 0 \\le x \\le 60$\n",
    "\n",
    "Calculate $1000 \\mu_{35}$."
   ]
  },
  {
   "cell_type": "code",
   "execution_count": 3,
   "metadata": {},
   "outputs": [
    {
     "name": "stdout",
     "output_type": "stream",
     "text": [
      "# SOA Question 2.6: (C) 13.3\n",
      "13.340451278922776\n"
     ]
    }
   ],
   "source": [
    "print(\"# SOA Question 2.6: (C) 13.3\")\n",
    "life = Survival().set_survival(l=lambda x,s: (1 - (x+s) / 60)**(1 / 3))\n",
    "print(1000*life.mu_x(35))"
   ]
  },
  {
   "attachments": {},
   "cell_type": "markdown",
   "metadata": {},
   "source": [
    "__SOA Question 2.7__\n",
    "\n",
    "You are given the following survival function of a newborn:\n",
    "\n",
    "$$\n",
    "\\begin{align*}\n",
    "S_0(x) & = 1 - \\frac{x}{250}, \\quad 0 \\le x < 40\\\\\n",
    "&=  1 - (\\frac{x}{100})^2, \\quad 40 \\le x \\le 100\\\\\n",
    "\\end{align*}\n",
    "$$\n",
    "\n",
    "Calculate the probability that (30) dies within the next 20 years"
   ]
  },
  {
   "cell_type": "code",
   "execution_count": 4,
   "metadata": {},
   "outputs": [
    {
     "name": "stdout",
     "output_type": "stream",
     "text": [
      "SOA Question 2.7: (B) 0.1477\n",
      "0.1477272727272727\n"
     ]
    }
   ],
   "source": [
    "print(\"SOA Question 2.7: (B) 0.1477\")\n",
    "def S(x,s):\n",
    "    return 1 - ((x+s) / 250) if (x+s) < 40 else 1 - ((x+s) / 100)**2\n",
    "print(Survival().set_survival(l=S).q_x(30, t=20))"
   ]
  },
  {
   "attachments": {},
   "cell_type": "markdown",
   "metadata": {},
   "source": [
    "__SOA Question 2.8__\n",
    "\n",
    "In a population initially consisting of 75% females and 25% males, you are given:\n",
    "\n",
    "- For a female, the force of mortality is constant and equals $\\mu$\n",
    "- For a male, the force of mortality is constant and equals $1.5 \\mu$\n",
    "- At the end of 20 years, the population is expected to consist of 85% females and\n",
    "15% males.\n",
    "\n",
    "Calculate the probability that a female survives one year."
   ]
  },
  {
   "cell_type": "code",
   "execution_count": 5,
   "metadata": {},
   "outputs": [
    {
     "name": "stdout",
     "output_type": "stream",
     "text": [
      "SOA Question 2.8: (C) 0.938\n",
      "0.9383813306903799\n"
     ]
    }
   ],
   "source": [
    "print(\"SOA Question 2.8: (C) 0.938\")\n",
    "def fun(mu):  # Solve first for mu, given ratio of start and end proportions\n",
    "    male = Survival().set_survival(mu=lambda x,s: 1.5 * mu)\n",
    "    female = Survival().set_survival(mu=lambda x,s: mu)\n",
    "    return (75 * female.p_x(0, t=20)) / (25 * male.p_x(0, t=20))\n",
    "mu = Survival.solve(fun, target=85/15, grid=[0.89, 0.99])\n",
    "p = Survival().set_survival(mu=lambda x,s: mu).p_x(0, t=1)\n",
    "print(p)"
   ]
  },
  {
   "attachments": {},
   "cell_type": "markdown",
   "metadata": {},
   "source": [
    "__CAS41-F99:12__\n",
    "\n",
    "You are given the following survival function:\n",
    "\n",
    "$S(x) = 100 (k - \\frac{x}{2})^{\\frac{2}{3}}$\n",
    "\n",
    "Find $k$, given that $\\mu_{50} = \\frac{1}{48}$"
   ]
  },
  {
   "cell_type": "code",
   "execution_count": 6,
   "metadata": {},
   "outputs": [
    {
     "name": "stdout",
     "output_type": "stream",
     "text": [
      "CAS41-F99:12: k = 41\n",
      "41.005207994280646\n"
     ]
    }
   ],
   "source": [
    "print(\"CAS41-F99:12: k = 41\")\n",
    "def fun(k):\n",
    "    return Survival().set_survival(l=lambda x,s: 100*(k - (x+s)/2)**(2/3))\\\n",
    "                     .mu_x(50)\n",
    "print(Survival.solve(fun, target=1/48, grid=50))"
   ]
  }
 ],
 "metadata": {
  "kernelspec": {
   "display_name": "Python 3.10.5 ('env3.10')",
   "language": "python",
   "name": "python3"
  },
  "language_info": {
   "codemirror_mode": {
    "name": "ipython",
    "version": 3
   },
   "file_extension": ".py",
   "mimetype": "text/x-python",
   "name": "python",
   "nbconvert_exporter": "python",
   "pygments_lexer": "ipython3",
   "version": "3.11.4"
  },
  "orig_nbformat": 4,
  "vscode": {
   "interpreter": {
    "hash": "a53bd658f9a5b7202fd97fcbe4e35965efc28d0eb9d85b0766bd67191bc6202c"
   }
  }
 },
 "nbformat": 4,
 "nbformat_minor": 2
}
