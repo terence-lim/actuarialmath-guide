{
 "cells": [
  {
   "attachments": {},
   "cell_type": "markdown",
   "metadata": {},
   "source": [
    "# Survival Models\n",
    "\n",
    "The future lifetime of an individual is represented as a random variable. Under this framework, probabilities of death or survival, as well as an important quantity known as the force of mortality, can be calculated.  It is shown how these quantitites are related, along with some actuarial notation.\n"
   ]
  },
  {
   "attachments": {},
   "cell_type": "markdown",
   "metadata": {},
   "source": [
    "## Lifetime distribution\n",
    "\n",
    "Let $(x)$ denotes a life aged x, where $x \\ge 0$, and $T_x$ is time-to-death, or future lifetime, of $(x)$. This means that $x + T_x$ represents the age-at-death random variable for $(x)$.\n",
    "\n",
    "$F_{x}(t) = Pr[T_x \\le t] = \\int_0^t f_x(t) ds$\n",
    "\n",
    "- probability that $(x)$ does not survive beyond age $x+t$.\n",
    "\n",
    "\n",
    "__Lifetime density function__\n",
    "\n",
    "$f_x(t) =~ \\frac{\\partial}{\\partial t} F_x(t) =~ \\dfrac{f_0(x+t)}{S_0(x)}$\n",
    "\n",
    "- probability density function for the random variable $T_x$\n",
    "\n"
   ]
  },
  {
   "attachments": {},
   "cell_type": "markdown",
   "metadata": {},
   "source": [
    "## Survival function \n",
    "\n",
    "In life insurance problems we may be interested in the probability of survival rather than death\n",
    "\n",
    "$S_x(t) \\equiv ~_tp_x  = Pr[T_x > t] = 1 - F_x(t)$\n",
    "- the probability that (x) survives for at least t years\n",
    "\n",
    "$S_x(t) = \\dfrac{S_0(x+t)}{S_0(x)}$ \n",
    "- by assumption that $Pr[T_x \\le t] = Pr[T_0 \\le x + t | T_0 > x]$\n",
    "\n",
    "$S_x(t) = \\int_t^{\\infty} f_x(s) ds$\n",
    "\n",
    "- since $\\int_0^{t} f_x(s)) ds + \\int_t^{\\infty} f_x(s) ds = 1$\n",
    "\n",
    "$S_x(t) = \\dfrac{l_{x+t}}{l_x}$\n",
    "\n",
    "- a life table provides a concrete way to visualize the survival function: from a certain number of lives at a starting age, we apply survival probabilities to compute the expected number of lives at any other age.\n",
    "\n",
    "\n",
    "$S_x(0) = 1,~ S_x(\\infty) = 0, ~S'_x(t) \\le 0$\n",
    "- conditions on $S_x$ to be a valid survival function\n",
    "\n",
    "__Percentiles__:\n",
    "\n",
    "A $100p$-th percentile of survival time is the time $t$ such that there is a probability $p$ that survival time ie less than $t$.\n",
    "\n",
    "\n"
   ]
  },
  {
   "attachments": {},
   "cell_type": "markdown",
   "metadata": {},
   "source": [
    "## Force of mortality\n",
    "\n",
    "What actuaries call the force of mortality, denoted $\\mu_x$, is known as the hazard rate in survival analysis and the failure rate in reliability theory.\n",
    "\n",
    "$\\mu_{x+t} = \\dfrac{f_x(t)}{S_x(t)} = \\dfrac{-\\frac{\\partial}{\\partial t} l_{x+t}}{l_{x+t}} = \\dfrac{-\\frac{\\partial}{\\partial t} _tp_x}{_tp_x} = \\dfrac{\\partial}{\\partial t} \\ln~ _tp_x$\n",
    "\n",
    "- the force of mortality actually completely determines the survival function\n",
    "\n",
    "$f_x(t)  =~ _tp_x ~\\mu_{x+t}$\n",
    "\n",
    "- can be related to the lifetime density function for $(x)$\n",
    "\n",
    "$S_x(t) = e^{-\\int_x^{x+t} \\mu_{s} ds}  = e^{-\\int_0^t \\mu_{x+s} ds}$\n",
    "\n",
    "- the survival probability, conditional on survival to the age represented by the lower bound, can be computed by integrating the force of mortality up to the age represented by the upper bound.\n",
    "\n",
    "$\\mu_{x} dx \\approx Pr[T_0 \\le x + dx | T_0 > x]$\n",
    "\n",
    "- intuitively, multiplying the force of mortality by a small number $dx$ can be interpreted as the probability that $(x)$ dies before attaining age $x + dx$\n",
    "\n",
    "$\\int_0^{\\infty} \\mu_{x+s} ds = \\infty$\n",
    "\n",
    "- since $S_x(\\infty) = 0$\n",
    "\n",
    "\n"
   ]
  },
  {
   "attachments": {},
   "cell_type": "markdown",
   "metadata": {},
   "source": [
    "## Actuarial notation\n",
    "\n",
    "The actuarial profession uses shorthand notation to record mathematical formulas:\n",
    "\n",
    "__Survival probability__\n",
    "\n",
    "$~_tp_x = Pr[T_x > t] \\equiv S_x(t)$\n",
    "\n",
    "- probability that $(x)$ survives to at least age $x+t$\n",
    "\n",
    "__Expected number of survivors__\n",
    "\n",
    "$l_{x} = l_{x_0} ~ _{x - x_{0}}p_{x_0}$\n",
    "\n",
    "- is the expected number of surviving lives at\n",
    "age $x$ from $l_{x_0}$ independent individuals aged $x_0$.\n",
    "\n",
    "__Mortality rate__\n",
    "\n",
    "$~_tq_x = 1 - ~_tp_x \\equiv F_x(t)$\n",
    "\n",
    "- probability that $(x)$ dies before age $x+t$.\n",
    "\n",
    "__Deferred mortality rate__\n",
    "\n",
    "$_{u|t} q_x = Pr[u < T_x \\le u + t] = \\int_u^{u+t} ~ _sp_x\\mu_{x+s} ds $\n",
    "\n",
    "- probability that $(x)$ survives $u$ years, and then dies within the subsequent $t$ years.\n",
    "\n",
    "$_{u|t} q_x =~ \\dfrac{l_{x+u} - l_{x+u+t}}{l_x}$\n",
    "\n",
    "- can be related to the number of lives in the life table: total number of deaths of ages between $x+u$ and $x+u+t$, divided by number of lives aged $x$\n",
    "\n",
    "$_{u|t} q_x =~ _up_x {t}q_{x+u} =~ _{u+t}q_x -~ _uq_x =~ _up_x -~ _{u+t}p_x$\n",
    "\n",
    "- there are three useful formulas for computing deferred mortality: (1) deferred mortality (2) limited mortality, or (3) limited survival probabilities.\n",
    "\n",
    "\n",
    "\n",
    "\n",
    "\n"
   ]
  },
  {
   "attachments": {},
   "cell_type": "markdown",
   "metadata": {},
   "source": [
    "## Methods\n",
    "\n",
    "The `Survival` class implements methods to compute and apply relationships between the various equivalent forms of survival and mortality functions. The force of mortality function fully describes the lifetime distribution, just as the survival function does."
   ]
  },
  {
   "cell_type": "code",
   "execution_count": 1,
   "metadata": {},
   "outputs": [
    {
     "name": "stdout",
     "output_type": "stream",
     "text": [
      "\n",
      "class Survival - Set and derive basic survival and mortality functions\n",
      "\n",
      "    Methods:\n",
      "    --------\n",
      "\n",
      "    set_survival(S, f, l, mu, minage, maxage):\n",
      "      Construct the basic survival and mortality functions given any one form\n",
      "\n",
      "    l_x(x, s):\n",
      "      Number of lives at integer age [x]+s: l_[x]+s\n",
      "\n",
      "    d_x(x, s):\n",
      "      Number of deaths at integer age [x]+s: d_[x]+s\n",
      "\n",
      "    p_x(x, s, t):\n",
      "      Probability that [x]+s lives another t years: : t_p_[x]+s\n",
      "\n",
      "    q_x(x, s, t, u):\n",
      "      Probability that [x]+s lives for u, but not t+u years: u|t_q_[x]+s\n",
      "\n",
      "    f_x(x, s, t):\n",
      "      Lifetime density function of [x]+s after t years: f_[x]+s(t)\n",
      "\n",
      "    mu_x(x, s, t):\n",
      "      Force of mortality of [x] at  s+t years: mu_[x](s+t)\n",
      "\n",
      "\n"
     ]
    }
   ],
   "source": [
    "import math\n",
    "from actuarialmath import Survival\n",
    "import describe\n",
    "describe.methods(Survival)"
   ]
  },
  {
   "attachments": {},
   "cell_type": "markdown",
   "metadata": {},
   "source": [
    "## Examples\n",
    "\n"
   ]
  },
  {
   "cell_type": "markdown",
   "metadata": {},
   "source": [
    "The `set_survival` class method is called to specify any survival model by either its survival probability (with the argument `S`), force of mortality (`mu`), number of lives (`l`), or lifetime density (`f`) functions. Then the various survival and mortality probabilities and function values can be retrieved using methods with names similar to their respective actuarial notations: `p_x, q_x, f_x, mu_x, d_x, l_x`. In later sections, special mortality laws like the uniform and exponential distributions, along with their available shortcut formulas, will be described and implemented."
   ]
  },
  {
   "cell_type": "code",
   "execution_count": 2,
   "metadata": {},
   "outputs": [
    {
     "name": "stdout",
     "output_type": "stream",
     "text": [
      "100 0 50 1 1\n",
      "0.9888888888888889 0.11111111111111105 1.0 0.011111111111111112\n",
      "0.98 0.20000000000000007 1.0 0.02\n",
      "0.9 1.0 1.0 0.1\n"
     ]
    }
   ],
   "source": [
    "# specify survival function by linearly declining number of lives\n",
    "life = Survival().set_survival(l=lambda x,s: 100-(x+s), minage=0, maxage=100).set_interest(i=0.05)\n",
    "print(life.l_x(x=0), life.l_x(x=100), life.l_x(x=50), life.d_x(x=0), life.d_x(x=50))\n",
    "for x in [10, 50, 90]:\n",
    "  print(life.p_x(x=x), life.q_x(x=x, u=10, t=10), life.f_x(x=x), life.mu_x(x=x))"
   ]
  },
  {
   "attachments": {},
   "cell_type": "markdown",
   "metadata": {},
   "source": [
    "__SOA Question 2.3__:\n",
    "\n",
    "You are given that mortality follows Gompertz Law with B = 0.00027 and c = 1.1.\n",
    "Calculate $f_{50}(10)$."
   ]
  },
  {
   "cell_type": "code",
   "execution_count": 3,
   "metadata": {},
   "outputs": [
    {
     "name": "stdout",
     "output_type": "stream",
     "text": [
      "SOA Question 2.3: (A) 0.0483\n",
      "0.048327399045049846\n"
     ]
    }
   ],
   "source": [
    "print(\"SOA Question 2.3: (A) 0.0483\")\n",
    "B, c = 0.00027, 1.1\n",
    "def S(x,s,t): return (math.exp(-B * c**(x+s) * (c**t - 1)/math.log(c)))\n",
    "life = Survival().set_survival(S=S)\n",
    "print(life.f_x(x=50, t=10))"
   ]
  },
  {
   "attachments": {},
   "cell_type": "markdown",
   "metadata": {},
   "source": [
    "__SOA Question 2.6__\n",
    "\n",
    "You are given the survival function:\n",
    "\n",
    "$S_0(x) = \\left( 1 − \\frac{x}{60} \\right)^{\\frac{1}{3}}, \\quad 0 \\le x \\le 60$\n",
    "\n",
    "Calculate $1000 \\mu_{35}$."
   ]
  },
  {
   "cell_type": "code",
   "execution_count": 4,
   "metadata": {},
   "outputs": [
    {
     "name": "stdout",
     "output_type": "stream",
     "text": [
      "# SOA Question 2.6: (C) 13.3\n",
      "13.337287043994648\n"
     ]
    }
   ],
   "source": [
    "print(\"# SOA Question 2.6: (C) 13.3\")\n",
    "life = Survival().set_survival(l=lambda x,s: (1 - (x+s) / 60)**(1 / 3))\n",
    "print(1000*life.mu_x(35))"
   ]
  },
  {
   "attachments": {},
   "cell_type": "markdown",
   "metadata": {},
   "source": [
    "__SOA Question 2.7__\n",
    "\n",
    "You are given the following survival function of a newborn:\n",
    "\n",
    "$$\n",
    "\\begin{align*}\n",
    "S_0(x) & = 1 - \\frac{x}{250}, \\quad 0 \\le x < 40\\\\\n",
    "&=  1 - (\\frac{x}{100})^2, \\quad 40 \\le x \\le 100\\\\\n",
    "\\end{align*}\n",
    "$$\n",
    "\n",
    "Calculate the probability that (30) dies within the next 20 years"
   ]
  },
  {
   "cell_type": "code",
   "execution_count": 5,
   "metadata": {},
   "outputs": [
    {
     "name": "stdout",
     "output_type": "stream",
     "text": [
      "SOA Question 2.7: (B) 0.1477\n",
      "0.1477272727272727\n"
     ]
    }
   ],
   "source": [
    "print(\"SOA Question 2.7: (B) 0.1477\")\n",
    "def S(x,s):\n",
    "    return 1 - ((x+s) / 250) if (x+s) < 40 else 1 - ((x+s) / 100)**2\n",
    "print(Survival().set_survival(l=S).q_x(30, t=20))"
   ]
  },
  {
   "attachments": {},
   "cell_type": "markdown",
   "metadata": {},
   "source": [
    "__SOA Question 2.8__\n",
    "\n",
    "In a population initially consisting of 75% females and 25% males, you are given:\n",
    "\n",
    "- For a female, the force of mortality is constant and equals $\\mu$\n",
    "- For a male, the force of mortality is constant and equals $1.5 \\mu$\n",
    "- At the end of 20 years, the population is expected to consist of 85% females and\n",
    "15% males.\n",
    "\n",
    "Calculate the probability that a female survives one year."
   ]
  },
  {
   "cell_type": "code",
   "execution_count": 6,
   "metadata": {},
   "outputs": [
    {
     "name": "stdout",
     "output_type": "stream",
     "text": [
      "SOA Question 2.8: (C) 0.938\n",
      "0.9383813306903799\n"
     ]
    }
   ],
   "source": [
    "print(\"SOA Question 2.8: (C) 0.938\")\n",
    "def fun(mu):  # Solve first for mu, given ratio of start and end proportions\n",
    "    male = Survival().set_survival(mu=lambda x,s: 1.5 * mu)\n",
    "    female = Survival().set_survival(mu=lambda x,s: mu)\n",
    "    return (75 * female.p_x(0, t=20)) / (25 * male.p_x(0, t=20))\n",
    "mu = Survival.solve(fun, target=85/15, grid=0.5)\n",
    "p = Survival().set_survival(mu=lambda x,s: mu).p_x(0, t=1)\n",
    "print(p)"
   ]
  },
  {
   "attachments": {},
   "cell_type": "markdown",
   "metadata": {},
   "source": [
    "__CAS41-F99:12__\n",
    "\n",
    "You are given the following survival function:\n",
    "\n",
    "$S(x) = 100 (k - \\frac{x}{2})^{\\frac{2}{3}}$\n",
    "\n",
    "Find $k$, given that $\\mu_{50} = \\frac{1}{48}$"
   ]
  },
  {
   "cell_type": "code",
   "execution_count": 7,
   "metadata": {},
   "outputs": [
    {
     "name": "stdout",
     "output_type": "stream",
     "text": [
      "CAS41-F99:12: k = 41\n",
      "41.00115767959991\n"
     ]
    }
   ],
   "source": [
    "print(\"CAS41-F99:12: k = 41\")\n",
    "def fun(k):\n",
    "    return Survival().set_survival(l=lambda x,s: 100*(k - (x+s)/2)**(2/3))\\\n",
    "                     .mu_x(50)\n",
    "print(Survival.solve(fun, target=1/48, grid=50))"
   ]
  }
 ],
 "metadata": {
  "kernelspec": {
   "display_name": "Python 3.10.5 ('env3.10')",
   "language": "python",
   "name": "python3"
  },
  "language_info": {
   "codemirror_mode": {
    "name": "ipython",
    "version": 3
   },
   "file_extension": ".py",
   "mimetype": "text/x-python",
   "name": "python",
   "nbconvert_exporter": "python",
   "pygments_lexer": "ipython3",
   "version": "3.11.4"
  },
  "orig_nbformat": 4,
  "vscode": {
   "interpreter": {
    "hash": "a53bd658f9a5b7202fd97fcbe4e35965efc28d0eb9d85b0766bd67191bc6202c"
   }
  }
 },
 "nbformat": 4,
 "nbformat_minor": 2
}
