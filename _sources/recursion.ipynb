{
 "cells": [
  {
   "attachments": {},
   "cell_type": "markdown",
   "metadata": {},
   "source": [
    "# Recursion\n",
    "\n",
    "Using annual values provided, such as in a life table, we can calculate other values at other ages and durations by repeatedly applying recursion formulas and other actuarial equations.\n",
    "\n",
    "## Chain rule\n",
    "\n",
    "$_{t+n}p_x =\\ _np_x \\cdot\\ _tp_{x+n}$\n",
    "\n",
    "- survival probability chain rule\n",
    "\n",
    "$_{t+n}E_x =\\ _nE_x \\cdot\\ _tE_{x+n}$\n",
    "\n",
    "- pure endowment chain rule"
   ]
  },
  {
   "attachments": {},
   "cell_type": "markdown",
   "metadata": {},
   "source": [
    "## Expected future lifetime\n",
    "\n",
    "$\\overset{\\circ}{e}_{x} = \\overset{\\circ}{e}_{x:\\overline{m|}} +\\ _mp_x\\ \\overset{\\circ}{e}_{x+m}$\n",
    "\n",
    "- complete expectation of lifetime\n",
    "\n",
    "$\\overset{\\circ}{e}_{x} = \\overset{\\circ}{e}_{x:\\overline{1|}} + p_x\\ \\overset{\\circ}{e}_{x+1}$\n",
    "\n",
    "- one-year recursion for complete expectation of lifetime\n",
    "\n",
    "$\\overset{\\circ}{e}_{x:\\overline{m+n|}} = \\overset{\\circ}{e}_{x:\\overline{m|}} +\\ _mp_x\\ \\overset{\\circ}{e}_{x+m:\\overline{n|}}$\n",
    "\n",
    "- temporary complete expectation of lifetime\n",
    "\n",
    "$e_{x} = e_{x:\\overline{m|}} +\\ _mp_x\\ e_{x+m}$\n",
    "\n",
    "- curtate expectation of lifetime\n",
    "\n",
    "\n",
    "$e_{x} = p_x(1 + e_{x+1})$\n",
    "\n",
    "- one-year recursion for curtate expectaion of lifetime\n",
    "\n",
    "$e_{x:\\overline{m+n|}} = e_{x:\\overline{m|}} +\\ _mp_x\\ e_{x:\\overline{n|}}$\n",
    "\n",
    "- temporary curtate expectation of lifetime\n"
   ]
  },
  {
   "attachments": {},
   "cell_type": "markdown",
   "metadata": {},
   "source": [
    "## Life insurance\n",
    "\n",
    "$A_{x} = v ~ q_x + v ~ p_x ~ A_{x+1} ~\\Rightarrow~ A_{x+1} = \\dfrac{A_{x} - v ~ q_x}{v ~ p_x}$\n",
    "\n",
    "- whole life insurance recursion\n",
    "\n",
    "$A^{1}_{x:\\overline{t|}} = v ~ q_x + v ~ p_x ~ A^{1}_{x+1:\\overline{t-1|}} $\n",
    "\n",
    "- term life insurance recursion\n",
    "\n",
    "$A_{x:\\overline{0|}} = b$\n",
    "\n",
    "- endowment insurance at at end of term\n",
    "\n",
    "$A_{x:\\overline{1|}} = q_x ~ v ~ b + p_x ~ v ~ b = v ~ b$\n",
    "\n",
    "- one-year endowment insurance\n",
    "\n",
    "$IA^{1}_{x:\\overline{t|}} = v ~ q_x + v ~ p_x ~ (A_{x+1} + IA^{1}_{x+1:\\overline{t-1|}})$\n",
    "\n",
    "- increasing insurance recursion\n",
    "\n",
    "$DA^{1}_{x:\\overline{t|}} = t ~ v ~ q_x + v ~ p_x ~ (DA^{1}_{x+1:\\overline{t-1|}})$\n",
    "\n",
    "- decreasing insurance recursion"
   ]
  },
  {
   "attachments": {},
   "cell_type": "markdown",
   "metadata": {},
   "source": [
    "## Life annuities\n",
    "\n",
    "$\\ddot{a}_{x} = 1 + v ~ p_x ~ \\ddot{a}_{x+1} ~\\Rightarrow ~\\ddot{a}_{x+1} = \\dfrac{\\ddot{a}_{x} - 1}{v ~ p_x}$\n",
    "\n",
    "- whole life annuity recursion\n",
    "\n",
    "$\\ddot{a}_{x:\\overline{t|}} = 1 + v ~ p_x ~ \\ddot{a}_{x+1:\\overline{t-1|}} $\n",
    "\n",
    "- temporary annuity recursion\n"
   ]
  },
  {
   "attachments": {},
   "cell_type": "markdown",
   "metadata": {},
   "source": [
    "## Examples\n",
    "\n",
    "The `Recursion` class implements methods to apply recursive, shortcut and actuarial formulas, and traces steps taken to find the solution.\n",
    "\n",
    "__Caveats__:\n",
    "\n",
    "1. Not all possible recursion rules and actuarial equations have (yet) been implemented in the current version of the package. \n",
    "\n",
    "2. You may set the recursion depth to a larger limit than the default of 3 (with the keyword argument `depth` when initializing a Recursion class object).\n",
    "\n",
    "3. But generally, the current implementation is fragile if the solution is not available within a relatively shallow search: future releases will enhance. "
   ]
  },
  {
   "cell_type": "code",
   "execution_count": 1,
   "metadata": {},
   "outputs": [],
   "source": [
    "from actuarialmath.recursion import Recursion\n",
    "from actuarialmath.constantforce import ConstantForce\n",
    "from actuarialmath.policyvalues import Contract"
   ]
  },
  {
   "attachments": {},
   "cell_type": "markdown",
   "metadata": {},
   "source": [
    "__AMLCR2 Exercise 2.6__\n",
    "\n",
    "Given $P_x =0.99$ , $P_{x+1} = 0.985$, $_3P_{x+1} = 0.95$, $q_{x+3} = 0.02$, \n",
    "\n",
    "Calculate (a) $P_{x+3}$, (b) $_2P_x$, (c) $_2P_{x+1}$, (d) $_3P_x$, (e) $_{1|2}q_x$."
   ]
  },
  {
   "cell_type": "code",
   "execution_count": 2,
   "metadata": {},
   "outputs": [
    {
     "name": "stdout",
     "output_type": "stream",
     "text": [
      " *Survival p_3 <--\n",
      "   p_3 = 1 - q_3                                      ~complement of mortality\n",
      "0.98\n",
      " *Survival p_0(t=2) <--\n",
      "    p_0(t=3) = p_0(t=4) / p_3                             ~survival chain rule\n",
      "     p_0(t=4) = p_1(t=3) * p_0                            ~survival chain rule\n",
      "     p_0(t=2) = p_1 * p_0                                 ~survival chain rule\n",
      "      p_3 = 1 - q_3                                   ~complement of mortality\n",
      "0.97515\n",
      " *Survival p_1(t=2) <--\n",
      "   p_1(t=2) = p_0(t=3) / p_0                              ~survival chain rule\n",
      "    p_0(t=3) = p_0(t=4) / p_3                             ~survival chain rule\n",
      "     p_0(t=4) = p_1(t=3) * p_0                            ~survival chain rule\n",
      "      p_3 = 1 - q_3                                   ~complement of mortality\n",
      "0.9693877551020409\n",
      " *Survival p_0(t=3) <--\n",
      "   p_0(t=3) = p_0(t=4) / p_3                              ~survival chain rule\n",
      "    p_0(t=4) = p_1(t=3) * p_0                             ~survival chain rule\n",
      "      p_3 = 1 - q_3                                   ~complement of mortality\n",
      "0.9596938775510204\n",
      " *Mortality q_0(t=2,defer=1) <--\n",
      "   q_0(t=2,defer=1) = p_0 - p_0(t=3)                      ~complement survival\n",
      "    p_0(t=3) = p_0(t=4) / p_3                             ~survival chain rule\n",
      "     p_0(t=4) = p_1(t=3) * p_0                            ~survival chain rule\n",
      "      p_3 = 1 - q_3                                   ~complement of mortality\n",
      "0.030306122448979567\n"
     ]
    }
   ],
   "source": [
    "from actuarialmath.recursion import Recursion\n",
    "x = 0\n",
    "life = Recursion(depth=3).set_interest(i=0.06)\\\n",
    "                          .set_p(0.99, x=x)\\\n",
    "                          .set_p(0.985, x=x+1)\\\n",
    "                          .set_p(0.95, x=x+1, t=3)\\\n",
    "                          .set_q(0.02, x=x+3)\n",
    "\n",
    "print(life.p_x(x=x+3))  # 0.98\n",
    "print(life.p_x(x=x, t=2))  # 0.97515\n",
    "print(life.p_x(x=x+1, t=2))  # 0.96939\n",
    "print(life.p_x(x=x, t=3))  # 0.95969\n",
    "print(life.q_x(x=x, t=2, u=1))  # 0.03031"
   ]
  },
  {
   "attachments": {},
   "cell_type": "markdown",
   "metadata": {},
   "source": [
    "__SOA Question 6.48__\n",
    "\n",
    "For a special fully discrete 5-year deferred 3-year term insurance of 100,000 on (x) you are given:\n",
    "- There are two premium payments, each equal to P . The first is paid at the beginning of the first year and the second is paid at the end of the 5-year deferral period\n",
    "- $p_x = 0.95$\n",
    "- $q_{x + 5} = 0.02$\n",
    "- $q_{x + 6} = 0.03$\n",
    "- $q_{x + 7} = 0.04$\n",
    "- $i = 0.06$\n",
    "\n",
    "Calculate P using the equivalence principle."
   ]
  },
  {
   "cell_type": "code",
   "execution_count": 3,
   "metadata": {},
   "outputs": [
    {
     "name": "stdout",
     "output_type": "stream",
     "text": [
      "SOA Question 6.48:  (A) 3195\n",
      " *Pure Endowment E_0(t=5) <--\n",
      "   E_0(t=5) = p_0(t=5) * v(t=5)                                ~pure endowment\n",
      " *Pure Endowment E_0(t=5) <--\n",
      "   E_0(t=5) = p_0(t=5) * v(t=5)                                ~pure endowment\n",
      " *Term Insurance A_5(t=3) <--\n",
      "   A_5(t=3) = v * [ q_5 * b + p_5 * A_6(t=2) ]             ~backward recursion\n",
      "    p_5 = 1 - q_5                                     ~complement of mortality\n",
      "    A_6(t=2) = v * [ q_6 * b + p_6 * A_7(t=1) ]            ~backward recursion\n",
      "     p_6 = 1 - q_6                                    ~complement of mortality\n",
      "     A_7(t=1) = A_7(t=1,endow=1) - E_7(t=1)        ~endowment insurance - pure\n",
      "      E_7(t=1) = p_7 * v(t=1)                                  ~pure endowment\n",
      "     p_7 = 1 - q_7                                    ~complement of mortality\n",
      " *Term Insurance A_5(t=3) <--\n",
      "   A_5(t=3) = v * [ q_5 * b + p_5 * A_6(t=2) ]             ~backward recursion\n",
      "    p_5 = 1 - q_5                                     ~complement of mortality\n",
      "    A_6(t=2) = v * [ q_6 * b + p_6 * A_7(t=1) ]            ~backward recursion\n",
      "     p_6 = 1 - q_6                                    ~complement of mortality\n",
      "     A_7(t=1) = A_7(t=1,endow=1) - E_7(t=1)        ~endowment insurance - pure\n",
      "      E_7(t=1) = p_7 * v(t=1)                                  ~pure endowment\n",
      "     p_7 = 1 - q_7                                    ~complement of mortality\n",
      "3195.1189176587473\n"
     ]
    }
   ],
   "source": [
    "print(\"SOA Question 6.48:  (A) 3195\")\n",
    "life = Recursion(depth=5).set_interest(i=0.06)\n",
    "x = 0\n",
    "life.set_p(0.95, x=x, t=5)\n",
    "life.set_q(0.02, x=x+5)\n",
    "life.set_q(0.03, x=x+6)\n",
    "life.set_q(0.04, x=x+7)\n",
    "a = 1 + life.E_x(x, t=5)\n",
    "A = life.deferred_insurance(x, u=5, t=3)\n",
    "P = life.gross_premium(A=A, a=a, benefit=100000)\n",
    "print(P)"
   ]
  },
  {
   "attachments": {},
   "cell_type": "markdown",
   "metadata": {},
   "source": [
    "__SOA Question 6.40__\n",
    "\n",
    "For a special fully discrete whole life insurance, you are given:\n",
    "\n",
    "- The death benefit is $1000(1.03)^k$ for death in policy year k, for $k = 1, 2, 3...$\n",
    "- $q_x = 0.05$\n",
    "- $i = 0.06$\n",
    "- $\\ddot{a}_{x+1} = 7.00$\n",
    "- The annual net premium for this insurance at issue age x is 110\n",
    "\n",
    "Calculate the annual net premium for this insurance at issue age $x + 1$."
   ]
  },
  {
   "cell_type": "code",
   "execution_count": 4,
   "metadata": {},
   "outputs": [
    {
     "name": "stdout",
     "output_type": "stream",
     "text": [
      "SOA Question 6.40: (C) 116 \n",
      " *Whole Life Annuity a_0(t=WL) <--\n",
      "   a_0(t=WL) = 1 + E_0(t=1) * a_1(t=WL)                    ~backward recursion\n",
      "    E_0(t=1) = p_0 * v(t=1)                                    ~pure endowment\n",
      "     p_0 = 1 - q_0                                    ~complement of mortality\n",
      "7.2735849056603765 0.8000943396226414\n",
      " *Whole Life Insurance A_1(t=WL) <--\n",
      "     A_1(t=WL) = [ A_0(t=WL) /v - q_1 * b ] / p_1           ~forward recursion\n",
      "      p_0 = 1 - q_0                                   ~complement of mortality\n",
      "116.51945397474269\n"
     ]
    }
   ],
   "source": [
    "print(\"SOA Question 6.40: (C) 116 \")\n",
    "x = 0\n",
    "life = Recursion().set_interest(i=0.06).set_a(7, x=x+1).set_q(0.05, x=x)\n",
    "a = life.whole_life_annuity(x)\n",
    "A = 110 * a / 1000\n",
    "print(a, A)\n",
    "life = Recursion().set_interest(i=0.06).set_A(A, x=x).set_q(0.05, x=x)\n",
    "A1 = life.whole_life_insurance(x+1)\n",
    "P = life.gross_premium(A=A1 / 1.03, a=7) * 1000\n",
    "print(P)"
   ]
  },
  {
   "attachments": {},
   "cell_type": "markdown",
   "metadata": {},
   "source": [
    "An insurance company sells special fully discrete two-year endowment insurance policies to smokers (S) and non-smokers (NS) age x. You are given:\n",
    "\n",
    "- The death benefit is 100,000; the maturity benefit is 30,000\n",
    "- The level annual premium for non-smoker policies is determined by the\n",
    "equivalence principle\n",
    "- The annual premium for smoker policies is twice the non-smoker annual premium\n",
    "- $\\mu^{NS}_{x+t} = 0.1.\\quad t > 0$\n",
    "- $q^S_{x+k} = 1.5 q_{x+k}^{NS}$, for $k = 0, 1$\n",
    "- $i = 0.08$\n",
    "\n",
    "Calculate the expected present value of the loss at issue random variable on a smoker policy."
   ]
  },
  {
   "cell_type": "code",
   "execution_count": 5,
   "metadata": {},
   "outputs": [
    {
     "name": "stdout",
     "output_type": "stream",
     "text": [
      "SOA Question 6.17:  (A) -30000\n",
      "37251.49857703497 1.8378124241073728 20269.478042694187\n",
      " *Term Insurance A_0(t=2) <--\n",
      "   A_0(t=2) = v * [ q_0 * b + p_0 * A_1(t=1) ]             ~backward recursion\n",
      "    p_0 = 1 - q_0                                     ~complement of mortality\n",
      "    A_1(t=1) = A_1(t=1,endow=1) - E_1(t=1)         ~endowment insurance - pure\n",
      "     E_1(t=1) = p_1 * v(t=1)                                   ~pure endowment\n",
      "    p_1 = 1 - q_1                                     ~complement of mortality\n",
      " *Temporary Annuity a_0(t=2) <--\n",
      "   a_0(t=2) = 1 + E_0(t=1) * a_1(t=1)                      ~backward recursion\n",
      "    E_0(t=1) = p_0 * v(t=1)                                    ~pure endowment\n",
      "     p_0 = 1 - q_0                                    ~complement of mortality\n",
      "    a_1(t=1) = 1                                    ~one-year discrete annuity\n",
      " *Pure Endowment E_0(t=2) <--\n",
      "   E_0(t=2) = p_0(t=2) * v(t=2)                                ~pure endowment\n",
      "    p_0(t=2) = p_1 * p_0                                  ~survival chain rule\n",
      "      p_0 = 1 - q_0                                   ~complement of mortality\n",
      "      p_1 = 1 - q_1                                   ~complement of mortality\n",
      "-30107.42633581125\n"
     ]
    }
   ],
   "source": [
    "print(\"SOA Question 6.17:  (A) -30000\")\n",
    "x = 0\n",
    "life = ConstantForce(mu=0.1).set_interest(i=0.08)\n",
    "A = life.endowment_insurance(x, t=2, b=100000, endowment=30000)\n",
    "a = life.temporary_annuity(x, t=2)\n",
    "P = life.gross_premium(a=a, A=A)\n",
    "print(A, a, P)\n",
    "\n",
    "life1 = Recursion().set_interest(i=0.08)\\\n",
    "                    .set_q(life.q_x(x, t=1) * 1.5, x=x, t=1)\\\n",
    "                    .set_q(life.q_x(x+1, t=1) * 1.5, x=x+1, t=1)\n",
    "contract = Contract(premium=P * 2, benefit=100000, endowment=30000)\n",
    "L = life1.gross_policy_value(x, t=0, n=2, contract=contract)\n",
    "print(L)\n"
   ]
  },
  {
   "attachments": {},
   "cell_type": "markdown",
   "metadata": {},
   "source": [
    "## Methods"
   ]
  },
  {
   "cell_type": "code",
   "execution_count": 6,
   "metadata": {},
   "outputs": [
    {
     "name": "stdout",
     "output_type": "stream",
     "text": [
      "\n",
      "class Recursion - Solve by appling recursive, shortcut and actuarial formulas repeatedly\n",
      "\n",
      "    Args:\n",
      "      depth : maximum depth of recursions (default is 3)\n",
      "      verbose : whether to echo recursion steps (True, default)\n",
      "\n",
      "    Notes:\n",
      "      7 types of information can be loaded and calculated in recursions:\n",
      "\n",
      "      - 'q' : (deferred) probability (x) dies in t years\n",
      "      - 'p' : probability (x) survives t years\n",
      "      - 'e' : (temporary) expected future lifetime, and moments\n",
      "      - 'A' : deferred, term, endowment or whole life insurance, and moments\n",
      "      - 'IA' : decreasing life insurance of t years\n",
      "      - 'DA' : increasing life insurance of t years\n",
      "      - 'a' : deferred, temporary or whole life annuity of t years, and moments\n",
      "\n",
      "    Methods:\n",
      "    --------\n",
      "\n",
      "    set_q(val, x, s, t, u):\n",
      "      Set mortality rate u|t_q_[x]+s to given value\n",
      "\n",
      "    set_p(val, x, s, t):\n",
      "      Set survival probability t_p_[x]+s to given value\n",
      "\n",
      "    set_e(val, x, s, t, curtate, moment):\n",
      "      Set expected future lifetime e_[x]+s:t to given value\n",
      "\n",
      "    set_E(val, x, s, t, endowment, moment):\n",
      "      Set pure endowment t_E_[x]+s to given value\n",
      "\n",
      "    set_A(val, x, s, t, u, b, moment, endowment, discrete):\n",
      "      Set insurance u|_A_[x]+s:t to given value\n",
      "\n",
      "    set_IA(val, x, s, t, b, discrete):\n",
      "      Set increasing insurance IA_[x]+s:t to given value\n",
      "\n",
      "    set_DA(val, x, s, t, b, discrete):\n",
      "      Set decreasing insurance DA_[x]+s:t to given value\n",
      "\n",
      "    set_a(val, x, s, t, u, b, variance, discrete):\n",
      "      Set annuity u|_a_[x]+s:t to given value\n",
      "\n",
      "\n"
     ]
    }
   ],
   "source": [
    "import describe\n",
    "describe.methods(Recursion)"
   ]
  }
 ],
 "metadata": {
  "kernelspec": {
   "display_name": "Python 3.10.5 ('env3.10')",
   "language": "python",
   "name": "python3"
  },
  "language_info": {
   "codemirror_mode": {
    "name": "ipython",
    "version": 3
   },
   "file_extension": ".py",
   "mimetype": "text/x-python",
   "name": "python",
   "nbconvert_exporter": "python",
   "pygments_lexer": "ipython3",
   "version": "3.11.3"
  },
  "orig_nbformat": 4,
  "vscode": {
   "interpreter": {
    "hash": "a53bd658f9a5b7202fd97fcbe4e35965efc28d0eb9d85b0766bd67191bc6202c"
   }
  }
 },
 "nbformat": 4,
 "nbformat_minor": 2
}
