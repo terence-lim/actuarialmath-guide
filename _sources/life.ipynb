{
 "cells": [
  {
   "attachments": {},
   "cell_type": "markdown",
   "metadata": {},
   "source": [
    "# Life Contingent Risks\n",
    "\n",
    "## Probability\n",
    "\n",
    "$Var(aX, bY) = a^2~Var(X) + b^2~Var(Y) + 2~a~b~Cov(X,Y)$\n",
    "\n",
    "$Cov(X, Y) = E[XY] - E[X] \\cdot E[Y]$\n",
    "\n",
    "__Bernoulli__ $(p)$ distribution\n",
    "\n",
    "$Y \\in \\{a,~b\\}$ w.p. $(p,~1-p)$\n",
    "\n",
    "- $E[Y] = a~p + b~(1-p)$\n",
    "\n",
    "- $Var[Y] = (a-b)^2~p~(1-p)$\n",
    "\n",
    "__Binomial__ $(N,~p)$ distribution\n",
    "\n",
    "$Y$ is sum of $N$ i.i.d. 0-1 Bernoulli($p$)\n",
    "\n",
    "- $E[Y] = N~p$\n",
    "\n",
    "- $Var[Y] = N~p~(1-p)$\n",
    "\n",
    "__Mixture__ $(p,~p_1,~p_2)$ of binomial distributions\n",
    "\n",
    "Y is Binomial $(p',~N)$, where $p' \\in (p_1,~p_2)$ w.p. $(p,~1-p)$\n",
    "\n",
    "- $E[Y] = p~N~p_1 + (1-p)~N~p_2$\n",
    "\n",
    "- $Var[Y] = E[Y^2] - E[Y]^2 = E[Var(Y~|~p') + E(Y~|~p')^2] - E[Y]^2$\n",
    "\n",
    "__Conditional Variance__\n",
    "\n",
    "$Var[Y] = Var(E[Y~|~p']) + E[Var (Y~|~p')]$\n",
    "\n",
    "__Portfolio Percentile__ ($p, N, \\mu, \\sigma^2$)\n",
    "\n",
    "$Y$ is sum of $N$ iid random variables, each with mean $\\mu$ and variance $\\sigma^2\n",
    "\n",
    "$Y \\sim$ Normal with \n",
    "  - mean $E[Y] = N\\mu$ and \n",
    "  - variance $Var[Y] = N\\sigma^2$\n",
    "\n",
    "$Y_p = E[y] + z_p~\\sqrt{Var[Y]}$\n",
    "  - value of $y$ at percentile $p$\n"
   ]
  },
  {
   "attachments": {},
   "cell_type": "markdown",
   "metadata": {},
   "source": [
    "## Examples\n",
    "\n",
    "The `Life` class implements methods for computing moments and probabilities of random variables -- future lifetimes are modelled as random variables in actuarial math."
   ]
  },
  {
   "cell_type": "code",
   "execution_count": 1,
   "metadata": {},
   "outputs": [],
   "source": [
    "import math\n",
    "from actuarialmath.life import Life"
   ]
  },
  {
   "attachments": {},
   "cell_type": "markdown",
   "metadata": {},
   "source": [
    "__SOA Question 2.2__: \n",
    "\n",
    "Scientists are searching for a vaccine for a disease. You are given:\n",
    "- 100,000 lives age x are exposed to the disease\n",
    "- Future lifetimes are independent, except that the vaccine, if available, will be given to all at the end of year 1\n",
    "- The probability that the vaccine will be available is 0.2\n",
    "- For each life during year 1, $q_x$ = 0.02\n",
    "- For each life during year 2, $q_{x+1}$ = 0.01 if the vaccine has been given and $q_{x+1}$ = 0.02 if it has not been given\n",
    "\n",
    "Calculate the standard deviation of the number of survivors at the end of year 2."
   ]
  },
  {
   "cell_type": "code",
   "execution_count": 2,
   "metadata": {},
   "outputs": [
    {
     "name": "stdout",
     "output_type": "stream",
     "text": [
      "SOA Question 2.2: (D) 400\n",
      "396.5914603215815\n",
      "396.5914603237804\n"
     ]
    }
   ],
   "source": [
    "print(\"SOA Question 2.2: (D) 400\")\n",
    "p1 = (1. - 0.02) * (1. - 0.01)  # 2_p_x if vaccine given\n",
    "p2 = (1. - 0.02) * (1. - 0.02)  # 2_p_x if vaccine not given\n",
    "print(math.sqrt(Life.conditional_variance(p=.2, p1=p1, p2=p2, N=100000)))\n",
    "print(math.sqrt(Life.mixture(p=.2, p1=p1, p2=p2, N=100000, variance=True)))\n"
   ]
  },
  {
   "attachments": {},
   "cell_type": "markdown",
   "metadata": {},
   "source": [
    "__Normal distribution table__: \n",
    "\n",
    "Generate extract of normal distribution table"
   ]
  },
  {
   "cell_type": "code",
   "execution_count": 3,
   "metadata": {},
   "outputs": [
    {
     "name": "stdout",
     "output_type": "stream",
     "text": [
      "Values of z for selected values of Pr(Z<=z)\n",
      "-------------------------------------------\n",
      "z         0.842  1.036  1.282  1.645  1.960  2.326  2.576\n",
      "Pr(Z<=z)  0.800  0.850  0.900  0.950  0.975  0.990  0.995\n"
     ]
    }
   ],
   "source": [
    "print(\"Values of z for selected values of Pr(Z<=z)\")\n",
    "print(\"-------------------------------------------\")\n",
    "print(Life.quantiles_frame().to_string(float_format=lambda x: f\"{x:.3f}\"))"
   ]
  },
  {
   "attachments": {},
   "cell_type": "markdown",
   "metadata": {},
   "source": [
    "## Methods"
   ]
  },
  {
   "cell_type": "code",
   "execution_count": 4,
   "metadata": {},
   "outputs": [
    {
     "name": "stdout",
     "output_type": "stream",
     "text": [
      "\n",
      "class Life - Compute moments and probabilities\n",
      "\n",
      "    Methods:\n",
      "    --------\n",
      "\n",
      "    variance(a, b, var_a, var_b, cov_ab):\n",
      "      Variance of weighted sum of two r.v.\n",
      "\n",
      "    covariance(a, b, ab):\n",
      "      Covariance of two r.v.\n",
      "\n",
      "    bernoulli(p, a, b, variance):\n",
      "      Mean or variance of bernoulli r.v. with values {a, b}\n",
      "\n",
      "    binomial(p, N, variance):\n",
      "      Mean or variance of binomial r.v.\n",
      "\n",
      "    mixture(p, p1, p2, N, variance):\n",
      "      Mean or variance of binomial mixture\n",
      "\n",
      "    conditional_variance(p, p1, p2, N):\n",
      "      Conditional variance formula\n",
      "\n",
      "    portfolio_percentile(mean, variance, prob, N):\n",
      "      Probability percentile of the sum of N iid r.v.'s\n",
      "\n",
      "    set_interest(interest):\n",
      "      Set interest rate, which can be given in any form\n",
      "\n",
      "    quantiles_frame(quantiles):\n",
      "      Display selected quantile values from Normal distribution table\n",
      "\n",
      "\n"
     ]
    }
   ],
   "source": [
    "import describe\n",
    "describe.methods(Life)"
   ]
  }
 ],
 "metadata": {
  "kernelspec": {
   "display_name": "Python 3.10.5 ('env3.10')",
   "language": "python",
   "name": "python3"
  },
  "language_info": {
   "codemirror_mode": {
    "name": "ipython",
    "version": 3
   },
   "file_extension": ".py",
   "mimetype": "text/x-python",
   "name": "python",
   "nbconvert_exporter": "python",
   "pygments_lexer": "ipython3",
   "version": "3.11.3"
  },
  "orig_nbformat": 4,
  "vscode": {
   "interpreter": {
    "hash": "a53bd658f9a5b7202fd97fcbe4e35965efc28d0eb9d85b0766bd67191bc6202c"
   }
  }
 },
 "nbformat": 4,
 "nbformat_minor": 2
}
