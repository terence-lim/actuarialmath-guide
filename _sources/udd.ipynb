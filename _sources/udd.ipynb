{
 "cells": [
  {
   "attachments": {},
   "cell_type": "markdown",
   "metadata": {},
   "source": [
    "# UDD M'thly\n",
    "\n",
    "With the UDD fractional age assumption, we can work with annual insurance and annuity factors $A_x$ and $a_x$, then adjust for a more appropriate frequency $A^{(m)}_{x}$ and $\\ddot{a}^{(m)}_{x}$ using the following relationships.\n"
   ]
  },
  {
   "attachments": {},
   "cell_type": "markdown",
   "metadata": {},
   "source": [
    "## Life insurance\n",
    "\n",
    "Using the values of $A_x$ to approximate $A^{(m)}_{x}$\n",
    "\n",
    "$A^{(m)}_x = \\dfrac{i}{i^{(m)}} A_x$\n",
    "- discrete whole life insurance \n",
    "\n",
    "$A^ {1~(m)}_{x:\\overline{t|}} = \\dfrac{i}{i^{(m)}} A^{1}_{x:\\overline{t|}}$\n",
    "- discrete term insurance\n",
    "\n",
    "$A^{(m)}_{x:\\overline{t|}} = \\dfrac{i}{i^{(m)}} A^{1}_{x:\\overline{t|}} + ~_tE_x$\n",
    "- endowment insurance combines the death and survival benefits, so we need to split off the death benefit to apply the approximations.\n",
    "\n",
    "$_{u|}A^{(m)}_{x} = ~_uE_x \\dfrac{i}{i^{(m)}} A_{x+u}$\n",
    "- discrete deferred insurance\n",
    "\n",
    "\n",
    "__Double the force of interest__\n",
    "\n",
    "${^2}A^{(m)}_x = \\dfrac{i^2 - 2i}{(i^{(m)})^2 - 2 i^{(m)}} ~ {^2}A_x$\n",
    "- relate to doubling the force of interest for annual whole life insurance\n",
    "\n"
   ]
  },
  {
   "attachments": {},
   "cell_type": "markdown",
   "metadata": {},
   "source": [
    "## Continuous Life Insurance\n",
    "\n",
    "Under UDD, continuous life insurance can also be related to annual life insurance factors\n",
    "\n",
    "$\\overline{A}_x = \\dfrac{i}{\\delta} A_x$\n",
    "- cwhole life insurance\n",
    "\n",
    "$\\overline{A}^ {1}_{x:\\overline{t|}} = \\dfrac{i}{\\delta} A^{1}_{x:\\overline{t|}}$\n",
    "- term life insurance\n",
    "\n",
    "$\\overline{A}_{x:\\overline{t|}} = \\dfrac{i}{\\delta} A^{1}_{x:\\overline{t|}} + ~_tE_x$\n",
    "- endowment insurance\n",
    "\n",
    "$_{u|}\\overline{A}_{x} = ~_uE_x ~ \\dfrac{i}{\\delta} A_{x+u}$\n",
    "- deferred life insurance\n",
    "\n",
    "__Double the force of interest__\n",
    "\n",
    "${^2}\\overline{A}_x = \\dfrac{i^2 - 2i}{2\\delta} ~ {^2} A_x$\n",
    "- relate to doubling the force of interest for annual whole life insurance\n",
    "\n",
    "\n"
   ]
  },
  {
   "attachments": {},
   "cell_type": "markdown",
   "metadata": {},
   "source": [
    "## Interest functions\n",
    "\n",
    "It can be shown that by subtituting in annuity twins in the above relationships under UDD, values of 1/mthly life annuities can be adjusted from annual life annuity factors using interest rate functions $\\alpha(m)$ and $\\beta(m)$\n",
    "\n",
    "$\\alpha(m) = \\dfrac{id}{i^{(m)} ~ d^{(m)}}$\n",
    "\n",
    "$\\beta(m) = \\dfrac{i - i^{(m)}}{i^{(m)} ~ d^{(m)}}$\n",
    "\n",
    "\n",
    "## Life annuities\n",
    "Using the values of $\\ddot{a}_x$, and the interest rate functions, to obtain $\\ddot{a}^{(m)}_{x}$ under UDD.\n",
    "\n",
    "$\\ddot{a}^{(m)}_{x} = \\alpha(m) ~ \\ddot{a}_{x} - \\beta(m)$\n",
    "- whole life annuity\n",
    "\n",
    "$\\ddot{a}^{(m)}_{x:\\overline {n|}} = \\alpha(m) ~ \\ddot{a}_{x:\\overline {n|}} - \\beta(m)(1 - ~_tE_x)$\n",
    "- temporary life annuity\n",
    "\n",
    "$_{u|}\\ddot{a}^{(m)}_{x} = \\alpha(m) ~ _{u|}\\ddot{a}_{x} - \\beta(m) ~ _uE_x$\n",
    "- deferred whole life annuity"
   ]
  },
  {
   "attachments": {},
   "cell_type": "markdown",
   "metadata": {},
   "source": [
    "## Methods\n",
    "\n",
    "The `UDD` class implements methods to compute life insurance and annuities assuming a uniform distribution of deaths (UDD)"
   ]
  },
  {
   "cell_type": "code",
   "execution_count": 1,
   "metadata": {},
   "outputs": [
    {
     "name": "stdout",
     "output_type": "stream",
     "text": [
      "\n",
      "class UDD - 1/mthly shortcuts with UDD assumption\n",
      "\n",
      "    Args:\n",
      "      m : number of payments per year\n",
      "      life : original fractional survival and mortality functions\n",
      "\n",
      "    Methods:\n",
      "    --------\n",
      "\n",
      "    alpha(m, i):\n",
      "      Derive 1/mthly UDD interest rate beta function value\n",
      "\n",
      "    beta(m, i):\n",
      "      Derive 1/mthly UDD interest rate alpha function value\n",
      "\n",
      "    interest_frame(i):\n",
      "      Display 1/mthly UDD interest function values\n",
      "\n",
      "\n"
     ]
    }
   ],
   "source": [
    "from actuarialmath import UDD, SULT, Recursion, Contract\n",
    "import describe\n",
    "describe.methods(UDD)"
   ]
  },
  {
   "attachments": {},
   "cell_type": "markdown",
   "metadata": {},
   "source": [
    "## Examples\n",
    "\n"
   ]
  },
  {
   "attachments": {},
   "cell_type": "markdown",
   "metadata": {},
   "source": [
    "__SOA Question 6.38__\n",
    "\n",
    "For an n-year endowment insurance of 1000 on (x), you are given:\n",
    "- Death benefits are payable at the moment of death\n",
    "- Premiums are payable annually at the beginning of each year\n",
    "- Deaths are uniformly distributed over each year of age\n",
    "- $i = 0.05$\n",
    "- $_nE_x = 0.172$\n",
    "- $\\overline{A}_{x:\\overline{n|}} = 0.192$\n",
    "\n",
    "Calculate the annual net premium for this insurance."
   ]
  },
  {
   "cell_type": "code",
   "execution_count": 2,
   "metadata": {},
   "outputs": [
    {
     "name": "stdout",
     "output_type": "stream",
     "text": [
      "SOA Question 6.38:  (B) 11.3\n",
      " *Temporary Annuity a_0(t=10) <--\n",
      "   a_0(t=10) = [ 1 - A_0(t=10) ] / d(t=10)                       ~annuity twin\n",
      "      a_0(t=1) = 1                                  ~one-year discrete annuity\n",
      "      a_1(t=1) = 1                                  ~one-year discrete annuity\n",
      "16.560714925944584\n",
      "16.978162620976775 11.308644185253657\n"
     ]
    }
   ],
   "source": [
    "print(\"SOA Question 6.38:  (B) 11.3\")\n",
    "x, n = 0, 10\n",
    "life = Recursion().set_interest(i=0.05)\\\n",
    "                  .set_A(0.192, x=x, t=n, endowment=1, discrete=False)\\\n",
    "                  .set_E(0.172, x=x, t=n)\n",
    "a = life.temporary_annuity(x, t=n, discrete=False)\n",
    "print(a)\n",
    "def fun(a):      # solve for discrete annuity, given continuous                   \n",
    "    life = Recursion().set_interest(i=0.05)\\\n",
    "                      .set_a(a, x=x, t=n)\\\n",
    "                      .set_E(0.172, x=x, t=n)\n",
    "    return UDD(m=0, life=life).temporary_annuity(x, t=n)\n",
    "a = life.solve(fun, target=a, grid=a)  # discrete annuity                        \n",
    "P = life.gross_premium(a=a, A=0.192, benefit=1000)\n",
    "print(a, P)\n"
   ]
  },
  {
   "attachments": {},
   "cell_type": "markdown",
   "metadata": {},
   "source": [
    "__SOA Question 6.32__\n",
    "\n",
    "For a whole life insurance of 100,000 on (x), you are given:\n",
    "- Death benefits are payable at the moment of death\n",
    "- Deaths are uniformly distributed over each year of age\n",
    "- Premiums are payable monthly\n",
    "- $i = 0.05$\n",
    "- $\\ddot{a}_x = 9.19$\n",
    "\n",
    "Calculate the monthly net premium."
   ]
  },
  {
   "cell_type": "code",
   "execution_count": 3,
   "metadata": {},
   "outputs": [
    {
     "name": "stdout",
     "output_type": "stream",
     "text": [
      "SOA Question 6.32:  (C) 550\n",
      " *Whole Life Insurance A_0(t=WL) <--\n",
      "   A_x = 1 - d * a_x                                             ~annuity twin\n",
      "0.5763261529803323 8.72530251348809\n",
      "550.4356936711871\n"
     ]
    }
   ],
   "source": [
    "print(\"SOA Question 6.32:  (C) 550\")\n",
    "x = 0\n",
    "life = Recursion().set_interest(i=0.05).set_a(9.19, x=x)\n",
    "benefits = UDD(m=0, life=life).whole_life_insurance(x)\n",
    "payments = UDD(m=12, life=life).whole_life_annuity(x)\n",
    "print(benefits, payments)\n",
    "print(life.gross_premium(a=payments, A=benefits, benefit=100000)/12)\n"
   ]
  },
  {
   "attachments": {},
   "cell_type": "markdown",
   "metadata": {},
   "source": [
    "__SOA Question 6.22__\n",
    "\n",
    "For a whole life insurance of 100,000 on (45) with premiums payable monthly for a\n",
    "period of 20 years, you are given:\n",
    "- The death benefit is paid immediately upon death\n",
    "- Mortality follows the Standard Ultimate Life Table\n",
    "- Deaths are uniformly distributed over each year of age\n",
    "- $i = 0.05$\n",
    "\n",
    "Calculate the monthly net premium."
   ]
  },
  {
   "cell_type": "code",
   "execution_count": 4,
   "metadata": {},
   "outputs": [
    {
     "name": "stdout",
     "output_type": "stream",
     "text": [
      "SOA Question 6.22:  (C) 102\n",
      "102.40668704849178\n"
     ]
    }
   ],
   "source": [
    "print(\"SOA Question 6.22:  (C) 102\")\n",
    "life = SULT(udd=True)\n",
    "a = UDD(m=12, life=life).temporary_annuity(45, t=20)\n",
    "A = UDD(m=0, life=life).whole_life_insurance(45)\n",
    "print(life.gross_premium(A=A, a=a, benefit=100000)/12)\n"
   ]
  },
  {
   "attachments": {},
   "cell_type": "markdown",
   "metadata": {},
   "source": [
    "SOA Question 7.9\n",
    "\n",
    "For a semi-continuous 20-year endowment insurance of 100,000 on (45), you are given:\n",
    "- Net premiums of 253 are payable monthly\n",
    "- Mortality follows the Standard Ultimate Life Table\n",
    "- Deaths are uniformly distributed over each year of age\n",
    "- i = 0.05\n",
    "\n",
    "Calculate $_{10}V$, the net premium policy value at the end of year 10 for this insurance."
   ]
  },
  {
   "cell_type": "code",
   "execution_count": 5,
   "metadata": {},
   "outputs": [
    {
     "name": "stdout",
     "output_type": "stream",
     "text": [
      "SOA Question 7.9:  (A) 38100\n",
      "7.831075686716718 0.6187476755196442\n",
      "38099.62176709247 38099.62176709246\n"
     ]
    }
   ],
   "source": [
    "\n",
    "print(\"SOA Question 7.9:  (A) 38100\")\n",
    "sult = SULT(udd=True)\n",
    "x, n, t = 45, 20, 10\n",
    "a = UDD(m=12, life=sult).temporary_annuity(x+10, t=n-10)\n",
    "A = UDD(m=0, life=sult).endowment_insurance(x+10, t=n-10)\n",
    "print(a, A)\n",
    "contract = Contract(premium=253*12, endowment=100000, benefit=100000)\n",
    "print(A*100000 - a*12*253, sult.gross_future_loss(A=A, a=a, contract=contract))\n"
   ]
  },
  {
   "attachments": {},
   "cell_type": "markdown",
   "metadata": {},
   "source": [
    "__SOA Question 6.49__\n",
    "\n",
    "For a special whole life insurance of 100,000 on (40), you are given:\n",
    "- The death benefit is payable at the moment of death\n",
    "- Level gross premiums are payable monthly for a maximum of 20 years\n",
    "- Mortality follows the Standard Ultimate Life Table\n",
    "- $i = 0.05$\n",
    "- Deaths are uniformly distributed over each year of age\n",
    "- Initial expenses are 200\n",
    "- Renewal expenses are 4% of each premium including the first\n",
    "- Gross premiums are calculated using the equivalence principle\n",
    "\n",
    "Calculate the monthly gross premium.\n"
   ]
  },
  {
   "cell_type": "code",
   "execution_count": 6,
   "metadata": {},
   "outputs": [
    {
     "name": "stdout",
     "output_type": "stream",
     "text": [
      "SOA Question 6.49:  (C) 86\n",
      "85.99177833261696\n"
     ]
    }
   ],
   "source": [
    "print(\"SOA Question 6.49:  (C) 86\")\n",
    "sult = SULT(udd=True)\n",
    "a = UDD(m=12, life=sult).temporary_annuity(40, t=20)\n",
    "A = sult.whole_life_insurance(40, discrete=False)\n",
    "P = sult.gross_premium(a=a, A=A, benefit=100000, initial_policy=200,\n",
    "                        renewal_premium=0.04, initial_premium=0.04)\n",
    "print(P/12)\n"
   ]
  },
  {
   "attachments": {},
   "cell_type": "markdown",
   "metadata": {},
   "source": [
    "__Generate table of interest functions__:"
   ]
  },
  {
   "cell_type": "code",
   "execution_count": 7,
   "metadata": {},
   "outputs": [
    {
     "name": "stdout",
     "output_type": "stream",
     "text": [
      "Interest Functions at i=0.05\n",
      "----------------------------\n",
      "       i(m)     d(m)   i/i(m)   d/d(m)  alpha(m)  beta(m)\n",
      "1   0.05000  0.04762  1.00000  1.00000   1.00000  0.00000\n",
      "2   0.04939  0.04820  1.01235  0.98795   1.00015  0.25617\n",
      "4   0.04909  0.04849  1.01856  0.98196   1.00019  0.38272\n",
      "12  0.04889  0.04869  1.02271  0.97798   1.00020  0.46651\n",
      "0   0.04879  0.04879  1.02480  0.97600   1.00020  0.50823\n"
     ]
    }
   ],
   "source": [
    "\n",
    "print(\"Interest Functions at i=0.05\")\n",
    "print(\"----------------------------\")\n",
    "print(UDD.interest_frame())\n"
   ]
  }
 ],
 "metadata": {
  "kernelspec": {
   "display_name": "Python 3.10.5 ('env3.10')",
   "language": "python",
   "name": "python3"
  },
  "language_info": {
   "codemirror_mode": {
    "name": "ipython",
    "version": 3
   },
   "file_extension": ".py",
   "mimetype": "text/x-python",
   "name": "python",
   "nbconvert_exporter": "python",
   "pygments_lexer": "ipython3",
   "version": "3.11.4"
  },
  "orig_nbformat": 4,
  "vscode": {
   "interpreter": {
    "hash": "a53bd658f9a5b7202fd97fcbe4e35965efc28d0eb9d85b0766bd67191bc6202c"
   }
  }
 },
 "nbformat": 4,
 "nbformat_minor": 2
}
