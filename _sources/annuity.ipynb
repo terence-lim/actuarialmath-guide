{
 "cells": [
  {
   "attachments": {},
   "cell_type": "markdown",
   "metadata": {},
   "source": [
    "# Annuities\n",
    "\n",
    "A life annuity is a regular sequence of payments as long as the annuitant is alive on the payment date.\n",
    "\n",
    "## Present value of life annuity r.v. $Y$\n",
    "Valuation functions for the present value of annuity benefits, denoted by Y, are based on the continuous future lifetime random variable, $T_x$, or the curtate future lifetime random variable, $K_x$. The expected present value of annuity benefits is denoted and solved by EPV(Y). A useful formula from interest theory is that for a $T$-year continuous annuity-certain and annual annuity-due -- $\\overline{a}_{\\overline{T|}} = \\dfrac{1 - v^{T}}{\\delta}$ and $\\ddot{a}_{\\overline{T|}} = \\dfrac{1 - v^{T}}{d}$ -- which are used to calculate the actuarial present value of life annuities.\n",
    "\n",
    "## Whole life annuity\n",
    "\n",
    "A whole life annuity pays a level benefit until the death of the annuitant\n",
    "\n",
    "$Y = ~ \\overline{a}_{\\overline{T_x|}} = \\dfrac{1 - v^{T_x}}{\\delta}$ \n",
    "\n",
    "- present value random variable for continuous life annuity that pays at a rate of 1 per year until the moment of death $T_x$\n",
    "\n",
    "$\\overline{a}_x = EPV[\\overline{a}_{\\overline{T_x|}}] = \\int_{t=0}^{\\infty} ~ v^t ~ _tp_x  ~ dt$\n",
    "\n",
    "- expected present value of continuous whole life annuity\n",
    "\n",
    "$\\overline{a}_x = \\overset{\\circ}{e}_x$\n",
    "\n",
    "- special case when interest rate is 0\n",
    "\n"
   ]
  },
  {
   "attachments": {},
   "cell_type": "markdown",
   "metadata": {},
   "source": [
    "\n",
    "$Y = \\ddot{a}_{\\overline{K_x + 1|}} = \\dfrac{1 - v^{K_x + 1}}{d}$\n",
    "- present value random variable for annual life annuity due that pays 1 up to the beginning of the year of death\n",
    "\n",
    "$\\ddot{a}_x = EPV[\\ddot{a}_{\\overline{K_x+1|}}] = \\sum_{k=0}^{\\infty} ~ v^k ~ _{k}p_x$\n",
    "\n",
    "- expected present value of annual whole life annuity due\n",
    "\n",
    "$\\ddot{a}_x = 1 + e_x$\n",
    "\n",
    "- special case when interest rate is 0\n",
    "\n",
    "\n"
   ]
  },
  {
   "attachments": {},
   "cell_type": "markdown",
   "metadata": {},
   "source": [
    "## Temporary annuity\n",
    "\n",
    "A $t$-year temporary life year annuity pays a level benefit until the earlier of death and year $t$\n",
    "\n",
    "$Y = ~ \\overline{a}_{\\overline{t|}}$ when or $T_x > t$, else $Y = \\overline{a}_{\\overline{T_x|}}$\n",
    "- present value random variable for continuous temporary life annuity that pays at a rate of 1 until the moment of death, or $t$ if earlier\n",
    "\n",
    "$\\overline{a}_{x:\\overline{t|}} = \\int_{s=0}^{t} ~ v^s ~ _sp_x  ~ ds = \\overline{a}_x - ~_tE_x ~ \\overline{a}_{x+t}$\n",
    "\n",
    "- expected present value of continuous temporary life annuity\n",
    "\n",
    "$\\overline{a}_{x:\\overline{t|}} = \\overset{\\circ}{e}_{x:\\overline{t|}}$\n",
    "\n",
    "- when interest rate is 0\n",
    "\n"
   ]
  },
  {
   "cell_type": "markdown",
   "metadata": {},
   "source": [
    "$Y = \\ddot{a}_{\\overline{t|}}$ when $K_x \\ge t$, else $Y = \\ddot{a}_{\\overline{K_x+1|}}$\n",
    "- present value random variable for annual life annuity that pays 1 at the beginning of the year until the moment of death, or $t$ if earlier.\n",
    "\n",
    "$\\ddot{a}_{x:\\overline{t|}} = \\sum_{k=0}^{t-1} ~ v^k ~ _{k|}p_x = \\ddot{a}_x - ~_tE_x ~ \\ddot{a}_{x+t}$\n",
    "\n",
    "- expected present value of annual temporary life annuity due\n",
    "\n",
    "$\\ddot{a}_{x:\\overline{t|}} = 1 + e_{x:\\overline{t|}} -~ _tp_x$\n",
    "\n",
    "- when interest rate is 0\n",
    "\n"
   ]
  },
  {
   "cell_type": "markdown",
   "metadata": {},
   "source": [
    "## Deferred whole life annuity\n",
    "\n",
    "A $n$-year deferred life annuity pays a level benefit starting at time $n$ and continuing until death.\n",
    "\n",
    "$_{u|}\\overline{a}_{x} = \\overline{a}_{x} - \\overline{a}_{x+u}$\n",
    "\n",
    "- continuous deferred life annuity as the difference of whole life annuities\n",
    "\n",
    "$_{u|}\\ddot{a}_{x} = \\ddot{a}_{x} - \\ddot{a}_{x+u}$\n",
    "\n",
    "- annual deferred annuity due as the difference of annual whole life annuities due\n",
    "\n",
    "\n"
   ]
  },
  {
   "attachments": {},
   "cell_type": "markdown",
   "metadata": {},
   "source": [
    "## Certain and life annuity\n",
    "\n",
    "A common feature of pension benefits is that the pension annuity is guaranteed to be paid for some period even if the annuitant dies before the end of the period.\n",
    "\n",
    "$Y = ~ \\overline{a}_{\\overline{n|}}$ when $T_x \\le n$, else $\\overline{a}_{\\overline{T_x|}}$\n",
    "- present value random variable for continuous certain and life annuity\n",
    "\n",
    "$\\overline{a}_{\\overline{x:\\overline{n|}}} = \\overline{a}_{\\overline{n|}} + ~_{n|}\\overline{a}_{x}$\n",
    "\n",
    "- can be computed as a continuous temporary certain annuity plus a deferred continuous whole life annuity\n",
    "\n",
    "$Y = \\ddot{a}_{\\overline{n|}}$ when $K_x < n$, else $\\ddot{a}_{\\overline{K_x+1|}}$\n",
    "- present value random variable for annual certain and life annuity due\n",
    "\n",
    "$\\ddot{a}_{\\overline{x:\\overline{n|}}} = \\ddot{a}_{\\overline{n|}} + ~_{n|}\\ddot{a}_{x}$\n",
    "\n",
    "- can be computed as an annual temporary certain annuity due, plus a deferred annual life annuity due\n",
    "\n",
    "\n",
    "\n"
   ]
  },
  {
   "attachments": {},
   "cell_type": "markdown",
   "metadata": {},
   "source": [
    "## Life insurance twin\n",
    "\n",
    "_Whole_ and _Temporary Life Annuities_ (and _Whole Life_ and _Endowment Insurance_) __ONLY__:\n",
    "\n",
    "\n",
    "$\\overline{a}_x = \\dfrac{1 - \\overline{A}_x}{\\delta}$\n",
    "\n",
    "$\\overline{A}_x = 1 - \\delta ~ \\overline{a}_x$\n",
    "\n",
    "- continuous whole life insurance twin for continuous whole life annuity\n",
    "\n",
    "$\\ddot{a}_x = \\dfrac{1 - A_x}{d}$\n",
    "\n",
    "$A_x = 1 - d ~ \\ddot{a}_x$\n",
    "\n",
    "- annual whole life insurance twin for annual life annuity due\n",
    "\n",
    "$\\overline{a}_{x:\\overline{t|}} = \\dfrac{1 - \\overline{A}_{x:\\overline{t|}}}{\\delta}$\n",
    "\n",
    "$\\overline{A}_{x:\\overline{t|}} = 1 - \\delta ~ \\overline{a}_{x:\\overline{t|}}$\n",
    "\n",
    "- continuous endowment insurance twin for continuous temporary life annuity\n",
    "\n",
    "$\\ddot{a}_{x:\\overline{t|}} = \\dfrac{1 - A_{x:\\overline{t|}}}{d}$\n",
    "\n",
    "$A_{x:\\overline{t|}} = 1 - d ~ \\ddot{a}_{x:\\overline{t|}}$\n",
    "\n",
    "- annual endowment insurance twin for annual temporary life annuity due"
   ]
  },
  {
   "attachments": {},
   "cell_type": "markdown",
   "metadata": {},
   "source": [
    "## Variances\n",
    "\n",
    "The second moment of a life annuity is not easy to compute directly.  However, for whole life and temporary life annuities, the variance can be calculated directly using the insurance twin equations.\n",
    "\n",
    "__Whole life annuity__\n",
    "\n",
    "${^2}\\overline{a}_x = \\dfrac{1 - {^2}\\overline{A}_x}{2 \\delta}$\n",
    "\n",
    "${^2}\\overline{A}_x = 1 - (2 \\delta) ~ {^2}\\overline{a}_x$\n",
    "\n",
    "$Var(\\overline{a}_{x}) =  \\dfrac{{^2}\\overline{A}_{x} - (\\overline{A}_{x})^2}{\\delta^2}$\n",
    "\n",
    "- from doubling the force of interest of continuous whole life insurance\n",
    "\n",
    "\n",
    "${^2}\\ddot{a}_x = \\dfrac{1 - {^2}A_x}{2d - d^2}$\n",
    "\n",
    "${^2}A_x = 1 - (2d - d^2) ~ {^2}\\ddot{a}_x$\n",
    "\n",
    "$Var(\\ddot{a}_{x}) = \\dfrac{{^2}\\ddot{A}_{x} - ~(A_{x})^2}{d^2}$\n",
    "\n",
    "- from doubling the force of interest of annual whole life insurance\n",
    "\n",
    "__Temporary life annuity__\n",
    "\n",
    "${^2}\\overline{a}_{x:\\overline{t|}} = \\dfrac{1 - {^2}\\overline{A}_{x:\\overline{t|}}}{2 \\delta}$\n",
    "\n",
    "${^2}\\overline{A}_{x:\\overline{t|}} = 1 - (2 \\delta) ~ {^2}\\overline{a}_{x:\\overline{t|}}$\n",
    "\n",
    "$Var(\\overline{a}_{x:\\overline{t|}}) =  \\dfrac{{^2}\\overline{A}_{x:\\overline{t|}} - (\\overline{A}_{x:\\overline{t|}})^2}{\\delta^2}$\n",
    "\n",
    "- from doubling the force of interest of continuous endowment insurance\n",
    "\n",
    "\n",
    "${^2}\\ddot{a}_{x:\\overline{t|}} = \\dfrac{1 - {^2}A_{x:\\overline{t|}}}{2d - d^2}$\n",
    "\n",
    "${^2}A_{x:\\overline{t|}} = 1 - (2d - d^2) ~ {^2}\\ddot{a}_{x:\\overline{t|}}$\n",
    "\n",
    "$Var(\\ddot{a}_{x:\\overline{t|}}) = \\dfrac{{^2}A_{x:\\overline{t|}} - ~(A_{x:\\overline{t|}})^2}{d^2}$\n",
    "\n",
    "- from doubling the force of interest of annual endowment insurance"
   ]
  },
  {
   "attachments": {},
   "cell_type": "markdown",
   "metadata": {},
   "source": [
    "## Immediate life annuity\n",
    "\n",
    "Benefit is paid at the _end of the year_, as long as the annuitant is alive, and can be related to the value of an annual life annuity due:\n",
    "\n",
    "$a_x = \\ddot{a}_x - 1$\n",
    "\n",
    "- whole life annuities\n",
    "\n",
    "$a_{x:\\overline{t|}} = \\ddot{a}_{x:\\overline{t|}} - 1 + ~_tE_x$\n",
    "\n",
    "- temporary life annuities\n",
    "\n",
    "\n",
    "\n",
    "\n"
   ]
  },
  {
   "attachments": {},
   "cell_type": "markdown",
   "metadata": {},
   "source": [
    "## Varying life annuities\n",
    "\n",
    "__Increasing annuity__:\n",
    "\n",
    "The amount of the annuity payment increases arithmetically with time.\n",
    "\n",
    "$(\\overline{Ia})_{x} = \\int_{t=0}^{\\infty} ~ t ~ v^t ~ _tp_x  ~ dt$\n",
    "\n",
    "- EPV of continuously increasing whole life annuity\n",
    "\n",
    "$(I\\ddot{a})_{x} = \\sum_{k=0}^{\\infty} ~ (k+1) ~ v^{k+1} ~ _{k}p_x$\n",
    "\n",
    "- EPV of annual increasing whole life annuity due\n",
    "\n",
    "$(\\overline{Ia})_{x:\\overline{t|}} = \\int_{s=0}^{t} ~ s ~ v^s ~ _sp_x ~ ds$\n",
    "\n",
    "- EPV of continuously increasing temporary life annuity\n",
    "\n",
    "$(I\\ddot{a})_{x:\\overline{t|}} = \\sum_{k=0}^{t-1} ~ (k+1) ~ v^{k+1} ~ _{k}p_x$\n",
    "\n",
    "- EPV of annual increasing temporary life annuity due\n",
    "\n",
    "__Decreasing annuity__:\n",
    "\n",
    "The amount of the annuity payment decreases arithmetically with time. There are no decreasing whole life annuities.\n",
    "\n",
    "$(\\overline{Da})_{x:\\overline{t|}} = \\int_{s=0}^{t} ~ (t-s) ~ v^s ~ _sp_x ~ ds$\n",
    "\n",
    "- EPV of continuously decreasing temporary life annuity (not defined for whole life)\n",
    "\n",
    "$(D\\ddot{a})_{x:\\overline{t|}} = \\sum_{k=0}^{t-1} ~ (t-k) ~ v^{k+1} ~ _{k}p_x$\n",
    "\n",
    "- EPV of annual decreasing temporary life annuity due (not defined for whole life)\n",
    "\n",
    "__Identity relationships__:\n",
    "\n",
    "$(\\overline{Da})_{x:\\overline{t|}} + (\\overline{Ia})_{x:\\overline{t|}} = t ~ \\overline{a}_{x:\\overline{t|}}$\n",
    "\n",
    "- the sum of continuous $t$-year decreasing and increasing life annuities is $t$ times a $t$-year temporary annuity\n",
    "\n",
    "$(D\\ddot{a})_{x:\\overline{t|}} + (I\\ddot{a})_{x:\\overline{t|}} = (t+1) ~ \\ddot{a}_{x:\\overline{t|}} $\n",
    "\n",
    "- the sum of $t$-year annual decreasing and increasing life annuities due is $t+1$ times a $t$-year temporary annuity"
   ]
  },
  {
   "cell_type": "markdown",
   "metadata": {},
   "source": [
    "## Probabilities and percentiles\n",
    "\n",
    "The value of annuity random variables always increases as a function of survival time.  Hence calculating a percentile of a life annuity simply requires calculating the percentile of $T$, then calculating the value of a temporary annuity. \n",
    "\n",
    "__Percentile of $Y$:__\n",
    "\n",
    "$t_{\\pi} = S^{-1}(1 - \\pi)$\n",
    "\n",
    "- the $100p$-th percentile of the lifetime variable for whole life annuity can be obtained from looking up the inverse of the survival function at probability $p$.\n",
    "\n",
    "$Y_{\\pi} = b~\\overline{a}_{\\overline{t_{\\pi}|}} = b~\\dfrac{1 - v^{t_{\\pi}}}{\\delta}$\n",
    "\n",
    "- the PV of the annuity r.v. that pays level benefit $b$ up to time $t_{\\pi}$  \n",
    "\n",
    "__Probability of $Y$:__\n",
    "\n",
    "Since annuity values monotonically increases with survaval time, to calculate he probability that the present value of an annuity is greater than some value $Pr(Y \\ge Y_{\\pi})$, calculate the time $t_{\\pi}$ for which $\\overline{a}_{\\overline{t_{\\pi}|}}$ has the required value, then calculate the probability that time of death $T_x$ is in that range."
   ]
  },
  {
   "attachments": {},
   "cell_type": "markdown",
   "metadata": {},
   "source": [
    "## Methods\n",
    "\n",
    "The `Annuity` class implements methods to compute the expected present value of life annuities"
   ]
  },
  {
   "cell_type": "code",
   "execution_count": 1,
   "metadata": {},
   "outputs": [
    {
     "name": "stdout",
     "output_type": "stream",
     "text": [
      "\n",
      "class Annuity - Compute present values and relationships of life annuities\n",
      "\n",
      "    Methods:\n",
      "    --------\n",
      "\n",
      "    a_x(x, s, t, u, benefit, discrete):\n",
      "      Compute EPV of life annuity from survival function\n",
      "\n",
      "    immediate_annuity(x, s, t, b, variance):\n",
      "      Compute EPV of immediate life annuity\n",
      "\n",
      "    annuity_twin(A, discrete):\n",
      "      Returns annuity from its WL or Endowment Insurance twin\"\n",
      "\n",
      "    insurance_twin(a, moment, discrete):\n",
      "      Returns WL or Endowment Insurance twin from annuity\n",
      "\n",
      "    annuity_variance(A2, A1, b, discrete):\n",
      "      Compute variance from WL or endowment insurance twin\n",
      "\n",
      "    whole_life_annuity(x, s, b, variance, discrete):\n",
      "      Whole life annuity: a_x\n",
      "\n",
      "    temporary_annuity(x, s, t, b, variance, discrete):\n",
      "      Temporary life annuity: a_x:t\n",
      "\n",
      "    deferred_annuity(x, s, u, t, b, discrete):\n",
      "      Deferred life annuity n|t_a_x =  n+t_a_x - n_a_x\n",
      "\n",
      "    certain_life_annuity(x, s, u, t, b, discrete):\n",
      "      Certain and life annuity = certain + deferred\n",
      "\n",
      "    increasing_annuity(x, s, t, b, discrete):\n",
      "      Increasing annuity\n",
      "\n",
      "    decreasing_annuity(x, s, t, b, discrete):\n",
      "      Identity (Da)_x:n + (Ia)_x:n = (n+1) a_x:n temporary annuity\n",
      "\n",
      "    Y_x(x, s, t, discrete):\n",
      "      EPV of year t annuity benefit for life aged [x]+s: b_x[s]+s(t)\n",
      "\n",
      "    Y_t(x, prob, discrete):\n",
      "      T_x given percentile of the r.v. Y = PV of WL or Temporary Annuity\n",
      "\n",
      "    Y_from_t(t, discrete):\n",
      "      PV of insurance payment Y(t), given T_x\n",
      "\n",
      "    Y_from_prob(x, prob, discrete):\n",
      "      Percentile of annual or continuous WL annuity PV r.v. Y, given probability\n",
      "\n",
      "    Y_plot(x, s, stop, benefit, T, discrete, ax, dual, title, color, alpha):\n",
      "      Plot PV of annuity r.v. Y vs T\n",
      "\n",
      "\n"
     ]
    }
   ],
   "source": [
    "from actuarialmath import Annuity\n",
    "import math\n",
    "import describe\n",
    "describe.methods(Annuity)"
   ]
  },
  {
   "attachments": {},
   "cell_type": "markdown",
   "metadata": {},
   "source": [
    "## Examples\n",
    "\n",
    "Given a survival model, the `a_x` class method computes the EPV for arbitrary life annuity benefits, discount functions, and terms using numerical integration or summation. Common life annuity EPV’s are computed by calling the class methods `whole_life_annuity, temporary_annuity, deferred_annuity, certain_life_annuity, increasing_insurance, decreasing insurance`, or `immediate_annuity`. The examples below confirm the numerical relationships of\n",
    "\n",
    "- whole life immediate annuity with annuity-due\n",
    "- whole life with temporary and deferred annuities\n",
    "- certain-and-life annuity with deferred life annuity and annuity-certain\n",
    "- temporary life annuity with increasing and decreasing life annuities \n",
    "\n",
    "\n"
   ]
  },
  {
   "cell_type": "code",
   "execution_count": 2,
   "metadata": {},
   "outputs": [
    {
     "name": "stdout",
     "output_type": "stream",
     "text": [
      "whole life annuity for (50):               17.024534933684702\n",
      "immediate whole life annuity for (50):     16.024534933684702\n",
      "10-year certain-and-life annuity for (50): 17.077353318594994\n",
      "10-year deferred annuity for (50):         8.96953164295094\n",
      "10-year annuity-certain for (50):          8.107821675644052\n",
      "10-year increasing insurance for (50):     40.9536356665489\n",
      "10-year decreasing insurance for (50):     47.65140053152248\n",
      "10-year temporary annuity for (50):        8.055003290733762\n",
      "5-year temporary annuity for (50):         4.534416095954249\n",
      "5-year deferred 5-year temporary for (50): 3.520587194779506\n"
     ]
    }
   ],
   "source": [
    "def S(x, s, t):  # define a survival function\n",
    "    return math.exp(-.00022*t - (.0000027*1.124**(x+s)*(1.124**t-1))/math.log(1.124))\n",
    "life = Annuity().set_survival(S=S, minage=20, maxage=130)\\\n",
    "                .set_interest(i=0.05)\n",
    "x, t = 50, 10\n",
    "print(f\"whole life annuity due for ({x}):          \", life.whole_life_annuity(x))\n",
    "print(f\"immediate whole life annuity for ({x}):    \", life.immediate_annuity(x))\n",
    "print(f\"{t}-year certain-and-life annuity for ({x}):\", life.certain_life_annuity(x, u=t))\n",
    "print(f\"{t}-year deferred life annuity for ({x}):   \", life.deferred_annuity(x, u=t))\n",
    "print(f\"{t}-year annuity-certain for ({x}):         \", life.interest.annuity(t=t))\n",
    "print(f\"{t}-year increasing insurance for ({x}):    \", life.increasing_annuity(x, t=t))\n",
    "print(f\"{t}-year decreasing insurance for ({x}):    \", life.decreasing_annuity(x, t=t))\n",
    "print(f\"{t}-year temporary annuity for ({x}):       \", life.temporary_annuity(x, t=t))\n",
    "print(f\"{t//2}-year temporary annuity for ({x}):        \", life.temporary_annuity(x, t=t//2))\n",
    "print(f\"{t//2}-year deferred {t//2}-year temporary for ({x}):\", \n",
    "      life.a_x(x, u=t//2, t=t//2))\n"
   ]
  },
  {
   "attachments": {},
   "cell_type": "markdown",
   "metadata": {},
   "source": [
    "The `Y_t` class method returns the $100p$-th percentile of the survival function, then `Y_from_t` can be called to discount the benefits up to that time. The `Y_from_prob` class method performs both steps with one call. `Y_plot plots the annuity present value r.v. as a function of time."
   ]
  },
  {
   "cell_type": "code",
   "execution_count": 3,
   "metadata": {},
   "outputs": [
    {
     "name": "stdout",
     "output_type": "stream",
     "text": [
      "T: 74.02351166727799\n",
      "p: 0.75 0.7499999999997666\n",
      "Y: 19.94237852945247 19.94237852945247\n"
     ]
    },
    {
     "data": {
      "image/png": "[encoded data removed]",
      "text/plain": [
       "<Figure size 640x480 with 1 Axes>"
      ]
     },
     "metadata": {},
     "output_type": "display_data"
    }
   ],
   "source": [
    "def S(x, s, t):  # define a survival function\n",
    "    return math.exp(-.00022*t - (.0000027*1.124**(x+s)*(1.124**t-1))/math.log(1.124))\n",
    "life = Annuity().set_survival(S=S, minage=20, maxage=130)\\\n",
    "                .set_interest(i=0.05)\n",
    "P = 0.75  # to find the 75-th percentile of Y\n",
    "T = life.Y_t(x=20, prob=P, discrete=False)  # corresponding percentile of lifetime\n",
    "life.Y_plot(x=20, stop=80, T=T, discrete=False)  # plot Y vs t, and annotate at time T\n",
    "print('T:', T)   # call methods and compare results\n",
    "print('p:', P, life.q_x(x=20, t=T))\n",
    "print('Y:', life.Y_from_prob(x=20, prob=P, discrete=False), life.Y_from_t(t=T, discrete=False))"
   ]
  },
  {
   "cell_type": "markdown",
   "metadata": {},
   "source": [
    "By setting the `dual`` argument to True, the survival probability of (x) can be simultaneously plotted to annotate, say, the median survival lifetime."
   ]
  },
  {
   "cell_type": "code",
   "execution_count": 4,
   "metadata": {},
   "outputs": [
    {
     "name": "stdout",
     "output_type": "stream",
     "text": [
      "S(K=69.0000): 0.45995640909219604\n",
      "S(T=68.0097): 0.49999343308443683\n"
     ]
    },
    {
     "data": {
      "image/png": "[encoded data removed]",
      "text/plain": [
       "<Figure size 640x480 with 2 Axes>"
      ]
     },
     "metadata": {},
     "output_type": "display_data"
    }
   ],
   "source": [
    "def S(x, s, t):  # define a survival function\n",
    "    return math.exp(-.00022*t - (.0000027*1.124**(x+s)*(1.124**t-1))/math.log(1.124))\n",
    "life = Annuity().set_survival(S=S, minage=20, maxage=130)\\\n",
    "                .set_interest(i=0.05)\n",
    "T = life.Y_t(x=20, prob=0.5, discrete=False)  # compute the median lifetime\n",
    "K = life.Y_t(x=20, prob=0.5, discrete=True)   # plot using discrete approximation\n",
    "life.Y_plot(x=20, stop=80, T=K, discrete=True, dual=True, title=\"median Z(K)\")\n",
    "print(f\"S(K={K:.4f}):\", life.p_x(x=20, t=K))  # survival function at integer age\n",
    "print(f\"S(T={T:.4f}):\", life.p_r(x=20, t=T))  # survival function at fractional age\n"
   ]
  },
  {
   "attachments": {},
   "cell_type": "markdown",
   "metadata": {},
   "source": [
    "__SOA Question 5.6__\n",
    "\n",
    "For a group of 100 lives age x with independent future lifetimes, you are given:\n",
    "- Each life is to be paid 1 at the beginning of each year, if alive\n",
    "- $A_x = 0.45$\n",
    "- $^2A_x = 0.22$\n",
    "- $i = 0.05$\n",
    "- $Y$ is the present value random variable of the aggregate payments.\n",
    "\n",
    "Using the normal approximation to $Y$, calculate the initial size of the fund needed to be 95% certain of being able to make the payments for these life annuities."
   ]
  },
  {
   "cell_type": "code",
   "execution_count": 5,
   "metadata": {},
   "outputs": [
    {
     "name": "stdout",
     "output_type": "stream",
     "text": [
      "SOA Question 5.6:  (D) 1200\n",
      "1200.6946732201702\n"
     ]
    }
   ],
   "source": [
    "print(\"SOA Question 5.6:  (D) 1200\")\n",
    "life = Annuity().set_interest(i=0.05)\n",
    "var = life.annuity_variance(A2=0.22, A1=0.45)\n",
    "mean = life.annuity_twin(A=0.45)\n",
    "print(life.portfolio_percentile(mean=mean, variance=var, prob=.95, N=100))"
   ]
  }
 ],
 "metadata": {
  "kernelspec": {
   "display_name": "Python 3.10.5 ('env3.10')",
   "language": "python",
   "name": "python3"
  },
  "language_info": {
   "codemirror_mode": {
    "name": "ipython",
    "version": 3
   },
   "file_extension": ".py",
   "mimetype": "text/x-python",
   "name": "python",
   "nbconvert_exporter": "python",
   "pygments_lexer": "ipython3",
   "version": "3.11.4"
  },
  "orig_nbformat": 4,
  "vscode": {
   "interpreter": {
    "hash": "a53bd658f9a5b7202fd97fcbe4e35965efc28d0eb9d85b0766bd67191bc6202c"
   }
  }
 },
 "nbformat": 4,
 "nbformat_minor": 2
}
