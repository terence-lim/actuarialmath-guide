{
 "cells": [
  {
   "attachments": {},
   "cell_type": "markdown",
   "metadata": {},
   "source": [
    "# Annuities\n",
    "\n",
    "A life annuity is a regular sequence of payments as long as the annuitant is alive on the payment date.\n",
    "\n",
    "## Present value of life annuity r.v. $Y$\n",
    "Valuation functions for the present value of annuity benefits, denoted by Y, are based on the continuous future lifetime random variable, $T_x$, or the curtate future lifetime random variable, $K_x$. The expected present value of annuity benefits is denoted and solved by EPV(Y)\n",
    "\n",
    "__Whole life annuity__:\n",
    "\n",
    "$Y = ~ \\overline{a}_{\\overline{T_x|}} = \\dfrac{1 - v^{T_x}}{\\delta} =$ present value of continuous annuity certain through $T_x$\n",
    "\n",
    "$\\overline{a}_x = EPV[\\overline{a}_{\\overline{T_x|}}] = \\int_{t=0}^{\\infty} ~ v^t ~ _tp_x  ~ dt$\n",
    "\n",
    "- continuous whole life annuity, benefit is payable up to the moment of death\n",
    "\n",
    "$\\overline{a}_x = \\overset{\\circ}{e}_x$\n",
    "\n",
    "- special case when interest rate is 0\n",
    "\n",
    "\n"
   ]
  },
  {
   "attachments": {},
   "cell_type": "markdown",
   "metadata": {},
   "source": [
    "\n",
    "$Y = \\ddot{a}_{\\overline{K_x + 1|}} = \\dfrac{1 - v^{K_x + 1}}{d} =$ present value of certain annuity due through $K_x + 1$\n",
    "\n",
    "$\\ddot{a}_x = EPV[\\ddot{a}_{\\overline{K_x+1|}}] = \\sum_{k=0}^{\\infty} ~ v^k ~ _{k|}p_x$\n",
    "\n",
    "- annual life annuity due, benefit is payable up to the beginning of the year of death\n",
    "\n",
    "$\\ddot{a}_x = 1 + e_x$\n",
    "\n",
    "- special case when interest rate is 0\n",
    "\n",
    "\n"
   ]
  },
  {
   "attachments": {},
   "cell_type": "markdown",
   "metadata": {},
   "source": [
    "\n",
    "__Temporary annuity__:\n",
    "\n",
    "$Y = ~ \\overline{a}_{\\overline{t|}}$ when or $T_x > t$, else $\\overline{a}_{\\overline{T_x|}}$\n",
    "\n",
    "$\\overline{a}_{x:\\overline{t|}} = \\int_{s=0}^{t} ~ v^s ~ _sp_x  ~ ds = \\overline{A}_x - ~_tE_x ~ \\overline{a}_{x+t}$\n",
    "\n",
    "- continuous temporary life annuity\n",
    "\n",
    "$\\overline{a}_{x:\\overline{t|}} = \\overset{\\circ}{e}_{x:\\overline{t|}}$\n",
    "\n",
    "- when interest rate is 0\n",
    "\n",
    "$Y = \\ddot{a}_{\\overline{t|}}$ when $K_x \\ge t$, else $\\ddot{a}_{\\overline{K_x+1|}}$\n",
    "\n",
    "$\\ddot{a}_{x:\\overline{t|}} = \\sum_{k=0}^{t-1} ~ v^k ~ _{k|}p_x = \\ddot{a}_x - ~_tE_x ~ \\ddot{a}_{x+t}$\n",
    "\n",
    "- annual temporary life annuity due\n",
    "\n",
    "$\\ddot{a}_{x:\\overline{t|}} = 1 + e_{x:\\overline{t|}} -~ _tp_x$\n",
    "\n",
    "- when interest rate is 0\n",
    "\n",
    "__Deferred whole life annuity__:\n",
    "\n",
    "$_{u|}\\overline{a}_{x} = \\overline{a}_{x} - \\overline{a}_{x+u}$\n",
    "\n",
    "- continuous deferred life annuity as the difference of whole life annuities\n",
    "\n",
    "$_{u|}\\ddot{a}_{x} = \\ddot{a}_{x} - \\ddot{a}_{x+u}$\n",
    "\n",
    "- annual deferred annuity due as the difference of annual whole life annuities due\n",
    "\n",
    "\n"
   ]
  },
  {
   "attachments": {},
   "cell_type": "markdown",
   "metadata": {},
   "source": [
    "__Certain and life annuity__:\n",
    "\n",
    "A common feature of pension benefits is that the pension annuity is guaranteed to be paid for some period even if the annuitant dies before the end of the period.\n",
    "\n",
    "$Y = ~ \\overline{a}_{\\overline{n|}}$ when $T_x \\le n$, else $\\overline{a}_{\\overline{T_x|}}$\n",
    "\n",
    "$\\overline{a}_{\\overline{x:\\overline{n|}}} = \\overline{a}_{\\overline{n|}} + ~_{n|}\\overline{a}_{x}$\n",
    "\n",
    "- is a continuous temporary certain annuity plus a deferred continuous whole life annuity\n",
    "\n",
    "$Y = \\ddot{a}_{\\overline{n|}}$ when $K_x < n$, else $\\ddot{a}_{\\overline{K_x+1|}}$\n",
    "\n",
    "$\\ddot{a}_{\\overline{x:\\overline{n|}}} = \\ddot{a}_{\\overline{n|}} + ~_{n|}\\ddot{a}_{x}$\n",
    "\n",
    "- is an annual temporary certain annuity due, plus a deferred annual life annuity due\n",
    "\n",
    "\n",
    "\n"
   ]
  },
  {
   "attachments": {},
   "cell_type": "markdown",
   "metadata": {},
   "source": [
    "## Life insurance twin\n",
    "\n",
    "_Whole_ and _Temporary Life Annuities_ (and _Whole Life_ and _Endowment Insurance_) __ONLY__:\n",
    "\n",
    "\n",
    "$\\overline{a}_x = \\dfrac{1 - \\overline{A}_x}{\\delta}$\n",
    "\n",
    "$\\overline{A}_x = 1 - \\delta ~ \\overline{a}_x$\n",
    "\n",
    "- continuous whole life insurance twin for continuous whole life annuity\n",
    "\n",
    "$\\ddot{a}_x = \\dfrac{1 - A_x}{d}$\n",
    "\n",
    "$A_x = 1 - d ~ \\ddot{a}_x$\n",
    "\n",
    "- annual whole life insurance twin for annual life annuity due\n",
    "\n",
    "$\\overline{a}_{x:\\overline{t|}} = \\dfrac{1 - \\overline{A}_{x:\\overline{t|}}}{\\delta}$\n",
    "\n",
    "$\\overline{A}_{x:\\overline{t|}} = 1 - \\delta ~ \\overline{a}_{x:\\overline{t|}}$\n",
    "\n",
    "- continuous endowment insurance twin for continuous temporary life annuity\n",
    "\n",
    "$\\ddot{a}_{x:\\overline{t|}} = \\dfrac{1 - A_{x:\\overline{t|}}}{d}$\n",
    "\n",
    "$A_{x:\\overline{t|}} = 1 - d ~ \\ddot{a}_{x:\\overline{t|}}$\n",
    "\n",
    "- annual endowment insurance twin for annual temporary life annuity due"
   ]
  },
  {
   "attachments": {},
   "cell_type": "markdown",
   "metadata": {},
   "source": [
    "## Variances\n",
    "\n",
    "__Whole life annuity__\n",
    "\n",
    "${^2}\\overline{a}_x = \\dfrac{1 - {^2}\\overline{A}_x}{2 \\delta}$\n",
    "\n",
    "${^2}\\overline{A}_x = 1 - (2 \\delta) ~ {^2}\\overline{a}_x$\n",
    "\n",
    "$Var(\\overline{a}_{x}) =  \\dfrac{{^2}\\overline{A}_{x} - (\\overline{A}_{x})^2}{d^2}$\n",
    "\n",
    "- from doubling the force of interest of continuous whole life insurance\n",
    "\n",
    "\n",
    "${^2}\\ddot{a}_x = \\dfrac{1 - {^2}A_x}{2d - d^2}$\n",
    "\n",
    "${^2}A_x = 1 - (2d - d^2) ~ {^2}\\ddot{a}_x$\n",
    "\n",
    "$Var(\\ddot{a}_{x}) = \\dfrac{{^2}\\ddot{A}_{x} - ~(A_{x})^2}{\\delta^2}$\n",
    "\n",
    "- from doubling the force of interest of annual whole life insurance\n",
    "\n",
    "__Temporary life annuity__\n",
    "\n",
    "${^2}\\overline{a}_{x:\\overline{t|}} = \\dfrac{1 - {^2}\\overline{A}_{x:\\overline{t|}}}{2 \\delta}$\n",
    "\n",
    "${^2}\\overline{A}_{x:\\overline{t|}} = 1 - (2 \\delta) ~ {^2}\\overline{a}_{x:\\overline{t|}}$\n",
    "\n",
    "$Var(\\overline{a}_{x:\\overline{t|}}) =  \\dfrac{{^2}\\overline{A}_{x:\\overline{t|}} - (\\overline{A}_{x:\\overline{t|}})^2}{d^2}$\n",
    "\n",
    "- from doubling the force of interest of continuous endowment insurance\n",
    "\n",
    "\n",
    "${^2}\\ddot{a}_{x:\\overline{t|}} = \\dfrac{1 - {^2}A_{x:\\overline{t|}}}{2d - d^2}$\n",
    "\n",
    "${^2}A_{x:\\overline{t|}} = 1 - (2d - d^2) ~ {^2}\\ddot{a}_{x:\\overline{t|}}$\n",
    "\n",
    "$Var(\\ddot{a}_{x:\\overline{t|}}) = \\dfrac{{^2}A_{x:\\overline{t|}} - ~(A_{x:\\overline{t|}})^2}{\\delta^2}$\n",
    "\n",
    "- from doubling the force of interest of annual endowment insurance"
   ]
  },
  {
   "attachments": {},
   "cell_type": "markdown",
   "metadata": {},
   "source": [
    "## Immediate life annuity\n",
    "\n",
    "Benefit is paid at the _end of the year_, as long as the annuitant is alive, and can be relate to the value of an annual life annuity due:\n",
    "\n",
    "$a_x = \\ddot{a}_x - 1$\n",
    "\n",
    "- whole life annuities\n",
    "\n",
    "$a_{x:\\overline{t|}} = \\ddot{a}_{x:\\overline{t|}} - 1 + ~_tE_x$\n",
    "\n",
    "- temporary life annuities\n",
    "\n",
    "\n",
    "\n",
    "\n"
   ]
  },
  {
   "attachments": {},
   "cell_type": "markdown",
   "metadata": {},
   "source": [
    "## Varying life annuities\n",
    "\n",
    "__Increasing annuity__:\n",
    "\n",
    "The amount of the annuity payment increases arithmetically with time.\n",
    "\n",
    "$(\\overline{Ia})_{x} = \\int_{t=0}^{\\infty} ~ t ~ v^t ~ _tp_x  ~ dt$\n",
    "\n",
    "- increasing continuous whole life annuity\n",
    "\n",
    "$(I\\ddot{a})_{x} = \\sum_{k=0}^{\\infty} ~ (k+1) ~ v^{k+1} ~ _{k}p_x$\n",
    "\n",
    "- increasing annual whole life annuity due\n",
    "\n",
    "$(\\overline{Ia})_{x:\\overline{t|}} = \\int_{s=0}^{t} ~ s ~ v^s ~ _sp_x ~ ds$\n",
    "\n",
    "- increasing continuous temporary life annuity\n",
    "\n",
    "$(I\\ddot{a})_{x:\\overline{t|}} = \\sum_{k=0}^{t-1} ~ (k+1) ~ v^{k+1} ~ _{k}p_x$\n",
    "\n",
    "- increasing annual temporary life annuity due\n",
    "\n",
    "__Decreasing annuity__:\n",
    "\n",
    "The amount of the annuity payment decreases arithmetically with time.\n",
    "\n",
    "$(\\overline{Da})_{x:\\overline{t|}} = \\int_{s=0}^{t} ~ (t-s) ~ v^s ~ _sp_x ~ ds$\n",
    "\n",
    "- decreasing continuous temporary life annuity (not defined for whole life)\n",
    "\n",
    "$(D\\ddot{a})_{x:\\overline{t|}} = \\sum_{k=0}^{t-1} ~ (t-k) ~ v^{k+1} ~ _{k}p_x$\n",
    "\n",
    "- decreasing annual temporary life annuity due (not defined for whole life)\n",
    "\n",
    "__Identity relationships__:\n",
    "\n",
    "$(\\overline{Da})_{x:\\overline{t|}} + (\\overline{Ia})_{x:\\overline{t|}} = t ~ \\overline{a}_{x:\\overline{t|}}$\n",
    "\n",
    "- relating continuous decreasing and increasing life annuities\n",
    "\n",
    "$(D\\ddot{a})_{x:\\overline{t|}} + (I\\ddot{a})_{x:\\overline{t|}} = (t+1) ~ \\ddot{a}_{x:\\overline{t|}} $\n",
    "\n",
    "- relating annual decreasing and increasing life annuities due"
   ]
  },
  {
   "attachments": {},
   "cell_type": "markdown",
   "metadata": {},
   "source": [
    "## Methods\n",
    "\n",
    "The `Annuity` class implements methods to compute the present value of life annuities"
   ]
  },
  {
   "cell_type": "code",
   "execution_count": 1,
   "metadata": {},
   "outputs": [
    {
     "name": "stdout",
     "output_type": "stream",
     "text": [
      "\n",
      "class Annuity - Compute present values and relationships of life annuities\n",
      "\n",
      "    Methods:\n",
      "    --------\n",
      "\n",
      "    a_x(x, s, t, u, benefit, discrete):\n",
      "      Numerically compute EPV of annuities from survival functions\n",
      "\n",
      "    immediate_annuity(x, s, t, b, variance):\n",
      "      Compute EPV of immediate life annuity\n",
      "\n",
      "    annuity_twin(A, discrete):\n",
      "      Returns annuity from its WL or Endowment Insurance twin\"\n",
      "\n",
      "    insurance_twin(a, moment, discrete):\n",
      "      Returns WL or Endowment Insurance twin from annuity\n",
      "\n",
      "    annuity_variance(A2, A1, b, discrete):\n",
      "      Compute variance from WL or endowment insurance twin\n",
      "\n",
      "    whole_life_annuity(x, s, b, variance, discrete):\n",
      "      Whole life annuity: a_x\n",
      "\n",
      "    temporary_annuity(x, s, t, b, variance, discrete):\n",
      "      Temporary life annuity: a_x:t\n",
      "\n",
      "    deferred_annuity(x, s, u, t, b, discrete):\n",
      "      Deferred life annuity n|t_a_x =  n+t_a_x - n_a_x\n",
      "\n",
      "    certain_life_annuity(x, s, u, t, b, discrete):\n",
      "      Certain and life annuity = certain + deferred\n",
      "\n",
      "    increasing_annuity(x, s, t, b, discrete):\n",
      "      Increasing annuity\n",
      "\n",
      "    decreasing_annuity(x, s, t, b, discrete):\n",
      "      Identity (Da)_x:n + (Ia)_x:n = (n+1) a_x:n temporary annuity\n",
      "\n",
      "    Y_t(x, prob, discrete):\n",
      "      T_x given percentile of the r.v. Y = PV of WL or Temporary Annuity\n",
      "\n",
      "    Y_from_t(t, discrete):\n",
      "      PV of insurance payment Y(t), given T_x (or K_x if discrete)\n",
      "\n",
      "    Y_from_prob(x, prob, discrete):\n",
      "      Percentile of annuity PV r.v. Y, given probability\n",
      "\n",
      "    Y_to_prob(x, Y):\n",
      "      Cumulative density of insurance PV r.v. Y, given percentile value\n",
      "\n",
      "    Y_x(x, s, t, discrete):\n",
      "      EPV of year t annuity benefit for life aged [x]+s: b_x[s]+s(t)\n",
      "\n",
      "    Y_plot(x, s, stop, benefit, T, discrete, ax, title, color):\n",
      "      Plot PV of annuity r.v. Y vs T\n",
      "\n",
      "\n"
     ]
    }
   ],
   "source": [
    "from actuarialmath import Annuity\n",
    "import describe\n",
    "describe.methods(Annuity)"
   ]
  },
  {
   "attachments": {},
   "cell_type": "markdown",
   "metadata": {},
   "source": [
    "## Examples\n",
    "\n"
   ]
  },
  {
   "attachments": {},
   "cell_type": "markdown",
   "metadata": {},
   "source": [
    "__SOA Question 5.6__\n",
    "\n",
    "For a group of 100 lives age x with independent future lifetimes, you are given:\n",
    "- Each life is to be paid 1 at the beginning of each year, if alive\n",
    "- $A_x = 0.45$\n",
    "- $^2A_x = 0.22$\n",
    "- $i = 0.05$\n",
    "- $Y$ is the present value random variable of the aggregate payments.\n",
    "\n",
    "Using the normal approximation to $Y$, calculate the initial size of the fund neededt o be 95% certain of being able to make the payments for these life annuities."
   ]
  },
  {
   "cell_type": "code",
   "execution_count": 2,
   "metadata": {},
   "outputs": [
    {
     "name": "stdout",
     "output_type": "stream",
     "text": [
      "SOA Question 5.6:  (D) 1200\n",
      "1200.6946732201702\n"
     ]
    }
   ],
   "source": [
    "print(\"SOA Question 5.6:  (D) 1200\")\n",
    "life = Annuity().set_interest(i=0.05)\n",
    "var = life.annuity_variance(A2=0.22, A1=0.45)\n",
    "mean = life.annuity_twin(A=0.45)\n",
    "print(life.portfolio_percentile(mean=mean, variance=var, prob=.95, N=100))"
   ]
  },
  {
   "attachments": {},
   "cell_type": "markdown",
   "metadata": {},
   "source": [
    "__Plot annuity present value r.v. Y__:\n",
    "\n",
    "Mortality follows Standard Ultimate Life Table. Indicate median lifetime of (20)."
   ]
  },
  {
   "cell_type": "code",
   "execution_count": 3,
   "metadata": {},
   "outputs": [
    {
     "data": {
      "text/plain": [
       "20.27530100523103"
      ]
     },
     "execution_count": 3,
     "metadata": {},
     "output_type": "execute_result"
    },
    {
     "data": {
      "image/png": "[encoded data removed]",
      "text/plain": [
       "<Figure size 640x480 with 1 Axes>"
      ]
     },
     "metadata": {},
     "output_type": "display_data"
    }
   ],
   "source": [
    "from actuarialmath.sult import SULT\n",
    "life = SULT()\n",
    "life.Y_plot(x=20, stop=80, T=life.Y_t(x=20, prob=0.5))"
   ]
  }
 ],
 "metadata": {
  "kernelspec": {
   "display_name": "Python 3.10.5 ('env3.10')",
   "language": "python",
   "name": "python3"
  },
  "language_info": {
   "codemirror_mode": {
    "name": "ipython",
    "version": 3
   },
   "file_extension": ".py",
   "mimetype": "text/x-python",
   "name": "python",
   "nbconvert_exporter": "python",
   "pygments_lexer": "ipython3",
   "version": "3.11.4"
  },
  "orig_nbformat": 4,
  "vscode": {
   "interpreter": {
    "hash": "a53bd658f9a5b7202fd97fcbe4e35965efc28d0eb9d85b0766bd67191bc6202c"
   }
  }
 },
 "nbformat": 4,
 "nbformat_minor": 2
}
