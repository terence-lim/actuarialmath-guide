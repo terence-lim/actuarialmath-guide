{
 "cells": [
  {
   "attachments": {},
   "cell_type": "markdown",
   "metadata": {},
   "source": [
    "# Select Life Table\n",
    "\n",
    "## Select and ultimate life model\n",
    "\n",
    "A newly selected policyholder is in the best health condition possible, compared to the general population with the same age. The life table can be expanded to tabulate the select period when selection has an effect on mortality. Since this selection process wears off after a few years, the ultimate part of the table can be then be used when select age is assumed to no longer have an effect on mortality.\n",
    "\n",
    "- Future survival probabilities depend on the individual's current age and on the age at which the individual joined the group (i.e. was _selected_). Current age is written $[x]+s$, where $x$ is the selected age and $s$ is the number of years after selection.\n",
    "\n",
    "- If an individual joined the group more than $d$ years ago (called the _select period_), future survival probabilities (called the _ultimate mortality_) depend only on current age. The initial selection effect is assumed to have worn off after $d$ years. Current age can be written as $x+s$ after the select period $s \\ge d$\n",
    "\n",
    "Select life tables reflect duration as well as age during the select period.\n"
   ]
  },
  {
   "cell_type": "markdown",
   "metadata": {},
   "source": [
    "__Notation for select survival models__:\n",
    "\n",
    "$_tp_{[x]+ s} =$ Pr(a life aged $x + s$, selected at age $x$, survives to age $x +s +t$)\n",
    "\n",
    "- defines survival probability in the select period\n",
    "\n",
    "$_tq_{[x]+ s} =$ Pr(a life aged $x + s$, selected at age $x$, dies before age $x +s + t$)\n",
    "\n",
    "- defines mortality rate in the select period\n",
    "\n",
    "$l_{[x]+s} = \\dfrac{l_{x+d}}{_{d-s}p_{[x]+s}} =$ number of lives, selected at age $x$, who are aged $x+s$, given that $l_{x+d}$ survived to age $x+d$.\n",
    "\n",
    "- defines the life table within the select period, by working backwards from the value of $l_{x+d}$ in the ultimate part of the table which only depends on current age.\n",
    "\n",
    "With a select period $d$ and for $s \\ge d$ (i.e. durations beyond the select period) the values of $p_{[x-s]+s}, q_{[x-s]+s}, l_{[x-s]+s}$ depend only on current age $x$ and not on $s$. So for $s \\ge d$, these terms are all equal to and can be written simply as $p_x, q_x, l_x$ respectively."
   ]
  },
  {
   "attachments": {},
   "cell_type": "markdown",
   "metadata": {},
   "source": [
    "## Methods\n",
    "\n",
    "The `SelectLife` class implements methods to construct and fill in a select life table"
   ]
  },
  {
   "cell_type": "code",
   "execution_count": 1,
   "metadata": {},
   "outputs": [
    {
     "name": "stdout",
     "output_type": "stream",
     "text": [
      "\n",
      "class SelectLife - Calculate select life table, and iteratively fill in missing values\n",
      "\n",
      "    Args:\n",
      "      periods : number of select period years\n",
      "      verbose : whether to echo update steps\n",
      "\n",
      "    Notes:\n",
      "      6 types of columns can be loaded and calculated in the select table:\n",
      "\n",
      "      - 'q' : probability [x]+s dies in one year\n",
      "      - 'l' : number of lives aged [x]+s\n",
      "      - 'd' : number of deaths of age [x]+s\n",
      "      - 'A' : whole life insurance\n",
      "      - 'a' : whole life annuity\n",
      "      - 'e' : expected future curtate lifetime of [x]+s\n",
      "\n",
      "    Methods:\n",
      "    --------\n",
      "\n",
      "    set_table(fill, l, d, q, A, a, e):\n",
      "      Update from table, every age has row for all select durations\n",
      "\n",
      "    set_select(s, age_selected, fill, l, d, q, A, a, e):\n",
      "      Update a table column, for a particular duration s in the select period\n",
      "\n",
      "    fill_table(radix):\n",
      "      Fills in missing table values (does not check for consistency)\n",
      "\n",
      "    __getitem__(table):\n",
      "      Returns values from a select and ultimate table\n",
      "\n",
      "    frame(table):\n",
      "      Returns select and ultimate table values as a DataFrame\n",
      "\n",
      "    l_x(x, s):\n",
      "      Returns number of lives aged [x]+s computed from select table\n",
      "\n",
      "    p_x(x, s, t):\n",
      "      t_p_[x]+s by chain rule: prod(1_p_[x]+s+y) for y in range(t)\n",
      "\n",
      "    q_x(x, s, t, u):\n",
      "      t|u_q_[x]+s = [x]+s survives u years, does not survive next t\n",
      "\n",
      "    e_x(x, s, t, curtate):\n",
      "      Returns expected life time computed from select table\n",
      "\n",
      "    A_x(x, s, moment, discrete, kwargs):\n",
      "      Returns insurance value computed from select table\n",
      "\n",
      "    a_x(x, s, moment, discrete, kwargs):\n",
      "      Returns annuity value computed from select table\n",
      "\n",
      "\n"
     ]
    }
   ],
   "source": [
    "from actuarialmath import SelectLife\n",
    "import describe\n",
    "describe.methods(SelectLife)"
   ]
  },
  {
   "attachments": {},
   "cell_type": "markdown",
   "metadata": {},
   "source": [
    "## Examples\n"
   ]
  },
  {
   "attachments": {},
   "cell_type": "markdown",
   "metadata": {},
   "source": [
    "__SOA Question 3.2__:\n",
    "\n",
    "You are given:\n",
    "\n",
    "- The following extract from a mortality table with a one-year select period:\n",
    "\n",
    "$x$ | $l_{[x]}$ | $d_{[x]}$ | $l_{x+1}$ | $x + 1$ |\n",
    "|---|---|---|---|---|\n",
    "| 65 | 1000 | 40 | − | 66 |\n",
    "| 66 | 955 | 45 | − | 67 |\n",
    "\n",
    "- Deaths are uniformly distributed over each year of age\n",
    "\n",
    "$\\overset{\\circ}{e}_{[65]} = 15.0$\n",
    "\n",
    "Calculate $\\overset{\\circ}{e}_{[66]}$."
   ]
  },
  {
   "cell_type": "code",
   "execution_count": 2,
   "metadata": {},
   "outputs": [
    {
     "name": "stdout",
     "output_type": "stream",
     "text": [
      "SOA Question 3.2:  (D) 14.7\n",
      "14.67801047120419\n",
      "e_[x]+s:         0          1\n",
      "Age                          \n",
      "65        14.50000  14.104167\n",
      "66        14.17801  13.879121\n"
     ]
    }
   ],
   "source": [
    "print(\"SOA Question 3.2:  (D) 14.7\")\n",
    "e_curtate = SelectLife.e_approximate(e_complete=15)\n",
    "life = SelectLife(udd=True).set_table(l={65: [1000, None,],\n",
    "                                         66: [955, None]},\n",
    "                                      e={65: [e_curtate, None]},\n",
    "                                      d={65: [40, None,],\n",
    "                                         66: [45, None]})\n",
    "print(life.e_r(66))\n",
    "print(life.frame('e'))\n"
   ]
  },
  {
   "attachments": {},
   "cell_type": "markdown",
   "metadata": {},
   "source": [
    "__SOA Question 4.16__\n",
    "\n",
    "You are given the following extract of ultimate mortality rates from a two-year select and ultimate mortality table:\n",
    "\n",
    "|$x$ | $q_x$ |\n",
    "|---|---|\n",
    "| 50 | 0.045 |\n",
    "| 51 | 0.050 |\n",
    "| 52 | 0.055 |\n",
    "| 53 | 0.060 |\n",
    "\n",
    "The select mortality rates satisfy the following:\n",
    "- $q_{[x]} = 0.7 q_x$\n",
    "- $q_{[x]+1} = 0.8 q_{x + 1}$\n",
    "\n",
    "You are also given that $i = 0.04$.\n",
    "\n",
    "Calculate $A^1_{[50]:\\overline{3|}}$."
   ]
  },
  {
   "cell_type": "code",
   "execution_count": 3,
   "metadata": {},
   "outputs": [
    {
     "name": "stdout",
     "output_type": "stream",
     "text": [
      "SOA Question 4.16:  (D) .1116\n",
      "0.1115661982248521\n"
     ]
    }
   ],
   "source": [
    "print(\"SOA Question 4.16:  (D) .1116\")\n",
    "q = [.045, .050, .055, .060]\n",
    "q_ = {50+x: [0.7 * q[x] if x < 4 else None,\n",
    "            0.8 * q[x+1] if x+1 < 4 else None,\n",
    "            q[x+2] if x+2 < 4 else None]\n",
    "      for x in range(4)}\n",
    "life = SelectLife().set_table(q=q_).set_interest(i=.04)\n",
    "print(life.term_insurance(50, t=3))\n"
   ]
  },
  {
   "attachments": {},
   "cell_type": "markdown",
   "metadata": {},
   "source": [
    "__SOA Question 4.13__\n",
    "\n",
    "For a 2-year deferred, 2-year term insurance of 2000 on [65], you are given:\n",
    "- The following select and ultimate mortality table with a 3-year select period:\n",
    "\n",
    "| $x$ | $q_{[x]}$ | $q_{[x]+1}$ | $q_{[x]+2}$ | $q_{x+3}$ | $x+3$ |\n",
    "|---|---|---|---|---|---\n",
    "| 65 | 0.08 | 0.10 | 0.12 | 0.14 | 68 |\n",
    "| 66 | 0.09 | 0.11 | 0.13 | 0.15 | 69 |\n",
    "| 67 | 0.10 | 0.12 | 0.14 | 0.16 | 70 |\n",
    "| 68 | 0.11 | 0.13 | 0.15 | 0.17 | 71 |\n",
    "| 69 | 0.12 | 0.14 | 0.16 | 0.18 | 72 |\n",
    "\n",
    "- $i = 0.04$\n",
    "- The death benefit is payable at the end of the year of death\n",
    "\n",
    "Calculate the actuarial present value of this insurance."
   ]
  },
  {
   "cell_type": "code",
   "execution_count": 4,
   "metadata": {},
   "outputs": [
    {
     "name": "stdout",
     "output_type": "stream",
     "text": [
      "SOA Question 4.13:  (C) 350 \n",
      "351.0578236056159\n"
     ]
    }
   ],
   "source": [
    "print(\"SOA Question 4.13:  (C) 350 \")\n",
    "life = SelectLife().set_interest(i=0.04)\\\n",
    "                   .set_table(q={65: [.08, .10, .12, .14],\n",
    "                                 66: [.09, .11, .13, .15],\n",
    "                                 67: [.10, .12, .14, .16],\n",
    "                                 68: [.11, .13, .15, .17],\n",
    "                                 69: [.12, .14, .16, .18]})\n",
    "print(life.deferred_insurance(65, t=2, u=2, b=2000))\n"
   ]
  },
  {
   "attachments": {},
   "cell_type": "markdown",
   "metadata": {},
   "source": [
    "__SOA Question 3.13__\n",
    "\n",
    "A life is subject to the following 3-year select and ultimate table:\n",
    "\n",
    "| $[x]$ | $\\ell_{[x]}$ | $\\ell_{[x]+1}$ | $\\ell_{[x]+2}$ | $\\ell_{x+3}$ | $x+3$ |\n",
    "|---|---|---|---|---|---\n",
    "| 55 | 10,000 | 9,493 | 8,533 | 7,664 | 58 |\n",
    "| 56 | 8,547 | 8,028 | 6,889 | 5,630 | 59 |\n",
    "| 57 | 7,011 | 6,443 | 5,395 | 3,904 | 60 |\n",
    "| 58 | 5,853 | 4,846 | 3,548 | 2,210 | 61 |\n",
    "\n",
    "You are also given:\n",
    "- $e_{60} = 1$\n",
    "- Deaths are uniformly distributed over each year of age\n",
    "\n",
    "Calculate $\\overset{\\circ}{e}_{[58]+2}$ ."
   ]
  },
  {
   "cell_type": "code",
   "execution_count": 5,
   "metadata": {},
   "outputs": [
    {
     "name": "stdout",
     "output_type": "stream",
     "text": [
      "SOA Question 3.13:  (B) 1.6\n",
      "1.6003382187147688\n"
     ]
    }
   ],
   "source": [
    "print(\"SOA Question 3.13:  (B) 1.6\")\n",
    "life = SelectLife().set_table(l={55: [10000, 9493, 8533, 7664],\n",
    "                                 56: [8547, 8028, 6889, 5630],\n",
    "                                 57: [7011, 6443, 5395, 3904],\n",
    "                                 58: [5853, 4846, 3548, 2210]},\n",
    "                              e={57: [None, None, None, 1]})\n",
    "print(life.e_r(58, s=2))\n"
   ]
  },
  {
   "attachments": {},
   "cell_type": "markdown",
   "metadata": {},
   "source": [
    "__SOA Question 3.12__\n",
    "\n",
    "X and Y are both age 61. X has just purchased a whole life insurance policy. Y purchased a whole life insurance policy one year ago.\n",
    "\n",
    "Both X and Y are subject to the following 3-year select and ultimate table:\n",
    "\n",
    "| $x$ | $\\ell_{[x]}$ | $\\ell_{[x]+1}$ | $\\ell_{[x] + 2}$ | $\\ell_{x+3}$ | $x+3$ |\n",
    "|---|---|---|---|---|---|\n",
    "| 60 | 10,000 | 9,600 | 8,640 | 7,771 | 63 |\n",
    "| 61 | 8,654 | 8,135 | 6,996 | 5,737 | 64 |\n",
    "| 62 | 7,119 | 6,549 | 5,501 | 4,016 | 65 |\n",
    "| 63 | 5,760 | 4,954 | 3,765 | 2,410 | 66 |\n",
    "\n",
    "The force of mortality is constant over each year of age.\n",
    "\n",
    "Calculate the difference in the probability of survival to age 64.5 between X and Y."
   ]
  },
  {
   "cell_type": "code",
   "execution_count": 6,
   "metadata": {},
   "outputs": [
    {
     "name": "stdout",
     "output_type": "stream",
     "text": [
      "SOA Question 3.12: (C) 0.055 \n",
      "0.05465655938591829\n"
     ]
    }
   ],
   "source": [
    "print(\"SOA Question 3.12: (C) 0.055 \")\n",
    "life = SelectLife(udd=False).set_table(l={60: [10000, 9600, 8640, 7771],\n",
    "                                            61: [8654, 8135, 6996, 5737],\n",
    "                                            62: [7119, 6549, 5501, 4016],\n",
    "                                            63: [5760, 4954, 3765, 2410]})\n",
    "print(life.q_r(60, s=1, t=3.5) - life.q_r(61, s=0, t=3.5))\n"
   ]
  },
  {
   "attachments": {},
   "cell_type": "markdown",
   "metadata": {},
   "source": [
    "__SOA Question 3.7__\n",
    "\n",
    "For a mortality table with a select period of two years, you are given:\n",
    "\n",
    "| $x$ | $q_{[x]}$ | $q_{[x]+1}$ | $q_{x+2}$ | $x+2$ |\n",
    "|---|---|---|---|---|\n",
    "| 50 | 0.0050 | 0.0063 | 0.0080 | 52 |\n",
    "| 51 | 0.0060 | 0.0073 | 0.0090 | 53 |\n",
    "| 52 | 0.0070 | 0.0083 | 0.0100 | 54 |\n",
    "| 53 | 0.0080 | 0.0093 | 0.0110 | 55 |\n",
    "\n",
    "The force of mortality is constant between integral ages.\n",
    "\n",
    "Calculate $1000 ~_{2.5}q_{[50]+0.4}$."
   ]
  },
  {
   "cell_type": "code",
   "execution_count": 7,
   "metadata": {},
   "outputs": [
    {
     "name": "stdout",
     "output_type": "stream",
     "text": [
      "SOA Question 3.7: (b) 16.4\n",
      "16.420207214428586\n"
     ]
    }
   ],
   "source": [
    "print(\"SOA Question 3.7: (b) 16.4\")\n",
    "life = SelectLife().set_table(q={50: [.0050, .0063, .0080],\n",
    "                                    51: [.0060, .0073, .0090],\n",
    "                                    52: [.0070, .0083, .0100],\n",
    "                                    53: [.0080, .0093, .0110]})\n",
    "print(1000*life.q_r(50, s=0, r=0.4, t=2.5))\n"
   ]
  },
  {
   "attachments": {},
   "cell_type": "markdown",
   "metadata": {},
   "source": [
    "__SOA Question 3.6__\n",
    "\n",
    "You are given the following extract from a table with a 3-year select period:\n",
    "\n",
    "| $x$ | $q_{[x]}$ | $q_{[x]+1}$ | $q_{[x]+2}$ | $q_{x+3}$ | $x+3$ |\n",
    "|---|---|---|---|---|---|\n",
    "| 60 | 0.09 | 0.11 | 0.13 | 0.15 | 63 |\n",
    "| 61 | 0.10 | 0.12 | 0.14 | 0.16 | 64 |\n",
    "| 62 | 0.11 | 0.13 | 0.15 | 0.17 | 65 |\n",
    "| 63 | 0.12 | 0.14 | 0.16 | 0.18 | 66 |\n",
    "| 64 | 0.13 | 0.15 | 0.17 | 0.19 | 67 |\n",
    "\n",
    "$e_{64} = 5.10$\n",
    "\n",
    "Calculate $e_{[61]}$."
   ]
  },
  {
   "cell_type": "code",
   "execution_count": 8,
   "metadata": {},
   "outputs": [
    {
     "name": "stdout",
     "output_type": "stream",
     "text": [
      "SOA Question 3.6:  (D) 5.85\n",
      "5.846832\n"
     ]
    }
   ],
   "source": [
    "print(\"SOA Question 3.6:  (D) 5.85\")\n",
    "life = SelectLife().set_table(q={60: [.09, .11, .13, .15],\n",
    "                                 61: [.1, .12, .14, .16],\n",
    "                                 62: [.11, .13, .15, .17],\n",
    "                                 63: [.12, .14, .16, .18],\n",
    "                                 64: [.13, .15, .17, .19]},\n",
    "                              e={61: [None, None, None, 5.1]})\n",
    "print(life.e_x(61))\n"
   ]
  },
  {
   "attachments": {},
   "cell_type": "markdown",
   "metadata": {},
   "source": [
    "__SOA Question 3.3__\n",
    "\n",
    "You are given:\n",
    "\n",
    "- An excerpt from a select and ultimate life table with a select period of 2 years:\n",
    "\n",
    "| $x$ | $\\ell_{[ x ]}$ | $\\ell_{[ x ] + 1}$ | $\\ell_{x + 2}$ | $x + 2$ |\n",
    "|---|---|---|---|---|\n",
    "| 50 | 99,000 | 96,000 | 93,000 | 52 |\n",
    "| 51 | 97,000 | 93,000 | 89,000 | 53 |\n",
    "| 52 | 93,000 | 88,000 | 83,000 | 54 |\n",
    "| 53 | 90,000 | 84,000 | 78,000 | 55 |\n",
    "\n",
    "- Deaths are uniformly distributed over each year of age\n",
    "\n",
    "Calculate $10,000 ~ _{2.2}q_{[51]+0.5}$."
   ]
  },
  {
   "cell_type": "code",
   "execution_count": 9,
   "metadata": {},
   "outputs": [
    {
     "name": "stdout",
     "output_type": "stream",
     "text": [
      "SOA Question 3.3:  (E) 1074\n",
      "1073.684210526316\n"
     ]
    }
   ],
   "source": [
    "print(\"SOA Question 3.3:  (E) 1074\")\n",
    "life = SelectLife().set_table(l={50: [99, 96, 93],\n",
    "                                 51: [97, 93, 89],\n",
    "                                 52: [93, 88, 83],\n",
    "                                 53: [90, 84, 78]})\n",
    "print(10000*life.q_r(51, s=0, r=0.5, t=2.2))\n"
   ]
  },
  {
   "attachments": {},
   "cell_type": "markdown",
   "metadata": {},
   "source": [
    "__SOA Question 3.1__\n",
    "\n",
    "You are given:\n",
    "\n",
    "- An excerpt from a select and ultimate life table with a select period of 3 years:\n",
    "\n",
    "| $x$ | $\\ell_{[ x ]}$ | $\\ell_{[x]+1}$ | $\\ell_{[x]+2}$ | $\\ell_{x+3}$ | $x+3$ |\n",
    "|---|---|---|---|---|---|\n",
    "| 60 | 80,000 | 79,000 | 77,000 | 74,000 | 63 |\n",
    "| 61 | 78,000 | 76,000 | 73,000 | 70,000 | 64 |\n",
    "| 62 | 75,000 | 72,000 | 69,000 | 67,000 | 65 |\n",
    "| 63 | 71,000 | 68,000 | 66,000 | 65,000 | 66 |\n",
    "\n",
    "- Deaths follow a constant force of mortality over each year of age\n",
    "\n",
    "Calculate $1000~ _{23}q_{[60] + 0.75}$."
   ]
  },
  {
   "cell_type": "code",
   "execution_count": 10,
   "metadata": {},
   "outputs": [
    {
     "name": "stdout",
     "output_type": "stream",
     "text": [
      "SOA Question 3.1:  (B) 117\n",
      "116.7192429022082\n"
     ]
    }
   ],
   "source": [
    "print(\"SOA Question 3.1:  (B) 117\")\n",
    "life = SelectLife().set_table(l={60: [80000, 79000, 77000, 74000],\n",
    "                                    61: [78000, 76000, 73000, 70000],\n",
    "                                    62: [75000, 72000, 69000, 67000],\n",
    "                                    63: [71000, 68000, 66000, 65000]})\n",
    "print(1000*life.q_r(60, s=0, r=0.75, t=3, u=2))\n"
   ]
  },
  {
   "attachments": {},
   "cell_type": "markdown",
   "metadata": {},
   "source": [
    "__show verbose calculations__:"
   ]
  },
  {
   "cell_type": "code",
   "execution_count": 11,
   "metadata": {},
   "outputs": [
    {
     "name": "stdout",
     "output_type": "stream",
     "text": [
      "1 l(x=21, s=1) = 99880.0\n",
      "2 l(x=21, s=2) = 99730.18000000001\n",
      "3 l(x=21, s=3) = 99560.63869400001\n",
      "4 l(x=22, s=3) = 99381.4295443508\n",
      "5 l(x=23, s=3) = 99197.57389969376\n",
      "6 d(x=21, s=0) = 120.0\n",
      "7 d(x=21, s=1) = 149.81999999999243\n",
      "8 d(x=21, s=2) = 169.54130599999917\n",
      "9 d(x=21, s=3) = 179.20914964920667\n",
      "10 d(x=22, s=3) = 183.85564465704374\n",
      "11 l(x=22, s=2) = 99555.65193523747\n",
      "12 l(x=23, s=2) = 99376.45151241611\n",
      "13 d(x=22, s=2) = 174.22239088667266\n",
      "14 d(x=23, s=2) = 178.87761272235366\n",
      "15 l(x=22, s=1) = 99710.2027494992\n",
      "16 l(x=23, s=1) = 99535.70864625012\n",
      "17 d(x=22, s=1) = 154.55081426173274\n",
      "18 d(x=23, s=1) = 159.2571338340058\n",
      "19 l(x=22, s=0) = 99834.9964951181\n",
      "20 l(x=23, s=0) = 99665.27350180245\n",
      "21 d(x=22, s=0) = 124.79374561889563\n",
      "22 d(x=23, s=0) = 129.56485555233667\n",
      "0.9931675400449915\n"
     ]
    },
    {
     "data": {
      "text/html": [
       "<div>\n",
       "<style scoped>\n",
       "    .dataframe tbody tr th:only-of-type {\n",
       "        vertical-align: middle;\n",
       "    }\n",
       "\n",
       "    .dataframe tbody tr th {\n",
       "        vertical-align: top;\n",
       "    }\n",
       "\n",
       "    .dataframe thead th {\n",
       "        text-align: right;\n",
       "    }\n",
       "</style>\n",
       "<table border=\"1\" class=\"dataframe\">\n",
       "  <thead>\n",
       "    <tr style=\"text-align: right;\">\n",
       "      <th>l_[x]+s:</th>\n",
       "      <th>0</th>\n",
       "      <th>1</th>\n",
       "      <th>2</th>\n",
       "      <th>3</th>\n",
       "    </tr>\n",
       "    <tr>\n",
       "      <th>Age</th>\n",
       "      <th></th>\n",
       "      <th></th>\n",
       "      <th></th>\n",
       "      <th></th>\n",
       "    </tr>\n",
       "  </thead>\n",
       "  <tbody>\n",
       "    <tr>\n",
       "      <th>21</th>\n",
       "      <td>100000.000000</td>\n",
       "      <td>99880.000000</td>\n",
       "      <td>99730.180000</td>\n",
       "      <td>99560.638694</td>\n",
       "    </tr>\n",
       "    <tr>\n",
       "      <th>22</th>\n",
       "      <td>99834.996495</td>\n",
       "      <td>99710.202749</td>\n",
       "      <td>99555.651935</td>\n",
       "      <td>99381.429544</td>\n",
       "    </tr>\n",
       "    <tr>\n",
       "      <th>23</th>\n",
       "      <td>99665.273502</td>\n",
       "      <td>99535.708646</td>\n",
       "      <td>99376.451512</td>\n",
       "      <td>99197.573900</td>\n",
       "    </tr>\n",
       "  </tbody>\n",
       "</table>\n",
       "</div>"
      ],
      "text/plain": [
       "l_[x]+s:              0             1             2             3\n",
       "Age                                                              \n",
       "21        100000.000000  99880.000000  99730.180000  99560.638694\n",
       "22         99834.996495  99710.202749  99555.651935  99381.429544\n",
       "23         99665.273502  99535.708646  99376.451512  99197.573900"
      ]
     },
     "execution_count": 11,
     "metadata": {},
     "output_type": "execute_result"
    }
   ],
   "source": [
    "\n",
    "table={21: [0.00120, 0.00150, 0.00170, 0.00180],\n",
    "       22: [0.00125, 0.00155, 0.00175, 0.00185],\n",
    "       23: [0.00130, 0.00160, 0.00180, 0.00195]}\n",
    "life = SelectLife(verbose=True).set_table(q=table)\n",
    "print(life.p_x(x=21, s=1, t=4))  # 0.9931\n",
    "life.frame('l')\n",
    "                                       "
   ]
  }
 ],
 "metadata": {
  "kernelspec": {
   "display_name": "Python 3.10.5 ('env3.10')",
   "language": "python",
   "name": "python3"
  },
  "language_info": {
   "codemirror_mode": {
    "name": "ipython",
    "version": 3
   },
   "file_extension": ".py",
   "mimetype": "text/x-python",
   "name": "python",
   "nbconvert_exporter": "python",
   "pygments_lexer": "ipython3",
   "version": "3.11.4"
  },
  "orig_nbformat": 4,
  "vscode": {
   "interpreter": {
    "hash": "a53bd658f9a5b7202fd97fcbe4e35965efc28d0eb9d85b0766bd67191bc6202c"
   }
  }
 },
 "nbformat": 4,
 "nbformat_minor": 2
}
