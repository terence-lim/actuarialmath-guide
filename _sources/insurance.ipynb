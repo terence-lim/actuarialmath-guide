{
 "cells": [
  {
   "attachments": {},
   "cell_type": "markdown",
   "metadata": {},
   "source": [
    "# Insurance\n",
    "\n",
    "For a life insurance policy, the time at which the benefit will be paid is unknown until the policyholder actually dies and the policy becomes a claim.\n",
    "\n",
    "## Present value of life insurance r.v. $Z$\n",
    "\n",
    "Valuation functions for the present value of insurance benefits, denoted by Z, are based on the continuous future lifetime random variable, Tx, or the curtate future lifetime random variable, Kx.\n",
    "The expected present value of insurance benefit,denoted and solved by EPV(Z), is sometimes referred to as the actuarial value or actuarial present value.\n",
    "\n",
    "__Whole life insurance__:\n",
    "\n",
    "$Z = v^{T_x}$\n",
    "- continuous insurance, benefit is payable immediately on death\n",
    "\n",
    "$\\overline{A}_x = E[v^{T_x}] = \\int_{t=0}^{\\infty} ~ v^t ~ _tp_x ~ \\mu_{x+t} ~ dt$\n",
    "\n",
    "- EPV continuous whole life insurance\n",
    "\n",
    "\n",
    "$Z = v^{K_x + 1}$\n",
    "- annual insurance, benefit is payable at end of year of death\n",
    "\n",
    "$A_x = E[v^{K_x+1}] = \\sum_{k=0}^{\\infty} ~ v^{k+1} ~ _{k|}q_x$\n",
    "\n",
    "- EPV of annual whole life insurance\n",
    "\n",
    "\n",
    "__Term insurance__:\n",
    "\n",
    "$Z = 0$ when $T_x > t$, else $v^{T_x}$\n",
    "- death benefit is payable immediately only if the policy-holder dies within $t$ years\n",
    "\n",
    "$\\overline{A}^ {1}_{x:\\overline{t|}} = \\int_{s=0}^{t} ~ v^s ~ _sp_x ~ \\mu_{x+s} ~ ds = \\overline{A}_x - ~_tE_x ~ \\overline{A}_{x+t}$\n",
    "\n",
    "- continous term insurance as the difference of continous whole life and deferred continuous whole life\n",
    "\n",
    "$Z = 0$ when $K_x \\ge t$, else $v^{K_x + 1}$\n",
    "- death benefit is payable at the end of the year of death provided this occurs within $t$ years\n",
    "\n",
    "$A^ {1}_{x:\\overline{t|}} = \\sum_{k=0}^{t-1} ~ v^{k+1} ~ _{k|}q_x = A_x - ~_tE_x ~ A_{x+t}$\n",
    "\n",
    "- annual term insurance as the difference of annual whole life and deferred annual whole life\n",
    "\n",
    "__Deferred whole life insurance__:\n",
    "\n",
    "Does not begin to offer death benefit cover until the end of a deferred period\n",
    "\n",
    "$Z = 0$ when $T_x < u$, else $v^{T_x}$\n",
    "\n",
    "- benefit is payable immediately on the death of (x) provided that (x) dies after the age of $x+u$\n",
    "\n",
    "$_{u|}\\overline{A}_{x:\\overline{t|}} = ~_uE_x ~ \\overline{A}_{x+u:\\overline{t|}}$\n",
    "\n",
    "- continuous deferred insurance as the EPV of whole life insurance starting at the end of deferred period.\n",
    "\n",
    "$Z = 0$ when $K_x < u$, else $v^{K_x + 1}$\n",
    "\n",
    "- annual deferred insurance where the death benefit is payable at the end of the year of death\n",
    "\n",
    "$_{u|}A_{x:\\overline{t|}} = ~_uE_x ~ A_{x+u:\\overline{t|}}$\n",
    "\n",
    "- annual deferred insurance as the EPV of whole life insurance starting at the end of deferred period.\n",
    "\n",
    "\n",
    "__Endowment insurance__:\n",
    "\n",
    "An endowment insurance provides a combination of a term insurance and a pure endowment.\n",
    "\n",
    "$Z = v^t$ when $T_x \\ge t$, else $v^{T_x}$\n",
    "- benefit is payable on the death of (x) should (x)\n",
    "die within $t$ years, but if (x) survives for $t$ years, the sum\n",
    "insured is payable at the end of the $t$-th year.\n",
    "\n",
    "\n",
    "$\\overline{A}_{x:\\overline{t|}} = \\overline{A}^ {1}_{x:\\overline{t|}}  + ~_tE_x$\n",
    "\n",
    "- continuous endowment insurance as continuous term insurance plus a pure endowment\n",
    "\n",
    "\n",
    "$Z = v^t$ when $K_x \\ge t$, else $v^{K_x + 1}$\n",
    "- annual endowment insurance where the death benefit is payable at the end of the year of death\n",
    "\n",
    "\n",
    "$A_{x:\\overline{t|}} = A^ {1}_{x:\\overline{t|}} + ~_tE_x$\n",
    "\n",
    "- annual endowment insurance as annual term insurance plus a pure endowment\n",
    "\n"
   ]
  },
  {
   "attachments": {},
   "cell_type": "markdown",
   "metadata": {},
   "source": [
    "\n",
    "## Pure endowment\n",
    "\n",
    "$Z = 0$ when $T_x < t$, else $v^t$\n",
    "- benefit payable in $t$ years if (x) is still alive at that time, but pays nothing if (x) dies before then.\n",
    "\n",
    "${_n}E_x = A^{~~~~1}_{x:\\overline{n|}} = v^n ~ _np_x$\n",
    "\n",
    "- Because the pure endowment will be paid only at time $t$, assuming the life survives, there is only the discrete time version"
   ]
  },
  {
   "attachments": {},
   "cell_type": "markdown",
   "metadata": {},
   "source": [
    "## Variances\n",
    "\n",
    "The variance of life insurance benefits is computed as the difference of the second moment and square of the first moment.\n",
    "\n",
    "${^2}{\\overline{A}}_{x} = \\int_{t=0}^{\\infty} ~ v^{2t} ~ _tp_x ~ \\mu_{x+t} ~ dt$\n",
    "- second moment of continuous insurance equal to $\\overline{A}_{x}$ at double the force of interest.\n",
    "\n",
    "${^2}{A}_{x} = \\sum_{k=0}^{\\infty} ~ v^{2(k+1)} ~ _{k|}q_x$\n",
    "- second moment of annual insurance is equal to $A_{x}$ at double the force of interest.\n",
    "\n",
    "__Life insurance__:\n",
    "\n",
    "$Var(\\overline{A}_{x}) =  {^2}\\overline{A}_{x} - (\\overline{A}_{x})^2$\n",
    "\n",
    "- variance of continuous whole life insurance\n",
    "\n",
    "$Var(A_{x}) = {^2}A_{x} - ~(A_{x})^2$\n",
    "\n",
    "- variance of annual whole life insurance\n",
    "\n",
    "$Var(\\overline{A}^ {1}_{x:\\overline{t|}}) =  {^2}\\overline{A}^ {1}_{x:\\overline{t|}} - (\\overline{A}^ {1}_{x:\\overline{t|}})^2$\n",
    "\n",
    "- variance of continuous term life insurance\n",
    "\n",
    "$Var(A^ {1}_{x:\\overline{t|}}) = {^2}A^ {1}_{x:\\overline{t|}} - ~(A^ {1}_{x:\\overline{t|}})^2$\n",
    "\n",
    "- variance of annual term life insurance\n",
    "\n",
    "\n",
    "$Var(_{u|}\\overline{A}_{x:\\overline{t|}}) =  {^2_{u|}}\\overline{A}_{x:\\overline{t|}} - (_{u|}\\overline{A}_{x:\\overline{t|}})^2$\n",
    "\n",
    "- variance of continuous deferred life insurance\n",
    "\n",
    "\n",
    "$Var(_{u|}A_{x:\\overline{t|}}) = {^2_{u|}}A_{x:\\overline{t|}} - ~(_{u|}A_{x:\\overline{t|}})^2$\n",
    "\n",
    "- variance of annual deferred life insurance\n",
    "\n",
    "\n",
    "$Var(\\overline{A}_{x:\\overline{t|}}) =  {^2}\\overline{A}_{x:\\overline{t|}} - (\\overline{A}_{x:\\overline{t|}})^2$\n",
    "\n",
    "- variance of continous endowment insurance\n",
    "\n",
    "\n",
    "$Var(A_{x:\\overline{t|}}) = {^2}A_{x:\\overline{t|}} - ~(A_{x:\\overline{t|}})^2$\n",
    "\n",
    "- variance of annual endowment insurance\n",
    "\n",
    "__Pure Endowment__:\n",
    "\n",
    "${^2_t}E_{x} = v^{2t} ~ _tp_x = v_t ~ _tE_x$\n",
    "- second moment of pure endowment by discounting $_tE_x$\n",
    "\n",
    "$Var(_tE_x) = v^{2t} ~ _tp_x ~ _tq_x = v^{2t} ~_tp_x - (v^t ~ _tp_x)^2$\n",
    "- variance of pure endowment is the variance of a Bernoulli random variable\n",
    "\n"
   ]
  },
  {
   "attachments": {},
   "cell_type": "markdown",
   "metadata": {},
   "source": [
    "## Varying insurance\n",
    "\n",
    "__Increasing insurance__:\n",
    "\n",
    "Amount of death benefit increases arithmetically at a rate of $1 per year. \n",
    "\n",
    "$(\\overline{IA})_{x} = \\int_{t=0}^{\\infty} ~ t ~ v^t ~ _tp_x ~ \\mu_{x+t} ~ dt$\n",
    "\n",
    "- increasing continuous whole life insurance\n",
    "\n",
    "$(IA)_{x} = \\sum_{k=0}^{\\infty} ~ (k+1) ~ v^{k+1} ~ _{k|}q_x$\n",
    "\n",
    "- increasing annual whole life insurance\n",
    "\n",
    "$(\\overline{IA})^{1}_{x:\\overline{t|}} = \\int_{s=0}^{t} ~ s ~ v^s ~ _sp_x ~ \\mu_{x+s} ~ ds$\n",
    "\n",
    "- increasing continuous term insurance\n",
    "\n",
    "$(IA)^{1}_{x:\\overline{t|}} = \\sum_{k=0}^{t-1} ~ (k+1) ~ v^{k+1} ~ _{k|}q_x$\n",
    "\n",
    "- increasing annual term insurance\n",
    "\n",
    "__Decreasing insurance__:\n",
    "\n",
    "Amount of death benefit increasing arithmetically at a rate of $1 per year.\n",
    "\n",
    "$(\\overline{DA})^{1}_{x:\\overline{t|}} = \\int_{s=0}^{t} ~ (t-s) ~ v^s ~ _sp_x ~ \\mu_{x+s} ~ ds$\n",
    "\n",
    "- decreasing continuous term insurance (not defined for whole life)\n",
    "\n",
    "$(DA)^{1}_{x:\\overline{t|}} = \\sum_{k=0}^{t-1} ~ (t-k) ~ v^{k+1} ~ _{k|}q_x$\n",
    "\n",
    "- decreasing annual term insurance (not defined for whole life)\n",
    "\n",
    "__Identity relationship__:\n",
    "\n",
    "$(\\overline{DA})^{1}_{x:\\overline{t|}} + (\\overline{IA})^{1}_{x:\\overline{t|}} = t ~ \\overline{A}^{1}_{x:\\overline{t|}}$\n",
    "\n",
    "- relates continuous increasing and decreasing insurances\n",
    "\n",
    "$(DA)^{1}_{x:\\overline{t|}} + (IA)^{1}_{x:\\overline{t|}} = (t+1) ~ A^{1}_{x:\\overline{t|}}$\n",
    "\n",
    "- relates annual increasing and decreasing insurances\n",
    "\n"
   ]
  },
  {
   "attachments": {},
   "cell_type": "markdown",
   "metadata": {},
   "source": [
    "## Methods\n",
    "\n",
    "The `Insurance` class implements methods to compute the present value of life insurance"
   ]
  },
  {
   "cell_type": "code",
   "execution_count": 1,
   "metadata": {},
   "outputs": [
    {
     "name": "stdout",
     "output_type": "stream",
     "text": [
      "\n",
      "class Insurance - Compute expected present values of life insurance\n",
      "\n",
      "    Methods:\n",
      "    --------\n",
      "\n",
      "    E_x(x, s, t, endowment, moment):\n",
      "      Pure endowment: t_E_x\n",
      "\n",
      "    A_x(x, s, t, u, benefit, endowment, moment, discrete):\n",
      "      Numerically compute EPV of insurance from basic survival functions\n",
      "\n",
      "    insurance_variance(A2, A1, b):\n",
      "      Compute variance of insurance given moments and benefit\n",
      "\n",
      "    whole_life_insurance(x, s, moment, b, discrete):\n",
      "      Whole life insurance: A_x\n",
      "\n",
      "    term_insurance(x, s, t, b, moment, discrete):\n",
      "      Term life insurance: A_x:t^1\n",
      "\n",
      "    deferred_insurance(x, s, u, t, b, moment, discrete):\n",
      "      Deferred insurance n|_A_x:t^1 = discounted term or whole life\n",
      "\n",
      "    endowment_insurance(x, s, t, b, endowment, moment, discrete):\n",
      "      Endowment insurance: A_x^1:t = term insurance + pure endowment\n",
      "\n",
      "    increasing_insurance(x, s, t, b, discrete):\n",
      "      Increasing life insurance: (IA)_x\n",
      "\n",
      "    decreasing_insurance(x, s, t, b, discrete):\n",
      "      Decreasing life insurance: (DA)_x\n",
      "\n",
      "    Z_t(x, prob, discrete):\n",
      "      T_x given percentile of the PV of WL or Term insurance, i.e. r.v. Z(t)\n",
      "\n",
      "    Z_from_t(t, discrete):\n",
      "      PV of insurance payment Z(t), given T_x (or K_x if discrete)\n",
      "\n",
      "    Z_to_t(Z):\n",
      "      T_x s.t. PV of insurance payment is Z\n",
      "\n",
      "    Z_from_prob(x, prob, discrete):\n",
      "      Percentile of insurance PV r.v. Z, given probability\n",
      "\n",
      "    Z_to_prob(x, Z):\n",
      "      Cumulative density of insurance PV r.v. Z, given percentile value\n",
      "\n",
      "    Z_x(x, s, t, discrete):\n",
      "      EPV of year t insurance death benefit for life aged [x]+s: b_x[s]+s(t)\n",
      "\n",
      "    Z_plot(x, s, stop, benefit, T, discrete, ax, title, color):\n",
      "      Plot of PV of insurance r.v. Z vs t\n",
      "\n",
      "\n"
     ]
    }
   ],
   "source": [
    "import math\n",
    "import numpy as np\n",
    "import matplotlib.pyplot as plt\n",
    "from actuarialmath import Insurance\n",
    "import describe\n",
    "describe.methods(Insurance)"
   ]
  },
  {
   "attachments": {},
   "cell_type": "markdown",
   "metadata": {},
   "source": [
    "## Examples\n",
    "\n"
   ]
  },
  {
   "attachments": {},
   "cell_type": "markdown",
   "metadata": {},
   "source": [
    "__SOA Question 6.33__\n",
    "\n",
    "An insurance company sells 15-year pure endowments of 10,000 to 500 lives, each age x, with independent future lifetimes. The single premium for each pure endowment is determined by the equivalence principle.\n",
    "\n",
    "You are given:\n",
    "\n",
    "- $i$ = 0.03\n",
    "- $\\mu_x(t) = 0.02 t, \\quad t \\ge 0$\n",
    "- $_0L$ is the aggregate loss at issue random variable for these pure endowments.\n",
    "\n",
    "Using the normal approximation without continuity correction, calculate $Pr(_0L) > 50,000)$."
   ]
  },
  {
   "cell_type": "code",
   "execution_count": 2,
   "metadata": {},
   "outputs": [
    {
     "name": "stdout",
     "output_type": "stream",
     "text": [
      "SOA Question 6.33:  (B) 0.13\n",
      "0.12828940905648634\n"
     ]
    }
   ],
   "source": [
    "print(\"SOA Question 6.33:  (B) 0.13\")\n",
    "life = Insurance().set_survival(mu=lambda x,t: 0.02*t).set_interest(i=0.03)\n",
    "var = life.E_x(x=0, t=15, moment=life.VARIANCE, endowment=10000)\n",
    "p = 1 - life.portfolio_cdf(mean=0, variance=var, value=50000, N=500)\n",
    "print(p)"
   ]
  },
  {
   "attachments": {},
   "cell_type": "markdown",
   "metadata": {},
   "source": [
    "__SOA Question 4.18__\n",
    "\n",
    "You are given that T, the time to first failure of an industrial robot, has a density f(t) given by\n",
    "\n",
    "$$\n",
    "\\begin{align*}\n",
    "f(t) &= 0.1, \\quad 0 \\le t < 2\\\\\n",
    " &= 0.4t^{-2}, \\quad t \\le t < 10\n",
    "\\end{align*}\n",
    "$$\n",
    "\n",
    "with $f(t)$ undetermined on $[10, \\infty)$.\n",
    "\n",
    "Consider a supplemental warranty on this robot that pays 100,000 at the time T of its first failure if $2 \\le T \\le 10$ , with no benefits payable otherwise.\n",
    "You are also given that $\\delta = 5\\%$. Calculate the 90th percentile of the present value of the future benefits under this warranty."
   ]
  },
  {
   "cell_type": "code",
   "execution_count": 3,
   "metadata": {},
   "outputs": [
    {
     "name": "stdout",
     "output_type": "stream",
     "text": [
      "SOA Question 4.18  (A) 81873 \n",
      "81873.07530779815\n"
     ]
    }
   ],
   "source": [
    "print(\"SOA Question 4.18  (A) 81873 \")\n",
    "def f(x,s,t): return 0.1 if t < 2 else 0.4*t**(-2)\n",
    "life = Insurance().set_interest(delta=0.05)\\\n",
    "                  .set_survival(f=f, maxage=10)\n",
    "def benefit(x,t): return 0 if t < 2 else 100000\n",
    "prob = 0.9 - life.q_x(x=0, t=2)\n",
    "T = life.Z_t(x=0, prob=prob)\n",
    "Z = life.Z_from_t(T) * benefit(0, T)\n",
    "print(Z)"
   ]
  },
  {
   "attachments": {},
   "cell_type": "markdown",
   "metadata": {},
   "source": [
    "__SOA Question 4.10__\n",
    "\n",
    "The present value random variable for an insurance policy on (x) is expressed as:\n",
    "$$\\begin{align*}\n",
    "Z & =0, \\quad \\textrm{if } T_x \\le 10\\\\\n",
    "& =v^T, \\quad \\textrm{if } 10 < T_x \\le 20\\\\\n",
    "& =2v^T, \\quad \\textrm{if } 20 < T_x \\le 30\\\\\n",
    "& =0, \\quad \\textrm{thereafter}\n",
    "\\end{align*}$$\n",
    "\n",
    "Determine which of the following is a correct expression for $E[Z]$.\n",
    "\n",
    "\n",
    "(A) $_{10|}\\overline{A}_x + _{20|}\\overline{A}_x - _{30|}\\overline{A}_x$\n",
    "\n",
    "(B) $\\overline{A}_x + _{20}E_x \\overline{A}_{x+20} - 2~_{30}E_x \\overline{A}_{x +30}$\n",
    "\n",
    "(C) $_{10}E_x \\overline{A}_x + _{20}E_x \\overline{A}_{x+20} - 2 ~_{30}E_x \\overline{A}_{x +30}$\n",
    "\n",
    "(D) $_{10}E_x \\overline{A}_{x+10} + _{20}E_x \\overline{A}_{x+20} - 2~ _{30}E_x \\overline{A}_{x+30}$\n",
    "\n",
    "(E) $_{10}E_x [\\overline{A}_{x} + _{10}E_{x+10} + \\overline{A}_{x+20} - _{10}E_{x+20} + \\overline{A}_{x+30}]$"
   ]
  },
  {
   "cell_type": "code",
   "execution_count": 4,
   "metadata": {},
   "outputs": [
    {
     "name": "stdout",
     "output_type": "stream",
     "text": [
      "SOA Question 4.10:  (D)\n",
      "D\n"
     ]
    },
    {
     "data": {
      "image/png": "[encoded data removed]",
      "text/plain": [
       "<Figure size 640x480 with 6 Axes>"
      ]
     },
     "metadata": {},
     "output_type": "display_data"
    }
   ],
   "source": [
    "print(\"SOA Question 4.10:  (D)\")\n",
    "life = Insurance().set_interest(i=0)\\\n",
    "                    .set_survival(S=lambda x,s,t: 1, maxage=40)\n",
    "def fun(x, t):\n",
    "    if 10 <= t <= 20: return life.interest.v_t(t)\n",
    "    elif 20 < t <= 30: return 2 * life.interest.v_t(t)\n",
    "    else: return 0\n",
    "def A(x, t):  # Z_x+k (t-k)                                                       \n",
    "    return life.interest.v_t(t - x) * (t > x)\n",
    "x = 0\n",
    "benefits=[lambda x,t: (life.E_x(x, t=10) * A(x+10, t)\n",
    "                            + life.E_x(x, t=20)* A(x+20, t)\n",
    "                            - life.E_x(x, t=30) * A(x+30, t)),\n",
    "            lambda x,t: (A(x, t)\n",
    "                            + life.E_x(x, t=20) * A(x+20, t)\n",
    "                            - 2 * life.E_x(x, t=30) * A(x+30, t)),\n",
    "            lambda x,t: (life.E_x(x, t=10) * A(x, t)\n",
    "                            + life.E_x(x, t=20) * A(x+20, t)\n",
    "                            - 2 * life.E_x(x, t=30) * A(x+30, t)),\n",
    "            lambda x,t: (life.E_x(x, t=10) * A(x+10, t)\n",
    "                            + life.E_x(x, t=20) * A(x+20, t)\n",
    "                            - 2 * life.E_x(x, t=30) * A(x+30, t)),\n",
    "            lambda x,t: (life.E_x(x, t=10)\n",
    "                            * (A(x+10, t)\n",
    "                            + life.E_x(x+10, t=10) * A(x+20, t)\n",
    "                            - life.E_x(x+20, t=10) * A(x+30, t)))]\n",
    "fig, ax = plt.subplots(3, 2)\n",
    "ax = ax.ravel()\n",
    "for i, b in enumerate([fun] + benefits):\n",
    "    life.Z_plot(0, benefit=b, ax=ax[i], color=f\"C{i+1}\", title='')\n",
    "    ax[i].legend([\"(\" + \"abcde\"[i-1] + \")\" if i else \"Z\"])\n",
    "z = [sum(abs(b(0, t) - fun(0, t)) for t in range(40)) for b in benefits]\n",
    "print(\"ABCDE\"[np.argmin(z)])"
   ]
  },
  {
   "attachments": {},
   "cell_type": "markdown",
   "metadata": {},
   "source": [
    "__SOA Question 4.12__\n",
    "\n",
    "For three fully discrete insurance products on the same (x), you are given:\n",
    "- $Z_1$ is the present value random variable for a 20-year term insurance of 50\n",
    "- $Z_2$ is the present value random variable for a 20-year deferred whole life\n",
    "insurance of 100\n",
    "- $Z_3$ is the present value random variable for a whole life insurance of 100.\n",
    "- $E[Z_1] = 1.65$ and $E[Z_2] = 10.75$\n",
    "- $Var(Z_1) = 46.75$ and $Var(Z_2) = 50.78$\n",
    "\n",
    "Calculate $Var(Z_3)$."
   ]
  },
  {
   "cell_type": "code",
   "execution_count": 5,
   "metadata": {},
   "outputs": [
    {
     "name": "stdout",
     "output_type": "stream",
     "text": [
      "SOA Question 4.12:  (C) 167\n",
      "166.82999999999998\n"
     ]
    }
   ],
   "source": [
    "print(\"SOA Question 4.12:  (C) 167\")\n",
    "cov = Insurance.covariance(a=1.65, b=10.75, ab=0) # Z1 and Z2 nonoverlapping      \n",
    "var = Insurance.variance(a=2, b=1, var_a=46.75, var_b=50.78, cov_ab=cov)\n",
    "print(var)"
   ]
  },
  {
   "attachments": {},
   "cell_type": "markdown",
   "metadata": {},
   "source": [
    "__SOA Question 4.11__\n",
    "\n",
    "You are given:\n",
    "- $Z_1$ is the present value random variable for an n-year term insurance of 1000\n",
    "issued to (x)\n",
    "- $Z_2$ is the present value random variable for an n-year endowment insurance of\n",
    "1000 issued to (x)\n",
    "- For both $Z_1$ and $Z_2$ the death benefit is payable at the end of the year of death\n",
    "- $E [ Z_1 ] = 528$\n",
    "- $Var ( Z_2 ) = 15,000$\n",
    "- $A^{~~~~1}_{x:{\\overline{n|}}} = 0.209$\n",
    "- $^2A^{~~~~1}_{x:{\\overline{n|}}} = 0.136$\n",
    "\n",
    "Calculate $Var(Z_1)$."
   ]
  },
  {
   "cell_type": "code",
   "execution_count": 6,
   "metadata": {},
   "outputs": [
    {
     "name": "stdout",
     "output_type": "stream",
     "text": [
      "SOA Question 4.11:  (A) 143385\n",
      "143384.99999999997\n"
     ]
    }
   ],
   "source": [
    "print(\"SOA Question 4.11:  (A) 143385\")\n",
    "A1 = 528/1000   # E[Z1]  term insurance                                           \n",
    "C1 = 0.209      # E[pure_endowment]                                               \n",
    "C2 = 0.136      # E[pure_endowment^2]                                             \n",
    "def fun(A2):\n",
    "    B1 = A1 + C1   # endowment = term + pure_endowment                            \n",
    "    B2 = A2 + C2   # double force of interest                                     \n",
    "    return Insurance.insurance_variance(A2=B2, A1=B1)\n",
    "A2 = Insurance.solve(fun, target=15000/(1000*1000), grid=[143400, 279300])\n",
    "var = Insurance.insurance_variance(A2=A2, A1=A1, b=1000)\n",
    "print(var)"
   ]
  },
  {
   "attachments": {},
   "cell_type": "markdown",
   "metadata": {},
   "source": [
    "__SOA Question 4.15__\n",
    "\n",
    "For a special whole life insurance on (x), you are given:\n",
    "- Death benefits are payable at the moment of death\n",
    "- The death benefit at time $t$ is $b_t = e^{0.02t}$, for $t \\ge 0$\n",
    "- $\\mu_{x+t} = 0.04$, for $t \\ge 0$\n",
    "- $\\delta = 0.06$\n",
    "- Z is the present value at issue random variable for this insurance.\n",
    "\n",
    "Calculate $Var(Z)$."
   ]
  },
  {
   "cell_type": "code",
   "execution_count": 7,
   "metadata": {},
   "outputs": [
    {
     "name": "stdout",
     "output_type": "stream",
     "text": [
      "SOA Question 4.15  (E) 0.0833 \n",
      "0.08334849338238598\n"
     ]
    }
   ],
   "source": [
    "print(\"SOA Question 4.15  (E) 0.0833 \")\n",
    "life = Insurance().set_survival(mu=lambda *x: 0.04)\\\n",
    "                  .set_interest(delta=0.06)\n",
    "benefit = lambda x,t: math.exp(0.02*t)\n",
    "A1 = life.A_x(0, benefit=benefit, discrete=False)\n",
    "A2 = life.A_x(0, moment=2, benefit=benefit, discrete=False)\n",
    "var = A2 - A1**2\n",
    "print(var)"
   ]
  },
  {
   "attachments": {},
   "cell_type": "markdown",
   "metadata": {},
   "source": [
    "__SOA Question 4.4__\n",
    "\n",
    "For a special increasing whole life insurance on (40), payable at the moment of death, you are given:\n",
    "- The death benefit at time t is $b_t = 1 + 0.2 t, \\quad t \\ge 0$\n",
    "- The interest discount factor at time t is $v(t) = (1 + 0.2 t ) − 2, \\quad t \\ge 0$\n",
    "- $_tp_{40} \\mu_{40+t} = 0.025~\\text{if} ~ 0 \\le t < 40$, otherwise $0$\n",
    "- Z is the present value random variable for this insurance\n",
    "Calculate Var(Z)."
   ]
  },
  {
   "cell_type": "code",
   "execution_count": 8,
   "metadata": {},
   "outputs": [
    {
     "name": "stdout",
     "output_type": "stream",
     "text": [
      "SOA Question 4.4  (A) 0.036\n",
      "0.03567680106032681\n"
     ]
    }
   ],
   "source": [
    "print(\"SOA Question 4.4  (A) 0.036\")\n",
    "x = 40\n",
    "life = Insurance().set_survival(f=lambda *x: 0.025, maxage=x+40)\\\n",
    "                  .set_interest(v_t=lambda t: (1 + .2*t)**(-2))\n",
    "benefit = lambda x,t: 1 + .2 * t\n",
    "A1 = life.A_x(x, benefit=benefit, discrete=False)\n",
    "A2 = life.A_x(x, moment=2, benefit=benefit, discrete=False)\n",
    "var = A2 - A1**2\n",
    "print(var)"
   ]
  },
  {
   "attachments": {},
   "cell_type": "markdown",
   "metadata": {},
   "source": [
    "__Plot insurance present value r.v Z__\n",
    "\n",
    "Plot the insurance present value r.v. Z and survival probability of (x), and indicate median survival lifetime.  Assume mortality follows Standard Ultimate Life Table"
   ]
  },
  {
   "cell_type": "code",
   "execution_count": 9,
   "metadata": {},
   "outputs": [
    {
     "data": {
      "image/png": "[encoded data removed]",
      "text/plain": [
       "<Figure size 640x480 with 2 Axes>"
      ]
     },
     "metadata": {},
     "output_type": "display_data"
    }
   ],
   "source": [
    "from actuarialmath.sult import SULT\n",
    "life = SULT()\n",
    "life.Z_curve(x=20, stop=80, T=life.Z_t(x=20, prob=0.5),\n",
    "             title=\"PV insurance benefit if (x) survives median lifetime\")\n"
   ]
  }
 ],
 "metadata": {
  "kernelspec": {
   "display_name": "Python 3.10.5 ('env3.10')",
   "language": "python",
   "name": "python3"
  },
  "language_info": {
   "codemirror_mode": {
    "name": "ipython",
    "version": 3
   },
   "file_extension": ".py",
   "mimetype": "text/x-python",
   "name": "python",
   "nbconvert_exporter": "python",
   "pygments_lexer": "ipython3",
   "version": "3.11.4"
  },
  "orig_nbformat": 4,
  "vscode": {
   "interpreter": {
    "hash": "a53bd658f9a5b7202fd97fcbe4e35965efc28d0eb9d85b0766bd67191bc6202c"
   }
  }
 },
 "nbformat": 4,
 "nbformat_minor": 2
}
