{
 "cells": [
  {
   "attachments": {},
   "cell_type": "markdown",
   "metadata": {},
   "source": [
    "# Fractional Ages\n",
    "\n",
    "Given values of $l_x$ at integer ages only, we need to make some assumption about the probability distribution for the future lifetime random variable between integer ages, in order to calculate probabilities for non-integer ages or durations.\n",
    "Such fractional age assumptions may be specified in terms of the force of mortality function (e.g. constant) or the survival or mortality probabilities (e.g. uniform distribution of deaths).\n",
    "\n"
   ]
  },
  {
   "attachments": {},
   "cell_type": "markdown",
   "metadata": {},
   "source": [
    "## Uniform distribution of deaths\n",
    "\n",
    "$T_x = K_x + R_x$\n",
    "- The UDD assumptions defines a new random variable $R_x \\sim U(0,1)$ which is independent of curtate lifetime $K_x$.\n",
    "\n",
    "$_rq_x = r ~ q_x$, for integer $x$ and $0 \\le s < 1$\n",
    "- is an equivalent way of formulating the UDD assumption\n",
    "\n",
    "$l_{x+r} = (1 - r) ~ l_x + r ~ l_{x+1} = l_x - r~d_x$ \n",
    "\n",
    "- UDD is linear interpolation of lives between integer ages\n",
    "\n",
    "$_rq_{x+s} = \\dfrac{r ~ q_x}{1 - s ~ q_x}, \\quad$ for $0 \\le s + r < 0$\n",
    "\n",
    "- mortality rate at a fractional age over a fractional duration, under UDD\n",
    "\n",
    "$\\mu_{x+r} = \\dfrac{1}{1 - r ~ q_x}$\n",
    "- applying the UDD approximation over successive ages implies a discontinuous function for the force of mortality, with discontinuities occurring at integer ages.\n",
    "\n",
    "$f_x(r) =~ _rp_x \\mu_{x+r} =~ q_x$\n",
    "\n",
    "- lifetime density is constant between integer ages, which also follows from the UDD assumption for $R_x$.\n",
    "\n",
    "$\\overset{\\circ}{e}_{x} = q_x \\dfrac{1}{2} + p_x(1 + \\overset{\\circ}{e}_{x+1})$ \n",
    "\n",
    "- recursive expression for complete expectation of life obtained with UDD assumption\n",
    "\n",
    "$\\overset{\\circ}{e}_{x:\\overline{1|}} = 1 - q_x \\dfrac{1}{2} = q_x \\dfrac{1}{2} + ~p_x$\n",
    "\n",
    "- 1-year limited complete expectation under UDD \n",
    "\n",
    "$\\overset{\\circ}{e}_{x} \\approx e_x + 0.5$ \n",
    "- This exact result under UDD is often used as an approximation of complete and curtate expectations.\n",
    "\n"
   ]
  },
  {
   "attachments": {},
   "cell_type": "markdown",
   "metadata": {},
   "source": [
    "## Constant force of mortality\n",
    "\n",
    "$\\mu_{x+r} =~ \\mu_{x} =~ -\\ln ~p_x, \\quad$ for $0 \\le r < 1$\n",
    "- force of mortality is constant between integer ages, which leads to a step function over successive years of age\n",
    "\n",
    "$l_{x+r} = (l_x)^{1-r} \\cdot (l_{x+1})^{r}$\n",
    "\n",
    "- constant force of mortality is exponential interpolation of lives\n",
    "\n",
    "$_rp_x = e^{-\\mu_x r} = (p_x)^r$\n",
    "\n",
    "- since $p_x = e^{-\\int_0^1 \\mu_{x+u} du} = e^{-\\mu_x}$\n",
    "\n",
    "$_rp_{x+s} = e^{-\\int_0^r \\mu_{x+s+u} du} = (p_x)^r, \\quad$ for $0 \\le r+s < 1$\n",
    "\n",
    "- the probability of surviving for period of $s$ from age $x+t$ is independent of $t$ under constant force of mortality\n",
    "\n",
    "$f_x(r) =~ _rp_x ~ \\mu_{x+r} = e^{-\\mu_x r} \\cdot \\mu_x,\\quad$ for $0 \\le r <1$\n",
    "\n",
    "- relate lifetime density of (x) to constant force of mortality assumption\n",
    "\n"
   ]
  },
  {
   "attachments": {},
   "cell_type": "markdown",
   "metadata": {},
   "source": [
    "## Methods\n",
    "\n",
    "\n",
    "The `Fractional` class implements methods to compute survival and mortality functions between integer ages, assuming either uniform distribution of deaths or constant force of mortality"
   ]
  },
  {
   "cell_type": "code",
   "execution_count": 1,
   "metadata": {},
   "outputs": [
    {
     "name": "stdout",
     "output_type": "stream",
     "text": [
      "\n",
      "class Fractional - Compute survival functions at fractional ages and durations\n",
      "\n",
      "    Args:\n",
      "      udd : select UDD (True, default) or CFM (False) between integer ages\n",
      "\n",
      "    Methods:\n",
      "    --------\n",
      "\n",
      "    l_r(x, s, r):\n",
      "      Number of lives at fractional age: l_[x]+s+r\n",
      "\n",
      "    p_r(x, s, r, t):\n",
      "      Probability of survival from and through fractional age: t_p_[x]+s+r\n",
      "\n",
      "    q_r(x, s, r, t, u):\n",
      "      Deferred mortality rate within fractional ages: u|t_q_[x]+s+r\n",
      "\n",
      "    mu_r(x, s, r):\n",
      "      Force of mortality at fractional age: mu_[x]+s+r\n",
      "\n",
      "    f_r(x, s, r, t):\n",
      "      mortality function at fractional age: f_[x]+s+r (t)\n",
      "\n",
      "    E_r(x, s, r, t):\n",
      "      Pure endowment at fractional age: t_E_[x]+s+r\n",
      "\n",
      "    e_r(x, s, t):\n",
      "      Temporary expected future lifetime at fractional age: e_[x]+s:t\n",
      "\n",
      "    e_approximate(e_complete, e_curtate):\n",
      "      Convert between curtate and complete expectations assuming UDD shortcut\n",
      "\n",
      "\n"
     ]
    }
   ],
   "source": [
    "from actuarialmath import Fractional\n",
    "import describe\n",
    "describe.methods(Fractional)"
   ]
  },
  {
   "attachments": {},
   "cell_type": "markdown",
   "metadata": {},
   "source": [
    "## Examples\n"
   ]
  },
  {
   "attachments": {},
   "cell_type": "markdown",
   "metadata": {},
   "source": [
    "__Compare fractional age assumptions__:\n"
   ]
  },
  {
   "cell_type": "code",
   "execution_count": 2,
   "metadata": {},
   "outputs": [
    {
     "name": "stdout",
     "output_type": "stream",
     "text": [
      "           Constant Force of Mortality           UDD\n",
      "           ---------------------------          -----\n",
      "mortality rate     0.05131670194948623 0.04999999999999999\n",
      "force of mortality 0.10536051565782628 0.10526315789473682\n",
      "lifetime density   0.10536051565782628 0.09999999999999998\n"
     ]
    }
   ],
   "source": [
    "life1 = Fractional(udd=False).set_survival(l=lambda x,t: 50-x-t)\n",
    "life2 = Fractional(udd=True).set_survival(l=lambda x,t: 50-x-t)\n",
    "print('           Constant Force of Mortality           UDD')\n",
    "print('           ---------------------------          -----')\n",
    "print('mortality rate    ', life1.q_r(40, t=0.5), life2.q_r(40, t=0.5))\n",
    "print('force of mortality', life1.mu_r(40, r=0.5), life2.mu_r(40, r=0.5))\n",
    "print('lifetime density  ', life1.f_r(40, r=0.5), life2.f_r(40, r=0.5))"
   ]
  }
 ],
 "metadata": {
  "kernelspec": {
   "display_name": "Python 3.10.5 ('env3.10')",
   "language": "python",
   "name": "python3"
  },
  "language_info": {
   "codemirror_mode": {
    "name": "ipython",
    "version": 3
   },
   "file_extension": ".py",
   "mimetype": "text/x-python",
   "name": "python",
   "nbconvert_exporter": "python",
   "pygments_lexer": "ipython3",
   "version": "3.11.4"
  },
  "orig_nbformat": 4,
  "vscode": {
   "interpreter": {
    "hash": "a53bd658f9a5b7202fd97fcbe4e35965efc28d0eb9d85b0766bd67191bc6202c"
   }
  }
 },
 "nbformat": 4,
 "nbformat_minor": 2
}
