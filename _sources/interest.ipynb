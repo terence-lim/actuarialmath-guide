{
 "cells": [
  {
   "attachments": {},
   "cell_type": "markdown",
   "metadata": {},
   "source": [
    "# Interest Theory\n",
    "\n",
    "Interest theory functions, that are in common actuarial and financial use, are reviewed.  Interest rates are generally assumed to be fixed and constant."
   ]
  },
  {
   "cell_type": "markdown",
   "metadata": {},
   "source": [
    "## Interest rates\n",
    "\n",
    "$i$ is the amount earned on \\$1 after one year\n",
    "\n",
    "- effective annual _interest rate_\n",
    "- $i^{(m)}$ denotes the nominal interest rate, stated on annual basis, compounded _m_ times per year\n",
    "\n",
    "$d = \\dfrac{i}{1 + i}$\n",
    "\n",
    "- annual _discount rate_ of interest\n",
    "- $d^{(m)}$ denotes the nominal discount rate, stated on annual basis, compounded _m_ times per year\n",
    "\n",
    "$v = \\dfrac{1}{1 + i}$\n",
    "\n",
    "- annual _discount factor_\n",
    "\n",
    "$\\delta = \\log(1+i)$\n",
    "\n",
    "- _continuosly-compounded rate_ of interest, or _force of interest per year_\n",
    "\n"
   ]
  },
  {
   "attachments": {},
   "cell_type": "markdown",
   "metadata": {},
   "source": [
    "\n",
    "__Relationships between interest rates__\n",
    "\n",
    "$$\n",
    "\\begin{align*}\n",
    "(1+i)^t & = (1-d)^{-t} \\\\\n",
    "& = (1+\\dfrac{i^{(m)}}{m})^{mt} \\\\\n",
    "& = (1-\\dfrac{d^{(m)}}{m})^{-mt} \\\\\n",
    "& = e^{\\delta t} \\\\\n",
    "& = v^{-t}\n",
    "\\end{align*}\n",
    "$$\n"
   ]
  },
  {
   "attachments": {},
   "cell_type": "markdown",
   "metadata": {},
   "source": [
    "\n",
    "__Doubling the force of interest__\n",
    "\n",
    "$\\delta ' \\leftarrow 2 \\delta$\n",
    "\n",
    "$i' \\leftarrow 2 i + i^2$\n",
    "\n",
    "$d' \\leftarrow 2 d - d^2$\n",
    "\n",
    "$v' \\leftarrow v^2$\n",
    "\n"
   ]
  },
  {
   "attachments": {},
   "cell_type": "markdown",
   "metadata": {},
   "source": [
    "__Annuity certain__\n",
    "\n",
    "Pays \\$1 per year for $n$ years\n",
    "\n",
    "$\\ddot{a}_{\\overline{n|}} = \\dfrac{1 - v^{n}}{d}$\n",
    "\n",
    "- Annuity certain due: pays $1 at the beginning of the year \n",
    "\n",
    "$a_{\\overline{n|}} = \\dfrac{1 - v^{n}}{i} = \\ddot{a}_{\\overline{n+1|}} - 1$\n",
    "\n",
    "- Immediate annuity certain: pays $1 at the end of the year\n",
    "\n",
    "$\\overline{a}_{\\overline{n|}}  = \\dfrac{1 - v^{n}}{\\delta}$\n",
    "\n",
    "- Continuous annuity certain: pays at a rate of $1 per year continuously."
   ]
  },
  {
   "attachments": {},
   "cell_type": "markdown",
   "metadata": {},
   "source": [
    "## Methods\n",
    "\n",
    "The ``Interest`` class implements methods to convert between nominal, discount, continuously-compounded and 1/m'thy rates of interest, and compute the value of an annuity certain."
   ]
  },
  {
   "cell_type": "code",
   "execution_count": 1,
   "metadata": {},
   "outputs": [
    {
     "name": "stdout",
     "output_type": "stream",
     "text": [
      "\n",
      "class Interest - Converts interest rates, and computes value of annuity certain\n",
      "    \n",
      "    Args:\n",
      "      i : assumed annual interest rate\n",
      "      d : or assumed discount rate\n",
      "      v : or assumed discount factor\n",
      "      delta : or assumed continuously compounded interest rate\n",
      "      v_t : or assumed discount rate as a function of time\n",
      "      i_m : or assumed monthly interest rate\n",
      "      d_m : or assumed monthly discount rate\n",
      "      m : m'thly frequency, if i_m or d_m are given\n",
      "\n",
      "    Examples:\n",
      "      >>> interest = Interest(v=0.75)\n",
      "\n",
      "    Methods:\n",
      "    --------\n",
      "\n",
      "    annuity(t, m, due):\n",
      "      Compute value of the annuity certain factor\n",
      "\n",
      "    mthly(m, i, d, i_m, d_m):\n",
      "      Convert to or from m'thly interest rates\n",
      "\n",
      "    double_force(i, delta, d, v):\n",
      "      Double the force of interest\n",
      "\n",
      "\n"
     ]
    }
   ],
   "source": [
    "from actuarialmath import Interest\n",
    "import describe\n",
    "describe.methods(Interest)"
   ]
  },
  {
   "attachments": {},
   "cell_type": "markdown",
   "metadata": {},
   "source": [
    "## Examples\n"
   ]
  },
  {
   "attachments": {},
   "cell_type": "markdown",
   "metadata": {},
   "source": [
    "__SOA Question 3.10__: \n",
    "\n",
    "A group of 100 people start a Scissor Usage Support Group. The rate at which members enter and leave the group is dependent on whether they are right-handed or left-handed. You are given the following:\n",
    "- The initial membership is made up of 75% left-handed members (L) and 25%\n",
    "right-handed members (R)\n",
    "- After the group initially forms, 35 new (L) and 15 new (R) join the group at the start of each subsequent year\n",
    "- Members leave the group only at the end of each year\n",
    "- $q^L$ = 0.25 for all years\n",
    "- $q^R$ = 0.50 for all years\n",
    "Calculate the proportion of the Scissor Usage Support Group’s expected membership that is left-handed at the start of the group’s6 th year, before any new members join for that year."
   ]
  },
  {
   "cell_type": "code",
   "execution_count": 2,
   "metadata": {},
   "outputs": [
    {
     "name": "stdout",
     "output_type": "stream",
     "text": [
      "SOA Question 3.10:  (C) 0.86\n",
      "0.8578442833761983\n"
     ]
    }
   ],
   "source": [
    "print(\"SOA Question 3.10:  (C) 0.86\")\n",
    "interest = Interest(v=0.75)\n",
    "L = 35 * interest.annuity(t=4, due=False) + 75 * interest.v_t(t=5)\n",
    "interest = Interest(v=0.5)\n",
    "R = 15 * interest.annuity(t=4, due=False) + 25 * interest.v_t(t=5)\n",
    "print(L / (L + R))\n"
   ]
  },
  {
   "attachments": {},
   "cell_type": "markdown",
   "metadata": {},
   "source": [
    "__Example for doubling the force of interest__:"
   ]
  },
  {
   "cell_type": "code",
   "execution_count": 3,
   "metadata": {},
   "outputs": [
    {
     "name": "stdout",
     "output_type": "stream",
     "text": [
      "Example: double the force of interest i=0.05\n",
      "i: 0.05 d: 0.047619047619047616\n",
      "i: 0.1025 0.1025\n",
      "d: 0.092971 0.092971\n"
     ]
    }
   ],
   "source": [
    "print(\"Example: double the force of interest i=0.05\")\n",
    "i = 0.05\n",
    "d = Interest(i=i).d               # convert interest rate to discount rate\n",
    "print('i:', i, 'd:', d)\n",
    "i2 = Interest.double_force(i=i)   # interest rate after doubling force\n",
    "d2 = Interest.double_force(d=d)   # discount rate after doubling force\n",
    "print('i:', round(i2, 6), round(Interest(d=d2).i, 6))\n",
    "print('d:', round(d2, 6), round(Interest(i=i2).d, 6))\n"
   ]
  }
 ],
 "metadata": {
  "kernelspec": {
   "display_name": "Python 3.10.5 ('env3.10')",
   "language": "python",
   "name": "python3"
  },
  "language_info": {
   "codemirror_mode": {
    "name": "ipython",
    "version": 3
   },
   "file_extension": ".py",
   "mimetype": "text/x-python",
   "name": "python",
   "nbconvert_exporter": "python",
   "pygments_lexer": "ipython3",
   "version": "3.10.11"
  },
  "orig_nbformat": 4,
  "vscode": {
   "interpreter": {
    "hash": "a53bd658f9a5b7202fd97fcbe4e35965efc28d0eb9d85b0766bd67191bc6202c"
   }
  }
 },
 "nbformat": 4,
 "nbformat_minor": 2
}
