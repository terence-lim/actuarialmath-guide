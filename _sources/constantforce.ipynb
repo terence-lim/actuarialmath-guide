{
 "cells": [
  {
   "attachments": {},
   "cell_type": "markdown",
   "metadata": {},
   "source": [
    "# Constant Force of Mortality\n",
    "\n",
    "If force of mortality is constant, then future lifetime is exponentially distributed.  The exponential distribution is easy to work with, and has the _memoryless_ property that survival probability is independent of age (which is clearly an unrealistic assumption for human mortality).\n",
    "\n",
    "$_tp_x = e^{-\\mu t}$\n",
    "\n",
    "$_tq_x = 1 - e^{-\\mu t}$\n",
    "\n",
    "\n",
    "- survival functions do not depend on age x; given any desired probability of survival (or death), the time-of-death threshold can also be easily derived by inverting this simple shortcut formula\n",
    "\n",
    "## Expected future lifetime\n",
    "\n",
    "$\\overset{\\circ}{e}_{x} = \\dfrac{1}{\\mu}$\n",
    "\n",
    "- expected future lifetime is the mean of an exponential distribution, and does not depend on age x\n",
    "\n",
    "$\\overset{\\circ}{e}_{x:\\overline{n|}} = \\dfrac{1}{\\mu} (1 - e^{-\\mu n})$\n",
    "\n",
    "- temporary life expectancy is expected future life time, minus the probability of surviving $n$ years times the expected remaining lifetime of those survivors\n",
    "\n",
    "\n",
    "$Var(T_x) = \\dfrac{1}{\\mu^2}$\n",
    "\n",
    "- variance of future lifetime is the variance of an exponential distribution\n",
    "\n",
    "## Pure endowment\n",
    "\n",
    "$_nE_x = e^{-(\\mu + \\delta)n}$\n",
    "\n",
    "- shortcut for pure endowment after substituting in the formula for survival function\n"
   ]
  },
  {
   "cell_type": "markdown",
   "metadata": {},
   "source": [
    "\n",
    "## Life insurance\n",
    "\n",
    "$\\bar{A}_{x} = \\dfrac{\\mu}{\\mu + \\delta}$\n",
    "\n",
    "- continuous whole life insurance, does not depend on age $x$\n",
    "\n",
    "$~_{u|}\\bar{A}_{x} = \\dfrac{\\mu}{\\mu + \\delta} e^{-\\mu u}$\n",
    "\n",
    "- deferred continuous whole life insurance as pure endowment times whole life insurance\n",
    "\n",
    "$\\bar{A}_{x:\\overline{t|}} = \\dfrac{\\mu}{\\mu + \\delta} (1 - e^{-\\mu t})$\n",
    "\n",
    "- continuous term life insurance as difference of whole life and deferred whole life insurance shortcut formulas\n",
    "\n",
    "## Life annuities\n",
    "\n",
    "$\\bar{a}_{x} = \\dfrac{1}{\\mu + \\delta}$\n",
    "\n",
    "- whole life annuity, does not depend on age $x$\n",
    "\n",
    "$\\bar{a}_{x:\\overline{t|}} = \\dfrac{1}{\\mu + \\delta} (1 - e^{-\\mu t})$\n",
    "\n",
    "- temporary life annuity as difference of whole life and deferred whole life annuity shortcut formulas\n",
    "\n",
    "## Net future loss\n",
    "\n",
    "$var(_0L) = \\dfrac{\\mu}{2\\delta + \\mu}$\n",
    "\n",
    "- variance of loss at issue on whole life insurance with benefit premium calculated using the equivalence principle equals the second moment of insurance \n"
   ]
  },
  {
   "attachments": {},
   "cell_type": "markdown",
   "metadata": {},
   "source": [
    "## Methods\n",
    "\n",
    "The `ConstantForce` class specifies a constant force of mortality for the survival model. It inherits all the general methods for computing life contingency risks, and overrides those methods with shortcut formulas that are available when assuming an exponential distribution for future lifetime."
   ]
  },
  {
   "cell_type": "code",
   "execution_count": 2,
   "metadata": {},
   "outputs": [
    {
     "name": "stdout",
     "output_type": "stream",
     "text": [
      "\n",
      "class ConstantForce - Constant force of mortality - memoryless exponential distribution of lifetime\n",
      "\n",
      "    Args:\n",
      "      mu : constant value of force of mortality\n",
      "      udd : assume UDD (True) or CFM (False, default) between integer ages\n",
      "\n",
      "    Examples:\n",
      "      >>> life = ConstantForce(mu=0.01).set_interest(delta=0.05)\n",
      "      >>> life.term_insurance(35, t=35, discrete=False) + life.E_x(35, t=35)*0.51791\n",
      "\n",
      "    Methods:\n",
      "    --------\n",
      "\n",
      "    e_x(x, s, t, curtate, moment):\n",
      "      Expected lifetime E[T_x] is memoryless: does not depend on (x)\n",
      "\n",
      "    E_x(x, s, t, endowment, moment):\n",
      "      Shortcut for pure endowment: does not depend on age x\n",
      "\n",
      "    whole_life_insurance(x, s, moment, b, discrete):\n",
      "      Shortcut for APV of whole life: does not depend on age x\n",
      "\n",
      "    temporary_annuity(x, s, t, b, variance, discrete):\n",
      "      Shortcut for temporary life annuity: does not depend on age x\n",
      "\n",
      "    term_insurance(x, s, t, b, moment, discrete):\n",
      "      Shortcut for APV of term life: does not depend on age x\n",
      "\n",
      "    Z_t(x, prob, discrete):\n",
      "      Shortcut for T_x (or K_x) given survival probability for insurance\n",
      "\n",
      "    Y_t(x, prob, discrete):\n",
      "      Shortcut for T_x (or K_x) given survival probability for annuity\n",
      "\n",
      "\n"
     ]
    }
   ],
   "source": [
    "\n",
    "from actuarialmath import ConstantForce\n",
    "import describe\n",
    "describe.methods(ConstantForce)"
   ]
  },
  {
   "attachments": {},
   "cell_type": "markdown",
   "metadata": {},
   "source": [
    "## Examples\n"
   ]
  },
  {
   "cell_type": "markdown",
   "metadata": {},
   "source": [
    "To use the constant force of mortality assumption, the `ConstantForce` subclass can be initialized with the value of `mu`; then shortcut formulas for computing life contingencies, where available, would be called instead of general inherited methods."
   ]
  },
  {
   "cell_type": "code",
   "execution_count": 9,
   "metadata": {},
   "outputs": [
    {
     "data": {
      "text/plain": [
       "(0.14625726195783623, 0.12245642825298157)"
      ]
     },
     "execution_count": 9,
     "metadata": {},
     "output_type": "execute_result"
    }
   ],
   "source": [
    "life = ConstantForce(mu=0.01).set_interest(delta=0.05)                       \n",
    "life.term_insurance(35, t=35, discrete=False), life.E_x(35, t=35)   "
   ]
  },
  {
   "attachments": {},
   "cell_type": "markdown",
   "metadata": {},
   "source": [
    "__SOA Question 6.36__\n",
    "\n",
    "For a fully continuous 20-year term insurance policy of 100,000 on (50), you are given:\n",
    "- Gross premiums, calculated using the equivalence principle, are payable at an annual rate of 4500\n",
    "- Expenses at an annual rate of R are payable continuously throughout the life of the policy\n",
    "- $\\mu_{50 + t} = 0.04$, for $t > 0$\n",
    "- $\\delta = 0.08$\n",
    "\n",
    "Calculate R."
   ]
  },
  {
   "cell_type": "code",
   "execution_count": 4,
   "metadata": {},
   "outputs": [
    {
     "name": "stdout",
     "output_type": "stream",
     "text": [
      "SOA Question 6.36:  (B) 500\n",
      "500.0\n"
     ]
    }
   ],
   "source": [
    "print(\"SOA Question 6.36:  (B) 500\")\n",
    "life = ConstantForce(mu=0.04).set_interest(delta=0.08)\n",
    "a = life.temporary_annuity(50, t=20, discrete=False)\n",
    "A = life.term_insurance(50, t=20, discrete=False)\n",
    "def fun(R):\n",
    "    return life.gross_premium(a=a, A=A, initial_premium=R/4500,\n",
    "                              renewal_premium=R/4500, benefit=100000)\n",
    "R = life.solve(fun, target=4500, grid=[400, 800])\n",
    "print(R)\n"
   ]
  },
  {
   "attachments": {},
   "cell_type": "markdown",
   "metadata": {},
   "source": [
    "__SOA Question 6.31__\n",
    "\n",
    "For a fully continuous whole life insurance policy of 100,000 on (35), you are given:\n",
    "- The density function of the future lifetime of a newborn:\n",
    "$$\\begin{align*}\n",
    "f(t) & = 0.01 e^{-0.01 t}, \\quad 0 \\le t < 70\\\\\n",
    "& = g(t), \\quad t \\ge 70\n",
    "\\end{align*}$$\n",
    "\n",
    "- $\\delta = 0.05$\n",
    "- $\\overline{A}_{70} = 0.51791$\n",
    "\n",
    "Calculate the annual net premium rate for this policy."
   ]
  },
  {
   "cell_type": "code",
   "execution_count": 5,
   "metadata": {},
   "outputs": [
    {
     "name": "stdout",
     "output_type": "stream",
     "text": [
      "SOA Question 6.31:  (D) 1330\n",
      "1326.5406293909457\n"
     ]
    }
   ],
   "source": [
    "print(\"SOA Question 6.31:  (D) 1330\")\n",
    "life = ConstantForce(mu=0.01).set_interest(delta=0.05)\n",
    "A = life.term_insurance(35, t=35) + life.E_x(35, t=35) * 0.51791 # A_35           \n",
    "A = (life.term_insurance(35, t=35, discrete=False)\n",
    "        + life.E_x(35, t=35) * 0.51791)    # A_35                                 \n",
    "P = life.premium_equivalence(A=A, b=100000, discrete=False)\n",
    "print(P)\n"
   ]
  },
  {
   "attachments": {},
   "cell_type": "markdown",
   "metadata": {},
   "source": [
    "__SOA Question 6.27__\n",
    "\n",
    "For a special fully continuous whole life insurance on (x), you are given:\n",
    "- Premiums and benefits:\n",
    "\n",
    "| | First 20 years | After 20 years |\n",
    "| --- | --- | --- |\n",
    "| Premium Rate | 3P | P |\n",
    "| Benefit | 1,000,000 | 500,000 |\n",
    "\n",
    "\n",
    "- $\\mu_{x+t} = 0.03, \\quad t \\ge 0$\n",
    "- $\\delta = 0.06$\n",
    "\n",
    "Calculate $P$ using the equivalence principle."
   ]
  },
  {
   "cell_type": "code",
   "execution_count": 6,
   "metadata": {},
   "outputs": [
    {
     "name": "stdout",
     "output_type": "stream",
     "text": [
      "SOA Question 6.27:  (D) 10310\n",
      "10309.617799001708\n"
     ]
    }
   ],
   "source": [
    "print(\"SOA Question 6.27:  (D) 10310\")\n",
    "life = ConstantForce(mu=0.03).set_interest(delta=0.06)\n",
    "x = 0\n",
    "payments = (3 * life.temporary_annuity(x, t=20, discrete=False)\n",
    "            + life.deferred_annuity(x, u=20, discrete=False))\n",
    "benefits = (1000000 * life.term_insurance(x, t=20, discrete=False)\n",
    "            + 500000 * life.deferred_insurance(x, u=20, discrete=False))\n",
    "P = benefits / payments\n",
    "print(P)"
   ]
  },
  {
   "attachments": {},
   "cell_type": "markdown",
   "metadata": {},
   "source": [
    "__SOA Question 5.4__\n",
    "\n",
    "(40) wins the SOA lottery and will receive both:\n",
    "- A deferred life annuity of K per year, payable continuously, starting at age\n",
    "$40 + \\overset{\\circ}{e}_{40}$ and\n",
    "- An annuity certain of K per year, payable continuously, for $\\overset{\\circ}{e}_{40}$ years\n",
    "\n",
    "You are given:\n",
    "- $\\mu = 0.02$\n",
    "- $\\delta = 0.01$\n",
    "- The actuarial present value of the payments is 10,000\n",
    "\n",
    "Calculate K."
   ]
  },
  {
   "cell_type": "code",
   "execution_count": 7,
   "metadata": {},
   "outputs": [
    {
     "name": "stdout",
     "output_type": "stream",
     "text": [
      "SOA Question 5.4:  (A) 213.7\n",
      "213.74552118275955\n"
     ]
    }
   ],
   "source": [
    "print(\"SOA Question 5.4:  (A) 213.7\")\n",
    "life = ConstantForce(mu=0.02).set_interest(delta=0.01)\n",
    "P = 10000 / life.certain_life_annuity(40, u=life.e_x(40, curtate=False),\n",
    "                                        discrete=False)\n",
    "print(P)"
   ]
  },
  {
   "attachments": {},
   "cell_type": "markdown",
   "metadata": {},
   "source": [
    "__SOA Question 5.1__\n",
    "\n",
    "You are given:\n",
    "- $\\delta_t = 0.06, \\quad t \\ge 0$\n",
    "- $\\mu_x(t) = 0.01, \\quad t \\ge 0$\n",
    "- $Y$ is the present value random variable for a continuous annuity of 1 per year,\n",
    "payable for the lifetime of (x) with 10 years certain\n",
    "\n",
    "Calculate $Pr( Y > E[Y])$."
   ]
  },
  {
   "cell_type": "code",
   "execution_count": 8,
   "metadata": {},
   "outputs": [
    {
     "name": "stdout",
     "output_type": "stream",
     "text": [
      "SOA Question 5.1: (A) 0.705\n",
      "0.7053680433746505\n"
     ]
    }
   ],
   "source": [
    "print(\"SOA Question 5.1: (A) 0.705\")\n",
    "life = ConstantForce(mu=0.01).set_interest(delta=0.06)\n",
    "EY = life.certain_life_annuity(0, u=10, discrete=False)\n",
    "print(life.p_x(0, t=life.Y_to_t(EY)))  # 0.705                                    \n"
   ]
  }
 ],
 "metadata": {
  "kernelspec": {
   "display_name": "Python 3.10.5 ('env3.10')",
   "language": "python",
   "name": "python3"
  },
  "language_info": {
   "codemirror_mode": {
    "name": "ipython",
    "version": 3
   },
   "file_extension": ".py",
   "mimetype": "text/x-python",
   "name": "python",
   "nbconvert_exporter": "python",
   "pygments_lexer": "ipython3",
   "version": "3.11.4"
  },
  "orig_nbformat": 4,
  "vscode": {
   "interpreter": {
    "hash": "a53bd658f9a5b7202fd97fcbe4e35965efc28d0eb9d85b0766bd67191bc6202c"
   }
  }
 },
 "nbformat": 4,
 "nbformat_minor": 2
}
