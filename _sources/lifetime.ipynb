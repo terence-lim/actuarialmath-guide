{
 "cells": [
  {
   "attachments": {},
   "cell_type": "markdown",
   "metadata": {},
   "source": [
    "# Expected Future Lifetimes\n",
    "\n",
    "\n",
    "In many insurance applications we are interested not only in the future lifetime of an individual, but also the individual's _curtate_ future lifetime, defined as the integer\n",
    "part of future lifetime.  For some lifetime distributions we are able to integrate for the mean and standard deviations of future lifetimes directly, without using numerical techniques."
   ]
  },
  {
   "cell_type": "markdown",
   "metadata": {},
   "source": [
    "## Complete expectation of life\n",
    "\n",
    "$\\overset{\\circ}{e}_{x} = E[T_x] = \\int_0^{\\infty} t~ _tp_x\\ \\mu_{x+t} ds = \\int_0^{\\infty}~ _tp_x\\ dt$\n",
    "\n",
    "- is the complete expectation of life, or the expected future lifetime\n",
    "\n",
    "$E[T_x^2] = \\int_0^{\\infty} t^2~ _tp_x~ \\mu_{x+t}\\ ds = \\int_0^{\\infty}~ 2~ t~ _tp_x~ dt$\n",
    "\n",
    "- Second moment of future lifetime\n",
    "\n",
    "$Var[T_x] = E[T_x^2] - (\\overset{\\circ}{e}_{x})^2$\n",
    "\n",
    "- Variance of future lifetime\n",
    "\n"
   ]
  },
  {
   "attachments": {},
   "cell_type": "markdown",
   "metadata": {},
   "source": [
    "## Curtate expectation of life\n",
    "\n",
    "$K_x = \\lfloor T_x \\rfloor$\n",
    "- is the curtate future lifetime random variable, representing the number of completed whole future years by (x) prior to death\n",
    "\n",
    "$e_{x} = E[K_x] = \\sum_{k=0}^{\\infty} k~ _{k|}q_x~  = \\sum_{k=1}^{\\infty}~ _kp_x~ dt$\n",
    "\n",
    "- Is the curtate expectation of life, representing the expected curtate lifetime\n",
    "\n",
    "$E[K_x^2] = \\sum_{k=0}^{\\infty} k^2~ _{k|}q_x~ = \\sum_{k=1}^{\\infty} (2k-1)~ _kq_x\\ dt$\n",
    "\n",
    "- Second moment of curtate future lifetime\n",
    "\n",
    "$Var[K_x] = E[K_x^2] - (e_{x})^2$\n",
    "\n",
    "- Variance of curtate future lifetime\n",
    "\n"
   ]
  },
  {
   "attachments": {},
   "cell_type": "markdown",
   "metadata": {},
   "source": [
    "## Temporary expectation of life\n",
    "\n",
    "We are sometimes interested in the future lifetime random variable subject to a cap of n years, which is represented by the random variable $min(T_x, n)$.\n",
    "\n",
    "$\\overset{\\circ}{e}_{x:\\overline{n|}} = \\int_0^{n} t~ _tp_x~ \\mu_{x+t}~ ds + n~ _np_x = \\int_0^{n}~ _tp_x~ dt$\n",
    "\n",
    "- term complete expectation of life\n",
    "\n",
    "$e_{x:\\overline{n|}} = \\sum_{k=0}^{n-1} k~ _{k|}q_x~ + n~ _np_x = \\sum_{k=1}^{n}~ _kp_x$\n",
    "\n",
    "- temporary curtate expectation of life, limited at $n$ years\n"
   ]
  },
  {
   "attachments": {},
   "cell_type": "markdown",
   "metadata": {},
   "source": [
    "## Methods\n",
    "\n",
    "The `Lifetime` class implements methods to compute curtate and complete expectations and second moments of future lifetime"
   ]
  },
  {
   "cell_type": "code",
   "execution_count": 1,
   "metadata": {},
   "outputs": [
    {
     "name": "stdout",
     "output_type": "stream",
     "text": [
      "\n",
      "class Lifetime - Computes expected moments of future lifetime\n",
      "\n",
      "    Methods:\n",
      "    --------\n",
      "\n",
      "    e_x(x, s, t, curtate, moment):\n",
      "      Compute curtate or complete expectations and moments of life\n",
      "\n",
      "\n"
     ]
    }
   ],
   "source": [
    "from actuarialmath import Lifetime\n",
    "import describe\n",
    "describe.methods(Lifetime)"
   ]
  },
  {
   "attachments": {},
   "cell_type": "markdown",
   "metadata": {},
   "source": [
    "## Examples\n"
   ]
  },
  {
   "attachments": {},
   "cell_type": "markdown",
   "metadata": {},
   "source": [
    "__SOA Question 2.1__\n",
    "\n",
    "You are given:\n",
    "\n",
    "- $S0(t) = \\left(1 - \\frac{t}{\\omega} \\right)^{\\frac{1}{4}}, \\quad 0 \\le t \\le \\omega$\n",
    "\n",
    "- $\\mu_{65} = \\frac{1}{180} $\n",
    "\n",
    "Calculate $e_{106}$, the curtate expectation of life at age 106."
   ]
  },
  {
   "cell_type": "code",
   "execution_count": 2,
   "metadata": {},
   "outputs": [
    {
     "name": "stdout",
     "output_type": "stream",
     "text": [
      "SOA Question 2.1: (B) 2.5\n",
      "2.4786080555423604\n"
     ]
    }
   ],
   "source": [
    "print(\"SOA Question 2.1: (B) 2.5\")\n",
    "def fun(omega):  # Solve first for omega, given mu_65 = 1/180\n",
    "    return Lifetime().set_survival(l=lambda x,s: (1-(x+s)/omega)**0.25,\n",
    "                                   maxage=omega).mu_x(65)\n",
    "omega = int(Lifetime.solve(fun, target=1/180, grid=100))  # solve for omega\n",
    "e = Lifetime().set_survival(l=lambda x,s: (1 - (x+s)/omega)**0.25, \n",
    "                               maxage=omega).e_x(106)\n",
    "print(e)\n"
   ]
  },
  {
   "attachments": {},
   "cell_type": "markdown",
   "metadata": {},
   "source": [
    "__SOA Question 2.4__\n",
    "\n",
    "You are given $_tq_0 = \\frac{t^2}{10,000} \\quad 0 < t < 100$. Calculate \n",
    "$\\overset{\\circ}{e}_{75:\\overline{10|}}$."
   ]
  },
  {
   "cell_type": "code",
   "execution_count": 3,
   "metadata": {},
   "outputs": [
    {
     "name": "stdout",
     "output_type": "stream",
     "text": [
      "SOA Question 2.4: (E) 8.2\n",
      "8.20952380952381\n"
     ]
    }
   ],
   "source": [
    "print(\"SOA Question 2.4: (E) 8.2\")\n",
    "def S(x,s) : return 0. if (x+s) >= 100 else 1 - ((x+s)**2)/10000.\n",
    "e = Lifetime().set_survival(l=S).e_x(75, t=10, curtate=False)\n",
    "print(e)\n"
   ]
  }
 ],
 "metadata": {
  "kernelspec": {
   "display_name": "Python 3.10.5 ('env3.10')",
   "language": "python",
   "name": "python3"
  },
  "language_info": {
   "codemirror_mode": {
    "name": "ipython",
    "version": 3
   },
   "file_extension": ".py",
   "mimetype": "text/x-python",
   "name": "python",
   "nbconvert_exporter": "python",
   "pygments_lexer": "ipython3",
   "version": "3.11.4"
  },
  "orig_nbformat": 4,
  "vscode": {
   "interpreter": {
    "hash": "a53bd658f9a5b7202fd97fcbe4e35965efc28d0eb9d85b0766bd67191bc6202c"
   }
  }
 },
 "nbformat": 4,
 "nbformat_minor": 2
}
