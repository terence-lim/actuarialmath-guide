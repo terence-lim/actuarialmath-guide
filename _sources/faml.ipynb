{
 "cells": [
  {
   "attachments": {},
   "cell_type": "markdown",
   "id": "8b59d3c2",
   "metadata": {
    "id": "11569414"
   },
   "source": [
    "# Sample Solutions and Hints\n",
    "\n",
    "__actuarialmath -- Life Contingent Risks with Python__\n",
    "\n",
    "This package implements fundamental methods for modeling life contingent risks, and closely follows traditional topics covered in actuarial exams and standard texts such as the \"Fundamentals of Actuarial Math - Long-term\" exam syllabus by the Society of Actuaries, and \"Actuarial Mathematics for Life Contingent Risks\" by Dickson, Hardy and Waters.  These code chunks demonstrate how to solve each of the sample FAM-L exam questions released by the SOA.\n",
    "\n",
    "Sources:\n",
    "\n",
    "- SOA FAM-L Sample Solutions: [copy retrieved Aug 2022](https://terence-lim.github.io/notes/2022-10-exam-fam-l-sol.pdf)\n",
    "\n",
    "- SOA FAM-L Sample Questions: [copy retrieved Aug 2022](https://terence-lim.github.io/notes/2022-10-exam-fam-l-quest.pdf)\n",
    "\n",
    "- [Online User Guide](https://terence-lim.github.io/actuarialmath-guide/), or [download pdf](https://terence-lim.github.io/notes/actuarialmath-guide.pdf)\n",
    "\n",
    "- [API reference](https://terence-lim.github.io/actuarialmath-docs)\n",
    "\n",
    "- [Github repo](https://github.com/terence-lim/actuarialmath.git) and [issues](https://github.com/terence-lim/actuarialmath/issues)\n"
   ]
  },
  {
   "cell_type": "code",
   "execution_count": 1,
   "id": "a7abdda7",
   "metadata": {
    "colab": {
     "base_uri": "https://localhost:8080/"
    },
    "id": "i9j4jVPE-Fpk",
    "outputId": "c2addd37-6cbe-49bf-f4d3-7252d6d3f0c5"
   },
   "outputs": [],
   "source": [
    "#! pip install actuarialmath==0.0.11"
   ]
  },
  {
   "cell_type": "code",
   "execution_count": 2,
   "id": "0f254f34",
   "metadata": {
    "id": "a0729fd1",
    "lines_to_next_cell": 1
   },
   "outputs": [],
   "source": [
    "\"\"\"Solutions code and hints for SOA FAM-L sample questions\n",
    "\n",
    "MIT License.  Copyright 2022-2023, Terence Lim\n",
    "\"\"\"\n",
    "import math\n",
    "import pandas as pd\n",
    "import matplotlib.pyplot as plt\n",
    "import numpy as np\n",
    "from actuarialmath import Interest\n",
    "from actuarialmath import Life\n",
    "from actuarialmath import Survival\n",
    "from actuarialmath import Lifetime\n",
    "from actuarialmath import Fractional\n",
    "from actuarialmath import Insurance\n",
    "from actuarialmath import Annuity\n",
    "from actuarialmath import Premiums\n",
    "from actuarialmath import PolicyValues, Contract\n",
    "from actuarialmath import Reserves\n",
    "from actuarialmath import Recursion\n",
    "from actuarialmath import LifeTable\n",
    "from actuarialmath import SULT\n",
    "from actuarialmath import SelectLife\n",
    "from actuarialmath import MortalityLaws, Beta, Uniform, Makeham, Gompertz\n",
    "from actuarialmath import ConstantForce\n",
    "from actuarialmath import ExtraRisk\n",
    "from actuarialmath import Mthly\n",
    "from actuarialmath import UDD\n",
    "from actuarialmath import Woolhouse"
   ]
  },
  {
   "attachments": {},
   "cell_type": "markdown",
   "id": "48b976fd",
   "metadata": {
    "id": "c2b4cbf3"
   },
   "source": [
    "__Helper to compare computed answers to expected solutions__"
   ]
  },
  {
   "cell_type": "code",
   "execution_count": 3,
   "id": "426fcbfa",
   "metadata": {
    "id": "903e972b"
   },
   "outputs": [],
   "source": [
    "class IsClose:\n",
    "    \"\"\"Helper class for testing and reporting if two values are close\"\"\"\n",
    "    def __init__(self, rel_tol : float = 0.01, score : bool = False,\n",
    "                 verbose: bool = False):\n",
    "        self.den = self.num = 0\n",
    "        self.score = score      # whether to count INCORRECTs instead of assert\n",
    "        self.verbose = verbose  # whether to run silently\n",
    "        self.incorrect = []     # to keep list of messages for INCORRECT\n",
    "        self.tol = rel_tol\n",
    "\n",
    "    def __call__(self, solution, answer, question=\"\", rel_tol=None):\n",
    "        \"\"\"Compare solution to answer within relative tolerance\n",
    "\n",
    "        Args:\n",
    "          solution (str | numeric) : gold label\n",
    "          answer (str | numeric) : computed answer\n",
    "          question (str) : label to associate with this test\n",
    "          rel_tol (float) : relative tolerance to be considered close\n",
    "        \"\"\"\n",
    "        if isinstance(solution, str):\n",
    "            isclose = (solution == answer)\n",
    "        else:\n",
    "            isclose = math.isclose(solution, answer, rel_tol=rel_tol or self.tol)\n",
    "        self.den += 1\n",
    "        self.num += isclose\n",
    "        msg = f\"{question} {solution}: {answer}\"\n",
    "        if self.verbose:\n",
    "            print(\"-----\", msg, \"[OK]\" if isclose else \"[INCORRECT]\", \"-----\")\n",
    "        if not self.score:\n",
    "            assert isclose, msg\n",
    "        if not isclose:\n",
    "            self.incorrect.append(msg)\n",
    "        return isclose\n",
    "\n",
    "    def __str__(self):\n",
    "        \"\"\"Display cumulative score and errors\"\"\"\n",
    "        return f\"Passed: {self.num}/{self.den}\\n\" + \"\\n\".join(self.incorrect)\n",
    "isclose = IsClose(0.01, score=False, verbose=True)"
   ]
  },
  {
   "attachments": {},
   "cell_type": "markdown",
   "id": "33b1ff71",
   "metadata": {
    "id": "831d29e6"
   },
   "source": [
    "## 1 Tables\n",
    "\n",
    "\n",
    "These tables are provided in the FAM-L exam\n",
    "- Interest Functions at i=0.05\n",
    "- Normal Distribution Table\n",
    "- Standard Ultimate Life Table\n",
    "\n",
    "but you actually do not need them here!"
   ]
  },
  {
   "cell_type": "code",
   "execution_count": 4,
   "id": "357c1670",
   "metadata": {
    "colab": {
     "base_uri": "https://localhost:8080/",
     "height": 224
    },
    "id": "a6dc0057",
    "outputId": "cf6a6493-e98c-4d90-d592-ee02878967e3"
   },
   "outputs": [
    {
     "name": "stdout",
     "output_type": "stream",
     "text": [
      "Interest Functions at i=0.05\n"
     ]
    },
    {
     "data": {
      "text/html": [
       "<div>\n",
       "<style scoped>\n",
       "    .dataframe tbody tr th:only-of-type {\n",
       "        vertical-align: middle;\n",
       "    }\n",
       "\n",
       "    .dataframe tbody tr th {\n",
       "        vertical-align: top;\n",
       "    }\n",
       "\n",
       "    .dataframe thead th {\n",
       "        text-align: right;\n",
       "    }\n",
       "</style>\n",
       "<table border=\"1\" class=\"dataframe\">\n",
       "  <thead>\n",
       "    <tr style=\"text-align: right;\">\n",
       "      <th></th>\n",
       "      <th>i(m)</th>\n",
       "      <th>d(m)</th>\n",
       "      <th>i/i(m)</th>\n",
       "      <th>d/d(m)</th>\n",
       "      <th>alpha(m)</th>\n",
       "      <th>beta(m)</th>\n",
       "    </tr>\n",
       "  </thead>\n",
       "  <tbody>\n",
       "    <tr>\n",
       "      <th>1</th>\n",
       "      <td>0.05000</td>\n",
       "      <td>0.04762</td>\n",
       "      <td>1.00000</td>\n",
       "      <td>1.00000</td>\n",
       "      <td>1.00000</td>\n",
       "      <td>0.00000</td>\n",
       "    </tr>\n",
       "    <tr>\n",
       "      <th>2</th>\n",
       "      <td>0.04939</td>\n",
       "      <td>0.04820</td>\n",
       "      <td>1.01235</td>\n",
       "      <td>0.98795</td>\n",
       "      <td>1.00015</td>\n",
       "      <td>0.25617</td>\n",
       "    </tr>\n",
       "    <tr>\n",
       "      <th>4</th>\n",
       "      <td>0.04909</td>\n",
       "      <td>0.04849</td>\n",
       "      <td>1.01856</td>\n",
       "      <td>0.98196</td>\n",
       "      <td>1.00019</td>\n",
       "      <td>0.38272</td>\n",
       "    </tr>\n",
       "    <tr>\n",
       "      <th>12</th>\n",
       "      <td>0.04889</td>\n",
       "      <td>0.04869</td>\n",
       "      <td>1.02271</td>\n",
       "      <td>0.97798</td>\n",
       "      <td>1.00020</td>\n",
       "      <td>0.46651</td>\n",
       "    </tr>\n",
       "    <tr>\n",
       "      <th>0</th>\n",
       "      <td>0.04879</td>\n",
       "      <td>0.04879</td>\n",
       "      <td>1.02480</td>\n",
       "      <td>0.97600</td>\n",
       "      <td>1.00020</td>\n",
       "      <td>0.50823</td>\n",
       "    </tr>\n",
       "  </tbody>\n",
       "</table>\n",
       "</div>"
      ],
      "text/plain": [
       "       i(m)     d(m)   i/i(m)   d/d(m)  alpha(m)  beta(m)\n",
       "1   0.05000  0.04762  1.00000  1.00000   1.00000  0.00000\n",
       "2   0.04939  0.04820  1.01235  0.98795   1.00015  0.25617\n",
       "4   0.04909  0.04849  1.01856  0.98196   1.00019  0.38272\n",
       "12  0.04889  0.04869  1.02271  0.97798   1.00020  0.46651\n",
       "0   0.04879  0.04879  1.02480  0.97600   1.00020  0.50823"
      ]
     },
     "execution_count": 4,
     "metadata": {},
     "output_type": "execute_result"
    }
   ],
   "source": [
    "print(\"Interest Functions at i=0.05\")\n",
    "UDD.interest_frame()"
   ]
  },
  {
   "cell_type": "code",
   "execution_count": 5,
   "id": "a5daed5f",
   "metadata": {
    "colab": {
     "base_uri": "https://localhost:8080/"
    },
    "id": "b3de4194",
    "outputId": "5a4bf48e-7df5-4533-caeb-8b6380be0a3d"
   },
   "outputs": [
    {
     "name": "stdout",
     "output_type": "stream",
     "text": [
      "Values of z for selected values of Pr(Z<=z)\n",
      "z         0.842  1.036  1.282  1.645  1.960  2.326  2.576\n",
      "Pr(Z<=z)  0.800  0.850  0.900  0.950  0.975  0.990  0.995\n"
     ]
    }
   ],
   "source": [
    "print(\"Values of z for selected values of Pr(Z<=z)\")\n",
    "print(Life.quantiles_frame().to_string(float_format=lambda x: f\"{x:.3f}\"))"
   ]
  },
  {
   "cell_type": "code",
   "execution_count": 6,
   "id": "f0241d78",
   "metadata": {
    "colab": {
     "base_uri": "https://localhost:8080/",
     "height": 441
    },
    "id": "1c334975",
    "lines_to_next_cell": 2,
    "outputId": "80293d1b-3ba2-4b84-f22d-ee789fb81c53"
   },
   "outputs": [
    {
     "name": "stdout",
     "output_type": "stream",
     "text": [
      "Standard Ultimate Life Table at i=0.05\n"
     ]
    },
    {
     "data": {
      "text/html": [
       "<div>\n",
       "<style scoped>\n",
       "    .dataframe tbody tr th:only-of-type {\n",
       "        vertical-align: middle;\n",
       "    }\n",
       "\n",
       "    .dataframe tbody tr th {\n",
       "        vertical-align: top;\n",
       "    }\n",
       "\n",
       "    .dataframe thead th {\n",
       "        text-align: right;\n",
       "    }\n",
       "</style>\n",
       "<table border=\"1\" class=\"dataframe\">\n",
       "  <thead>\n",
       "    <tr style=\"text-align: right;\">\n",
       "      <th></th>\n",
       "      <th>l_x</th>\n",
       "      <th>q_x</th>\n",
       "      <th>a_x</th>\n",
       "      <th>A_x</th>\n",
       "      <th>2A_x</th>\n",
       "      <th>a_x:10</th>\n",
       "      <th>A_x:10</th>\n",
       "      <th>a_x:20</th>\n",
       "      <th>A_x:20</th>\n",
       "      <th>5_E_x</th>\n",
       "      <th>10_E_x</th>\n",
       "      <th>20_E_x</th>\n",
       "    </tr>\n",
       "  </thead>\n",
       "  <tbody>\n",
       "    <tr>\n",
       "      <th>20</th>\n",
       "      <td>100000.0</td>\n",
       "      <td>0.000250</td>\n",
       "      <td>19.9664</td>\n",
       "      <td>0.04922</td>\n",
       "      <td>0.00580</td>\n",
       "      <td>8.0991</td>\n",
       "      <td>0.61433</td>\n",
       "      <td>13.0559</td>\n",
       "      <td>0.37829</td>\n",
       "      <td>0.78252</td>\n",
       "      <td>0.61224</td>\n",
       "      <td>0.37440</td>\n",
       "    </tr>\n",
       "    <tr>\n",
       "      <th>21</th>\n",
       "      <td>99975.0</td>\n",
       "      <td>0.000253</td>\n",
       "      <td>19.9197</td>\n",
       "      <td>0.05144</td>\n",
       "      <td>0.00614</td>\n",
       "      <td>8.0990</td>\n",
       "      <td>0.61433</td>\n",
       "      <td>13.0551</td>\n",
       "      <td>0.37833</td>\n",
       "      <td>0.78250</td>\n",
       "      <td>0.61220</td>\n",
       "      <td>0.37429</td>\n",
       "    </tr>\n",
       "    <tr>\n",
       "      <th>22</th>\n",
       "      <td>99949.7</td>\n",
       "      <td>0.000257</td>\n",
       "      <td>19.8707</td>\n",
       "      <td>0.05378</td>\n",
       "      <td>0.00652</td>\n",
       "      <td>8.0988</td>\n",
       "      <td>0.61434</td>\n",
       "      <td>13.0541</td>\n",
       "      <td>0.37837</td>\n",
       "      <td>0.78248</td>\n",
       "      <td>0.61215</td>\n",
       "      <td>0.37417</td>\n",
       "    </tr>\n",
       "    <tr>\n",
       "      <th>23</th>\n",
       "      <td>99924.0</td>\n",
       "      <td>0.000262</td>\n",
       "      <td>19.8193</td>\n",
       "      <td>0.05622</td>\n",
       "      <td>0.00694</td>\n",
       "      <td>8.0986</td>\n",
       "      <td>0.61435</td>\n",
       "      <td>13.0531</td>\n",
       "      <td>0.37842</td>\n",
       "      <td>0.78245</td>\n",
       "      <td>0.61210</td>\n",
       "      <td>0.37404</td>\n",
       "    </tr>\n",
       "    <tr>\n",
       "      <th>24</th>\n",
       "      <td>99897.8</td>\n",
       "      <td>0.000267</td>\n",
       "      <td>19.7655</td>\n",
       "      <td>0.05879</td>\n",
       "      <td>0.00739</td>\n",
       "      <td>8.0983</td>\n",
       "      <td>0.61437</td>\n",
       "      <td>13.0519</td>\n",
       "      <td>0.37848</td>\n",
       "      <td>0.78243</td>\n",
       "      <td>0.61205</td>\n",
       "      <td>0.37390</td>\n",
       "    </tr>\n",
       "    <tr>\n",
       "      <th>...</th>\n",
       "      <td>...</td>\n",
       "      <td>...</td>\n",
       "      <td>...</td>\n",
       "      <td>...</td>\n",
       "      <td>...</td>\n",
       "      <td>...</td>\n",
       "      <td>...</td>\n",
       "      <td>...</td>\n",
       "      <td>...</td>\n",
       "      <td>...</td>\n",
       "      <td>...</td>\n",
       "      <td>...</td>\n",
       "    </tr>\n",
       "    <tr>\n",
       "      <th>96</th>\n",
       "      <td>17501.8</td>\n",
       "      <td>0.192887</td>\n",
       "      <td>3.5597</td>\n",
       "      <td>0.83049</td>\n",
       "      <td>0.69991</td>\n",
       "      <td>3.5356</td>\n",
       "      <td>0.83164</td>\n",
       "      <td>3.5597</td>\n",
       "      <td>0.83049</td>\n",
       "      <td>0.19872</td>\n",
       "      <td>0.01330</td>\n",
       "      <td>0.00000</td>\n",
       "    </tr>\n",
       "    <tr>\n",
       "      <th>97</th>\n",
       "      <td>14125.9</td>\n",
       "      <td>0.214030</td>\n",
       "      <td>3.3300</td>\n",
       "      <td>0.84143</td>\n",
       "      <td>0.71708</td>\n",
       "      <td>3.3159</td>\n",
       "      <td>0.84210</td>\n",
       "      <td>3.3300</td>\n",
       "      <td>0.84143</td>\n",
       "      <td>0.16765</td>\n",
       "      <td>0.00827</td>\n",
       "      <td>0.00000</td>\n",
       "    </tr>\n",
       "    <tr>\n",
       "      <th>98</th>\n",
       "      <td>11102.5</td>\n",
       "      <td>0.237134</td>\n",
       "      <td>3.1127</td>\n",
       "      <td>0.85177</td>\n",
       "      <td>0.73356</td>\n",
       "      <td>3.1050</td>\n",
       "      <td>0.85214</td>\n",
       "      <td>3.1127</td>\n",
       "      <td>0.85177</td>\n",
       "      <td>0.13850</td>\n",
       "      <td>0.00485</td>\n",
       "      <td>0.00000</td>\n",
       "    </tr>\n",
       "    <tr>\n",
       "      <th>99</th>\n",
       "      <td>8469.7</td>\n",
       "      <td>0.262294</td>\n",
       "      <td>2.9079</td>\n",
       "      <td>0.86153</td>\n",
       "      <td>0.74930</td>\n",
       "      <td>2.9039</td>\n",
       "      <td>0.86172</td>\n",
       "      <td>2.9079</td>\n",
       "      <td>0.86153</td>\n",
       "      <td>0.11173</td>\n",
       "      <td>0.00266</td>\n",
       "      <td>0.00000</td>\n",
       "    </tr>\n",
       "    <tr>\n",
       "      <th>100</th>\n",
       "      <td>6248.2</td>\n",
       "      <td>0.289584</td>\n",
       "      <td>2.7156</td>\n",
       "      <td>0.87068</td>\n",
       "      <td>0.76427</td>\n",
       "      <td>2.7137</td>\n",
       "      <td>0.87078</td>\n",
       "      <td>2.7156</td>\n",
       "      <td>0.87068</td>\n",
       "      <td>0.08777</td>\n",
       "      <td>0.00136</td>\n",
       "      <td>0.00000</td>\n",
       "    </tr>\n",
       "  </tbody>\n",
       "</table>\n",
       "<p>81 rows × 12 columns</p>\n",
       "</div>"
      ],
      "text/plain": [
       "          l_x       q_x      a_x      A_x     2A_x  a_x:10   A_x:10   a_x:20   \n",
       "20   100000.0  0.000250  19.9664  0.04922  0.00580  8.0991  0.61433  13.0559  \\\n",
       "21    99975.0  0.000253  19.9197  0.05144  0.00614  8.0990  0.61433  13.0551   \n",
       "22    99949.7  0.000257  19.8707  0.05378  0.00652  8.0988  0.61434  13.0541   \n",
       "23    99924.0  0.000262  19.8193  0.05622  0.00694  8.0986  0.61435  13.0531   \n",
       "24    99897.8  0.000267  19.7655  0.05879  0.00739  8.0983  0.61437  13.0519   \n",
       "..        ...       ...      ...      ...      ...     ...      ...      ...   \n",
       "96    17501.8  0.192887   3.5597  0.83049  0.69991  3.5356  0.83164   3.5597   \n",
       "97    14125.9  0.214030   3.3300  0.84143  0.71708  3.3159  0.84210   3.3300   \n",
       "98    11102.5  0.237134   3.1127  0.85177  0.73356  3.1050  0.85214   3.1127   \n",
       "99     8469.7  0.262294   2.9079  0.86153  0.74930  2.9039  0.86172   2.9079   \n",
       "100    6248.2  0.289584   2.7156  0.87068  0.76427  2.7137  0.87078   2.7156   \n",
       "\n",
       "      A_x:20    5_E_x   10_E_x   20_E_x  \n",
       "20   0.37829  0.78252  0.61224  0.37440  \n",
       "21   0.37833  0.78250  0.61220  0.37429  \n",
       "22   0.37837  0.78248  0.61215  0.37417  \n",
       "23   0.37842  0.78245  0.61210  0.37404  \n",
       "24   0.37848  0.78243  0.61205  0.37390  \n",
       "..       ...      ...      ...      ...  \n",
       "96   0.83049  0.19872  0.01330  0.00000  \n",
       "97   0.84143  0.16765  0.00827  0.00000  \n",
       "98   0.85177  0.13850  0.00485  0.00000  \n",
       "99   0.86153  0.11173  0.00266  0.00000  \n",
       "100  0.87068  0.08777  0.00136  0.00000  \n",
       "\n",
       "[81 rows x 12 columns]"
      ]
     },
     "execution_count": 6,
     "metadata": {},
     "output_type": "execute_result"
    }
   ],
   "source": [
    "print(\"Standard Ultimate Life Table at i=0.05\")\n",
    "SULT().frame()"
   ]
  },
  {
   "attachments": {},
   "cell_type": "markdown",
   "id": "6884a8d8",
   "metadata": {
    "id": "f7eb3c8d"
   },
   "source": [
    "## 2 Survival models"
   ]
  },
  {
   "attachments": {},
   "cell_type": "markdown",
   "id": "3b22e7fd",
   "metadata": {
    "id": "c41c8385"
   },
   "source": [
    "__SOA Question 2.1__ : (B) 2.5\n",
    "\n",
    "You are given:\n",
    "\n",
    "1. $S_0(t) = \\left(1 - \\frac{t}{\\omega} \\right)^{\\frac{1}{4}}, \\quad 0 \\le t \\le \\omega$\n",
    "\n",
    "2. $\\mu_{65} = \\frac{1}{180} $\n",
    "\n",
    "Calculate $e_{106}$, the curtate expectation of life at age 106.\n",
    "\n",
    "*hints:*\n",
    "\n",
    "- derive formula for $\\mu$ from given survival function\n",
    "- solve for $\\omega$ given $\\mu_{65}$\n",
    "- calculate $e$ by summing survival probabilities\n"
   ]
  },
  {
   "cell_type": "code",
   "execution_count": 7,
   "id": "028820c8",
   "metadata": {
    "colab": {
     "base_uri": "https://localhost:8080/"
    },
    "id": "59f81e7f",
    "outputId": "173c7ae2-f55e-497b-be8d-4bd4903b106d"
   },
   "outputs": [
    {
     "name": "stdout",
     "output_type": "stream",
     "text": [
      "----- Q2.1 2.5: 2.4786080555423604 [OK] -----\n"
     ]
    },
    {
     "data": {
      "text/plain": [
       "True"
      ]
     },
     "execution_count": 7,
     "metadata": {},
     "output_type": "execute_result"
    }
   ],
   "source": [
    "life = Lifetime()\n",
    "def mu_from_l(omega):   # first solve for omega, given mu_65 = 1/180            \n",
    "    return life.set_survival(l=lambda x,s: (1 - (x+s)/omega)**0.25).mu_x(65)\n",
    "omega = int(life.solve(mu_from_l, target=1/180, grid=100))\n",
    "e = life.set_survival(l=lambda x,s:(1 - (x + s)/omega)**.25, maxage=omega)\\\n",
    "        .e_x(106)       # then solve expected lifetime from omega              \n",
    "isclose(2.5, e, question=\"Q2.1\")"
   ]
  },
  {
   "attachments": {},
   "cell_type": "markdown",
   "id": "c87ae942",
   "metadata": {
    "id": "f2310896"
   },
   "source": [
    "__SOA Question 2.2__ : (D) 400\n",
    "\n",
    "Scientists are searching for a vaccine for a disease. You are given:\n",
    "1. 100,000 lives age x are exposed to the disease\n",
    "2. Future lifetimes are independent, except that the vaccine, if available, will be given to all at the end of year 1\n",
    "3. The probability that the vaccine will be available is 0.2\n",
    "4. For each life during year 1, $q_x$ = 0.02\n",
    "5. For each life during year 2, $q_{x+1}$ = 0.01 if the vaccine has been given and $q_{x+1}$ = 0.02 if it has not been given\n",
    "\n",
    "Calculate the standard deviation of the number of survivors at the end of year 2.\n",
    "\n",
    "*hints:*\n",
    "\n",
    "\n",
    "- calculate survival probabilities for the two scenarios\n",
    "- apply conditional variance formula (or mixed distribution)"
   ]
  },
  {
   "cell_type": "code",
   "execution_count": 8,
   "id": "a6e8a44b",
   "metadata": {
    "colab": {
     "base_uri": "https://localhost:8080/"
    },
    "id": "1f07bbbd",
    "outputId": "16cffcd5-d289-481d-f5ce-222bc25e01e6"
   },
   "outputs": [
    {
     "name": "stdout",
     "output_type": "stream",
     "text": [
      "----- Q2.2 400: 396.5914603215815 [OK] -----\n"
     ]
    },
    {
     "data": {
      "text/plain": [
       "True"
      ]
     },
     "execution_count": 8,
     "metadata": {},
     "output_type": "execute_result"
    }
   ],
   "source": [
    "p1 = (1. - 0.02) * (1. - 0.01)  # 2_p_x if vaccine given\n",
    "p2 = (1. - 0.02) * (1. - 0.02)  # 2_p_x if vaccine not given\n",
    "std = math.sqrt(Life.conditional_variance(p=.2, p1=p1, p2=p2, N=100000))\n",
    "isclose(400, std, question=\"Q2.2\")"
   ]
  },
  {
   "attachments": {},
   "cell_type": "markdown",
   "id": "1bb20361",
   "metadata": {
    "id": "246aaf2d"
   },
   "source": [
    "__SOA Question 2.3__ : (A) 0.0483\n",
    "\n",
    "You are given that mortality follows Gompertz Law with B = 0.00027 and c = 1.1.\n",
    "\n",
    "Calculate $f_{50}(10)$.\n",
    "\n",
    "\n",
    "*hints:*\n",
    "\n",
    "\n",
    "- Derive formula for $f$ given survival function"
   ]
  },
  {
   "cell_type": "code",
   "execution_count": 9,
   "id": "c767c91d",
   "metadata": {
    "colab": {
     "base_uri": "https://localhost:8080/"
    },
    "id": "e36facdd",
    "lines_to_next_cell": 1,
    "outputId": "ab177cfc-a9f8-469c-9cd2-ab51d27f8760"
   },
   "outputs": [
    {
     "name": "stdout",
     "output_type": "stream",
     "text": [
      "----- Q2.3 0.0483: 0.048327399045049846 [OK] -----\n"
     ]
    },
    {
     "data": {
      "text/plain": [
       "True"
      ]
     },
     "execution_count": 9,
     "metadata": {},
     "output_type": "execute_result"
    }
   ],
   "source": [
    "B, c = 0.00027, 1.1\n",
    "S = lambda x,s,t: math.exp(-B * c**(x+s) * (c**t - 1)/math.log(c))\n",
    "life = Survival().set_survival(S=S)\n",
    "f = life.f_x(x=50, t=10)\n",
    "isclose(0.0483, f, question=\"Q2.3\")"
   ]
  },
  {
   "attachments": {},
   "cell_type": "markdown",
   "id": "15fd3743",
   "metadata": {
    "id": "166f7d31"
   },
   "source": [
    "__SOA Question 2.4__ : (E) 8.2\n",
    "\n",
    "\n",
    "You are given $_tq_0 = \\frac{t^2}{10,000} \\quad 0 < t < 100$. Calculate \n",
    "$\\overset{\\circ}{e}_{75:\\overline{10|}}$.\n",
    "\n",
    "\n",
    "*hints:*\n",
    "\n",
    "\n",
    "- derive survival probability function $_tp_x$ given $_tq_0$\n",
    "- compute $\\overset{\\circ}{e}$ by integration\n"
   ]
  },
  {
   "cell_type": "code",
   "execution_count": 10,
   "id": "f1c540c8",
   "metadata": {
    "colab": {
     "base_uri": "https://localhost:8080/"
    },
    "id": "a6412173",
    "outputId": "832f29a4-ef2a-4847-afa7-5ae4612c63c8"
   },
   "outputs": [
    {
     "name": "stdout",
     "output_type": "stream",
     "text": [
      "----- Q2.4 8.2: 8.20952380952381 [OK] -----\n"
     ]
    },
    {
     "data": {
      "text/plain": [
       "True"
      ]
     },
     "execution_count": 10,
     "metadata": {},
     "output_type": "execute_result"
    }
   ],
   "source": [
    "def l(x, s): return 0. if (x+s) >= 100 else 1 - ((x + s)**2) / 10000.\n",
    "e = Lifetime().set_survival(l=l).e_x(75, t=10, curtate=False)\n",
    "isclose(8.2, e, question=\"Q2.4\")"
   ]
  },
  {
   "attachments": {},
   "cell_type": "markdown",
   "id": "97c9dff4",
   "metadata": {
    "id": "b73ac219"
   },
   "source": [
    "__SOA Question 2.5__ :  (B) 37.1\n",
    "\n",
    "You are given the following:\n",
    "1. $e_{40:20} = 18$\n",
    "2. $e_{60} = 25$\n",
    "3. $_{20}q_{40} = 0.2$\n",
    "4. $q_{40} = 0.003$\n",
    "\n",
    "Calculate $e_{41}$.\n",
    "\n",
    "*hints:*\n",
    "\n",
    "\n",
    "- solve for $e_{40}$ from limited lifetime formula\n",
    "- compute $e_{41}$ using backward recursion"
   ]
  },
  {
   "cell_type": "code",
   "execution_count": 11,
   "id": "d5ad0a9e",
   "metadata": {
    "colab": {
     "base_uri": "https://localhost:8080/"
    },
    "id": "7485cb2a",
    "outputId": "5006156c-27ea-43b6-925b-080690daafcd"
   },
   "outputs": [
    {
     "data": {
      "text/latex": [
       "\\begin{array}{lr}\n",
       "~\\texttt{Lifetime}~e_{{x+41}}~:=\\\\\n",
       "~~~\\overset{{\\circ}}{{e}}_{{x+41}} = [ ~\\overset{{\\circ}}{{e}}_{{x+40}} - ~\\overset{{\\circ}}{{e}}_{{x+40:\\overline{1|}}} ] / ~p_{x+40}& \\quad \\texttt{forward recursion}\\\\\n",
       "~~~~~\\overset{{\\circ}}{{e}}_{{x+40}} = ~\\overset{{\\circ}}{{e}}_{{x+40:\\overline{20|}}} + ~_{20}p_{x+40} * ~\\overset{{\\circ}}{{e}}_{{x+60}}& \\quad \\texttt{backward recursion}\\\\\n",
       "~~~~~~~~~_{20}p_{x+40} = 1 - ~_{{20}}q_{x+40}& \\quad \\texttt{complement of mortality}\\\\\n",
       "~~~~~~~e_{{x+40:\\overline{1|}}} = ~p_{x+40}& \\quad \\texttt{1-year curtate shortcut}\\\\\n",
       "~~~~~~~~~p_{x+40} = 1 - ~q_{x+40}& \\quad \\texttt{complement of mortality}\\end{array}"
      ]
     },
     "metadata": {},
     "output_type": "display_data"
    },
    {
     "name": "stdout",
     "output_type": "stream",
     "text": [
      "----- Q2.5 37.1: 37.11434302908726 [OK] -----\n"
     ]
    },
    {
     "data": {
      "text/plain": [
       "True"
      ]
     },
     "execution_count": 11,
     "metadata": {},
     "output_type": "execute_result"
    }
   ],
   "source": [
    "life = Recursion(verbose=True).set_e(25, x=60, curtate=True)\\\n",
    "                              .set_q(0.2, x=40, t=20)\\\n",
    "                              .set_q(0.003, x=40)\\\n",
    "                              .set_e(18, x=40, t=20, curtate=True)\n",
    "e = life.e_x(41, curtate=True)\n",
    "isclose(37.1, e, question=\"Q2.5\")"
   ]
  },
  {
   "attachments": {},
   "cell_type": "markdown",
   "id": "d49c1f31",
   "metadata": {
    "id": "b626c732"
   },
   "source": [
    "__SOA Question 2.6__ : (C) 13.3\n",
    "\n",
    "You are given the survival function:\n",
    "\n",
    "$S_0(x) = \\left( 1 − \\frac{x}{60} \\right)^{\\frac{1}{3}}, \\quad 0 \\le x \\le 60$\n",
    "\n",
    "Calculate $1000 \\mu_{35}$.\n",
    "\n",
    "*hints:*\n",
    "\n",
    "\n",
    "- derive force of mortality function $\\mu$ from given survival function\n"
   ]
  },
  {
   "cell_type": "code",
   "execution_count": 12,
   "id": "e6805eb0",
   "metadata": {
    "colab": {
     "base_uri": "https://localhost:8080/"
    },
    "id": "b4a5e978",
    "outputId": "d60772a4-c868-4a2e-c6fd-c040f5ef9aee"
   },
   "outputs": [
    {
     "name": "stdout",
     "output_type": "stream",
     "text": [
      "----- Q2.6 13.3: 13.340451278922776 [OK] -----\n"
     ]
    },
    {
     "data": {
      "text/plain": [
       "True"
      ]
     },
     "execution_count": 12,
     "metadata": {},
     "output_type": "execute_result"
    }
   ],
   "source": [
    "life = Survival().set_survival(l=lambda x,s: (1 - (x+s)/60)**(1/3))\n",
    "mu = 1000 * life.mu_x(35)\n",
    "isclose(13.3, mu, question=\"Q2.6\")"
   ]
  },
  {
   "attachments": {},
   "cell_type": "markdown",
   "id": "400dc26d",
   "metadata": {
    "id": "3406e6fd"
   },
   "source": [
    "__SOA Question 2.7__ : (B) 0.1477\n",
    "\n",
    "You are given the following survival function of a newborn:\n",
    "\n",
    "$$\n",
    "\\begin{align*}\n",
    "S_0(x) & = 1 - \\frac{x}{250}, \\quad 0 \\le x < 40 \\\\\n",
    "& = 1 - \\left( \\frac{x}{100} \\right)^2, \\quad 40 \\le x \\le 100\n",
    "\\end{align*}\n",
    "$$\n",
    "\n",
    "\n",
    "Calculate the probability that (30) dies within the next 20 years.\n",
    "\n",
    "*hints:*\n",
    "\n",
    "\n",
    "- calculate from given survival function"
   ]
  },
  {
   "cell_type": "code",
   "execution_count": 13,
   "id": "6d5d5904",
   "metadata": {
    "colab": {
     "base_uri": "https://localhost:8080/"
    },
    "id": "1cbb1f35",
    "lines_to_next_cell": 1,
    "outputId": "e893abe6-5aa6-40a9-9882-b29f17e6390a"
   },
   "outputs": [
    {
     "name": "stdout",
     "output_type": "stream",
     "text": [
      "----- Q2.7 0.1477: 0.1477272727272727 [OK] -----\n"
     ]
    },
    {
     "data": {
      "text/plain": [
       "True"
      ]
     },
     "execution_count": 13,
     "metadata": {},
     "output_type": "execute_result"
    }
   ],
   "source": [
    "l = lambda x,s: (1-((x+s)/250) if (x+s)<40 else 1-((x+s)/100)**2)\n",
    "q = Survival().set_survival(l=l).q_x(30, t=20)\n",
    "isclose(0.1477, q, question=\"Q2.7\")"
   ]
  },
  {
   "attachments": {},
   "cell_type": "markdown",
   "id": "8681f37e",
   "metadata": {
    "id": "59f19984"
   },
   "source": [
    "__SOA Question 2.8__ : (C) 0.94\n",
    "\n",
    "In a population initially consisting of 75% females and 25% males, you are given:\n",
    "\n",
    "1. For a female, the force of mortality is constant and equals $\\mu$\n",
    "2. For a male, the force of mortality is constant and equals 1.5 $\\mu$\n",
    "3. At the end of 20 years, the population is expected to consist of 85% females and 15% males\n",
    "\n",
    "Calculate the probability that a female survives one year.\n",
    "\n",
    "*hints:*\n",
    "\n",
    "\n",
    "- relate $p_{male}$ and $p_{female}$ through the common term $\\mu$ and the given proportions\n"
   ]
  },
  {
   "cell_type": "code",
   "execution_count": 14,
   "id": "f7340ef8",
   "metadata": {
    "colab": {
     "base_uri": "https://localhost:8080/"
    },
    "id": "d9433c52",
    "outputId": "1dfc6877-2ff0-4eed-c32a-7ccf0343bbc3"
   },
   "outputs": [
    {
     "name": "stdout",
     "output_type": "stream",
     "text": [
      "----- Q2.8 0.94: 0.9383813306903799 [OK] -----\n"
     ]
    },
    {
     "data": {
      "text/plain": [
       "True"
      ]
     },
     "execution_count": 14,
     "metadata": {},
     "output_type": "execute_result"
    }
   ],
   "source": [
    "def fun(mu):  # Solve first for mu, given ratio of start and end proportions\n",
    "    male = Survival().set_survival(mu=lambda x,s: 1.5 * mu)\n",
    "    female = Survival().set_survival(mu=lambda x,s: mu)\n",
    "    return (75 * female.p_x(0, t=20)) / (25 * male.p_x(0, t=20))\n",
    "mu = Survival.solve(fun, target=85/15, grid=[0.89, 0.99])\n",
    "p = Survival().set_survival(mu=lambda x,s: mu).p_x(0, t=1)\n",
    "isclose(0.94, p, question=\"Q2.8\")"
   ]
  },
  {
   "attachments": {},
   "cell_type": "markdown",
   "id": "26cf3eff",
   "metadata": {
    "id": "42e1818d"
   },
   "source": [
    "## 3 Life tables and selection"
   ]
  },
  {
   "attachments": {},
   "cell_type": "markdown",
   "id": "6335fd10",
   "metadata": {
    "id": "8158646b"
   },
   "source": [
    "__SOA Question 3.1__ :  (B) 117\n",
    "\n",
    "You are given:\n",
    "\n",
    "1. An excerpt from a select and ultimate life table with a select period of 3 years:\n",
    "\n",
    "| $x$ | $\\ell_{[ x ]}$ | $\\ell_{[x]+1}$ | $\\ell_{[x]+2}$ | $\\ell_{x+3}$ | $x+3$ |\n",
    "|---|---|---|---|---|---|\n",
    "| 60 | 80,000 | 79,000 | 77,000 | 74,000 | 63 |\n",
    "| 61 | 78,000 | 76,000 | 73,000 | 70,000 | 64 |\n",
    "| 62 | 75,000 | 72,000 | 69,000 | 67,000 | 65 |\n",
    "| 63 | 71,000 | 68,000 | 66,000 | 65,000 | 66 |\n",
    "\n",
    "2. Deaths follow a constant force of mortality over each year of age\n",
    "\n",
    "Calculate $1000~ _{23}q_{[60] + 0.75}$.\n",
    "\n",
    "*hints:*\n",
    "\n",
    "\n",
    "- interpolate with constant force of maturity\n"
   ]
  },
  {
   "cell_type": "code",
   "execution_count": 15,
   "id": "58847fd6",
   "metadata": {
    "colab": {
     "base_uri": "https://localhost:8080/"
    },
    "id": "07539d91",
    "outputId": "8c07f8e7-c98d-4509-8172-11baab58f8d1"
   },
   "outputs": [
    {
     "name": "stdout",
     "output_type": "stream",
     "text": [
      "----- Q3.1 117: 116.7192429022082 [OK] -----\n"
     ]
    },
    {
     "data": {
      "text/plain": [
       "True"
      ]
     },
     "execution_count": 15,
     "metadata": {},
     "output_type": "execute_result"
    }
   ],
   "source": [
    "life = SelectLife().set_table(l={60: [80000, 79000, 77000, 74000],\n",
    "                                 61: [78000, 76000, 73000, 70000],\n",
    "                                 62: [75000, 72000, 69000, 67000],\n",
    "                                 63: [71000, 68000, 66000, 65000]})\n",
    "q = 1000 * life.q_r(60, s=0, r=0.75, t=3, u=2)\n",
    "isclose(117, q, question=\"Q3.1\")"
   ]
  },
  {
   "attachments": {},
   "cell_type": "markdown",
   "id": "f1b8ce77",
   "metadata": {
    "id": "17e5b9f4"
   },
   "source": [
    "__SOA Question 3.2__ :  (D) 14.7\n",
    "\n",
    "You are given:\n",
    "\n",
    "1. The following extract from a mortality table with a one-year select period:\n",
    "\n",
    "| $x$ | $l_{[x]}$ | $d_{[x]}$ | $l_{x+1}$ | $x + 1$ |\n",
    "|---|---|---|---|---|\n",
    "| 65 | 1000 | 40 | − | 66 |\n",
    "| 66 | 955 | 45 | − | 67 |\n",
    "\n",
    "2. Deaths are uniformly distributed over each year of age\n",
    "\n",
    "$\\overset{\\circ}{e}_{[65]} = 15.0$\n",
    "\n",
    "Calculate $\\overset{\\circ}{e}_{[66]}$.\n",
    "\n",
    "*hints:*\n",
    "\n",
    "\n",
    "- UDD $\\Rightarrow \\overset{\\circ}{e}_{x} = e_x + 0.5$\n",
    "- fill select table using curtate expectations \n"
   ]
  },
  {
   "cell_type": "code",
   "execution_count": 16,
   "id": "7122740a",
   "metadata": {
    "colab": {
     "base_uri": "https://localhost:8080/"
    },
    "id": "b3c05afd",
    "outputId": "70ff503b-9a20-4a33-ef3f-587cadc266da"
   },
   "outputs": [
    {
     "name": "stdout",
     "output_type": "stream",
     "text": [
      "----- Q3.2 14.7: 14.67801047120419 [OK] -----\n"
     ]
    },
    {
     "data": {
      "text/plain": [
       "True"
      ]
     },
     "execution_count": 16,
     "metadata": {},
     "output_type": "execute_result"
    }
   ],
   "source": [
    "e_curtate = Fractional.e_approximate(e_complete=15)\n",
    "life = SelectLife(udd=True).set_table(l={65: [1000, None,],\n",
    "                                         66: [955, None]},\n",
    "                                      e={65: [e_curtate, None]},\n",
    "                                      d={65: [40, None,],\n",
    "                                         66: [45, None]})\n",
    "e = life.e_r(66)\n",
    "isclose(14.7, e, question=\"Q3.2\")"
   ]
  },
  {
   "attachments": {},
   "cell_type": "markdown",
   "id": "d6aeeab4",
   "metadata": {
    "id": "fb02d76f"
   },
   "source": [
    "__SOA Question 3.3__ :  (E) 1074\n",
    "\n",
    "You are given:\n",
    "\n",
    "1. An excerpt from a select and ultimate life table with a select period of 2 years:\n",
    "\n",
    "| $x$ | $\\ell_{[ x ]}$ | $\\ell_{[ x ] + 1}$ | $\\ell_{x + 2}$ | $x + 2$ |\n",
    "|---|---|---|---|---|\n",
    "| 50 | 99,000 | 96,000 | 93,000 | 52 |\n",
    "| 51 | 97,000 | 93,000 | 89,000 | 53 |\n",
    "| 52 | 93,000 | 88,000 | 83,000 | 54 |\n",
    "| 53 | 90,000 | 84,000 | 78,000 | 55 |\n",
    "\n",
    "2. Deaths are uniformly distributed over each year of age\n",
    "\n",
    "Calculate $10,000 ~ _{2.2}q_{[51]+0.5}$.\n",
    "\n",
    "*hints:*\n",
    "\n",
    "\n",
    "- interpolate lives between integer ages with UDD"
   ]
  },
  {
   "cell_type": "code",
   "execution_count": 17,
   "id": "805552c6",
   "metadata": {
    "colab": {
     "base_uri": "https://localhost:8080/"
    },
    "id": "9576af60",
    "outputId": "831e950a-adcb-4f56-d188-8a8cdabe10b0"
   },
   "outputs": [
    {
     "name": "stdout",
     "output_type": "stream",
     "text": [
      "----- Q3.3 1074: 1073.684210526316 [OK] -----\n"
     ]
    },
    {
     "data": {
      "text/plain": [
       "True"
      ]
     },
     "execution_count": 17,
     "metadata": {},
     "output_type": "execute_result"
    }
   ],
   "source": [
    "life = SelectLife().set_table(l={50: [99, 96, 93],\n",
    "                                 51: [97, 93, 89],\n",
    "                                 52: [93, 88, 83],\n",
    "                                 53: [90, 84, 78]})\n",
    "q = 10000 * life.q_r(51, s=0, r=0.5, t=2.2)\n",
    "isclose(1074, q, question=\"Q3.3\")"
   ]
  },
  {
   "attachments": {},
   "cell_type": "markdown",
   "id": "61ed7033",
   "metadata": {
    "id": "2247b56f"
   },
   "source": [
    "__SOA Question 3.4__ :  (B) 815\n",
    "\n",
    "The SULT Club has 4000 members all age 25 with independent future lifetimes. The\n",
    "mortality for each member follows the Standard Ultimate Life Table.\n",
    "\n",
    "Calculate the largest integer N, using the normal approximation, such that the probability that there are at least N survivors at age 95 is at least 90%.\n",
    "\n",
    "\n",
    "*hints:*\n",
    "\n",
    "\n",
    "- compute portfolio percentile with N=4000, and mean and variance  from binomial distribution"
   ]
  },
  {
   "cell_type": "code",
   "execution_count": 18,
   "id": "fdf23fea",
   "metadata": {
    "colab": {
     "base_uri": "https://localhost:8080/"
    },
    "id": "fb29aeca",
    "outputId": "396f6731-4b3f-4b22-baa4-edcd2be1fbf0"
   },
   "outputs": [
    {
     "name": "stdout",
     "output_type": "stream",
     "text": [
      "----- Q3.4 815: 815.0943255167722 [OK] -----\n"
     ]
    },
    {
     "data": {
      "text/plain": [
       "True"
      ]
     },
     "execution_count": 18,
     "metadata": {},
     "output_type": "execute_result"
    }
   ],
   "source": [
    "sult = SULT()\n",
    "mean = sult.p_x(25, t=95-25)\n",
    "var = sult.bernoulli(mean, variance=True)\n",
    "pct = sult.portfolio_percentile(N=4000, mean=mean, variance=var, prob=0.1)\n",
    "isclose(815, pct, question=\"Q3.4\")"
   ]
  },
  {
   "attachments": {},
   "cell_type": "markdown",
   "id": "26624f1a",
   "metadata": {
    "id": "a989a344"
   },
   "source": [
    "__SOA Question 3.5__ :  (E) 106\n",
    "\n",
    "\n",
    "You are given:\n",
    "| $x$ | 60 | 61 | 62 | 63 |64 | 65 | 66 | 67 |\n",
    "|---|---|---|---|---|---|---|---|---|\n",
    "| $l_x$ | 99,999 | 88,888 |77,777 | 66,666 | 55,555 | 44,444 | 33,333 | 22,222|\n",
    "\n",
    "$a =~ _{3.4|2.5}q_{60}$ assuming a uniform distribution of deaths over each year of age\n",
    "\n",
    "$b =~ _{3.4|2.5}q_{60}$ assuming a constant force of mortality over each year of age\n",
    "\n",
    "Calculate $100,000( a − b )$\n",
    "\n",
    "*hints:*\n",
    "\n",
    "\n",
    "- compute mortality rates by interpolating lives between integer ages, with UDD and constant force of mortality assumptions"
   ]
  },
  {
   "cell_type": "code",
   "execution_count": 19,
   "id": "67b54651",
   "metadata": {
    "colab": {
     "base_uri": "https://localhost:8080/"
    },
    "id": "4a01bc25",
    "outputId": "9143281b-4a6a-4cd7-875b-3722fbdd93ce"
   },
   "outputs": [
    {
     "name": "stdout",
     "output_type": "stream",
     "text": [
      "----- Q3.5 106: 106.16575827938624 [OK] -----\n"
     ]
    },
    {
     "data": {
      "text/plain": [
       "True"
      ]
     },
     "execution_count": 19,
     "metadata": {},
     "output_type": "execute_result"
    }
   ],
   "source": [
    "l = [99999, 88888, 77777, 66666, 55555, 44444, 33333, 22222]\n",
    "a = LifeTable(udd=True).set_table(l={age:l for age,l in zip(range(60, 68), l)})\\\n",
    "                       .q_r(60, u=3.4, t=2.5)\n",
    "b = LifeTable(udd=False).set_table(l={age:l for age,l in zip(range(60, 68), l)})\\\n",
    "                        .q_r(60, u=3.4, t=2.5)\n",
    "isclose(106, 100000 * (a - b), question=\"Q3.5\")"
   ]
  },
  {
   "attachments": {},
   "cell_type": "markdown",
   "id": "6573299f",
   "metadata": {
    "id": "cc6f9e8f"
   },
   "source": [
    "__SOA Question 3.6__ :  (D) 15.85\n",
    "\n",
    "You are given the following extract from a table with a 3-year select period:\n",
    "\n",
    "| $x$ | $q_{[x]}$ | $q_{[x]+1}$ | $q_{[x]+2}$ | $q_{x+3}$ | $x+3$ |\n",
    "|---|---|---|---|---|---|\n",
    "| 60 | 0.09 | 0.11 | 0.13 | 0.15 | 63 |\n",
    "| 61 | 0.10 | 0.12 | 0.14 | 0.16 | 64 |\n",
    "| 62 | 0.11 | 0.13 | 0.15 | 0.17 | 65 |\n",
    "| 63 | 0.12 | 0.14 | 0.16 | 0.18 | 66 |\n",
    "| 64 | 0.13 | 0.15 | 0.17 | 0.19 | 67 |\n",
    "\n",
    "$e_{64} = 5.10$\n",
    "\n",
    "Calculate $e_{[61]}$.\n",
    "\n",
    "*hints:*\n",
    "\n",
    "\n",
    "- apply recursion formulas for curtate expectation\n"
   ]
  },
  {
   "cell_type": "code",
   "execution_count": 20,
   "id": "ca4cb9c9",
   "metadata": {
    "colab": {
     "base_uri": "https://localhost:8080/"
    },
    "id": "ab3dfad5",
    "outputId": "2edfb71c-fffc-4c1a-a7e7-e6801f705994"
   },
   "outputs": [
    {
     "name": "stdout",
     "output_type": "stream",
     "text": [
      "----- Q3.6 5.85: 5.846832 [OK] -----\n"
     ]
    },
    {
     "data": {
      "text/plain": [
       "True"
      ]
     },
     "execution_count": 20,
     "metadata": {},
     "output_type": "execute_result"
    }
   ],
   "source": [
    "e = SelectLife().set_table(q={60: [.09, .11, .13, .15],\n",
    "                              61: [.1, .12, .14, .16],\n",
    "                              62: [.11, .13, .15, .17],\n",
    "                              63: [.12, .14, .16, .18],\n",
    "                              64: [.13, .15, .17, .19]},\n",
    "                           e={61: [None, None, None, 5.1]})\\\n",
    "                .e_x(61)\n",
    "isclose(5.85, e, question=\"Q3.6\")"
   ]
  },
  {
   "attachments": {},
   "cell_type": "markdown",
   "id": "59a4fde1",
   "metadata": {
    "id": "6e9d1f8c"
   },
   "source": [
    "__SOA Question 3.7__ : (b) 16.4\n",
    "\n",
    "For a mortality table with a select period of two years, you are given:\n",
    "\n",
    "| $x$ | $q_{[x]}$ | $q_{[x]+1}$ | $q_{x+2}$ | $x+2$ |\n",
    "|---|---|---|---|---|\n",
    "| 50 | 0.0050 | 0.0063 | 0.0080 | 52 |\n",
    "| 51 | 0.0060 | 0.0073 | 0.0090 | 53 |\n",
    "| 52 | 0.0070 | 0.0083 | 0.0100 | 54 |\n",
    "| 53 | 0.0080 | 0.0093 | 0.0110 | 55 |\n",
    "\n",
    "The force of mortality is constant between integral ages.\n",
    "\n",
    "Calculate $1000 ~_{2.5}q_{[50]+0.4}$.\n",
    "\n",
    "*hints:*\n",
    "\n",
    "\n",
    "- use deferred mortality formula\n",
    "- use chain rule for survival probabilities,\n",
    "- interpolate between integer ages with constant force of mortality\n"
   ]
  },
  {
   "cell_type": "code",
   "execution_count": 21,
   "id": "8dbf7cde",
   "metadata": {
    "colab": {
     "base_uri": "https://localhost:8080/"
    },
    "id": "b745cec2",
    "outputId": "b3c0c1d7-4285-46f7-c0e5-4a1d8e460c35"
   },
   "outputs": [
    {
     "name": "stdout",
     "output_type": "stream",
     "text": [
      "----- Q3.7 16.4: 16.420207214428586 [OK] -----\n"
     ]
    },
    {
     "data": {
      "text/plain": [
       "True"
      ]
     },
     "execution_count": 21,
     "metadata": {},
     "output_type": "execute_result"
    }
   ],
   "source": [
    "life = SelectLife().set_table(q={50: [.0050, .0063, .0080],\n",
    "                                 51: [.0060, .0073, .0090],\n",
    "                                 52: [.0070, .0083, .0100],\n",
    "                                 53: [.0080, .0093, .0110]})\n",
    "q = 1000 * life.q_r(50, s=0, r=0.4, t=2.5)\n",
    "isclose(16.4, q, question=\"Q3.7\")"
   ]
  },
  {
   "attachments": {},
   "cell_type": "markdown",
   "id": "1a01f9ee",
   "metadata": {
    "id": "b66e6e89"
   },
   "source": [
    "__SOA Question 3.8__ :  (B) 1505\n",
    "\n",
    "A club is established with 2000 members, 1000 of exact age 35 and 1000 of exact age 45. You are given:\n",
    "1. Mortality follows the Standard Ultimate Life Table\n",
    "2. Future lifetimes are independent\n",
    "3. N is the random variable for the number of members still alive 40 years after the club is established\n",
    "\n",
    "Using the normal approximation, without the continuity correction, calculate the smallest $n$ such that $Pr( N \\ge n ) \\le 0.05$.\n",
    "\n",
    "*hints:*\n",
    "\n",
    "\n",
    "- compute portfolio means and variances from sum of 2000 independent members' means and variances of survival.\n"
   ]
  },
  {
   "cell_type": "code",
   "execution_count": 22,
   "id": "d3fe539f",
   "metadata": {
    "colab": {
     "base_uri": "https://localhost:8080/"
    },
    "id": "907c1755",
    "outputId": "4f090570-86f1-480a-a0ca-e746c339cbf6"
   },
   "outputs": [
    {
     "name": "stdout",
     "output_type": "stream",
     "text": [
      "----- Q3.8 1505: 1504.8328375406456 [OK] -----\n"
     ]
    },
    {
     "data": {
      "text/plain": [
       "True"
      ]
     },
     "execution_count": 22,
     "metadata": {},
     "output_type": "execute_result"
    }
   ],
   "source": [
    "sult = SULT()\n",
    "p1 = sult.p_x(35, t=40)\n",
    "p2 = sult.p_x(45, t=40)\n",
    "mean = sult.bernoulli(p1) * 1000 + sult.bernoulli(p2) * 1000\n",
    "var = (sult.bernoulli(p1, variance=True) * 1000 \n",
    "       + sult.bernoulli(p2, variance=True) * 1000)\n",
    "pct = sult.portfolio_percentile(mean=mean, variance=var, prob=.95)\n",
    "isclose(1505, pct, question=\"Q3.8\")"
   ]
  },
  {
   "attachments": {},
   "cell_type": "markdown",
   "id": "62f4daf1",
   "metadata": {
    "id": "71438d84"
   },
   "source": [
    "__SOA Question 3.9__ :  (E) 3850\n",
    "\n",
    "A father-son club has 4000 members, 2000 of which are age 20 and the other 2000 are age 45. In 25 years, the members of the club intend to hold a reunion.\n",
    "\n",
    "You are given:\n",
    "1. All lives have independent future lifetimes.\n",
    "2. Mortality follows the Standard Ultimate Life Table.\n",
    "\n",
    "Using the normal approximation, without the continuity correction, calculate the 99th percentile of the number of surviving members at the time of the reunion.\n",
    "\n",
    "*hints:*\n",
    "\n",
    "\n",
    "- compute portfolio means and variances as sum of 4000 independent members' means and variances (of survival)\n",
    "- retrieve normal percentile\n"
   ]
  },
  {
   "cell_type": "code",
   "execution_count": 23,
   "id": "487f5aa3",
   "metadata": {
    "colab": {
     "base_uri": "https://localhost:8080/"
    },
    "id": "5e87a932",
    "outputId": "0b5f2dfe-83be-4596-a370-38071802f5e1"
   },
   "outputs": [
    {
     "name": "stdout",
     "output_type": "stream",
     "text": [
      "----- Q3.9 3850: 3850.144345130047 [OK] -----\n"
     ]
    },
    {
     "data": {
      "text/plain": [
       "True"
      ]
     },
     "execution_count": 23,
     "metadata": {},
     "output_type": "execute_result"
    }
   ],
   "source": [
    "sult = SULT()\n",
    "p1 = sult.p_x(20, t=25)\n",
    "p2 = sult.p_x(45, t=25)\n",
    "mean = sult.bernoulli(p1) * 2000 + sult.bernoulli(p2) * 2000\n",
    "var = (sult.bernoulli(p1, variance=True) * 2000 \n",
    "       + sult.bernoulli(p2, variance=True) * 2000)\n",
    "pct = sult.portfolio_percentile(mean=mean, variance=var, prob=.99)\n",
    "isclose(3850, pct, question=\"Q3.9\")"
   ]
  },
  {
   "attachments": {},
   "cell_type": "markdown",
   "id": "f42a44f8",
   "metadata": {
    "id": "5430d382"
   },
   "source": [
    "__SOA Question 3.10__ :  (C) 0.86\n",
    "\n",
    "A group of 100 people start a Scissor Usage Support Group. The\n",
    "rate at which members\n",
    "enter and leave the group is dependent on whether they are right-handed or left-handed.\n",
    "\n",
    "You are given the following:\n",
    "\n",
    "1. The initial membership is made up of 75% left-handed members (L)\n",
    " and 25% right-handed members (R)\n",
    "\n",
    "2. After the group initially forms, 35 new (L) and 15 new (R) join\n",
    " the group at the\n",
    " start of each subsequent year\n",
    "\n",
    "3. Members leave the group only at the end of each year\n",
    "\n",
    "4. $q_L$ = 0.25 for all years\n",
    "\n",
    "5. $q_R$ = 0.50 for all years\n",
    "\n",
    " Calculate the proportion of the Scissor Usage Support Group's expected\n",
    " membership that is left-handed at the start of the group's 6th year, before any new members join for that year.\n",
    "\n",
    "*hints:*\n",
    "\n",
    "\n",
    "- reformulate the problem by reversing time: survival to year 6 is calculated in reverse as discounting by the same number of years. \n",
    "\n"
   ]
  },
  {
   "cell_type": "code",
   "execution_count": 24,
   "id": "ae91db18",
   "metadata": {
    "colab": {
     "base_uri": "https://localhost:8080/"
    },
    "id": "cfd72881",
    "outputId": "fdd32eb4-aef6-4af2-fe44-f838509d6ee3"
   },
   "outputs": [
    {
     "name": "stdout",
     "output_type": "stream",
     "text": [
      "----- Q3.10 0.86: 0.8578442833761983 [OK] -----\n"
     ]
    },
    {
     "data": {
      "text/plain": [
       "True"
      ]
     },
     "execution_count": 24,
     "metadata": {},
     "output_type": "execute_result"
    }
   ],
   "source": [
    "interest = Interest(v=0.75)\n",
    "L = 35*interest.annuity(t=4, due=False) + 75*interest.v_t(t=5)\n",
    "interest = Interest(v=0.5)\n",
    "R = 15*interest.annuity(t=4, due=False) + 25*interest.v_t(t=5)\n",
    "isclose(0.86, L / (L + R), question=\"Q3.10\")"
   ]
  },
  {
   "attachments": {},
   "cell_type": "markdown",
   "id": "610c1ee2",
   "metadata": {
    "id": "a51f9f7a"
   },
   "source": [
    "__SOA Question 3.11__ :  (B) 0.03\n",
    "\n",
    "For the country of Bienna, you are given:\n",
    "1. Bienna publishes mortality rates in biennial form, that is, mortality rates are of the form: $_2q_{2x},$ for $x = 0,1, 2,...$\n",
    "\n",
    "2. Deaths are assumed to be uniformly distributed between ages $2x$ and $2x + 2$, for $x = 0,1, 2,...$\n",
    "3. $_2q_{50} = 0.02$\n",
    "4. $_2q_{52} = 0.04$\n",
    "\n",
    "Calculate the probability that (50) dies during the next 2.5 years.\n",
    "\n",
    "*hints:*\n",
    "\n",
    "\n",
    "- calculate mortality rate by interpolating lives assuming UDD\n"
   ]
  },
  {
   "cell_type": "code",
   "execution_count": 25,
   "id": "a3c846f4",
   "metadata": {
    "colab": {
     "base_uri": "https://localhost:8080/"
    },
    "id": "ced9708b",
    "outputId": "fb9127a8-b675-4dca-c6e8-5468849c5b0b"
   },
   "outputs": [
    {
     "name": "stdout",
     "output_type": "stream",
     "text": [
      "----- Q3.11 0.03: 0.0298 [OK] -----\n"
     ]
    },
    {
     "data": {
      "text/plain": [
       "True"
      ]
     },
     "execution_count": 25,
     "metadata": {},
     "output_type": "execute_result"
    }
   ],
   "source": [
    "life = LifeTable(udd=True).set_table(q={50//2: .02, 52//2: .04})\n",
    "q = life.q_r(50//2, t=2.5/2)\n",
    "isclose(0.03, q, question=\"Q3.11\")"
   ]
  },
  {
   "attachments": {},
   "cell_type": "markdown",
   "id": "e4ec6e6d",
   "metadata": {
    "id": "6dae2d07"
   },
   "source": [
    "__SOA Question 3.12__ : (C) 0.055 \n",
    "\n",
    "X and Y are both age 61. X has just purchased a whole life insurance policy. Y purchased a whole life insurance policy one year ago.\n",
    "\n",
    "Both X and Y are subject to the following 3-year select and ultimate table:\n",
    "\n",
    "| $x$ | $\\ell_{[x]}$ | $\\ell_{[x]+1}$ | $\\ell_{[x] + 2}$ | $\\ell_{x+3}$ | $x+3$ |\n",
    "|---|---|---|---|---|---|\n",
    "| 60 | 10,000 | 9,600 | 8,640 | 7,771 | 63 |\n",
    "| 61 | 8,654 | 8,135 | 6,996 | 5,737 | 64 |\n",
    "| 62 | 7,119 | 6,549 | 5,501 | 4,016 | 65 |\n",
    "| 63 | 5,760 | 4,954 | 3,765 | 2,410 | 66 |\n",
    "\n",
    "The force of mortality is constant over each year of age.\n",
    "\n",
    "Calculate the difference in the probability of survival to age 64.5 between X and Y.\n",
    "\n",
    "*hints:*\n",
    "\n",
    "\n",
    "- compute survival probability by interpolating lives assuming constant force\n"
   ]
  },
  {
   "cell_type": "code",
   "execution_count": 26,
   "id": "bf9e2404",
   "metadata": {
    "colab": {
     "base_uri": "https://localhost:8080/"
    },
    "id": "7e5ce19d",
    "outputId": "a32962b7-6708-4d7a-95de-e80fc4fd32d1"
   },
   "outputs": [
    {
     "name": "stdout",
     "output_type": "stream",
     "text": [
      "----- Q3.12 0.055: 0.05465655938591829 [OK] -----\n"
     ]
    },
    {
     "data": {
      "text/plain": [
       "True"
      ]
     },
     "execution_count": 26,
     "metadata": {},
     "output_type": "execute_result"
    }
   ],
   "source": [
    "life = SelectLife(udd=False).set_table(l={60: [10000, 9600, 8640, 7771],\n",
    "                                          61: [8654, 8135, 6996, 5737],\n",
    "                                          62: [7119, 6549, 5501, 4016],\n",
    "                                          63: [5760, 4954, 3765, 2410]})\n",
    "q = life.q_r(60, s=1, t=3.5) - life.q_r(61, s=0, t=3.5)               \n",
    "isclose(0.055, q, question=\"Q3.12\")"
   ]
  },
  {
   "attachments": {},
   "cell_type": "markdown",
   "id": "6b3ec06e",
   "metadata": {
    "id": "459b6c3d"
   },
   "source": [
    "__SOA Question 3.13__ :  (B) 1.6\n",
    "\n",
    "A life is subject to the following 3-year select and ultimate table:\n",
    "\n",
    "| $[x]$ | $\\ell_{[x]}$ | $\\ell_{[x]+1}$ | $\\ell_{[x]+2}$ | $\\ell_{x+3}$ | $x+3$ |\n",
    "|---|---|---|---|---|---\n",
    "| 55 | 10,000 | 9,493 | 8,533 | 7,664 | 58 |\n",
    "| 56 | 8,547 | 8,028 | 6,889 | 5,630 | 59 |\n",
    "| 57 | 7,011 | 6,443 | 5,395 | 3,904 | 60 |\n",
    "| 58 | 5,853 | 4,846 | 3,548 | 2,210 | 61 |\n",
    "\n",
    "You are also given:\n",
    "1. $e_{60} = 1$\n",
    "2. Deaths are uniformly distributed over each year of age\n",
    "\n",
    "Calculate $\\overset{\\circ}{e}_{[58]+2}$ .\n",
    "\n",
    "*hints:*\n",
    "\n",
    "\n",
    "- compute curtate expectations using recursion formulas\n",
    "- convert to complete expectation assuming UDD\n"
   ]
  },
  {
   "cell_type": "code",
   "execution_count": 27,
   "id": "0e03d808",
   "metadata": {
    "colab": {
     "base_uri": "https://localhost:8080/"
    },
    "id": "8db335e1",
    "outputId": "636f1fff-646a-436a-adf1-80c8f765cd43"
   },
   "outputs": [
    {
     "name": "stdout",
     "output_type": "stream",
     "text": [
      "----- Q3.13 1.6: 1.6003382187147688 [OK] -----\n"
     ]
    },
    {
     "data": {
      "text/plain": [
       "True"
      ]
     },
     "execution_count": 27,
     "metadata": {},
     "output_type": "execute_result"
    }
   ],
   "source": [
    "life = SelectLife().set_table(l={55: [10000, 9493, 8533, 7664],\n",
    "                                 56: [8547, 8028, 6889, 5630],\n",
    "                                 57: [7011, 6443, 5395, 3904],\n",
    "                                 58: [5853, 4846, 3548, 2210]},\n",
    "                              e={57: [None, None, None, 1]})\n",
    "e = life.e_r(58, s=2)\n",
    "isclose(1.6, e, question=\"Q3.13\")"
   ]
  },
  {
   "attachments": {},
   "cell_type": "markdown",
   "id": "1a7a2b3f",
   "metadata": {
    "id": "b784697d"
   },
   "source": [
    "__SOA Question 3.14__ :  (C) 0.345\n",
    "\n",
    "You are given the following information from a life table:\n",
    "\n",
    "| x | $l_x$ | $d_x$ | $p_x$ | $q_x$ |\n",
    "|---|---|---|---|---|\n",
    "| 95 | − | − | − | 0.40 |\n",
    "| 96 | − | − | 0.20 | − |\n",
    "| 97 | − | 72 | − | 1.00 |\n",
    "\n",
    "You are also given:\n",
    "1. $l_{90} = 1000$ and $l_{93} = 825$\n",
    "2. Deaths are uniformly distributed over each year of age.\n",
    "\n",
    "Calculate the probability that (90) dies between ages 93 and 95.5.\n",
    "\n",
    "*hints:*\n",
    "\n",
    "\n",
    "- compute mortality by interpolating lives between integer ages assuming UDD\n"
   ]
  },
  {
   "cell_type": "code",
   "execution_count": 28,
   "id": "637c0874",
   "metadata": {
    "colab": {
     "base_uri": "https://localhost:8080/"
    },
    "id": "39107fed",
    "outputId": "ae6b9e58-86f6-4d7a-9496-a3c70eec2a95"
   },
   "outputs": [
    {
     "name": "stdout",
     "output_type": "stream",
     "text": [
      "----- Q3.14 0.345: 0.345 [OK] -----\n"
     ]
    },
    {
     "data": {
      "text/plain": [
       "True"
      ]
     },
     "execution_count": 28,
     "metadata": {},
     "output_type": "execute_result"
    }
   ],
   "source": [
    "life = LifeTable(udd=True).set_table(l={90: 1000, 93: 825},\n",
    "                                     d={97: 72},\n",
    "                                     p={96: .2},\n",
    "                                     q={95: .4, 97: 1})\n",
    "q = life.q_r(90, u=93-90, t=95.5 - 93)\n",
    "isclose(0.345, q, question=\"Q3.14\")"
   ]
  },
  {
   "attachments": {},
   "cell_type": "markdown",
   "id": "ead64c89",
   "metadata": {
    "id": "0c0888ae"
   },
   "source": [
    "## 4 Insurance benefits"
   ]
  },
  {
   "attachments": {},
   "cell_type": "markdown",
   "id": "12d752f4",
   "metadata": {
    "id": "52a66927"
   },
   "source": [
    "__SOA Question 4.1__ :  (A) 0.27212\n",
    "\n",
    "For a special whole life insurance policy issued on (40), you\n",
    "are given:\n",
    "\n",
    "1. Death benefits are payable at the end of the year of death\n",
    "\n",
    "2. The amount of benefit is 2 if death occurs within the first 20\n",
    " years and is 1 thereafter\n",
    "\n",
    "3. *Z* is the present value random variable for the payments\n",
    " under this insurance\n",
    "\n",
    "4. *i* = 0.03\n",
    "\n",
    "5.\n",
    "\n",
    "| x | $A_x$ | $_{20}E_x$ |\n",
    "|---|---|---|\n",
    "| 40 | 0.36987 | 0.51276 |\n",
    "| 60 | 0.62567 | 0.17878 |\n",
    "\n",
    "\n",
    "6. $E[Z^2] =0.24954$\n",
    "\n",
    "Calculate the standard deviation of *Z*.\n",
    "\n",
    "\n",
    "*hints:*\n",
    "\n",
    "\n",
    "- solve EPV as sum of term and deferred insurance\n",
    "- compute variance as difference of second moment and first moment squared\n"
   ]
  },
  {
   "cell_type": "code",
   "execution_count": 29,
   "id": "e0053d50",
   "metadata": {
    "colab": {
     "base_uri": "https://localhost:8080/"
    },
    "id": "7a9f699d",
    "outputId": "732e4674-e462-40b5-9f05-ca2815343f1c"
   },
   "outputs": [
    {
     "name": "stdout",
     "output_type": "stream",
     "text": [
      "----- Q4.1 0.27212: 0.2721117749374753 [OK] -----\n"
     ]
    },
    {
     "data": {
      "text/plain": [
       "True"
      ]
     },
     "execution_count": 29,
     "metadata": {},
     "output_type": "execute_result"
    }
   ],
   "source": [
    "life = Recursion().set_interest(i=0.03)\n",
    "life.set_A(0.36987, x=40).set_A(0.62567, x=60)\n",
    "life.set_E(0.51276, x=40, t=20).set_E(0.17878, x=60, t=20)\n",
    "Z2 = 0.24954\n",
    "A = (2 * life.term_insurance(40, t=20) + life.deferred_insurance(40, u=20))\n",
    "std = math.sqrt(life.insurance_variance(A2=Z2, A1=A))\n",
    "isclose(0.27212, std, question=\"Q4.1\")"
   ]
  },
  {
   "attachments": {},
   "cell_type": "markdown",
   "id": "b4083b02",
   "metadata": {
    "id": "0255b59a"
   },
   "source": [
    "__SOA Question 4.2__ :  (D) 0.18\n",
    "\n",
    "or a special 2-year term insurance policy on (*x*), you are\n",
    "given:\n",
    "\n",
    "1. Death benefits are payable at the end of the half-year of death\n",
    "\n",
    "2. The amount of the death benefit is 300,000 for the first\n",
    " half-year and increases by 30,000 per half-year thereafter\n",
    "\n",
    "3. $q_x$ = 0.16 and $q_{x+1}$ = 0.23\n",
    "\n",
    "4. $i^{(2)}$ = 0.18\n",
    "\n",
    "5. Deaths are assumed to follow a constant force of mortality\n",
    " between integral ages\n",
    "\n",
    "6. *Z* is the present value random variable for this insurance\n",
    "\n",
    "Calculate Pr( *Z* \\> 277,000) .\n",
    "\n",
    "*hints:*\n",
    "\n",
    "\n",
    "- calculate Z(t) and deferred mortality for each half-yearly t\n",
    "- sum the deferred mortality probabilities for periods when PV > 277000 \n"
   ]
  },
  {
   "cell_type": "code",
   "execution_count": 30,
   "id": "2c08bff2",
   "metadata": {
    "colab": {
     "base_uri": "https://localhost:8080/"
    },
    "id": "2145a29e",
    "outputId": "4c9e905a-cc91-4850-8db0-854989e25476"
   },
   "outputs": [
    {
     "name": "stdout",
     "output_type": "stream",
     "text": [
      "----- Q4.2 0.18: 0.17941813045022975 [OK] -----\n"
     ]
    },
    {
     "data": {
      "text/plain": [
       "True"
      ]
     },
     "execution_count": 30,
     "metadata": {},
     "output_type": "execute_result"
    }
   ],
   "source": [
    "life = LifeTable(udd=False).set_table(q={0: .16, 1: .23})\\\n",
    "                           .set_interest(i_m=.18, m=2)\n",
    "mthly = Mthly(m=2, life=life)\n",
    "Z = mthly.Z_m(0, t=2, benefit=lambda x,t: 300000 + t*30000*2)\n",
    "p = Z[Z['Z'] >= 277000]['q'].sum()\n",
    "isclose(0.18, p, question=\"Q4.2\")"
   ]
  },
  {
   "attachments": {},
   "cell_type": "markdown",
   "id": "9d482cd7",
   "metadata": {
    "id": "f749bbb5"
   },
   "source": [
    "__SOA Question 4.3__ : (D) 0.878\n",
    "\n",
    "You are given:\n",
    "\n",
    "1. $q_{60} = 0.01$\n",
    "2. Using $i = 0.05, ~ A_{60:\\overline{3|}} = 0.86545$\n",
    "3. Using $i = 0.045$ calculate $A_{60:\\overline{3|}}$\n",
    "\n",
    "*hints:*\n",
    "\n",
    "\n",
    "- solve $q_{61}$ from endowment insurance EPV formula\n",
    "- solve $A_{60:\\overline{3|}}$ with new $i=0.045$ as EPV of endowment insurance benefits.\n"
   ]
  },
  {
   "cell_type": "code",
   "execution_count": 147,
   "id": "e5ed9583",
   "metadata": {
    "colab": {
     "base_uri": "https://localhost:8080/"
    },
    "id": "db579f3b",
    "outputId": "e6e2e006-1b78-45b6-b270-435ad567034c"
   },
   "outputs": [
    {
     "data": {
      "text/latex": [
       "\\begin{array}{lr}\n",
       "~\\texttt{Mortality}~q_{x+61}~:=\\\\\n",
       "~~~q_{x+61} = ~_{0}p_{x+61} - ~p_{x+61}& \\quad \\texttt{complement survival}\\\\\n",
       "~~~~~p_{x+61} = [ v - ~A_{{x+61:\\overline{2|}}} ] / [v * [ 1 - ~A_{{x+62:\\overline{1|}}} ]]& \\quad \\texttt{insurance recursion}\\\\\n",
       "~~~~~~~A^1_{{x+61:\\overline{2|}}} = [ ~A^1_{{x+60:\\overline{3|}}} / v - ~q_{x+61} * b ] / ~p_{x+61}& \\quad \\texttt{forward recursion}\\\\\n",
       "~~~~~~~~~p_{x+60} = 1 - ~q_{x+60}& \\quad \\texttt{complement of mortality}\\end{array}"
      ]
     },
     "metadata": {},
     "output_type": "display_data"
    },
    {
     "data": {
      "text/latex": [
       "\\begin{array}{lr}\n",
       "~\\texttt{Endowment Insurance}~A_{{x+60:\\overline{3|}}}~:=\\\\\n",
       "~~~A^1_{{x+60:\\overline{3|}}} = v * [ ~q_{x+60} * b + ~p_{x+60} * ~A^1_{{x+61:\\overline{2|}}} ]& \\quad \\texttt{backward recursion}\\\\\n",
       "~~~~~A^1_{{x+61:\\overline{2|}}} = v * [ ~q_{x+61} * b + ~p_{x+61} * ~A^1_{{x+62:\\overline{1|}}} ]& \\quad \\texttt{backward recursion}\\\\\n",
       "~~~~~~~p_{x+61} = 1 - ~q_{x+61}& \\quad \\texttt{complement of mortality}\\\\\n",
       "~~~~~~~E_{x+60} = ~p_{x+60} * v& \\quad \\texttt{pure endowment}\\\\\n",
       "~~~~~~~~~p_{x+60} = 1 - ~q_{x+60}& \\quad \\texttt{complement of mortality}\\end{array}"
      ]
     },
     "metadata": {},
     "output_type": "display_data"
    },
    {
     "name": "stdout",
     "output_type": "stream",
     "text": [
      "----- Q4.3 0.878: 0.8777667236003878 [OK] -----\n"
     ]
    },
    {
     "data": {
      "text/plain": [
       "True"
      ]
     },
     "execution_count": 147,
     "metadata": {},
     "output_type": "execute_result"
    }
   ],
   "source": [
    "life = Recursion(verbose=True).set_interest(i=0.05)\\\n",
    "                              .set_q(0.01, x=60)\\\n",
    "                              .set_A(0.86545, x=60, t=3, endowment=1)\n",
    "q = life.q_x(x=61)\n",
    "A = Recursion(verbose=True).set_interest(i=0.045)\\\n",
    "                           .set_q(0.01, x=60)\\\n",
    "                           .set_q(q, x=61)\\\n",
    "                           .endowment_insurance(60, t=3)\n",
    "isclose(0.878, A, question=\"Q4.3\")"
   ]
  },
  {
   "attachments": {},
   "cell_type": "markdown",
   "id": "c378ac6d",
   "metadata": {
    "id": "de2d0427"
   },
   "source": [
    "__SOA Question 4.4__ : (A) 0.036\n",
    "\n",
    "For a special increasing whole life insurance on (40), payable at the moment of death, you are given :\n",
    "1. The death benefit at time t is $b_t = 1 + 0.2 t, \\quad t \\ge 0$\n",
    "2. The interest discount factor at time t is $v(t) = (1 + 0.2 t ) − 2, \\quad t \\ge 0$\n",
    "3. $_tp_{40} ~ \\mu_{40+t} = 0.025~\\text{if} ~ 0 \\le t < 40$, otherwise $0$\n",
    "4. Z is the present value random variable for this insurance\n",
    "\n",
    "Calculate Var(Z).\n",
    "\n",
    "*hints:*\n",
    "\n",
    "\n",
    "- integrate to find EPV of $Z$ and $Z^2$\n",
    "- variance is difference of second moment and first moment squared\n"
   ]
  },
  {
   "cell_type": "code",
   "execution_count": 32,
   "id": "ef40edce",
   "metadata": {
    "colab": {
     "base_uri": "https://localhost:8080/"
    },
    "id": "3fa24393",
    "outputId": "e3094da8-2a2d-43a6-a4e3-06c01620ff5e"
   },
   "outputs": [
    {
     "name": "stdout",
     "output_type": "stream",
     "text": [
      "----- Q4.4 0.036: 0.03567680106032681 [OK] -----\n"
     ]
    },
    {
     "data": {
      "text/plain": [
       "True"
      ]
     },
     "execution_count": 32,
     "metadata": {},
     "output_type": "execute_result"
    }
   ],
   "source": [
    "x = 40\n",
    "life = Insurance().set_survival(f=lambda *x: 0.025, maxage=x+40)\\\n",
    "                  .set_interest(v_t=lambda t: (1 + .2*t)**(-2))\n",
    "def benefit(x,t): return 1 + .2 * t\n",
    "A1 = life.A_x(x, benefit=benefit, discrete=False)\n",
    "A2 = life.A_x(x, moment=2, benefit=benefit, discrete=False)\n",
    "var = A2 - A1**2\n",
    "isclose(0.036, var, question=\"Q4.4\")"
   ]
  },
  {
   "attachments": {},
   "cell_type": "markdown",
   "id": "4bae2a1f",
   "metadata": {
    "id": "2bb789fa"
   },
   "source": [
    "__SOA Question 4.5__ :  (C) 35200\n",
    "\n",
    "For a 30-year term life insurance of 100,000 on (45), you are given:\n",
    "1. The death benefit is payable at the moment of death\n",
    "2. Mortality follows the Standard Ultimate Life Table\n",
    "3. $\\delta = 0.05$\n",
    "4. Deaths are uniformly distributed over each year of age\n",
    "\n",
    "Calculate the 95th percentile of the present value of benefits random variable for this insurance\n",
    "\n",
    "*hints:*\n",
    "\n",
    "\n",
    "- interpolate between integer ages with UDD, and find lifetime that mortality rate exceeded\n",
    "- compute PV of death benefit paid at that time.\n"
   ]
  },
  {
   "cell_type": "code",
   "execution_count": 33,
   "id": "3237277e",
   "metadata": {
    "colab": {
     "base_uri": "https://localhost:8080/"
    },
    "id": "3c9d0b1e",
    "outputId": "9ce6ae62-ce6a-4afb-d1bf-abe00bb38caf"
   },
   "outputs": [
    {
     "name": "stdout",
     "output_type": "stream",
     "text": [
      "----- Q4.5 35200: 35187.952037196534 [OK] -----\n"
     ]
    },
    {
     "data": {
      "text/plain": [
       "True"
      ]
     },
     "execution_count": 33,
     "metadata": {},
     "output_type": "execute_result"
    }
   ],
   "source": [
    "sult = SULT(udd=True).set_interest(delta=0.05)\n",
    "Z = 100000 * sult.Z_from_prob(45, 0.95, discrete=False)\n",
    "isclose(35200, Z, question=\"Q4.5\")"
   ]
  },
  {
   "attachments": {},
   "cell_type": "markdown",
   "id": "ee233ba9",
   "metadata": {
    "id": "1792b7aa"
   },
   "source": [
    "__SOA Question 4.6__ :  (B) 29.85\n",
    "\n",
    "For a 3-year term insurance of 1000 on (70), you are given:\n",
    "1. $q^{SULT}_{70+k}$ is the mortality rate from the Standard Ultimate Life Table, for k = 0,1,2\n",
    "\n",
    "2. $q_{70 + k}$ is the mortality rate used to price this insurance, for k = 0,1, 2\n",
    "\n",
    "3. $q_{70 + k} = (0.95)^k q_{70+k}^{SULT}$, for k = 0,1, 2\n",
    "\n",
    "4. *i* = 0.05\n",
    "\n",
    "Calculate the single net premium.\n",
    "\n",
    "*hints:*\n",
    "\n",
    "\n",
    "- calculate adjusted mortality rates\n",
    "- compute term insurance as EPV of benefits"
   ]
  },
  {
   "cell_type": "code",
   "execution_count": 34,
   "id": "b59837e1",
   "metadata": {
    "colab": {
     "base_uri": "https://localhost:8080/"
    },
    "id": "f31ee601",
    "outputId": "ea7759a3-8d35-44f8-8015-34afc05162e1"
   },
   "outputs": [
    {
     "name": "stdout",
     "output_type": "stream",
     "text": [
      "----- Q4.6 29.85: 29.84835110355902 [OK] -----\n"
     ]
    },
    {
     "data": {
      "text/plain": [
       "True"
      ]
     },
     "execution_count": 34,
     "metadata": {},
     "output_type": "execute_result"
    }
   ],
   "source": [
    "sult = SULT()\n",
    "life = LifeTable().set_interest(i=0.05)\\\n",
    "                  .set_table(q={70+k: .95**k * sult.q_x(70+k) for k in range(3)})\n",
    "A = life.term_insurance(70, t=3, b=1000)\n",
    "isclose(29.85, A, question=\"Q4.6\")"
   ]
  },
  {
   "attachments": {},
   "cell_type": "markdown",
   "id": "d6c5d20f",
   "metadata": {
    "id": "230429ad"
   },
   "source": [
    "__SOA Question 4.7__ :  (B) 0.06\n",
    "\n",
    "For a 25-year pure endowment of 1 on (*x*), you are given:\n",
    "\n",
    "1. *Z* is the present value random variable at issue of the benefit\n",
    " payment\n",
    "\n",
    "2. *Var (Z)* = 0.10 *E[Z]*\n",
    "\n",
    "3. $_{25}p_x = 0.57$\n",
    "\n",
    " Calculate the annual effective interest rate.\n",
    "\n",
    "*hints:*\n",
    "\n",
    "- use Bernoulli shortcut formula for variance of pure endowment Z \n",
    "- solve for $i$, since $p$ is given."
   ]
  },
  {
   "cell_type": "code",
   "execution_count": 35,
   "id": "8c24b1d8",
   "metadata": {
    "colab": {
     "base_uri": "https://localhost:8080/"
    },
    "id": "f38c4ab6",
    "lines_to_next_cell": 1,
    "outputId": "f9f9dca4-f476-41fa-c282-5ac5700d99c2"
   },
   "outputs": [
    {
     "name": "stdout",
     "output_type": "stream",
     "text": [
      "----- Q4.7 0.06: 0.06008023738770262 [OK] -----\n"
     ]
    },
    {
     "data": {
      "text/plain": [
       "True"
      ]
     },
     "execution_count": 35,
     "metadata": {},
     "output_type": "execute_result"
    }
   ],
   "source": [
    "def fun(i):\n",
    "    life = Recursion(verbose=False).set_interest(i=i)\\\n",
    "                                   .set_p(0.57, x=0, t=25)\n",
    "    return 0.1*life.E_x(0, t=25) - life.E_x(0, t=25, moment=life.VARIANCE)\n",
    "i = Recursion.solve(fun, target=0, grid=[0.058, 0.066])\n",
    "isclose(0.06, i, question=\"Q4.7\")"
   ]
  },
  {
   "attachments": {},
   "cell_type": "markdown",
   "id": "c45bd62b",
   "metadata": {
    "id": "ccb0f3ff"
   },
   "source": [
    "__SOA Question 4.8__ :  (C) 191\n",
    "\n",
    "For a whole life insurance of 1000 on (50), you are given :\n",
    "\n",
    "1. The death benefit is payable at the end of the year of death\n",
    "\n",
    "2. Mortality follows the Standard Ultimate Life Table\n",
    "\n",
    "3. *i* = 0.04 in the first year, and *i* = 0.05 in subsequent\n",
    " years\n",
    "\n",
    " Calculate the actuarial present value of this insurance.\n",
    "\n",
    "*hints:*\n",
    "\n",
    "- use insurance recursion with special interest rate $i=0.04$ in first year.\n"
   ]
  },
  {
   "cell_type": "code",
   "execution_count": 36,
   "id": "37b1d2bd",
   "metadata": {
    "colab": {
     "base_uri": "https://localhost:8080/"
    },
    "id": "f3ad0bbe",
    "outputId": "ab3a4680-849c-4997-edb9-521ef8bc0dde"
   },
   "outputs": [
    {
     "name": "stdout",
     "output_type": "stream",
     "text": [
      "----- Q4.8 191: 191.1281281882354 [OK] -----\n"
     ]
    },
    {
     "data": {
      "text/plain": [
       "True"
      ]
     },
     "execution_count": 36,
     "metadata": {},
     "output_type": "execute_result"
    }
   ],
   "source": [
    "def v_t(t): return 1.04**(-t) if t < 1 else 1.04**(-1) * 1.05**(-t+1)\n",
    "A = SULT().set_interest(v_t=v_t).whole_life_insurance(50, b=1000)\n",
    "isclose(191, A, question=\"Q4.8\")"
   ]
  },
  {
   "attachments": {},
   "cell_type": "markdown",
   "id": "126e6714",
   "metadata": {
    "id": "4408c9ef"
   },
   "source": [
    "__SOA Question 4.9__ :  (D) 0.5\n",
    "\n",
    "You are given:\n",
    "\n",
    "1. $A_{35:\\overline{15|}} = 0.39$\n",
    "2. $A^1_{35:\\overline{15|}} = 0.25$\n",
    "4. $A_{35} = 0.32$\n",
    "\n",
    "Calculate $A_{50}$.\n",
    "\n",
    "*hints:*\n",
    "\n",
    "\n",
    "- solve $_{15}E_{35}$ from endowment insurance minus term insurance\n",
    "\n",
    "- solve implicitly from whole life as term plus deferred insurance\n"
   ]
  },
  {
   "cell_type": "code",
   "execution_count": 154,
   "id": "d4e71b05",
   "metadata": {
    "colab": {
     "base_uri": "https://localhost:8080/"
    },
    "id": "0ab006d1",
    "outputId": "39b2b025-14e7-43c3-9b26-cdb734ec6915"
   },
   "outputs": [
    {
     "data": {
      "text/latex": [
       "\\begin{array}{lr}\n",
       "~\\texttt{Pure Endowment}~_{15}E_{x+35}~:=\\\\\n",
       "~~~_{15}E_{x+35} = ~A_{{x+35:\\overline{15|}}} - ~A^1_{{x+35:\\overline{15|}}}& \\quad \\texttt{endowment insurance minus term}\\end{array}"
      ]
     },
     "metadata": {},
     "output_type": "display_data"
    },
    {
     "name": "stdout",
     "output_type": "stream",
     "text": [
      "----- Q4.9 0.5: 0.5 [OK] -----\n"
     ]
    },
    {
     "data": {
      "text/plain": [
       "True"
      ]
     },
     "execution_count": 154,
     "metadata": {},
     "output_type": "execute_result"
    }
   ],
   "source": [
    "E = Recursion().set_A(0.39, x=35, t=15, endowment=1)\\\n",
    "               .set_A(0.25, x=35, t=15)\\\n",
    "               .E_x(35, t=15)\n",
    "life = Recursion(verbose=False).set_A(0.32, x=35)\\\n",
    "                               .set_E(E, x=35, t=15)\n",
    "def fun(A): return life.set_A(A, x=50).term_insurance(35, t=15)\n",
    "A = life.solve(fun, target=0.25, grid=[0.35, 0.55])\n",
    "isclose(0.5, A, question=\"Q4.9\")"
   ]
  },
  {
   "attachments": {},
   "cell_type": "markdown",
   "id": "07cd4da6",
   "metadata": {
    "id": "f46ca953"
   },
   "source": [
    "__SOA Question 4.10__ :  (D)\n",
    "\n",
    "The present value random variable for an insurance policy on (x) is expressed as:\n",
    "$$\\begin{align*}\n",
    "Z & =0, \\quad \\textrm{if } T_x \\le 10\\\\\n",
    "& =v^T, \\quad \\textrm{if } 10 < T_x \\le 20\\\\\n",
    "& =2v^T, \\quad \\textrm{if } 20 < T_x \\le 30\\\\\n",
    "& =0, \\quad \\textrm{thereafter}\n",
    "\\end{align*}$$\n",
    "\n",
    "Determine which of the following is a correct expression for $E[Z]$.\n",
    "\n",
    "\n",
    "(A) $_{10|}\\overline{A}_x + _{20|}\\overline{A}_x - _{30|}\\overline{A}_x$\n",
    "\n",
    "(B) $\\overline{A}_x + _{20}E_x \\overline{A}_{x+20} - 2~_{30}E_x \\overline{A}_{x +30}$\n",
    "\n",
    "(C) $_{10}E_x \\overline{A}_x + _{20}E_x \\overline{A}_{x+20} - 2 ~_{30}E_x \\overline{A}_{x +30}$\n",
    "\n",
    "(D) $_{10}E_x \\overline{A}_{x+10} + _{20}E_x \\overline{A}_{x+20} - 2~ _{30}E_x \\overline{A}_{x+30}$\n",
    "\n",
    "(E) $_{10}E_x [\\overline{A}_{x} + _{10}E_{x+10} + \\overline{A}_{x+20} - _{10}E_{x+20} + \\overline{A}_{x+30}]$\n",
    "\n",
    "*hints:*\n",
    "\n",
    "- draw and compare benefit diagrams\n"
   ]
  },
  {
   "cell_type": "code",
   "execution_count": 38,
   "id": "a98b59f5",
   "metadata": {
    "colab": {
     "base_uri": "https://localhost:8080/",
     "height": 521
    },
    "id": "14fca3d8",
    "outputId": "c579febc-dca7-42ba-e755-1cd352498c71"
   },
   "outputs": [
    {
     "name": "stdout",
     "output_type": "stream",
     "text": [
      "----- Q4.10 D: D [OK] -----\n"
     ]
    },
    {
     "data": {
      "text/plain": [
       "True"
      ]
     },
     "execution_count": 38,
     "metadata": {},
     "output_type": "execute_result"
    },
    {
     "data": {
      "image/png": "[encoded data removed]",
      "text/plain": [
       "<Figure size 640x480 with 6 Axes>"
      ]
     },
     "metadata": {},
     "output_type": "display_data"
    }
   ],
   "source": [
    "life = Insurance().set_interest(i=0.0).set_survival(S=lambda x,s,t: 1, maxage=40)\n",
    "def fun(x, t):\n",
    "    if 10 <= t <= 20: return life.interest.v_t(t)\n",
    "    elif 20 < t <= 30: return 2 * life.interest.v_t(t)\n",
    "    else: return 0\n",
    "def A(x, t):  # Z_x+k (t-k)\n",
    "    return life.interest.v_t(t - x) * (t > x)\n",
    "x = 0\n",
    "benefits=[lambda x,t: (life.E_x(x, t=10) * A(x+10, t)\n",
    "                            + life.E_x(x, t=20)* A(x+20, t) \n",
    "                            - life.E_x(x, t=30) * A(x+30, t)),\n",
    "          lambda x,t: (A(x, t)  \n",
    "                       + life.E_x(x, t=20) * A(x+20, t) \n",
    "                       - 2 * life.E_x(x, t=30) * A(x+30, t)),\n",
    "          lambda x,t: (life.E_x(x, t=10) * A(x, t) \n",
    "                       + life.E_x(x, t=20) * A(x+20, t) \n",
    "                       - 2 * life.E_x(x, t=30) * A(x+30, t)),\n",
    "          lambda x,t: (life.E_x(x, t=10) * A(x+10, t) \n",
    "                       + life.E_x(x, t=20) * A(x+20, t) \n",
    "                       - 2 * life.E_x(x, t=30) * A(x+30, t)),\n",
    "          lambda x,t: (life.E_x(x, t=10)\n",
    "                       * (A(x+10, t) \n",
    "                          + life.E_x(x+10, t=10) * A(x+20, t) \n",
    "                          - life.E_x(x+20, t=10) * A(x+30, t)))]\n",
    "fig, ax = plt.subplots(3, 2)\n",
    "ax = ax.ravel()\n",
    "for i, b in enumerate([fun] + benefits):\n",
    "    life.Z_plot(0, benefit=b, ax=ax[i], color=f\"C{i+1}\", title='')\n",
    "    ax[i].legend([\"(\" + \"abcde\"[i-1] + \")\" if i else \"Z\"])\n",
    "z = [sum(abs(b(0, t) - fun(0, t)) for t in range(40)) for b in benefits]\n",
    "ans = \"ABCDE\"[np.argmin(z)]\n",
    "isclose('D', ans, question=\"Q4.10\")"
   ]
  },
  {
   "attachments": {},
   "cell_type": "markdown",
   "id": "31503269",
   "metadata": {
    "id": "8dae2f7c"
   },
   "source": [
    "__SOA Question 4.11__ :  (A) 143385\n",
    "\n",
    "You are given:\n",
    "\n",
    "1. $Z_1$ is the present value random variable for an n-year term insurance of 1000\n",
    "issued to (x)\n",
    "2. $Z_2$ is the present value random variable for an n-year endowment insurance of\n",
    "1000 issued to (x)\n",
    "3. For both $Z_1$ and $Z_2$ the death benefit is payable at the end of the year of death\n",
    "4. $E [ Z_1 ] = 528$\n",
    "5. $Var ( Z_2 ) = 15,000$\n",
    "6. $A^{~~~~1}_{x:{\\overline{n|}}} = 0.209$\n",
    "7. $^2A^{~~~~1}_{x:{\\overline{n|}}} = 0.136$\n",
    "\n",
    "Calculate $Var(Z_1)$.\n",
    "\n",
    "*hints:*\n",
    "\n",
    "\n",
    "- compute endowment insurance = term insurance + pure endowment \n",
    "- apply formula of variance as the difference of second moment and first moment squared.\n"
   ]
  },
  {
   "cell_type": "code",
   "execution_count": 39,
   "id": "01ca3b38",
   "metadata": {
    "colab": {
     "base_uri": "https://localhost:8080/"
    },
    "id": "a3858d16",
    "outputId": "fc9a0cbe-7fec-4a83-f49c-00f5a65bcd6d"
   },
   "outputs": [
    {
     "name": "stdout",
     "output_type": "stream",
     "text": [
      "----- Q4.11 143385: 143384.99999999997 [OK] -----\n"
     ]
    },
    {
     "data": {
      "text/plain": [
       "True"
      ]
     },
     "execution_count": 39,
     "metadata": {},
     "output_type": "execute_result"
    }
   ],
   "source": [
    "A1 = 528/1000   # E[Z1]  term insurance\n",
    "C1 = 0.209      # E[pure_endowment]\n",
    "C2 = 0.136      # E[pure_endowment^2]\n",
    "B1 = A1 + C1    # endowment = term + pure_endowment\n",
    "def fun(A2):\n",
    "    B2 = A2 + C2   # double force of interest\n",
    "    return Insurance.insurance_variance(A2=B2, A1=B1)  \n",
    "A2 = Insurance.solve(fun, target=15000/(1000*1000), grid=[143400, 279300])\n",
    "var = Insurance.insurance_variance(A2=A2, A1=A1, b=1000)\n",
    "isclose(143385, var, question=\"Q4.11\")"
   ]
  },
  {
   "attachments": {},
   "cell_type": "markdown",
   "id": "c75d7122",
   "metadata": {
    "id": "4a79514c"
   },
   "source": [
    "__SOA Question 4.12__ :  (C) 167 \n",
    "\n",
    "For three fully discrete insurance products on the same (x), you are given:\n",
    "- $Z_1$ is the present value random variable for a 20-year term insurance of 50\n",
    "- $Z_2$ is the present value random variable for a 20-year deferred whole life\n",
    "insurance of 100\n",
    "- $Z_3$ is the present value random variable for a whole life insurance of 100.\n",
    "- $E[Z_1] = 1.65$ and $E[Z_2] = 10.75$\n",
    "- $Var(Z_1) = 46.75$ and $Var(Z_2) = 50.78$\n",
    "\n",
    "Calculate $Var(Z_3)$.\n",
    "\n",
    "*hints:*\n",
    "\n",
    "\n",
    "- since $Z_1,~Z_2$ are non-overlapping, $E[Z_1~ Z_2] = 0$ for computing $Cov(Z_1, Z_2)$\n",
    "- whole life is sum of term and deferred, hence equals variance of components plus twice their covariance\n"
   ]
  },
  {
   "cell_type": "code",
   "execution_count": 40,
   "id": "e454aa1c",
   "metadata": {
    "colab": {
     "base_uri": "https://localhost:8080/"
    },
    "id": "b34e726c",
    "outputId": "87270bd2-36a4-4448-bd22-9b8c48ed8d6b"
   },
   "outputs": [
    {
     "name": "stdout",
     "output_type": "stream",
     "text": [
      "----- Q4.12 167: 166.82999999999998 [OK] -----\n"
     ]
    },
    {
     "data": {
      "text/plain": [
       "True"
      ]
     },
     "execution_count": 40,
     "metadata": {},
     "output_type": "execute_result"
    }
   ],
   "source": [
    "cov = Life.covariance(a=1.65, b=10.75, ab=0)  # E[Z1 Z2] = 0 nonoverlapping\n",
    "var = Life.variance(a=2, b=1, var_a=46.75, var_b=50.78, cov_ab=cov)\n",
    "isclose(167, var, question=\"Q4.12\")"
   ]
  },
  {
   "attachments": {},
   "cell_type": "markdown",
   "id": "b8cdfe5a",
   "metadata": {
    "id": "ae69b52f"
   },
   "source": [
    "__SOA Question 4.13__ :  (C) 350 \n",
    "\n",
    "For a 2-year deferred, 2-year term insurance of 2000 on [65], you are given:\n",
    "\n",
    "1. The following select and ultimate mortality table with a 3-year select period:\n",
    "\n",
    "| $x$ | $q_{[x]}$ | $q_{[x]+1}$ | $q_{[x]+2}$ | $q_{x+3}$ | $x+3$ |\n",
    "|---|---|---|---|---|---\n",
    "| 65 | 0.08 | 0.10 | 0.12 | 0.14 | 68 |\n",
    "| 66 | 0.09 | 0.11 | 0.13 | 0.15 | 69 |\n",
    "| 67 | 0.10 | 0.12 | 0.14 | 0.16 | 70 |\n",
    "| 68 | 0.11 | 0.13 | 0.15 | 0.17 | 71 |\n",
    "| 69 | 0.12 | 0.14 | 0.16 | 0.18 | 72 |\n",
    "\n",
    "2. $i = 0.04$\n",
    "3. The death benefit is payable at the end of the year of death\n",
    "\n",
    "Calculate the actuarial present value of this insurance.\n",
    "\n",
    "*hints:*\n",
    "\n",
    "\n",
    "- compute term insurance as EPV of benefits"
   ]
  },
  {
   "cell_type": "code",
   "execution_count": 41,
   "id": "2bbc91e9",
   "metadata": {
    "colab": {
     "base_uri": "https://localhost:8080/"
    },
    "id": "a838d9f1",
    "outputId": "204c8d16-e1c3-45ec-9708-ad40003b5623"
   },
   "outputs": [
    {
     "name": "stdout",
     "output_type": "stream",
     "text": [
      "----- Q4.13 350: 351.0578236056159 [OK] -----\n"
     ]
    },
    {
     "data": {
      "text/plain": [
       "True"
      ]
     },
     "execution_count": 41,
     "metadata": {},
     "output_type": "execute_result"
    }
   ],
   "source": [
    "life = SelectLife().set_table(q={65: [.08, .10, .12, .14],\n",
    "                                 66: [.09, .11, .13, .15],\n",
    "                                 67: [.10, .12, .14, .16],\n",
    "                                 68: [.11, .13, .15, .17],\n",
    "                                 69: [.12, .14, .16, .18]})\\\n",
    "                   .set_interest(i=.04)\n",
    "A = life.deferred_insurance(65, t=2, u=2, b=2000)\n",
    "isclose(350, A, question=\"Q4.13\")"
   ]
  },
  {
   "attachments": {},
   "cell_type": "markdown",
   "id": "a8dfb917",
   "metadata": {
    "id": "3f3b547c"
   },
   "source": [
    "__SOA Question 4.14__ :  (E) 390000\n",
    "\n",
    "A fund is established for the benefit of 400 workers all age 60 with independent future lifetimes. When they reach age 85, the fund will be dissolved and distributed to the survivors.\n",
    "\n",
    "The fund will earn interest at a rate of 5% per year.\n",
    "\n",
    "The initial fund balance, $F$, is determined so that the probability that the fund will pay at least 5000 to each survivor is 86%, using the normal approximation.\n",
    "\n",
    "Mortality follows the Standard Ultimate Life Table.\n",
    "\n",
    "Calculate $F$.\n",
    "\n",
    "*hints:*\n",
    "\n",
    "\n",
    "- discount (by interest rate $i=0.05$) the value at the portfolio percentile, of the sum of 400 bernoulli r.v. with survival probability $_{25}p_{60}$\n"
   ]
  },
  {
   "cell_type": "code",
   "execution_count": 42,
   "id": "6639eb23",
   "metadata": {
    "colab": {
     "base_uri": "https://localhost:8080/"
    },
    "id": "f0e506f8",
    "outputId": "30f216b8-e2c3-4c9b-8620-ffcc76f35315"
   },
   "outputs": [
    {
     "name": "stdout",
     "output_type": "stream",
     "text": [
      "----- Q4.14 390000: 389322.86778416135 [OK] -----\n"
     ]
    },
    {
     "data": {
      "text/plain": [
       "True"
      ]
     },
     "execution_count": 42,
     "metadata": {},
     "output_type": "execute_result"
    }
   ],
   "source": [
    "sult = SULT()\n",
    "p = sult.p_x(60, t=85-60)\n",
    "mean = sult.bernoulli(p)\n",
    "var = sult.bernoulli(p, variance=True)\n",
    "F = sult.portfolio_percentile(mean=mean, variance=var, prob=.86, N=400)\n",
    "F *= 5000 * sult.interest.v_t(85-60)\n",
    "isclose(390000, F, question=\"Q4.14\")"
   ]
  },
  {
   "attachments": {},
   "cell_type": "markdown",
   "id": "3424689a",
   "metadata": {
    "id": "c736d0c5"
   },
   "source": [
    "__SOA Question 4.15__ :  (E) 0.0833 \n",
    "\n",
    "For a special whole life insurance on (x), you are given :\n",
    "- Death benefits are payable at the moment of death\n",
    "- The death benefit at time $t$ is $b_t = e^{0.02t}$, for $t \\ge 0$\n",
    "- $\\mu_{x+t} = 0.04$, for $t \\ge 0$\n",
    "- $\\delta = 0.06$\n",
    "- Z is the present value at issue random variable for this insurance.\n",
    "\n",
    "Calculate $Var(Z)$.\n",
    "\n",
    "*hints:*\n",
    "\n",
    "\n",
    "- this special benefit function has effect of reducing actuarial discount rate to use in constant force of mortality shortcut formulas\n"
   ]
  },
  {
   "cell_type": "code",
   "execution_count": 43,
   "id": "b91997c4",
   "metadata": {
    "colab": {
     "base_uri": "https://localhost:8080/"
    },
    "id": "4b7eee09",
    "outputId": "3d7744a6-cd64-4689-ac3f-7bf9fb26b828"
   },
   "outputs": [
    {
     "name": "stdout",
     "output_type": "stream",
     "text": [
      "----- Q4.15 0.0833: 0.08334849338238598 [OK] -----\n"
     ]
    },
    {
     "data": {
      "text/plain": [
       "True"
      ]
     },
     "execution_count": 43,
     "metadata": {},
     "output_type": "execute_result"
    }
   ],
   "source": [
    "life = Insurance().set_survival(mu=lambda *x: 0.04).set_interest(delta=0.06)\n",
    "benefit = lambda x,t: math.exp(0.02*t)\n",
    "A1 = life.A_x(0, benefit=benefit, discrete=False)\n",
    "A2 = life.A_x(0, moment=2, benefit=benefit, discrete=False)\n",
    "var = life.insurance_variance(A2=A2, A1=A1)\n",
    "isclose(0.0833, var, question=\"Q4.15\")"
   ]
  },
  {
   "attachments": {},
   "cell_type": "markdown",
   "id": "d79f51ed",
   "metadata": {
    "id": "79f63326"
   },
   "source": [
    "__SOA Question 4.16__ :  (D) 0.11\n",
    "\n",
    "You are given the following extract of ultimate mortality rates from a two-year select and ultimate mortality table:\n",
    "\n",
    "|$x$ | $q_x$ |\n",
    "|---|---|\n",
    "| 50 | 0.045 |\n",
    "| 51 | 0.050 |\n",
    "| 52 | 0.055 |\n",
    "| 53 | 0.060 |\n",
    "\n",
    "The select mortality rates satisfy the following:\n",
    "1. $q_{[x]} = 0.7 q_x$\n",
    "2. $q_{[x]+1} = 0.8 q_{x + 1}$\n",
    "\n",
    "You are also given that $i = 0.04$.\n",
    "\n",
    "Calculate $A^1_{[50]:\\overline{3|}}$.\n",
    "\n",
    "*hints:*\n",
    "\n",
    "\n",
    "- compute EPV of future benefits with adjusted mortality rates"
   ]
  },
  {
   "cell_type": "code",
   "execution_count": 44,
   "id": "82a653d1",
   "metadata": {
    "colab": {
     "base_uri": "https://localhost:8080/"
    },
    "id": "3c74f0e6",
    "outputId": "98b5bae1-3f4b-483b-e9f8-f32b21a6af9c"
   },
   "outputs": [
    {
     "name": "stdout",
     "output_type": "stream",
     "text": [
      "----- Q4.16 0.1116: 0.1115661982248521 [OK] -----\n"
     ]
    },
    {
     "data": {
      "text/plain": [
       "True"
      ]
     },
     "execution_count": 44,
     "metadata": {},
     "output_type": "execute_result"
    }
   ],
   "source": [
    "q = [.045, .050, .055, .060]\n",
    "q = {50 + x: [q[x] * 0.7 if x < len(q) else None, \n",
    "              q[x+1] * 0.8 if x + 1 < len(q) else None, \n",
    "              q[x+2] if x + 2 < len(q) else None] \n",
    "     for x in range(4)}\n",
    "life = SelectLife().set_table(q=q).set_interest(i=.04)\n",
    "A = life.term_insurance(50, t=3)\n",
    "isclose(0.1116, A, question=\"Q4.16\")"
   ]
  },
  {
   "attachments": {},
   "cell_type": "markdown",
   "id": "aa8d0232",
   "metadata": {
    "id": "2ab65168"
   },
   "source": [
    "__SOA Question 4.17__ :  (A) 1126.7\n",
    "\n",
    "For a special whole life policy on (48), you are given:\n",
    "\n",
    "1. The policy pays 5000 if the insured’s death is before the median curtate future\n",
    "lifetime at issue and 10,000 if death is after the median curtate future lifetime at issue\n",
    "2. Mortality follows the Standard Ultimate Life Table\n",
    "3. Death benefits are paid at the end of the year of death\n",
    "4. i = 0.05\n",
    "\n",
    "Calculate the actuarial present value of benefits for this policy.\n",
    "\n",
    "*hints:*\n",
    "\n",
    "\n",
    "- find future lifetime with 50\\% survival probability\n",
    "- compute EPV of special whole life as sum of term and deferred insurance, that have different benefit amounts before and after median lifetime."
   ]
  },
  {
   "cell_type": "code",
   "execution_count": 45,
   "id": "f8ee438a",
   "metadata": {
    "colab": {
     "base_uri": "https://localhost:8080/"
    },
    "id": "330ac8db",
    "lines_to_next_cell": 1,
    "outputId": "746e4217-1b91-4477-e42e-a4a95f371c1f"
   },
   "outputs": [
    {
     "name": "stdout",
     "output_type": "stream",
     "text": [
      "----- Q4.17 1130: 1126.774772894844 [OK] -----\n"
     ]
    },
    {
     "data": {
      "text/plain": [
       "True"
      ]
     },
     "execution_count": 45,
     "metadata": {},
     "output_type": "execute_result"
    }
   ],
   "source": [
    "sult = SULT()\n",
    "median = sult.Z_t(48, prob=0.5, discrete=False)\n",
    "def benefit(x,t): return 5000 if t < median else 10000\n",
    "A = sult.A_x(48, benefit=benefit)\n",
    "isclose(1130, A, question=\"Q4.17\")"
   ]
  },
  {
   "attachments": {},
   "cell_type": "markdown",
   "id": "e14f835e",
   "metadata": {
    "id": "258c80e6"
   },
   "source": [
    "__SOA Question 4.18__ :  (A) 81873 \n",
    "\n",
    "You are given that T, the time to first failure of an industrial robot, has a density f(t) given by\n",
    "\n",
    "$$\n",
    "\\begin{align*}\n",
    "f(t) &= 0.1, \\quad 0 \\le t < 2\\\\\n",
    " &= 0.4t^{-2}, \\quad t \\le t < 10\n",
    "\\end{align*}\n",
    "$$\n",
    "\n",
    "with $f(t)$ undetermined on $[10, \\infty)$.\n",
    "\n",
    "Consider a supplemental warranty on this robot that pays 100,000 at the time T of its first failure if $2 \\le T \\le 10$ , with no benefits payable otherwise.\n",
    "You are also given that $\\delta = 5\\%$. Calculate the 90th percentile of the present value of the future benefits under this warranty.\n",
    "\n",
    "*hints:*\n",
    "\n",
    "\n",
    "- find values of limits such that integral of lifetime density function equals required survival probability\n"
   ]
  },
  {
   "cell_type": "code",
   "execution_count": 46,
   "id": "03f5c1f2",
   "metadata": {
    "colab": {
     "base_uri": "https://localhost:8080/"
    },
    "id": "53795941",
    "outputId": "db564de7-cefa-498e-fff6-356c069639f9"
   },
   "outputs": [
    {
     "name": "stdout",
     "output_type": "stream",
     "text": [
      "----- Q4.18 81873: 81873.07530779815 [OK] -----\n"
     ]
    },
    {
     "data": {
      "text/plain": [
       "True"
      ]
     },
     "execution_count": 46,
     "metadata": {},
     "output_type": "execute_result"
    }
   ],
   "source": [
    "def f(x,s,t): return 0.1 if t < 2 else 0.4*t**(-2)\n",
    "life = Insurance().set_interest(delta=0.05)\\\n",
    "                  .set_survival(f=f, maxage=10)\n",
    "def benefit(x,t): return 0 if t < 2 else 100000\n",
    "prob = 0.9 - life.q_x(0, t=2)\n",
    "T = life.Z_t(0, prob=prob)\n",
    "Z = life.Z_from_t(T) * benefit(0, T)\n",
    "isclose(81873, Z, question=\"Q4.18\")"
   ]
  },
  {
   "attachments": {},
   "cell_type": "markdown",
   "id": "7ccded4b",
   "metadata": {
    "id": "04492903"
   },
   "source": [
    "__SOA Question 4.19__ :  (B) 59050\n",
    "\n",
    "(80) purchases a whole life insurance policy of 100,000. You are given:\n",
    "1. The policy is priced with a select period of one year\n",
    "2. The select mortality rate equals 80% of the mortality rate from the Standard\n",
    "Ultimate Life Table\n",
    "3. Ultimate mortality follows the Standard Ultimate Life Table\n",
    "4. $i = 0.05$\n",
    "\n",
    "Calculate the actuarial present value of the death benefits for this insurance\n",
    "\n",
    "*hints:*\n",
    "\n",
    "\n",
    "- calculate adjusted mortality for the one-year select period\n",
    "- compute whole life insurance using backward recursion formula\n"
   ]
  },
  {
   "cell_type": "code",
   "execution_count": 47,
   "id": "a0d9b3b6",
   "metadata": {
    "colab": {
     "base_uri": "https://localhost:8080/"
    },
    "id": "13a8420d",
    "outputId": "9d7a38b4-8a74-4a3a-bdb1-d78a03df4ea2"
   },
   "outputs": [
    {
     "name": "stdout",
     "output_type": "stream",
     "text": [
      "----- Q4.19 59050: 59050.59973285648 [OK] -----\n"
     ]
    },
    {
     "data": {
      "text/plain": [
       "True"
      ]
     },
     "execution_count": 47,
     "metadata": {},
     "output_type": "execute_result"
    }
   ],
   "source": [
    "life = SULT()\n",
    "q = ExtraRisk(life=life, extra=0.8, risk=\"MULTIPLY_RATE\")['q']\n",
    "select = SelectLife(periods=1).set_select(s=0, age_selected=True, q=q)\\\n",
    "                              .set_select(s=1, age_selected=False, q=life['q'])\\\n",
    "                              .set_interest(i=.05)\\\n",
    "                              .fill_table()\n",
    "A = 100000 * select.whole_life_insurance(80, s=0)\n",
    "isclose(59050, A, question=\"Q4.19\")"
   ]
  },
  {
   "attachments": {},
   "cell_type": "markdown",
   "id": "5597a7c7",
   "metadata": {
    "id": "c52b272d"
   },
   "source": [
    "## 5 Annuities"
   ]
  },
  {
   "attachments": {},
   "cell_type": "markdown",
   "id": "f79ea4d6",
   "metadata": {
    "id": "4e448f05"
   },
   "source": [
    "__SOA Question 5.1__ : (A) 0.705\n",
    "\n",
    "You are given:\n",
    "1. $\\delta_t = 0.06, \\quad t \\ge 0$\n",
    "2. $\\mu_x(t) = 0.01, \\quad t \\ge 0$\n",
    "3. $Y$ is the present value random variable for a continuous annuity of 1 per year,\n",
    "payable for the lifetime of (x) with 10 years certain\n",
    "\n",
    "Calculate $Pr( Y > E[Y])$.\n",
    "\n",
    "*hints:*\n",
    "\n",
    "\n",
    "- sum annuity certain and deferred life annuity with constant force of mortality shortcut\n",
    "- apply equation for PV annuity r.v. Y to infer lifetime\n",
    "- compute survival probability from constant force of mortality function.\n"
   ]
  },
  {
   "cell_type": "code",
   "execution_count": 48,
   "id": "02d6203e",
   "metadata": {
    "colab": {
     "base_uri": "https://localhost:8080/"
    },
    "id": "18b1a0c0",
    "outputId": "683baef8-8a0a-4d77-a92e-84854e8023f3"
   },
   "outputs": [
    {
     "name": "stdout",
     "output_type": "stream",
     "text": [
      "----- Q5.1 0.705: 0.7053680433746505 [OK] -----\n"
     ]
    },
    {
     "data": {
      "text/plain": [
       "True"
      ]
     },
     "execution_count": 48,
     "metadata": {},
     "output_type": "execute_result"
    }
   ],
   "source": [
    "life = ConstantForce(mu=0.01).set_interest(delta=0.06)\n",
    "EY = life.certain_life_annuity(0, u=10, discrete=False)\n",
    "p = life.p_x(0, t=life.Y_to_t(EY))\n",
    "isclose(0.705, p, question=\"Q5.1\")  # 0.705"
   ]
  },
  {
   "attachments": {},
   "cell_type": "markdown",
   "id": "c879a48b",
   "metadata": {
    "id": "f90b71c6"
   },
   "source": [
    "__SOA Question 5.2__ :  (B) 9.64\n",
    "\n",
    "You are given:\n",
    "\n",
    "1. $A_x = 0.30$\n",
    "2. $A_{x + n} = 0.40$\n",
    "3. $A^{~~~~1}_{x:\\overline{n|}} = 0.35$\n",
    "4. *i* = 0.05\n",
    "   \n",
    "Calculate $a_{x:\\overline{n|}}$.\n",
    "\n",
    "*hints:*\n",
    "\n",
    "\n",
    "- compute term life as difference of whole life and deferred insurance\n",
    "- compute twin annuity-due, and adjust to an immediate annuity. "
   ]
  },
  {
   "cell_type": "code",
   "execution_count": 49,
   "id": "30b62033",
   "metadata": {
    "colab": {
     "base_uri": "https://localhost:8080/"
    },
    "id": "206b600b",
    "outputId": "a25eb40f-ab1b-48d5-f262-152c276545e4"
   },
   "outputs": [
    {
     "data": {
      "text/latex": [
       "\\begin{array}{lr}\n",
       "~\\texttt{Whole Life Annuity}~\\ddot{a}_{{x}}~:=\\\\\n",
       "~~~\\ddot{a}_{{x}} = [1 - ~A_{{x}} ] / d& \\quad \\texttt{insurance twin}\\end{array}"
      ]
     },
     "metadata": {},
     "output_type": "display_data"
    },
    {
     "data": {
      "text/latex": [
       "\\begin{array}{lr}\n",
       "~\\texttt{Whole Life Annuity}~\\ddot{a}_{{x+10}}~:=\\\\\n",
       "~~~\\ddot{a}_{{x+10}} = [1 - ~A_{{x+10}} ] / d& \\quad \\texttt{insurance twin}\\end{array}"
      ]
     },
     "metadata": {},
     "output_type": "display_data"
    },
    {
     "name": "stdout",
     "output_type": "stream",
     "text": [
      "----- Q5.2 9.64: 9.639999999999999 [OK] -----\n"
     ]
    },
    {
     "data": {
      "text/plain": [
       "True"
      ]
     },
     "execution_count": 49,
     "metadata": {},
     "output_type": "execute_result"
    }
   ],
   "source": [
    "x, n = 0, 10\n",
    "a = Recursion().set_interest(i=0.05)\\\n",
    "               .set_A(0.3, x)\\\n",
    "               .set_A(0.4, x+n)\\\n",
    "               .set_E(0.35, x, t=n)\\\n",
    "               .immediate_annuity(x, t=n)\n",
    "isclose(9.64, a, question=\"Q5.2\")"
   ]
  },
  {
   "attachments": {},
   "cell_type": "markdown",
   "id": "ec824828",
   "metadata": {
    "id": "439db468"
   },
   "source": [
    "__SOA Question 5.3__ :  (C) 6.239\n",
    "\n",
    "You are given:\n",
    "\n",
    "- Mortality follows the Standard Ultimate Life Table\n",
    "- Deaths are uniformly distributed over each year of age\n",
    "- i = 0.05\n",
    "\n",
    "Calculate\n",
    "$\\frac{d}{dt}(\\overline{I}\\overline{a})_{40:\\overline{t|}}$ at $t = 10.5$.\n",
    "\n",
    "*hints:*\n",
    "\n",
    "- Differential reduces to be the EPV of the benefit payment at the upper time limit.\n"
   ]
  },
  {
   "cell_type": "code",
   "execution_count": 50,
   "id": "ddb97563",
   "metadata": {
    "colab": {
     "base_uri": "https://localhost:8080/"
    },
    "id": "eeca16c1",
    "outputId": "55f511e0-6919-4a9a-c905-4d1354bb3660"
   },
   "outputs": [
    {
     "name": "stdout",
     "output_type": "stream",
     "text": [
      "----- Q5.3 6.239: 6.23871918627528 [OK] -----\n"
     ]
    },
    {
     "data": {
      "text/plain": [
       "True"
      ]
     },
     "execution_count": 50,
     "metadata": {},
     "output_type": "execute_result"
    }
   ],
   "source": [
    "t = 10.5\n",
    "E = t * SULT().E_r(40, t=t)\n",
    "isclose(6.239, E, question=\"Q5.3\")"
   ]
  },
  {
   "attachments": {},
   "cell_type": "markdown",
   "id": "00fa191b",
   "metadata": {
    "id": "cd3027da"
   },
   "source": [
    "__SOA Question 5.4__ :  (A) 213.7\n",
    "\n",
    "(40) wins the SOA lottery and will receive both:\n",
    "- A deferred life annuity of K per year, payable continuously, starting at age\n",
    "$40 + \\overset{\\circ}{e}_{40}$ and\n",
    "- An annuity certain of K per year, payable continuously, for $\\overset{\\circ}{e}_{40}$ years\n",
    "\n",
    "You are given:\n",
    "1. $\\mu = 0.02$\n",
    "2. $\\delta = 0.01$\n",
    "3. The actuarial present value of the payments is 10,000\n",
    "\n",
    "Calculate K.\n",
    "\n",
    "*hints:*\n",
    "\n",
    "\n",
    "- compute certain and life annuity factor as the sum of a certain annuity and a deferred life annuity.\n",
    "- solve for amount of annual benefit that equals given EPV\n"
   ]
  },
  {
   "cell_type": "code",
   "execution_count": 51,
   "id": "b8a0af73",
   "metadata": {
    "colab": {
     "base_uri": "https://localhost:8080/"
    },
    "id": "297311f0",
    "outputId": "9a5628e5-3106-4e66-cc41-a64b7bee4650"
   },
   "outputs": [
    {
     "name": "stdout",
     "output_type": "stream",
     "text": [
      "----- Q5.4 213.7: 213.74552118275955 [OK] -----\n"
     ]
    },
    {
     "data": {
      "text/plain": [
       "True"
      ]
     },
     "execution_count": 51,
     "metadata": {},
     "output_type": "execute_result"
    }
   ],
   "source": [
    "life = ConstantForce(mu=0.02).set_interest(delta=0.01)\n",
    "u = life.e_x(40, curtate=False)\n",
    "P = 10000 / life.certain_life_annuity(40, u=u, discrete=False)\n",
    "isclose(213.7, P, question=\"Q5.4\") # 213.7"
   ]
  },
  {
   "attachments": {},
   "cell_type": "markdown",
   "id": "aab92eb0",
   "metadata": {
    "id": "46f357cd"
   },
   "source": [
    "__SOA Question 5.5__ : (A) 1699.6\n",
    "\n",
    "For an annuity-due that pays 100 at the beginning of each year that (45) is alive, you are given:\n",
    "1. Mortality for standard lives follows the Standard Ultimate Life Table\n",
    "2. The force of mortality for standard lives age 45 + t is represented as $\\mu_{45+t}^{SULT}$\n",
    "3. The force of mortality for substandard lives age 45 + t, $\\mu_{45+t}^{S}$, is defined as:\n",
    "\n",
    "$$\\begin{align*}\n",
    "\\mu_{45+t}^{S} &= \\mu_{45+t}^{SULT} + 0.05, \\quad 0 \\le t < 1\\\\\n",
    "&= \\mu_{45+t}^{SULT}, \\quad t \\ge 1\n",
    "\\end{align*}$$\n",
    "4. $i = 0.05$\n",
    "\n",
    "Calculate the actuarial present value of this annuity for a substandard life age 45.\n",
    "\n",
    "*hints:*\n",
    "\n",
    "\n",
    "- adjust mortality rate for the extra risk\n",
    "- compute annuity by backward recursion.\n"
   ]
  },
  {
   "cell_type": "code",
   "execution_count": 52,
   "id": "ad39d66d",
   "metadata": {
    "colab": {
     "base_uri": "https://localhost:8080/"
    },
    "id": "9737dc8d",
    "outputId": "d54cad73-6bd0-42ec-cf97-7ea88d67b27a"
   },
   "outputs": [
    {
     "name": "stdout",
     "output_type": "stream",
     "text": [
      "----- Q5.5 1700: 1699.6076593190103 [OK] -----\n"
     ]
    },
    {
     "data": {
      "text/plain": [
       "True"
      ]
     },
     "execution_count": 52,
     "metadata": {},
     "output_type": "execute_result"
    }
   ],
   "source": [
    "life = SULT()   # start with SULT life table\n",
    "q = ExtraRisk(life=life, extra=0.05, risk=\"ADD_FORCE\")['q']\n",
    "select = SelectLife(periods=1).set_select(s=0, age_selected=True, q=q)\\\n",
    "                              .set_select(s=1, age_selected=False, a=life['a'])\\\n",
    "                              .set_interest(i=0.05)\\\n",
    "                              .fill_table()\n",
    "a = 100 * select['a'][45][0]\n",
    "isclose(1700, a, question=\"Q5.5\")"
   ]
  },
  {
   "attachments": {},
   "cell_type": "markdown",
   "id": "129fa277",
   "metadata": {
    "id": "3387fd23"
   },
   "source": [
    "__SOA Question 5.6__ :  (D) 1200\n",
    "\n",
    "\n",
    "For a group of 100 lives age x with independent future lifetimes, you are given:\n",
    "1. Each life is to be paid 1 at the beginning of each year, if alive\n",
    "2. $A_x = 0.45$\n",
    "3. $^2A_x = 0.22$\n",
    "4. $i = 0.05$\n",
    "5. $Y$ is the present value random variable of the aggregate payments.\n",
    "\n",
    "Using the normal approximation to $Y$, calculate the initial size of the fund needed to be 95% certain of being able to make the payments for these life annuities.\n",
    "\n",
    "\n",
    "*hints:*\n",
    "\n",
    "\n",
    "- compute mean and variance of EPV of whole life annuity from whole life insurance twin and variance identities. \n",
    "- portfolio percentile of the sum of $N=100$ life annuity payments"
   ]
  },
  {
   "cell_type": "code",
   "execution_count": 53,
   "id": "254bace1",
   "metadata": {
    "colab": {
     "base_uri": "https://localhost:8080/"
    },
    "id": "8445b834",
    "outputId": "44946fe9-270f-405e-bad3-4d526a8c9c0e"
   },
   "outputs": [
    {
     "name": "stdout",
     "output_type": "stream",
     "text": [
      "----- Q5.6 1200: 1200.6946732201702 [OK] -----\n"
     ]
    },
    {
     "data": {
      "text/plain": [
       "True"
      ]
     },
     "execution_count": 53,
     "metadata": {},
     "output_type": "execute_result"
    }
   ],
   "source": [
    "life = Annuity().set_interest(i=0.05)\n",
    "var = life.annuity_variance(A2=0.22, A1=0.45)\n",
    "mean = life.annuity_twin(A=0.45)\n",
    "fund = life.portfolio_percentile(mean, var, prob=.95, N=100)\n",
    "isclose(1200, fund, question=\"Q5.6\")"
   ]
  },
  {
   "attachments": {},
   "cell_type": "markdown",
   "id": "8c0b89d5",
   "metadata": {
    "id": "b7c08c39"
   },
   "source": [
    "__SOA Question 5.7__ :  (C) \n",
    "\n",
    "You are given:\n",
    "1. $A_{35} = 0.188$\n",
    "2. $A_{65} = 0.498$\n",
    "3. $_{30}p_{35} = 0.883$\n",
    "4. $i = 0.04$\n",
    "\n",
    "Calculate $1000 \\ddot{a}^{(2)}_{35:\\overline{30|}}$ using the two-term Woolhouse approximation.\n",
    "\n",
    "*hints:*\n",
    "\n",
    "\n",
    "- compute endowment insurance from relationships of whole life, temporary and deferred insurances.\n",
    "- compute temporary annuity from insurance twin\n",
    "- apply Woolhouse approximation"
   ]
  },
  {
   "cell_type": "code",
   "execution_count": 54,
   "id": "d16af1a6",
   "metadata": {
    "colab": {
     "base_uri": "https://localhost:8080/"
    },
    "id": "93c40a7c",
    "outputId": "03592256-abe1-433d-bbc0-a77e52f95aeb"
   },
   "outputs": [
    {
     "data": {
      "text/latex": [
       "\\begin{array}{lr}\n",
       "~\\texttt{Whole Life Annuity}~\\ddot{a}_{{x+35}}~:=\\\\\n",
       "~~~\\ddot{a}_{{x+35}} = [1 - ~A_{{x+35}} ] / d& \\quad \\texttt{insurance twin}\\end{array}"
      ]
     },
     "metadata": {},
     "output_type": "display_data"
    },
    {
     "data": {
      "text/latex": [
       "\\begin{array}{lr}\n",
       "~\\texttt{Whole Life Annuity}~\\ddot{a}_{{x+65}}~:=\\\\\n",
       "~~~\\ddot{a}_{{x+65}} = [1 - ~A_{{x+65}} ] / d& \\quad \\texttt{insurance twin}\\end{array}"
      ]
     },
     "metadata": {},
     "output_type": "display_data"
    },
    {
     "data": {
      "text/latex": [
       "\\begin{array}{lr}\n",
       "~\\texttt{Pure Endowment}~_{30}E_{x+35}~:=\\\\\n",
       "~~~_{30}E_{x+35} = ~_{30}p_{x+35} * v^{30}& \\quad \\texttt{pure endowment}\\end{array}"
      ]
     },
     "metadata": {},
     "output_type": "display_data"
    },
    {
     "name": "stdout",
     "output_type": "stream",
     "text": [
      "----- Q5.7 17376.7: 17376.71459632958 [OK] -----\n"
     ]
    },
    {
     "data": {
      "text/plain": [
       "True"
      ]
     },
     "execution_count": 54,
     "metadata": {},
     "output_type": "execute_result"
    }
   ],
   "source": [
    "life = Recursion().set_interest(i=0.04)\\\n",
    "                  .set_A(0.188, x=35)\\\n",
    "                  .set_A(0.498, x=65)\\\n",
    "                  .set_p(0.883, x=35, t=30)\n",
    "mthly = Woolhouse(m=2, life=life, three_term=False)\n",
    "a = 1000 * mthly.temporary_annuity(35, t=30)\n",
    "isclose(17376.7, a, question=\"Q5.7\")"
   ]
  },
  {
   "attachments": {},
   "cell_type": "markdown",
   "id": "158e74aa",
   "metadata": {
    "id": "0851fa7c"
   },
   "source": [
    "__SOA Question 5.8__ : (C) 0.92118\n",
    "\n",
    "For an annual whole life annuity-due of 1 with a 5-year certain period on (55), you are given:\n",
    "1. Mortality follows the Standard Ultimate Life Table\n",
    "2. i = 0.05\n",
    "\n",
    "Calculate the probability that the sum of the undiscounted payments actually made under this annuity will exceed the expected present value, at issue, of the annuity.\n",
    "\n",
    "*hints:*\n",
    "\n",
    "\n",
    "- calculate EPV of certain and life annuity.\n",
    "- find survival probability of lifetime s.t. sum of annual payments exceeds EPV\n"
   ]
  },
  {
   "cell_type": "code",
   "execution_count": 55,
   "id": "6ccdce0d",
   "metadata": {
    "colab": {
     "base_uri": "https://localhost:8080/"
    },
    "id": "3db058df",
    "outputId": "19eee192-a275-446c-dbf3-29c12abd710b"
   },
   "outputs": [
    {
     "name": "stdout",
     "output_type": "stream",
     "text": [
      "----- Q5.8 0.92118: 0.9211799771029529 [OK] -----\n"
     ]
    },
    {
     "data": {
      "text/plain": [
       "True"
      ]
     },
     "execution_count": 55,
     "metadata": {},
     "output_type": "execute_result"
    }
   ],
   "source": [
    "sult = SULT()\n",
    "a = sult.certain_life_annuity(55, u=5)\n",
    "p = sult.p_x(55, t=math.floor(a))\n",
    "isclose(0.92118, p, question=\"Q5.8\")"
   ]
  },
  {
   "attachments": {},
   "cell_type": "markdown",
   "id": "ad029354",
   "metadata": {
    "id": "ad7d5d47"
   },
   "source": [
    "__SOA Question 5.9__ :  (C) 0.015\n",
    "\n",
    "\n",
    "*hints:*\n",
    "\n",
    "\n",
    "- express both EPV's expressed as forward recursions\n",
    "- solve for unknown constant $k$.\n"
   ]
  },
  {
   "cell_type": "code",
   "execution_count": 56,
   "id": "7a4132b1",
   "metadata": {
    "colab": {
     "base_uri": "https://localhost:8080/"
    },
    "id": "1937f550",
    "outputId": "88e2a1e6-2dc5-4257-830a-5cb532619065"
   },
   "outputs": [
    {
     "data": {
      "text/latex": [
       "\\begin{array}{lr}\n",
       "~\\texttt{Whole Life Annuity}~\\ddot{a}_{{x+1}}~:=\\\\\n",
       "~~~\\ddot{a}_{{x+1}} = [ ~\\ddot{a}_{{x}} - 1 ] / ~E_{x}& \\quad \\texttt{forward recursion}\\\\\n",
       "~~~~~~~~~E_{x} = ~p_{x} * v& \\quad \\texttt{pure endowment}\\end{array}"
      ]
     },
     "metadata": {},
     "output_type": "display_data"
    },
    {
     "name": "stdout",
     "output_type": "stream",
     "text": [
      "----- Q5.9 0.015: 0.015009110961925157 [OK] -----\n"
     ]
    },
    {
     "data": {
      "text/plain": [
       "True"
      ]
     },
     "execution_count": 56,
     "metadata": {},
     "output_type": "execute_result"
    }
   ],
   "source": [
    "x, p = 0, 0.9  # set arbitrary p_x = 0.9\n",
    "a = Recursion().set_a(21.854, x=x)\\\n",
    "               .set_p(p, x=x)\\\n",
    "               .whole_life_annuity(x+1)\n",
    "life = Recursion(verbose=False).set_a(22.167, x=x)\n",
    "def fun(k): return a - life.set_p((1 + k) * p, x=x).whole_life_annuity(x + 1)\n",
    "k = life.solve(fun, target=0, grid=[0.005, 0.025])\n",
    "isclose(0.015, k, question=\"Q5.9\")"
   ]
  },
  {
   "attachments": {},
   "cell_type": "markdown",
   "id": "ddb70f2d",
   "metadata": {
    "id": "2bc86ecf"
   },
   "source": [
    "## 6 Premium Calculation"
   ]
  },
  {
   "attachments": {},
   "cell_type": "markdown",
   "id": "ccb5f026",
   "metadata": {
    "id": "c4aafcee"
   },
   "source": [
    "__SOA Question 6.1__ : (D) 35.36\n",
    "\n",
    "**6.1.** You are given the following information about a special fully discrete 2-payment, 2-year term insurance on (80):\n",
    "\n",
    " \\(i\\) Mortality follows the Standard Ultimate Life Table\n",
    "\n",
    " \\(ii\\) *i* = 0.03\n",
    "\n",
    " \\(iii\\) The death benefit is 1000 plus a return of all premiums paid\n",
    " without interest\n",
    "\n",
    " \\(iv\\) Level premiums are calculated using the equivalence principle\n",
    "\n",
    " Calculate the net premium for this special insurance.\n",
    "\n",
    " \\[A modified version of Question 22 on the Fall 2012 exam\\]\n",
    "\n",
    "*hints:*\n",
    "\n",
    "\n",
    "- solve net premium such that EPV annuity = EPV insurance + IA factor for returns of premiums without interest"
   ]
  },
  {
   "cell_type": "code",
   "execution_count": 57,
   "id": "3bafa6c6",
   "metadata": {
    "colab": {
     "base_uri": "https://localhost:8080/"
    },
    "id": "68d68c2e",
    "outputId": "0ca740e0-370e-40f3-f91c-f1267c58d20b"
   },
   "outputs": [
    {
     "name": "stdout",
     "output_type": "stream",
     "text": [
      "----- Q6.1 35.36: 35.35922286190033 [OK] -----\n"
     ]
    },
    {
     "data": {
      "text/plain": [
       "True"
      ]
     },
     "execution_count": 57,
     "metadata": {},
     "output_type": "execute_result"
    }
   ],
   "source": [
    "P = SULT().set_interest(i=0.03)\\\n",
    "          .net_premium(80, t=2, b=1000, return_premium=True)\n",
    "isclose(35.36, P, question=\"Q6.1\")"
   ]
  },
  {
   "attachments": {},
   "cell_type": "markdown",
   "id": "4e256b89",
   "metadata": {
    "id": "8a9f7924"
   },
   "source": [
    "__SOA Question 6.2__ : (E) 3604\n",
    "\n",
    "**6.2.** For a fully discrete 10-year term life insurance policy on (*x*), you are given:\n",
    "\n",
    " \\(i\\) Death benefits are 100,000 plus the return of all gross premiums paid without interest\n",
    "\n",
    " \\(ii\\) Expenses are 50% of the first year's gross premium, 5% of\n",
    " renewal gross premiums and 200 per policy expenses each year\n",
    "\n",
    " \\(iii\\) Expenses are payble at the beginnig of the year\n",
    "\n",
    " \\(iv\\) $A^1_{x:\\overline{10|}} = 0.17094$\n",
    "\n",
    " \\(v\\) $(IA)^1_{x:\\overline{10|}} = 0.96728$\n",
    "\n",
    " \\(vi\\) $\\ddot{a}^1_{x:\\overline{10|}} = 6.8865$\n",
    "\n",
    " Calculate the gross premium using the equivalence principle.\n",
    "\n",
    " \\[Question 25 on the Fall 2012 exam\\]\n",
    "\n",
    "*hints:*\n",
    "\n",
    "\n",
    "- EPV return of premiums without interest = Premium $\\times$ IA factor\n",
    "- solve for gross premiums such that EPV premiums = EPV benefits and expenses"
   ]
  },
  {
   "cell_type": "code",
   "execution_count": 58,
   "id": "ccc924fb",
   "metadata": {
    "colab": {
     "base_uri": "https://localhost:8080/"
    },
    "id": "cde906a7",
    "outputId": "912154a5-db2c-4b2e-a968-d47cce321df9"
   },
   "outputs": [
    {
     "name": "stdout",
     "output_type": "stream",
     "text": [
      "----- Q6.2 3604: 3604.229940320728 [OK] -----\n"
     ]
    },
    {
     "data": {
      "text/plain": [
       "True"
      ]
     },
     "execution_count": 58,
     "metadata": {},
     "output_type": "execute_result"
    }
   ],
   "source": [
    "life = Premiums()\n",
    "A, IA, a = 0.17094, 0.96728, 6.8865\n",
    "P = life.gross_premium(a=a, A=A, IA=IA, benefit=100000,\n",
    "                       initial_premium=0.5, renewal_premium=.05,\n",
    "                       renewal_policy=200, initial_policy=200)\n",
    "isclose(3604, P, question=\"Q6.2\")"
   ]
  },
  {
   "attachments": {},
   "cell_type": "markdown",
   "id": "31de362b",
   "metadata": {
    "id": "c4fc553b"
   },
   "source": [
    "__SOA Question 6.3__ :  (C) 0.390\n",
    "\n",
    "S, now age 65, purchased a 20-year deferred whole life\n",
    "annuity-due of 1 per year at age\n",
    "45. You are given:\n",
    "\n",
    "1. Equal annual premiums, determined using the equivalence\n",
    " principle, were paid at\n",
    "the beginning of each year during the deferral period\n",
    "\n",
    "2. Mortality at ages 65 and older follows the Standard Ultimate\n",
    " Life Table\n",
    "\n",
    "3. *i* = 0.05\n",
    "\n",
    "4. *Y* is the present value random variable at age 65 for S's\n",
    " annuity benefits\n",
    "\n",
    "Calculate the probability that *Y* is less than the actuarial\n",
    "accumulated value of S's\n",
    "premiums.\n",
    "\n",
    "*hints:*\n",
    "\n",
    "\n",
    "- solve lifetime $t$ such that PV annuity certain = PV whole life annuity at age 65\n",
    "- calculate mortality rate through the year before curtate lifetime   \n"
   ]
  },
  {
   "cell_type": "code",
   "execution_count": 59,
   "id": "36e8a690",
   "metadata": {
    "colab": {
     "base_uri": "https://localhost:8080/"
    },
    "id": "1d438209",
    "outputId": "7e2e7ab7-eb87-4736-eeab-808846b22e23"
   },
   "outputs": [
    {
     "name": "stdout",
     "output_type": "stream",
     "text": [
      "----- Q6.3 0.39: 0.39039071872030084 [OK] -----\n"
     ]
    },
    {
     "data": {
      "text/plain": [
       "True"
      ]
     },
     "execution_count": 59,
     "metadata": {},
     "output_type": "execute_result"
    }
   ],
   "source": [
    "life = SULT()\n",
    "t = life.Y_to_t(life.whole_life_annuity(65))\n",
    "q = 1 - life.p_x(65, t=math.floor(t) - 1)\n",
    "isclose(0.39, q, question=\"Q6.3\")"
   ]
  },
  {
   "attachments": {},
   "cell_type": "markdown",
   "id": "f0d600a7",
   "metadata": {
    "id": "8afc2a87"
   },
   "source": [
    "__SOA Question 6.4__ :  (E) 1890\n",
    "\n",
    "For whole life annuities-due of 15 per month on each of 200\n",
    "lives age 62 with\n",
    "independent future lifetimes, you are given:\n",
    "\n",
    "1. *i* = 0.06\n",
    "\n",
    "2. $A^{12}_{62} = 0.4075$ and $^2A^{(12)}_{62} = 0.2105$\n",
    "\n",
    "3. $\\pi$ is the single premium to be paid by each of the 200 lives\n",
    "\n",
    "4. *S* is the present value random variable at time 0 of total\n",
    " payments made to the 200 lives\n",
    "\n",
    "Using the normal approximation, calculate $\\pi$ such at $Pr(200 \\pi > S) = 0.90$"
   ]
  },
  {
   "cell_type": "code",
   "execution_count": 60,
   "id": "76d08290",
   "metadata": {
    "colab": {
     "base_uri": "https://localhost:8080/"
    },
    "id": "5b9948fb",
    "outputId": "28337f0d-0910-46c6-b4e4-bc5a8745bf24"
   },
   "outputs": [
    {
     "name": "stdout",
     "output_type": "stream",
     "text": [
      "----- Q6.4 1890: 1893.912859650868 [OK] -----\n"
     ]
    },
    {
     "data": {
      "text/plain": [
       "True"
      ]
     },
     "execution_count": 60,
     "metadata": {},
     "output_type": "execute_result"
    }
   ],
   "source": [
    "mthly = Mthly(m=12, life=Annuity().set_interest(i=0.06))\n",
    "A1, A2 = 0.4075, 0.2105\n",
    "mean = mthly.annuity_twin(A1) * 15 * 12\n",
    "var = mthly.annuity_variance(A1=A1, A2=A2, b=15 * 12)\n",
    "S = Annuity.portfolio_percentile(mean=mean, variance=var, prob=.9, N=200) / 200\n",
    "isclose(1890, S, question=\"Q6.4\")"
   ]
  },
  {
   "attachments": {},
   "cell_type": "markdown",
   "id": "f0d8b3ad",
   "metadata": {
    "id": "fd4150b6"
   },
   "source": [
    "__SOA Question 6.5__ :  (D) 33\n",
    "\n",
    "For a fully discrete whole life insurance of 1000 on (30), you\n",
    "are given:\n",
    "\n",
    "1. Mortality follows the Standard Ultimate Life Table\n",
    "\n",
    "2. *i* = 0.05\n",
    "\n",
    "3. The premium is the net premium\n",
    "\n",
    "Calculate the first year for which the expected present value at issue\n",
    "of that year's premium is less than the expected present value at issue of that\n",
    "year's benefit.\n"
   ]
  },
  {
   "cell_type": "code",
   "execution_count": 61,
   "id": "59b6e75c",
   "metadata": {
    "colab": {
     "base_uri": "https://localhost:8080/"
    },
    "id": "bda89a9a",
    "outputId": "aee7da6d-8a7d-4dae-c28a-6bbcee937c29"
   },
   "outputs": [
    {
     "name": "stdout",
     "output_type": "stream",
     "text": [
      "----- Q6.5 33: 33 [OK] -----\n"
     ]
    },
    {
     "data": {
      "text/plain": [
       "True"
      ]
     },
     "execution_count": 61,
     "metadata": {},
     "output_type": "execute_result"
    }
   ],
   "source": [
    "life = SULT()\n",
    "P = life.net_premium(30, b=1000)\n",
    "def gain(k): return life.Y_x(30, t=k) * P - life.Z_x(30, t=k) * 1000\n",
    "k = min([k for k in range(20, 40) if gain(k) < 0])\n",
    "isclose(33, k, question=\"Q6.5\")"
   ]
  },
  {
   "attachments": {},
   "cell_type": "markdown",
   "id": "35144154",
   "metadata": {
    "id": "bba959b2"
   },
   "source": [
    "__SOA Question 6.6__ :  (B) 0.79\n",
    "\n",
    "For fully discrete whole life insurance policies of 10,000 issued on 600 lives with independent future lifetimes, each age 62, you are given:\n",
    "\n",
    "1. Mortality follows the Standard Ultimate Life Table\n",
    "\n",
    "2. *i* = 0.05\n",
    "\n",
    "3. Expenses of 5% of the first year gross premium are incurred at\n",
    " issue\n",
    "\n",
    "4. Expenses of 5 per policy are incurred at the beginning of each\n",
    " policy year\n",
    "\n",
    "5. The gross premium is 103% of the net premium.\n",
    "\n",
    "6. $_0L$ is the aggregate present value of future loss at issue\n",
    " random variable\n",
    "\n",
    "Calculate $Pr( _0L < 40,000)$, using the normal approximation.\n"
   ]
  },
  {
   "cell_type": "code",
   "execution_count": 62,
   "id": "46f5af54",
   "metadata": {
    "colab": {
     "base_uri": "https://localhost:8080/"
    },
    "id": "2a248f2c",
    "outputId": "efe699a3-4dc6-46ab-b64c-3fe2313c4287"
   },
   "outputs": [
    {
     "name": "stdout",
     "output_type": "stream",
     "text": [
      "----- Q6.6 0.79: 0.7914321142683509 [OK] -----\n"
     ]
    },
    {
     "data": {
      "text/plain": [
       "True"
      ]
     },
     "execution_count": 62,
     "metadata": {},
     "output_type": "execute_result"
    }
   ],
   "source": [
    "life = SULT()\n",
    "P = life.net_premium(62, b=10000)\n",
    "contract = Contract(premium=1.03*P,\n",
    "                    renewal_policy=5,\n",
    "                    initial_policy=5,\n",
    "                    initial_premium=0.05,\n",
    "                    benefit=10000)\n",
    "L = life.gross_policy_value(62, contract=contract)\n",
    "var = life.gross_policy_variance(62, contract=contract)\n",
    "prob = life.portfolio_cdf(mean=L, variance=var, value=40000, N=600)\n",
    "isclose(.79, prob, question=\"Q6.6\")"
   ]
  },
  {
   "attachments": {},
   "cell_type": "markdown",
   "id": "e9adf8a8",
   "metadata": {
    "id": "efd51de5"
   },
   "source": [
    "__SOA Question 6.7__ :  (C) 2880\n",
    "\n",
    "For a special fully discrete 20-year endowment insurance on\n",
    "(40), you are given:\n",
    "\n",
    "1. The only death benefit is the return of annual net premiums\n",
    " accumulated with interest at 5% to the end of the year of death\n",
    "\n",
    "2. The endowment benefit is 100,000\n",
    "\n",
    "3. Mortality follows the Standard Ultimate Life Table\n",
    "\n",
    "4. *i* = 0.05\n",
    "\n",
    " Calculate the annual net premium.\n"
   ]
  },
  {
   "cell_type": "code",
   "execution_count": 63,
   "id": "892280e4",
   "metadata": {
    "colab": {
     "base_uri": "https://localhost:8080/"
    },
    "id": "56437e4c",
    "outputId": "1ed51001-e7f6-4570-e42b-de1a87146e6b"
   },
   "outputs": [
    {
     "name": "stdout",
     "output_type": "stream",
     "text": [
      "----- Q6.7 2880: 2880.2463991134578 [OK] -----\n"
     ]
    },
    {
     "data": {
      "text/plain": [
       "True"
      ]
     },
     "execution_count": 63,
     "metadata": {},
     "output_type": "execute_result"
    }
   ],
   "source": [
    "life = SULT()\n",
    "a = life.temporary_annuity(40, t=20) \n",
    "A = life.E_x(40, t=20)\n",
    "IA = a - life.interest.annuity(t=20) * life.p_x(40, t=20)\n",
    "G = life.gross_premium(a=a, A=A, IA=IA, benefit=100000)\n",
    "isclose(2880, G, question=\"Q6.7\")"
   ]
  },
  {
   "attachments": {},
   "cell_type": "markdown",
   "id": "31c8d03b",
   "metadata": {
    "id": "af651363"
   },
   "source": [
    "__SOA Question 6.8__ :  (B) 9.5\n",
    "\n",
    "For a fully discrete whole life insurance on (60), you are\n",
    "given:\n",
    "\n",
    "1. Mortality follows the Standard Ultimate Life Table\n",
    "\n",
    "2. *i* = 0.05\n",
    "\n",
    "3. The expected company expenses, payable at the beginning of the\n",
    " year, are:\n",
    "\n",
    "  - 50 in the first year\n",
    "\n",
    "  - 10 in years 2 through 10\n",
    "\n",
    "  - 5 in years 11 through 20\n",
    "\n",
    "  - 0 after year 20\n",
    "\n",
    " Calculate the level annual amount that is actuarially equivalent to\n",
    " the expected company expenses.\n",
    "\n",
    "\n",
    "*hints:*\n",
    "\n",
    "\n",
    "- calculate EPV of expenses as deferred life annuities\n",
    "- solve for level premium\n"
   ]
  },
  {
   "cell_type": "code",
   "execution_count": 64,
   "id": "822c35b4",
   "metadata": {
    "colab": {
     "base_uri": "https://localhost:8080/"
    },
    "id": "e90a196f",
    "outputId": "0c3d1045-e4c9-4fa5-b6c8-b1c2b3fef0f3"
   },
   "outputs": [
    {
     "name": "stdout",
     "output_type": "stream",
     "text": [
      "----- Q6.8 9.5: 9.526003201821927 [OK] -----\n"
     ]
    },
    {
     "data": {
      "text/plain": [
       "True"
      ]
     },
     "execution_count": 64,
     "metadata": {},
     "output_type": "execute_result"
    }
   ],
   "source": [
    "life = SULT()\n",
    "initial_cost = (50 + 10 * life.deferred_annuity(60, u=1, t=9)\n",
    "                + 5 * life.deferred_annuity(60, u=10, t=10))\n",
    "P = life.net_premium(60, initial_cost=initial_cost)\n",
    "isclose(9.5, P, question=\"Q6.8\")"
   ]
  },
  {
   "attachments": {},
   "cell_type": "markdown",
   "id": "4356cbc7",
   "metadata": {
    "id": "cc58d89d"
   },
   "source": [
    "__SOA Question 6.9__ :  (D) 647\n"
   ]
  },
  {
   "cell_type": "code",
   "execution_count": 65,
   "id": "2df4b5ed",
   "metadata": {
    "colab": {
     "base_uri": "https://localhost:8080/"
    },
    "id": "a5ff35d6",
    "outputId": "782cff9a-7380-4f74-b717-6e2424cefeb4"
   },
   "outputs": [
    {
     "name": "stdout",
     "output_type": "stream",
     "text": [
      "----- Q6.9 647: 646.8608151974504 [OK] -----\n"
     ]
    },
    {
     "data": {
      "text/plain": [
       "True"
      ]
     },
     "execution_count": 65,
     "metadata": {},
     "output_type": "execute_result"
    }
   ],
   "source": [
    "life = SULT()\n",
    "a = life.temporary_annuity(50, t=10)\n",
    "A = life.term_insurance(50, t=20)\n",
    "initial_cost = 25 * life.deferred_annuity(50, u=10, t=10)\n",
    "P = life.gross_premium(a=a, A=A, benefit=100000,\n",
    "                       initial_premium=0.42, renewal_premium=0.12,\n",
    "                       initial_policy=75 + initial_cost, renewal_policy=25)\n",
    "isclose(647, P, question=\"Q6.9\")"
   ]
  },
  {
   "attachments": {},
   "cell_type": "markdown",
   "id": "aae2504a",
   "metadata": {
    "id": "196e0607"
   },
   "source": [
    "__SOA Question 6.10__ :  (D) 0.91\n",
    "\n",
    "For a fully discrete 3-year term insurance of 1000 on (*x*),\n",
    "you are given:\n",
    "\n",
    "1. $p_x$ = 0.975\n",
    "\n",
    "2. *i* = 0.06\n",
    "\n",
    "3. The actuarial present value of the death benefit is 152.85\n",
    "\n",
    "4. The annual net premium is 56.05\n",
    "\n",
    " Calculate $p_{x+2}$.\n"
   ]
  },
  {
   "cell_type": "code",
   "execution_count": 66,
   "id": "88ce3857",
   "metadata": {
    "colab": {
     "base_uri": "https://localhost:8080/"
    },
    "id": "a6ea62e1",
    "outputId": "eeae8f35-92a8-48f3-c9e8-c2db9782fd03"
   },
   "outputs": [
    {
     "data": {
      "text/latex": [
       "\\begin{array}{lr}\n",
       "~\\texttt{Survival}~p_{x+2}~:=\\\\\n",
       "~~~p_{x+2} = ~E_{x+2} /v& \\quad \\texttt{one-year pure endowment}\\\\\n",
       "~~~~~E_{x+2} = ~A_{{x+2:\\overline{1|}}} - ~A^1_{{x+2:\\overline{1|}}}& \\quad \\texttt{endowment insurance minus term}\\\\\n",
       "~~~~~~~A^1_{{x+2:\\overline{1|}}} = [ ~A^1_{{x+1:\\overline{2|}}} / v - ~q_{x+2} * b ] / ~p_{x+2}& \\quad \\texttt{forward recursion}\\\\\n",
       "~~~~~~~~~p_{x+1} = [ ~\\ddot{a}_{{x+1:\\overline{2|}}} - 1 ] / [ v * ~\\ddot{a}_{{x+2:\\overline{1|}}} ]& \\quad \\texttt{annuity recursion}\\\\\n",
       "~~~~~~~~~~~\\ddot{a}_{{x+1:\\overline{2|}}} = [ ~\\ddot{a}_{{x:\\overline{3|}}} - 1 ] / ~E_{x}& \\quad \\texttt{forward recursion}\\\\\n",
       "~~~~~~~~~A^1_{{x+1:\\overline{2|}}} = [ ~A^1_{{x:\\overline{3|}}} / v - ~q_{x+1} * b ] / ~p_{x+1}& \\quad \\texttt{forward recursion}\\\\\n",
       "~~~~~~~~~~~~~E_{x} = ~p_{x} * v& \\quad \\texttt{pure endowment}\\end{array}"
      ]
     },
     "metadata": {},
     "output_type": "display_data"
    },
    {
     "name": "stdout",
     "output_type": "stream",
     "text": [
      "----- Q6.10 0.91: 0.9097382950525702 [OK] -----\n"
     ]
    },
    {
     "data": {
      "text/plain": [
       "True"
      ]
     },
     "execution_count": 66,
     "metadata": {},
     "output_type": "execute_result"
    }
   ],
   "source": [
    "x = 0\n",
    "life = Recursion(depth=5).set_interest(i=0.06)\\\n",
    "                         .set_p(0.975, x=x)\\\n",
    "                         .set_a(152.85/56.05, x=x, t=3)\\\n",
    "                         .set_A(152.85, x=x, t=3, b=1000)\n",
    "p = life.p_x(x=x+2)\n",
    "isclose(0.91, p, question=\"Q6.10\")"
   ]
  },
  {
   "attachments": {},
   "cell_type": "markdown",
   "id": "cfd69dde",
   "metadata": {
    "id": "1a93e76e"
   },
   "source": [
    "__SOA Question 6.11__ :  (C) 0.041\n"
   ]
  },
  {
   "cell_type": "code",
   "execution_count": 67,
   "id": "31a5c446",
   "metadata": {
    "colab": {
     "base_uri": "https://localhost:8080/"
    },
    "id": "84bc4d87",
    "outputId": "edb9e2d9-b4a6-44e5-e67c-3cdb92d6038f"
   },
   "outputs": [
    {
     "data": {
      "text/latex": [
       "\\begin{array}{lr}\n",
       "~\\texttt{Whole Life Insurance}~A_{{x+50}}~:=\\\\\n",
       "~~~A_{{x+50}} = v * [ ~q_{x+50} * b + ~p_{x+50} * ~A_{{x+51}} ]& \\quad \\texttt{backward recursion}\\\\\n",
       "~~~~~p_{x+50} = 1 - ~q_{x+50}& \\quad \\texttt{complement of mortality}\\end{array}"
      ]
     },
     "metadata": {},
     "output_type": "display_data"
    },
    {
     "data": {
      "text/latex": [
       "\\begin{array}{lr}\n",
       "~\\texttt{Whole Life Insurance}~A_{{x+50}}~:=\\\\\n",
       "~~~A_{{x+50}} = v * [ ~q_{x+50} * b + ~p_{x+50} * ~A_{{x+51}} ]& \\quad \\texttt{backward recursion}\\\\\n",
       "~~~~~p_{x+50} = 1 - ~q_{x+50}& \\quad \\texttt{complement of mortality}\\end{array}"
      ]
     },
     "metadata": {},
     "output_type": "display_data"
    },
    {
     "name": "stdout",
     "output_type": "stream",
     "text": [
      "----- Q6.11 0.041: 0.04069206883563675 [OK] -----\n"
     ]
    },
    {
     "data": {
      "text/plain": [
       "True"
      ]
     },
     "execution_count": 67,
     "metadata": {},
     "output_type": "execute_result"
    }
   ],
   "source": [
    "life = Recursion().set_interest(i=0.04)\n",
    "A = life.set_A(0.39788, 51)\\\n",
    "        .set_q(0.0048, 50)\\\n",
    "        .whole_life_insurance(50)\n",
    "P = life.gross_premium(A=A, a=life.annuity_twin(A=A))\n",
    "A = life.set_q(0.048, 50).whole_life_insurance(50)\n",
    "loss = A - life.annuity_twin(A) * P\n",
    "isclose(0.041, loss, question=\"Q6.11\")"
   ]
  },
  {
   "attachments": {},
   "cell_type": "markdown",
   "id": "eff725e9",
   "metadata": {
    "id": "2d504c4a"
   },
   "source": [
    "__SOA Question 6.12__ :  (E) 88900\n",
    "\n",
    "For a fully discrete whole life insurance of 1000 on (x), you are given:\n",
    "1. The following expenses are incurred at the beginning of each year:\n",
    "\n",
    "| | Year 1 | Years 2+ |\n",
    "|---|---|---|\n",
    "| Percent of premium | 75% | 10% |\n",
    "| Maintenance expenses | 10 | 2 |\n",
    "\n",
    "2. An additional expense of 20 is paid when the death benefit is paid\n",
    "3. The gross premium is determined using the equivalence principle\n",
    "4. $i = 0.06$\n",
    "5. $\\ddot{a}_x = 12.0$\n",
    "6. $^2A_x = 0.14$\n",
    "\n",
    "Calculate the variance of the loss at issue random variable.\n"
   ]
  },
  {
   "cell_type": "code",
   "execution_count": 68,
   "id": "6fc6b2dd",
   "metadata": {
    "colab": {
     "base_uri": "https://localhost:8080/"
    },
    "id": "761a8575",
    "outputId": "22f5fa83-302c-40df-d9e7-998f33f92f40"
   },
   "outputs": [
    {
     "name": "stdout",
     "output_type": "stream",
     "text": [
      "----- Q6.12 88900: 88862.59592874818 [OK] -----\n"
     ]
    },
    {
     "data": {
      "text/plain": [
       "True"
      ]
     },
     "execution_count": 68,
     "metadata": {},
     "output_type": "execute_result"
    }
   ],
   "source": [
    "life = PolicyValues().set_interest(i=0.06)\n",
    "a = 12\n",
    "A = life.insurance_twin(a)\n",
    "contract = Contract(benefit=1000, settlement_policy=20,\n",
    "                        initial_policy=10, initial_premium=0.75, \n",
    "                        renewal_policy=2, renewal_premium=0.1)\n",
    "contract.premium = life.gross_premium(A=A, a=a, **contract.premium_terms)\n",
    "L = life.gross_variance_loss(A1=A, A2=0.14, contract=contract)\n",
    "isclose(88900, L, question=\"Q6.12\")"
   ]
  },
  {
   "attachments": {},
   "cell_type": "markdown",
   "id": "a718350b",
   "metadata": {
    "id": "eabcd0f2"
   },
   "source": [
    "__SOA Question 6.13__ :  (D) -400\n",
    "\n",
    "For a fully discrete whole life insurance of 10,000 on (45),\n",
    "you are given:\n",
    "\n",
    "1. Commissions are 80% of the first year premium and 10% of\n",
    "subsequent premiums. There are no other expenses\n",
    "\n",
    "2. Mortality follows the Standard Ultimate Life Table\n",
    "\n",
    "3. *i* = 0.05\n",
    "\n",
    "4. $_0L$ denotes the loss at issue random variable\n",
    "\n",
    "5. If $T_{45} = 10.5$, then $_0L = 4953$\n",
    "\n",
    " Calculate $E[_0L]$ .\n"
   ]
  },
  {
   "cell_type": "code",
   "execution_count": 69,
   "id": "98de59ac",
   "metadata": {
    "colab": {
     "base_uri": "https://localhost:8080/",
     "height": 522
    },
    "id": "3d187b82",
    "outputId": "38492855-adc1-4869-a8aa-49d374209142"
   },
   "outputs": [
    {
     "name": "stdout",
     "output_type": "stream",
     "text": [
      "----- Q6.13 -400: -400.94447599879277 [OK] -----\n"
     ]
    },
    {
     "data": {
      "text/plain": [
       "True"
      ]
     },
     "execution_count": 69,
     "metadata": {},
     "output_type": "execute_result"
    },
    {
     "data": {
      "image/png": "[encoded data removed]",
      "text/plain": [
       "<Figure size 640x480 with 1 Axes>"
      ]
     },
     "metadata": {},
     "output_type": "display_data"
    }
   ],
   "source": [
    "life = SULT().set_interest(i=0.05)\n",
    "A = life.whole_life_insurance(45)\n",
    "contract = Contract(benefit=10000, initial_premium=.8, renewal_premium=.1)\n",
    "def fun(P):   # Solve for premium, given Loss(t=0) = 4953\n",
    "    return life.L_from_t(t=10.5, contract=contract.set_contract(premium=P))\n",
    "contract.set_contract(premium=life.solve(fun, target=4953, grid=100))\n",
    "L = life.gross_policy_value(45, contract=contract)\n",
    "life.L_plot(x=45, T=10.5, contract=contract)\n",
    "isclose(-400, L, question=\"Q6.13\")"
   ]
  },
  {
   "attachments": {},
   "cell_type": "markdown",
   "id": "c9176d5e",
   "metadata": {
    "id": "73a7c727"
   },
   "source": [
    "__SOA Question 6.14__ :  (D) 1150\n",
    "\n",
    "For a special fully discrete whole life insurance of 100,000\n",
    "on (40), you are given: \n",
    "\n",
    "1. The annual net premium is *P* for years 1 through 10, 0.5*P* for\n",
    "years 11 through 20, and 0 thereafter\n",
    "\n",
    "2. Mortality follows the Standard Ultimate Life Table\n",
    "\n",
    "3. *i* = 0.05\n",
    "\n",
    "Calculate *P*."
   ]
  },
  {
   "cell_type": "code",
   "execution_count": 70,
   "id": "5f04c42a",
   "metadata": {
    "colab": {
     "base_uri": "https://localhost:8080/"
    },
    "id": "d6f0c625",
    "outputId": "9eabb789-da5b-4b87-b927-fba149cc4bef"
   },
   "outputs": [
    {
     "name": "stdout",
     "output_type": "stream",
     "text": [
      "----- Q6.14 1150: 1148.5800555155263 [OK] -----\n"
     ]
    },
    {
     "data": {
      "text/plain": [
       "True"
      ]
     },
     "execution_count": 70,
     "metadata": {},
     "output_type": "execute_result"
    }
   ],
   "source": [
    "life = SULT().set_interest(i=0.05)\n",
    "a = life.temporary_annuity(40, t=10) + 0.5*life.deferred_annuity(40, u=10, t=10)\n",
    "A = life.whole_life_insurance(40)\n",
    "P = life.gross_premium(a=a, A=A, benefit=100000)\n",
    "isclose(1150, P, question=\"Q6.14\")"
   ]
  },
  {
   "attachments": {},
   "cell_type": "markdown",
   "id": "57de60a2",
   "metadata": {
    "id": "ba7ed0a0"
   },
   "source": [
    "__SOA Question 6.15__ :  (B) 1.002\n",
    "\n",
    "For a fully discrete whole life insurance of 1000 on (x) with net premiums payable quarterly, you are given:\n",
    "1. $i = 0.05$\n",
    "2. $\\ddot{a}_x = 3.4611$\n",
    "3. $P^{(W)}$ and $P^{(UDD)}$ are the annualized net premiums calculated using the 2-term Woolhouse (W) and the uniform distribution of deaths (UDD) assumptions,\n",
    "respectively\n",
    "\n",
    "Calculate $\\dfrac{P^{(UDD)}}{P^{(W)}}$.\n"
   ]
  },
  {
   "cell_type": "code",
   "execution_count": 71,
   "id": "9290b889",
   "metadata": {
    "colab": {
     "base_uri": "https://localhost:8080/"
    },
    "id": "3b081e5c",
    "outputId": "a79a0eb2-6fba-4231-b190-2849d1d38048"
   },
   "outputs": [
    {
     "name": "stdout",
     "output_type": "stream",
     "text": [
      "----- Q6.15 1.002: 1.0022973504113772 [OK] -----\n"
     ]
    },
    {
     "data": {
      "text/plain": [
       "True"
      ]
     },
     "execution_count": 71,
     "metadata": {},
     "output_type": "execute_result"
    }
   ],
   "source": [
    "life = Recursion().set_interest(i=0.05).set_a(3.4611, x=0)\n",
    "A = life.insurance_twin(3.4611)\n",
    "udd = UDD(m=4, life=life)\n",
    "a1 = udd.whole_life_annuity(x=x)\n",
    "woolhouse = Woolhouse(m=4, life=life)\n",
    "a2 = woolhouse.whole_life_annuity(x=x)\n",
    "P = life.gross_premium(a=a1, A=A)/life.gross_premium(a=a2, A=A)\n",
    "isclose(1.002, P, question=\"Q6.15\")"
   ]
  },
  {
   "attachments": {},
   "cell_type": "markdown",
   "id": "93eb14e3",
   "metadata": {
    "id": "d328bce8"
   },
   "source": [
    "__SOA Question 6.16__ : (A) 2408.6\n",
    "\n",
    "For a fully discrete 20-year endowment insurance of 100,000 on (30), you are given:\n",
    "1. d = 0.05\n",
    "2. Expenses, payable at the beginning of each year, are:\n",
    "\n",
    "| | First Year | First Year | Renewal Years | Renewal Years |\n",
    "| --- | --- | --- | --- | --- |\n",
    "| | Percent of Premium | Per Policy | Percent of Premium | Per Policy |\n",
    "| Taxes | 4% | 0 | 4% | 0  |\n",
    "| Sales Commission | 35% | 0 | 2% | 0  |\n",
    "| Policy Maintenance | 0% | 250 | 0% | 50  |\n",
    "\n",
    "3. The net premium is 2143\n",
    "\n",
    "Calculate the gross premium using the equivalence principle.\n",
    "\n"
   ]
  },
  {
   "cell_type": "code",
   "execution_count": 72,
   "id": "14ede853",
   "metadata": {
    "colab": {
     "base_uri": "https://localhost:8080/"
    },
    "id": "b4867776",
    "outputId": "779e50ec-a612-444b-f55b-26999d0519f7"
   },
   "outputs": [
    {
     "name": "stdout",
     "output_type": "stream",
     "text": [
      "----- Q6.16 2410: 2408.575206281868 [OK] -----\n"
     ]
    },
    {
     "data": {
      "text/plain": [
       "True"
      ]
     },
     "execution_count": 72,
     "metadata": {},
     "output_type": "execute_result"
    }
   ],
   "source": [
    "life = Premiums().set_interest(d=0.05)\n",
    "A = life.insurance_equivalence(premium=2143, b=100000)\n",
    "a = life.annuity_equivalence(premium=2143, b=100000)\n",
    "p = life.gross_premium(A=A, a=a, benefit=100000, settlement_policy=0,\n",
    "                       initial_policy=250, initial_premium=0.04 + 0.35,\n",
    "                       renewal_policy=50, renewal_premium=0.04 + 0.02) \n",
    "isclose(2410, p, question=\"Q6.16\")"
   ]
  },
  {
   "attachments": {},
   "cell_type": "markdown",
   "id": "f96b61ad",
   "metadata": {
    "id": "f8b3364c"
   },
   "source": [
    "__SOA Question 6.17__ :  (A) -30000\n",
    "\n",
    "An insurance company sells special fully discrete two-year endowment insurance policies to smokers (S) and non-smokers (NS) age x. You are given:\n",
    "\n",
    "1. The death benefit is 100,000; the maturity benefit is 30,000\n",
    "2. The level annual premium for non-smoker policies is determined by the\n",
    "equivalence principle\n",
    "3. The annual premium for smoker policies is twice the non-smoker annual premium\n",
    "4. $\\mu^{NS}_{x+t} = 0.1.\\quad t > 0$\n",
    "5. $q^S_{x+k} = 1.5 q_{x+k}^{NS}$, for $k = 0, 1$\n",
    "6. $i = 0.08$\n",
    "\n",
    "Calculate the expected present value of the loss at issue random variable on a smoker policy.\n"
   ]
  },
  {
   "cell_type": "code",
   "execution_count": 73,
   "id": "fe6d41d6",
   "metadata": {
    "colab": {
     "base_uri": "https://localhost:8080/"
    },
    "id": "e84e6eb4",
    "outputId": "eb611de2-ba4d-4af7-a7c2-0d8cba7e6a72"
   },
   "outputs": [
    {
     "data": {
      "text/latex": [
       "\\begin{array}{lr}\n",
       "~\\texttt{Term Insurance}~A^1_{{x:\\overline{2|}}}~:=\\\\\n",
       "~~~A^1_{{x:\\overline{2|}}} = ~A_{{x:\\overline{2|}}} - ~_{2}E_{x}& \\quad \\texttt{endowment insurance - pure}\\\\\n",
       "~~~~~_{2}E_{x} = ~_{2}p_{x} * v^{2}& \\quad \\texttt{pure endowment}\\\\\n",
       "~~~~~~~_{2}p_{x} = ~p_{x+1} * ~p_{x}& \\quad \\texttt{survival chain rule}\\\\\n",
       "~~~~~A^1_{{x:\\overline{2|}}} = v * [ ~q_{x} * b + ~p_{x} * ~A^1_{{x+1:\\overline{1|}}} ]& \\quad \\texttt{backward recursion}\\\\\n",
       "~~~~~~~p_{x+1} = 1 - ~q_{x+1}& \\quad \\texttt{complement of mortality}\\\\\n",
       "~~~~~~~~~E_{x} = ~p_{x} * v& \\quad \\texttt{pure endowment}\\\\\n",
       "~~~~~~~~~p_{x} = 1 - ~q_{x}& \\quad \\texttt{complement of mortality}\\end{array}"
      ]
     },
     "metadata": {},
     "output_type": "display_data"
    },
    {
     "data": {
      "text/latex": [
       "\\begin{array}{lr}\n",
       "~\\texttt{Temporary Annuity}~\\ddot{a}_{{x:\\overline{2|}}}~:=\\\\\n",
       "~~~\\ddot{a}_{{x:\\overline{2|}}} = 1 + ~E_{x} * ~\\ddot{a}_{{x+1:\\overline{1|}}}& \\quad \\texttt{backward recursion}\\\\\n",
       "~~~~~E_{x} = ~p_{x} * v& \\quad \\texttt{pure endowment}\\\\\n",
       "~~~~~~~p_{x} = 1 - ~q_{x}& \\quad \\texttt{complement of mortality}\\end{array}"
      ]
     },
     "metadata": {},
     "output_type": "display_data"
    },
    {
     "data": {
      "text/latex": [
       "\\begin{array}{lr}\n",
       "~\\texttt{Pure Endowment}~_{2}E_{x}~:=\\\\\n",
       "~~~_{2}E_{x} = ~_{2}p_{x} * v^{2}& \\quad \\texttt{pure endowment}\\\\\n",
       "~~~~~_{2}p_{x} = ~p_{x+1} * ~p_{x}& \\quad \\texttt{survival chain rule}\\\\\n",
       "~~~~~~~p_{x} = 1 - ~q_{x}& \\quad \\texttt{complement of mortality}\\\\\n",
       "~~~~~~~~~p_{x+1} = 1 - ~q_{x+1}& \\quad \\texttt{complement of mortality}\\end{array}"
      ]
     },
     "metadata": {},
     "output_type": "display_data"
    },
    {
     "name": "stdout",
     "output_type": "stream",
     "text": [
      "----- Q6.17 -30000: -30107.42633581125 [OK] -----\n"
     ]
    },
    {
     "data": {
      "text/plain": [
       "True"
      ]
     },
     "execution_count": 73,
     "metadata": {},
     "output_type": "execute_result"
    }
   ],
   "source": [
    "x = 0\n",
    "life = ConstantForce(mu=0.1).set_interest(i=0.08)\n",
    "A = life.endowment_insurance(x, t=2, b=100000, endowment=30000)\n",
    "a = life.temporary_annuity(x, t=2)\n",
    "P = life.gross_premium(a=a, A=A)\n",
    "life1 = Recursion().set_interest(i=0.08)\\\n",
    "                   .set_q(life.q_x(x, t=1) * 1.5, x=x, t=1)\\\n",
    "                   .set_q(life.q_x(x+1, t=1) * 1.5, x=x+1, t=1)\n",
    "contract = Contract(premium=P*2, benefit=100000, endowment=30000)\n",
    "L = life1.gross_policy_value(x, t=0, n=2, contract=contract)\n",
    "isclose(-30000, L, question=\"Q6.17\")"
   ]
  },
  {
   "attachments": {},
   "cell_type": "markdown",
   "id": "4064b034",
   "metadata": {
    "id": "b8298896"
   },
   "source": [
    "__SOA Question 6.18__ :  (D) 166400\n",
    "\n",
    "For a 20-year deferred whole life annuity-due with annual\n",
    "payments of 30,000 on (40), you are given:\n",
    "\n",
    "1. The single net premium is refunded without interest at the end of\n",
    "the year of death if death occurs during the deferral period\n",
    "\n",
    "2. Mortality follows the Standard Ultimate Life Table\n",
    "\n",
    "3.  *i* = 0.05 \n",
    "\n",
    "\n",
    "Calculate the single net premium for this annuity.\n"
   ]
  },
  {
   "cell_type": "code",
   "execution_count": 74,
   "id": "438cbff9",
   "metadata": {
    "colab": {
     "base_uri": "https://localhost:8080/"
    },
    "id": "0f94e213",
    "outputId": "27ac6099-fb6a-4596-fcb5-a9950bb33147"
   },
   "outputs": [
    {
     "name": "stdout",
     "output_type": "stream",
     "text": [
      "----- Q6.18 166400: 166362.83871487685 [OK] -----\n"
     ]
    },
    {
     "data": {
      "text/plain": [
       "True"
      ]
     },
     "execution_count": 74,
     "metadata": {},
     "output_type": "execute_result"
    }
   ],
   "source": [
    "life = SULT().set_interest(i=0.05)\n",
    "def fun(P):\n",
    "    A = (life.term_insurance(40, t=20, b=P)\n",
    "         + life.deferred_annuity(40, u=20, b=30000))\n",
    "    return life.gross_premium(a=1, A=A) - P\n",
    "P = life.solve(fun, target=0, grid=[162000, 168800])\n",
    "isclose(166400, P, question=\"Q6.18\")"
   ]
  },
  {
   "attachments": {},
   "cell_type": "markdown",
   "id": "d79cd8a2",
   "metadata": {
    "id": "023fb15f"
   },
   "source": [
    "__SOA Question 6.19__ :  (B) 0.033\n"
   ]
  },
  {
   "cell_type": "code",
   "execution_count": 75,
   "id": "a6ae2cbb",
   "metadata": {
    "colab": {
     "base_uri": "https://localhost:8080/"
    },
    "id": "0ad57ec7",
    "outputId": "a1a792ee-c851-402a-f74d-6f66b8214628"
   },
   "outputs": [
    {
     "name": "stdout",
     "output_type": "stream",
     "text": [
      "----- Q6.19 0.033: 0.03283273381910885 [OK] -----\n"
     ]
    },
    {
     "data": {
      "text/plain": [
       "True"
      ]
     },
     "execution_count": 75,
     "metadata": {},
     "output_type": "execute_result"
    }
   ],
   "source": [
    "life = SULT()\n",
    "contract = Contract(initial_policy=.2, renewal_policy=.01)\n",
    "a = life.whole_life_annuity(50)\n",
    "A = life.whole_life_insurance(50)\n",
    "contract.premium = life.gross_premium(A=A, a=a, **contract.premium_terms)\n",
    "L = life.gross_policy_variance(50, contract=contract)\n",
    "isclose(0.033, L, question=\"Q6.19\")"
   ]
  },
  {
   "attachments": {},
   "cell_type": "markdown",
   "id": "5b1c40ca",
   "metadata": {
    "id": "63fbc144"
   },
   "source": [
    "__SOA Question 6.20__ :  (B) 459\n",
    "\n",
    "For a special fully discrete 3-year term insurance on (75), you are given:\n",
    "\n",
    "1. The death benefit during the first two years is the sum of the net premiums paid\n",
    "without interest\n",
    "\n",
    "2. The death benefit in the third year is 10,000\n",
    "\n",
    "| $x$ | $p_x$ |\n",
    "|---|---|\n",
    "| 75 | 0.90 |\n",
    "| 76 | 0.88 |\n",
    "| 77 | 0.85 |\n",
    "\n",
    "3. $i = 0.04$\n",
    "\n",
    "Calculate the annual net premium.\n"
   ]
  },
  {
   "cell_type": "code",
   "execution_count": 76,
   "id": "ae4a395f",
   "metadata": {
    "colab": {
     "base_uri": "https://localhost:8080/"
    },
    "id": "d1afe338",
    "outputId": "64d34903-0e3d-44ec-a78c-3e2aee45c4e9"
   },
   "outputs": [
    {
     "name": "stdout",
     "output_type": "stream",
     "text": [
      "----- Q6.20 459: 458.83181728297353 [OK] -----\n"
     ]
    },
    {
     "data": {
      "text/plain": [
       "True"
      ]
     },
     "execution_count": 76,
     "metadata": {},
     "output_type": "execute_result"
    }
   ],
   "source": [
    "life = LifeTable().set_interest(i=.04).set_table(p={75: .9, 76: .88, 77: .85})\n",
    "a = life.temporary_annuity(75, t=3)\n",
    "IA = life.increasing_insurance(75, t=2)\n",
    "A = life.deferred_insurance(75, u=2, t=1)\n",
    "def fun(P): return life.gross_premium(a=a, A=P*IA + A*10000) - P\n",
    "P = life.solve(fun, target=0, grid=[449, 489])\n",
    "isclose(459, P, question=\"Q6.20\")"
   ]
  },
  {
   "attachments": {},
   "cell_type": "markdown",
   "id": "b2638e52",
   "metadata": {
    "id": "b44723ae"
   },
   "source": [
    "__SOA Question 6.21__ :  (C) 100\n"
   ]
  },
  {
   "cell_type": "code",
   "execution_count": 77,
   "id": "53ae64aa",
   "metadata": {
    "colab": {
     "base_uri": "https://localhost:8080/"
    },
    "id": "7c07aea5",
    "outputId": "be0ca60f-a228-4798-896f-2e188e46a096"
   },
   "outputs": [
    {
     "name": "stdout",
     "output_type": "stream",
     "text": [
      "----- Q6.21 100: 100.85470085470084 [OK] -----\n"
     ]
    },
    {
     "data": {
      "text/plain": [
       "True"
      ]
     },
     "execution_count": 77,
     "metadata": {},
     "output_type": "execute_result"
    }
   ],
   "source": [
    "life = Recursion(verbose=False).set_interest(d=0.04)\n",
    "life.set_A(0.7, x=75, t=15, endowment=1)\n",
    "life.set_E(0.11, x=75, t=15)\n",
    "def fun(P):\n",
    "    return (P * life.temporary_annuity(75, t=15) -\n",
    "            life.endowment_insurance(75, t=15, b=1000, endowment=15*float(P)))\n",
    "P = life.solve(fun, target=0, grid=(80, 120))\n",
    "isclose(100, P, question=\"Q6.21\")"
   ]
  },
  {
   "attachments": {},
   "cell_type": "markdown",
   "id": "100b84f6",
   "metadata": {
    "id": "e1792e95"
   },
   "source": [
    "__SOA Question 6.22__ :  (C) 102\n",
    "\n",
    "For a whole life insurance of 100,000 on (45) with premiums payable monthly for a\n",
    "period of 20 years, you are given:\n",
    "1. The death benefit is paid immediately upon death\n",
    "2. Mortality follows the Standard Ultimate Life Table\n",
    "3. Deaths are uniformly distributed over each year of age\n",
    "4. $i = 0.05$\n",
    "\n",
    "Calculate the monthly net premium.\n"
   ]
  },
  {
   "cell_type": "code",
   "execution_count": 78,
   "id": "a471c938",
   "metadata": {
    "colab": {
     "base_uri": "https://localhost:8080/"
    },
    "id": "e154a4ce",
    "outputId": "9dd469c1-ed38-4c9d-d8d3-e3df7ab5f861"
   },
   "outputs": [
    {
     "name": "stdout",
     "output_type": "stream",
     "text": [
      "----- Q6.22 102: 102.40668704849178 [OK] -----\n"
     ]
    },
    {
     "data": {
      "text/plain": [
       "True"
      ]
     },
     "execution_count": 78,
     "metadata": {},
     "output_type": "execute_result"
    }
   ],
   "source": [
    "life=SULT(udd=True)\n",
    "a = UDD(m=12, life=life).temporary_annuity(45, t=20)\n",
    "A = UDD(m=0, life=life).whole_life_insurance(45)\n",
    "P = life.gross_premium(A=A, a=a, benefit=100000) / 12\n",
    "isclose(102, P, question=\"Q6.22\")"
   ]
  },
  {
   "attachments": {},
   "cell_type": "markdown",
   "id": "b5192971",
   "metadata": {
    "id": "1f2bd9fa"
   },
   "source": [
    "__SOA Question 6.23__ :  (D) 44.7\n"
   ]
  },
  {
   "cell_type": "code",
   "execution_count": 79,
   "id": "fa1272ec",
   "metadata": {
    "colab": {
     "base_uri": "https://localhost:8080/"
    },
    "id": "4721d51b",
    "lines_to_next_cell": 2,
    "outputId": "bf0875ae-d05a-4626-f950-8a268fd382b7"
   },
   "outputs": [
    {
     "name": "stdout",
     "output_type": "stream",
     "text": [
      "----- Q6.23 44.7: 44.70806635781144 [OK] -----\n"
     ]
    },
    {
     "data": {
      "text/plain": [
       "True"
      ]
     },
     "execution_count": 79,
     "metadata": {},
     "output_type": "execute_result"
    }
   ],
   "source": [
    "x = 0\n",
    "life = Recursion().set_a(15.3926, x=x)\\\n",
    "                  .set_a(10.1329, x=x, t=15)\\\n",
    "                  .set_a(14.0145, x=x, t=30)\n",
    "def fun(P):\n",
    "    per_policy = 30 + (30 * life.whole_life_annuity(x))\n",
    "    per_premium = (0.6 + 0.1*life.temporary_annuity(x, t=15)\n",
    "                    + 0.1*life.temporary_annuity(x, t=30))\n",
    "    a = life.temporary_annuity(x, t=30)\n",
    "    return (P * a) - (per_policy + per_premium * P)\n",
    "P = life.solve(fun, target=0, grid=[30.3, 49.5])\n",
    "isclose(44.7, P, question=\"Q6.23\")\n"
   ]
  },
  {
   "attachments": {},
   "cell_type": "markdown",
   "id": "4b6781c0",
   "metadata": {
    "id": "266bc6a3"
   },
   "source": [
    "__SOA Question 6.24__ :  (E) 0.30\n",
    "\n",
    "For a fully continuous whole life insurance of 1 on (x), you are given:\n",
    "\n",
    "1. L is the present value of the loss at issue random variable if the premium rate is\n",
    "determined by the equivalence principle\n",
    "2. L^* is the present value of the loss at issue random variable if the premium rate is 0.06\n",
    "3. $\\delta = 0.07$\n",
    "4. $\\overline{A}_x = 0.30$\n",
    "5. $Var(L) = 0.18$\n",
    "\n",
    "Calculate $Var(L^*)$.\n"
   ]
  },
  {
   "cell_type": "code",
   "execution_count": 80,
   "id": "fc89e230",
   "metadata": {
    "colab": {
     "base_uri": "https://localhost:8080/"
    },
    "id": "092a752e",
    "outputId": "83923f6a-66fa-48f2-93d8-e8b6339e26ec"
   },
   "outputs": [
    {
     "name": "stdout",
     "output_type": "stream",
     "text": [
      "----- Q6.24 0.304: 0.30419999999999975 [OK] -----\n"
     ]
    },
    {
     "data": {
      "text/plain": [
       "True"
      ]
     },
     "execution_count": 80,
     "metadata": {},
     "output_type": "execute_result"
    }
   ],
   "source": [
    "life = PolicyValues().set_interest(delta=0.07)\n",
    "x, A1 = 0, 0.30   # Policy for first insurance\n",
    "P = life.premium_equivalence(A=A1, discrete=False)  # Need its premium\n",
    "contract = Contract(premium=P, discrete=False)\n",
    "def fun(A2):  # Solve for A2, given Var(Loss)\n",
    "    return life.gross_variance_loss(A1=A1, A2=A2, contract=contract)\n",
    "A2 = life.solve(fun, target=0.18, grid=0.18)\n",
    "\n",
    "contract = Contract(premium=0.06, discrete=False) # Solve second insurance\n",
    "var = life.gross_variance_loss(A1=A1, A2=A2, contract=contract)\n",
    "isclose(0.304, var, question=\"Q6.24\")"
   ]
  },
  {
   "attachments": {},
   "cell_type": "markdown",
   "id": "a0efdefb",
   "metadata": {
    "id": "28b083e2"
   },
   "source": [
    "__SOA Question 6.25__ :  (C) 12330\n",
    "\n",
    "For a fully discrete 10-year deferred whole life annuity-due of 1000 per month on (55), you are given:\n",
    "1. The premium, $G$, will be paid annually at the beginning of each year during the deferral period\n",
    "2. Expenses are expected to be 300 per year for all years, payable at the beginning of the year\n",
    "3. Mortality follows the Standard Ultimate Life Table\n",
    "4. $i = 0.05$\n",
    "5. Using the two-term Woolhouse approximation, the expected loss at issue is -800\n",
    "\n",
    "Calculate $G$.\n"
   ]
  },
  {
   "cell_type": "code",
   "execution_count": 81,
   "id": "d5700126",
   "metadata": {
    "colab": {
     "base_uri": "https://localhost:8080/"
    },
    "id": "b27d7264",
    "outputId": "b52aeb37-78e1-4955-8830-31a7b953b95e"
   },
   "outputs": [
    {
     "name": "stdout",
     "output_type": "stream",
     "text": [
      "----- Q6.25 12330: 12325.781125438532 [OK] -----\n"
     ]
    },
    {
     "data": {
      "text/plain": [
       "True"
      ]
     },
     "execution_count": 81,
     "metadata": {},
     "output_type": "execute_result"
    }
   ],
   "source": [
    "life = SULT()\n",
    "woolhouse = Woolhouse(m=12, life=life)\n",
    "benefits = woolhouse.deferred_annuity(55, u=10, b=1000 * 12)\n",
    "expenses = life.whole_life_annuity(55, b=300)\n",
    "payments = life.temporary_annuity(55, t=10)\n",
    "def fun(P):\n",
    "    return life.gross_future_loss(A=benefits + expenses, a=payments,\n",
    "                                  contract=Contract(premium=P))\n",
    "P = life.solve(fun, target=-800, grid=[12110, 12550])\n",
    "isclose(12330, P, question=\"Q6.25\")"
   ]
  },
  {
   "attachments": {},
   "cell_type": "markdown",
   "id": "ffdb2964",
   "metadata": {
    "id": "71edd123"
   },
   "source": [
    "__SOA Question 6.26__ :  (D) 180\n",
    "\n",
    "For a special fully discrete whole life insurance policy of\n",
    "1000 on (90), you are given:\n",
    "\n",
    "1. The first year premium is 0\n",
    "\n",
    "2. *P* is the renewal premium\n",
    "\n",
    "3. Mortality follows the Standard Ultimate Life Table\n",
    "\n",
    "4. *i* = 0.05\n",
    "\n",
    "5. Premiums are calculated using the equivalence principle\n",
    "\n",
    "Calculate *P*.\n"
   ]
  },
  {
   "cell_type": "code",
   "execution_count": 82,
   "id": "d3dd7b36",
   "metadata": {
    "colab": {
     "base_uri": "https://localhost:8080/"
    },
    "id": "e0bc9ac7",
    "outputId": "8ac47789-329d-4c0b-b0d3-9248ca8d4fd5"
   },
   "outputs": [
    {
     "name": "stdout",
     "output_type": "stream",
     "text": [
      "----- Q6.26 180: 180.03164891315885 [OK] -----\n"
     ]
    },
    {
     "data": {
      "text/plain": [
       "True"
      ]
     },
     "execution_count": 82,
     "metadata": {},
     "output_type": "execute_result"
    }
   ],
   "source": [
    "life = SULT().set_interest(i=0.05)\n",
    "def fun(P): \n",
    "    return P - life.net_premium(90, b=1000, initial_cost=P)\n",
    "P = life.solve(fun, target=0, grid=[150, 190])\n",
    "isclose(180, P, question=\"Q6.26\")"
   ]
  },
  {
   "attachments": {},
   "cell_type": "markdown",
   "id": "7031c0aa",
   "metadata": {
    "id": "984c9535"
   },
   "source": [
    "__SOA Question 6.27__ :  (D) 10310\n",
    "\n",
    "For a special fully continuous whole life insurance on (x), you are given:\n",
    "\n",
    "1. Premiums and benefits:\n",
    "\n",
    "| | First 20 years | After 20 years |\n",
    "| --- | --- | --- |\n",
    "| Premium Rate | 3P | P |\n",
    "| Benefit | 1,000,000 | 500,000 |\n",
    "\n",
    "\n",
    "2. $\\mu_{x+t} = 0.03, \\quad t \\ge 0$\n",
    "3. $\\delta = 0.06$\n",
    "\n",
    "Calculate $P$ using the equivalence principle."
   ]
  },
  {
   "cell_type": "code",
   "execution_count": 83,
   "id": "9496009b",
   "metadata": {
    "colab": {
     "base_uri": "https://localhost:8080/"
    },
    "id": "f807f50d",
    "outputId": "060bc90e-da1a-4dcd-f9b7-8131e5510a12"
   },
   "outputs": [
    {
     "name": "stdout",
     "output_type": "stream",
     "text": [
      "----- Q6.27 10310: 10309.617799001708 [OK] -----\n"
     ]
    },
    {
     "data": {
      "text/plain": [
       "True"
      ]
     },
     "execution_count": 83,
     "metadata": {},
     "output_type": "execute_result"
    }
   ],
   "source": [
    "life = ConstantForce(mu=0.03).set_interest(delta=0.06)\n",
    "x = 0\n",
    "payments = (3 * life.temporary_annuity(x, t=20, discrete=False) \n",
    "            + life.deferred_annuity(x, u=20, discrete=False))\n",
    "benefits = (1000000 * life.term_insurance(x, t=20, discrete=False)\n",
    "            + 500000 * life.deferred_insurance(x, u=20, discrete=False))\n",
    "P = benefits / payments\n",
    "isclose(10310, P, question=\"Q6.27\")"
   ]
  },
  {
   "attachments": {},
   "cell_type": "markdown",
   "id": "5e421f27",
   "metadata": {
    "id": "a83ac2e9"
   },
   "source": [
    "__SOA Question 6.28__ :  (B) 36\n"
   ]
  },
  {
   "cell_type": "code",
   "execution_count": 84,
   "id": "ae97632c",
   "metadata": {
    "colab": {
     "base_uri": "https://localhost:8080/"
    },
    "id": "e4d655be",
    "outputId": "58a434ce-1ce3-4960-b480-e3915d372b3d"
   },
   "outputs": [
    {
     "name": "stdout",
     "output_type": "stream",
     "text": [
      "----- Q6.28 36: 35.72634219391481 [OK] -----\n"
     ]
    },
    {
     "data": {
      "text/plain": [
       "True"
      ]
     },
     "execution_count": 84,
     "metadata": {},
     "output_type": "execute_result"
    }
   ],
   "source": [
    "life = SULT().set_interest(i=0.05)\n",
    "a = life.temporary_annuity(40, t=5)\n",
    "A = life.whole_life_insurance(40)\n",
    "P = life.gross_premium(a=a, A=A, benefit=1000, \n",
    "                       initial_policy=10, renewal_premium=.05,\n",
    "                       renewal_policy=5, initial_premium=.2)\n",
    "isclose(36, P, question=\"Q6.28\")"
   ]
  },
  {
   "attachments": {},
   "cell_type": "markdown",
   "id": "c1037cab",
   "metadata": {
    "id": "48cd4a00"
   },
   "source": [
    "__SOA Question 6.29__ :  (B) 20.5\n",
    "\n",
    "\n",
    "(35) purchases a fully discrete whole life insurance policy of 100,000.\n",
    "You are given:\n",
    "1. The annual gross premium, calculated using the equivalence principle, is 1770\n",
    "2. The expenses in policy year 1 are 50% of premium and 200 per policy\n",
    "3. The expenses in policy years 2 and later are 10% of premium and 50 per policy\n",
    "4. All expenses are incurred at the beginning of the policy year\n",
    "5. $i = 0.035$\n",
    "\n",
    "Calculate $\\ddot{a}_{35}$."
   ]
  },
  {
   "cell_type": "code",
   "execution_count": 85,
   "id": "c9c4084f",
   "metadata": {
    "colab": {
     "base_uri": "https://localhost:8080/"
    },
    "id": "19f0454d",
    "outputId": "f521c125-af53-49c9-8532-72423df35344"
   },
   "outputs": [
    {
     "name": "stdout",
     "output_type": "stream",
     "text": [
      "----- Q6.29 20.5: 20.480268314431726 [OK] -----\n"
     ]
    },
    {
     "data": {
      "text/plain": [
       "True"
      ]
     },
     "execution_count": 85,
     "metadata": {},
     "output_type": "execute_result"
    }
   ],
   "source": [
    "life = Premiums().set_interest(i=0.035)\n",
    "def fun(a):\n",
    "    return life.gross_premium(A=life.insurance_twin(a=a), a=a, \n",
    "                              initial_policy=200, initial_premium=.5,\n",
    "                              renewal_policy=50, renewal_premium=.1,\n",
    "                              benefit=100000)\n",
    "a = life.solve(fun, target=1770, grid=[20, 22])\n",
    "isclose(20.5, a, question=\"Q6.29\")"
   ]
  },
  {
   "attachments": {},
   "cell_type": "markdown",
   "id": "da131f29",
   "metadata": {
    "id": "65adf914"
   },
   "source": [
    "__SOA Question 6.30__ :  (A) 900\n",
    "\n",
    "For a fully discrete whole life insurance of 100 on (x), you are given:\n",
    "1. The first year expense is 10% of the gross annual premium\n",
    "2. Expenses in subsequent years are 5% of the gross annual premium\n",
    "3. The gross premium calculated using the equivalence principle is 2.338\n",
    "4. $i = 0.04$\n",
    "5. $\\ddot{a}_x = 16.50$\n",
    "6. $^2A_x = 0.17$\n",
    "\n",
    "Calculate the variance of the loss at issue random variable.\n"
   ]
  },
  {
   "cell_type": "code",
   "execution_count": 86,
   "id": "885b23e7",
   "metadata": {
    "colab": {
     "base_uri": "https://localhost:8080/"
    },
    "id": "a29edf61",
    "outputId": "5857d98a-4162-4354-edfb-4bf100d9f4b0"
   },
   "outputs": [
    {
     "name": "stdout",
     "output_type": "stream",
     "text": [
      "----- Q6.30 900: 908.141412994607 [OK] -----\n"
     ]
    },
    {
     "data": {
      "text/plain": [
       "True"
      ]
     },
     "execution_count": 86,
     "metadata": {},
     "output_type": "execute_result"
    }
   ],
   "source": [
    "life = PolicyValues().set_interest(i=0.04)\n",
    "contract = Contract(premium=2.338,\n",
    "                    benefit=100,\n",
    "                    initial_premium=.1,\n",
    "                    renewal_premium=0.05)\n",
    "var = life.gross_variance_loss(A1=life.insurance_twin(16.50),\n",
    "                               A2=0.17, contract=contract)\n",
    "isclose(900, var, question=\"Q6.30\")"
   ]
  },
  {
   "attachments": {},
   "cell_type": "markdown",
   "id": "ea75c9a4",
   "metadata": {
    "id": "13f8f705"
   },
   "source": [
    "__SOA Question 6.31__ :  (D) 1330\n",
    "\n",
    "\n",
    "For a fully continuous whole life insurance policy of 100,000 on (35), you are given:\n",
    "1. The density function of the future lifetime of a newborn:\n",
    "$$\\begin{align*}\n",
    "f(t) & = 0.01 e^{-0.01 t}, \\quad 0 \\le t < 70\\\\\n",
    "& = g(t), \\quad t \\ge 70\n",
    "\\end{align*}$$\n",
    "\n",
    "2. $\\delta = 0.05$\n",
    "\n",
    "3. $\\overline{A}_{70} = 0.51791$\n",
    "\n",
    "Calculate the annual net premium rate for this policy."
   ]
  },
  {
   "cell_type": "code",
   "execution_count": 87,
   "id": "a70a10b1",
   "metadata": {
    "colab": {
     "base_uri": "https://localhost:8080/"
    },
    "id": "2dfd7470",
    "outputId": "da072e23-ddf1-4a4b-8c17-ae2c11ae0069"
   },
   "outputs": [
    {
     "name": "stdout",
     "output_type": "stream",
     "text": [
      "----- Q6.31 1330: 1326.5406293909457 [OK] -----\n"
     ]
    },
    {
     "data": {
      "text/plain": [
       "True"
      ]
     },
     "execution_count": 87,
     "metadata": {},
     "output_type": "execute_result"
    }
   ],
   "source": [
    "life = ConstantForce(mu=0.01).set_interest(delta=0.05)\n",
    "A = (life.term_insurance(35, t=35, discrete=False) \n",
    "     + life.E_x(35, t=35)*0.51791)     # A_35\n",
    "P = life.premium_equivalence(A=A, b=100000, discrete=False)\n",
    "isclose(1330, P, question=\"Q6.31\")"
   ]
  },
  {
   "attachments": {},
   "cell_type": "markdown",
   "id": "b1d478f5",
   "metadata": {
    "id": "9876aca3"
   },
   "source": [
    "__SOA Question 6.32__ :  (C) 550\n",
    "\n",
    "For a whole life insurance of 100,000 on (x), you are given:\n",
    "1. Death benefits are payable at the moment of death\n",
    "2. Deaths are uniformly distributed over each year of age\n",
    "3. Premiums are payable monthly\n",
    "4. $i = 0.05$\n",
    "5. $\\ddot{a}_x = 9.19$\n",
    "\n",
    "Calculate the monthly net premium.\n"
   ]
  },
  {
   "cell_type": "code",
   "execution_count": 88,
   "id": "9fc0f10f",
   "metadata": {
    "colab": {
     "base_uri": "https://localhost:8080/"
    },
    "id": "9775a2e0",
    "outputId": "c93d4c69-b676-4b51-b093-82b48840c969"
   },
   "outputs": [
    {
     "data": {
      "text/latex": [
       "\\begin{array}{lr}\n",
       "~\\texttt{Whole Life Insurance}~A_{{x}}~:=\\\\\n",
       "~~~\\ddot{a}_{{x}} = [ 1 - ~A_{{x}} ] / d& \\quad \\texttt{annuity twin}\\end{array}"
      ]
     },
     "metadata": {},
     "output_type": "display_data"
    },
    {
     "name": "stdout",
     "output_type": "stream",
     "text": [
      "----- Q6.32 550: 550.4356936711871 [OK] -----\n"
     ]
    },
    {
     "data": {
      "text/plain": [
       "True"
      ]
     },
     "execution_count": 88,
     "metadata": {},
     "output_type": "execute_result"
    }
   ],
   "source": [
    "x = 0\n",
    "life = Recursion().set_interest(i=0.05).set_a(9.19, x=x)\n",
    "benefits = UDD(m=0, life=life).whole_life_insurance(x)\n",
    "payments = UDD(m=12, life=life).whole_life_annuity(x)\n",
    "P = life.gross_premium(a=payments, A=benefits, benefit=100000)/12\n",
    "isclose(550, P, question=\"Q6.32\")"
   ]
  },
  {
   "attachments": {},
   "cell_type": "markdown",
   "id": "e26c6904",
   "metadata": {
    "id": "3765e3c2"
   },
   "source": [
    "__SOA Question 6.33__ :  (B) 0.13\n",
    "\n",
    "\n",
    "An insurance company sells 15-year pure endowments of 10,000 to 500 lives, each age x, with independent future lifetimes. The single premium for each pure endowment is determined by the equivalence principle.\n",
    "\n",
    "You are given:\n",
    "1. $i$ = 0.03\n",
    "2. $\\mu_x(t) = 0.02 t, \\quad t \\ge 0$\n",
    "3. $_0L$ is the aggregate loss at issue random variable for these pure endowments.\n",
    "\n",
    "Using the normal approximation without continuity correction, calculate $Pr(_0L) > 50,000)$."
   ]
  },
  {
   "cell_type": "code",
   "execution_count": 89,
   "id": "9a079a12",
   "metadata": {
    "colab": {
     "base_uri": "https://localhost:8080/"
    },
    "id": "5410107c",
    "outputId": "a40a6c88-d79e-4ea5-f08e-6b236286457d"
   },
   "outputs": [
    {
     "name": "stdout",
     "output_type": "stream",
     "text": [
      "----- Q6.33 0.13: 0.12828940905648634 [OK] -----\n"
     ]
    },
    {
     "data": {
      "text/plain": [
       "True"
      ]
     },
     "execution_count": 89,
     "metadata": {},
     "output_type": "execute_result"
    }
   ],
   "source": [
    "life = Insurance().set_survival(mu=lambda x,t: 0.02*t).set_interest(i=0.03)\n",
    "x = 0\n",
    "var = life.E_x(x, t=15, moment=life.VARIANCE, endowment=10000)\n",
    "p = 1- life.portfolio_cdf(mean=0, variance=var, value=50000, N=500)\n",
    "isclose(0.13, p, question=\"Q6.33\", rel_tol=0.02)"
   ]
  },
  {
   "attachments": {},
   "cell_type": "markdown",
   "id": "6438fcaf",
   "metadata": {
    "id": "d47dfed4"
   },
   "source": [
    "__SOA Question 6.34__ :  (A) 23300\n",
    "\n",
    "For a fully discrete whole life insurance policy on (61), you\n",
    "are given:\n",
    "\n",
    "1. The annual gross premium using the equivalence principle is 500\n",
    "\n",
    "2. Initial expenses, incurred at policy issue, are 15% of the\n",
    " premium\n",
    "\n",
    "3. Renewal expenses, incurred at the beginning of each year after\n",
    "the first, are 3% of the premium\n",
    "\n",
    "4. Mortality follows the Standard Ultimate Life Table\n",
    "\n",
    "5. *i* = 0.05\n",
    "\n",
    "Calculate the amount of the death benefit.\n"
   ]
  },
  {
   "cell_type": "code",
   "execution_count": 90,
   "id": "728b3180",
   "metadata": {
    "colab": {
     "base_uri": "https://localhost:8080/"
    },
    "id": "a5ef2c99",
    "outputId": "cf9126a1-80a5-494a-d12a-2acf83e69aca"
   },
   "outputs": [
    {
     "name": "stdout",
     "output_type": "stream",
     "text": [
      "----- Q6.34 23300: 23294.288659265632 [OK] -----\n"
     ]
    },
    {
     "data": {
      "text/plain": [
       "True"
      ]
     },
     "execution_count": 90,
     "metadata": {},
     "output_type": "execute_result"
    }
   ],
   "source": [
    "life = SULT()\n",
    "def fun(benefit):\n",
    "    A = life.whole_life_insurance(61)\n",
    "    a = life.whole_life_annuity(61)\n",
    "    return life.gross_premium(A=A, a=a, benefit=benefit, \n",
    "                              initial_premium=0.15, renewal_premium=0.03)\n",
    "b = life.solve(fun, target=500, grid=[23300, 23700])\n",
    "isclose(23300, b, question=\"Q6.34\")"
   ]
  },
  {
   "attachments": {},
   "cell_type": "markdown",
   "id": "c6644e86",
   "metadata": {
    "id": "e1084dfc"
   },
   "source": [
    "__SOA Question 6.35__ :  (D) 530\n",
    "\n",
    "For a fully discrete whole life insurance policy of 100,000 on (35), you are given:\n",
    "1. First year commissions are 19% of the annual gross premium\n",
    "2. Renewal year commissions are 4% of the annual gross premium\n",
    "3. Mortality follows the Standard Ultimate Life Table\n",
    "4. $i = 0.05$\n",
    "\n",
    "Calculate the annual gross premium for this policy using the equivalence principle.\n"
   ]
  },
  {
   "cell_type": "code",
   "execution_count": 91,
   "id": "a330559e",
   "metadata": {
    "colab": {
     "base_uri": "https://localhost:8080/"
    },
    "id": "2079db39",
    "outputId": "26c60fcf-c5e0-4ece-dfdf-6138ebc4886e"
   },
   "outputs": [
    {
     "name": "stdout",
     "output_type": "stream",
     "text": [
      "----- Q6.35 530: 534.4072234303344 [OK] -----\n"
     ]
    },
    {
     "data": {
      "text/plain": [
       "True"
      ]
     },
     "execution_count": 91,
     "metadata": {},
     "output_type": "execute_result"
    }
   ],
   "source": [
    "sult = SULT()\n",
    "A = sult.whole_life_insurance(35, b=100000)\n",
    "a = sult.whole_life_annuity(35)\n",
    "P = sult.gross_premium(a=a, A=A, initial_premium=.19, renewal_premium=.04)\n",
    "isclose(530, P, question=\"Q6.35\")"
   ]
  },
  {
   "attachments": {},
   "cell_type": "markdown",
   "id": "fb8f3afc",
   "metadata": {
    "id": "c0b919c2"
   },
   "source": [
    "__SOA Question 6.36__ :  (B) 500\n"
   ]
  },
  {
   "cell_type": "code",
   "execution_count": 92,
   "id": "49e42b23",
   "metadata": {
    "colab": {
     "base_uri": "https://localhost:8080/"
    },
    "id": "f849ca70",
    "outputId": "b1200f3d-fe92-4dc4-8ac9-42b6194072f6"
   },
   "outputs": [
    {
     "name": "stdout",
     "output_type": "stream",
     "text": [
      "----- Q6.36 500: 500.0 [OK] -----\n"
     ]
    },
    {
     "data": {
      "text/plain": [
       "True"
      ]
     },
     "execution_count": 92,
     "metadata": {},
     "output_type": "execute_result"
    }
   ],
   "source": [
    "life = ConstantForce(mu=0.04).set_interest(delta=0.08)\n",
    "a = life.temporary_annuity(50, t=20, discrete=False)\n",
    "A = life.term_insurance(50, t=20, discrete=False)\n",
    "def fun(R):\n",
    "    return life.gross_premium(a=a, A=A, initial_premium=R/4500,\n",
    "                              renewal_premium=R/4500, benefit=100000)\n",
    "R = life.solve(fun, target=4500, grid=[400, 800])\n",
    "isclose(500, R, question=\"Q6.36\")"
   ]
  },
  {
   "attachments": {},
   "cell_type": "markdown",
   "id": "37990fc6",
   "metadata": {
    "id": "cc4c7356"
   },
   "source": [
    "__SOA Question 6.37__ :  (D) 820\n",
    "\n",
    "For a fully discrete whole life insurance policy of 50,000 on (35), with premiums payable for a maximum of 10 years, you are given:\n",
    "\n",
    "1. Expenses of 100 are payable at the end of each year including the year of death\n",
    "2. Mortality follows the Standard Ultimate Life Table\n",
    "3. $i = 0.05$\n",
    "\n",
    "Calculate the annual gross premium using the equivalence principle.\n"
   ]
  },
  {
   "cell_type": "code",
   "execution_count": 93,
   "id": "70ed87ab",
   "metadata": {
    "colab": {
     "base_uri": "https://localhost:8080/"
    },
    "id": "fa96592b",
    "outputId": "21e8c04c-d45f-4a90-9dc1-a718d7a908ec"
   },
   "outputs": [
    {
     "name": "stdout",
     "output_type": "stream",
     "text": [
      "----- Q6.37 820: 819.7190338249138 [OK] -----\n"
     ]
    },
    {
     "data": {
      "text/plain": [
       "True"
      ]
     },
     "execution_count": 93,
     "metadata": {},
     "output_type": "execute_result"
    }
   ],
   "source": [
    "sult = SULT()\n",
    "benefits = sult.whole_life_insurance(35, b=50000 + 100)\n",
    "expenses = sult.immediate_annuity(35, b=100)\n",
    "a = sult.temporary_annuity(35, t=10)\n",
    "P = (benefits + expenses) / a\n",
    "isclose(820, P, question=\"Q6.37\")"
   ]
  },
  {
   "attachments": {},
   "cell_type": "markdown",
   "id": "4d312833",
   "metadata": {
    "id": "07e0a134"
   },
   "source": [
    "__SOA Question 6.38__ :  (B) 11.3\n",
    "\n",
    "For an n-year endowment insurance of 1000 on (x), you are given:\n",
    "1. Death benefits are payable at the moment of death\n",
    "2. Premiums are payable annually at the beginning of each year\n",
    "3. Deaths are uniformly distributed over each year of age\n",
    "4. $i = 0.05$\n",
    "5. $_nE_x = 0.172$\n",
    "6. $\\overline{A}_{x:\\overline{n|}} = 0.192$\n",
    "\n",
    "Calculate the annual net premium for this insurance.\n"
   ]
  },
  {
   "cell_type": "code",
   "execution_count": 94,
   "id": "3b5ce3a5",
   "metadata": {
    "colab": {
     "base_uri": "https://localhost:8080/"
    },
    "id": "017b6427",
    "outputId": "537f2fb4-781e-4db9-fa08-5c5bfddb0ef1"
   },
   "outputs": [
    {
     "data": {
      "text/latex": [
       "\\begin{array}{lr}\n",
       "~\\texttt{Temporary Annuity}~a_{{x:\\overline{10|}}}~:=\\\\\n",
       "~~~\\ddot{a}_{{x:\\overline{10|}}} = [ 1 - ~A_{{x:\\overline{10|}}} ] / d& \\quad \\texttt{annuity twin}\\end{array}"
      ]
     },
     "metadata": {},
     "output_type": "display_data"
    },
    {
     "name": "stdout",
     "output_type": "stream",
     "text": [
      "----- Q6.38 11.3: 11.308644185253657 [OK] -----\n"
     ]
    },
    {
     "data": {
      "text/plain": [
       "True"
      ]
     },
     "execution_count": 94,
     "metadata": {},
     "output_type": "execute_result"
    }
   ],
   "source": [
    "x, n = 0, 10\n",
    "life = Recursion().set_interest(i=0.05)\\\n",
    "                  .set_A(0.192, x=x, t=n, endowment=1, discrete=False)\\\n",
    "                  .set_E(0.172, x=x, t=n)\n",
    "a = life.temporary_annuity(x, t=n, discrete=False)\n",
    "\n",
    "def fun(a):   # solve for discrete annuity, given continuous\n",
    "    life = Recursion(verbose=False).set_interest(i=0.05)\\\n",
    "                                   .set_a(a, x=x, t=n)\\\n",
    "                                   .set_E(0.172, x=x, t=n)\n",
    "    return UDD(m=0, life=life).temporary_annuity(x, t=n)\n",
    "a = life.solve(fun, target=a, grid=a)  # discrete annuity\n",
    "P = life.gross_premium(a=a, A=0.192, benefit=1000)\n",
    "isclose(11.3, P, question=\"Q6.38\")"
   ]
  },
  {
   "attachments": {},
   "cell_type": "markdown",
   "id": "67b38004",
   "metadata": {
    "id": "801638b7"
   },
   "source": [
    "__SOA Question 6.39__ :  (A) 29\n",
    "\n",
    "XYZ Insurance writes 10,000 fully discrete whole life insurance policies of 1000 on lives age 40 and an additional 10,000 fully discrete whole life policies of 1000 on lives age 80.\n",
    "\n",
    "XYZ used the following assumptions to determine the net premiums for these policies:\n",
    "\n",
    "1. Mortality follows the Standard Ultimate Life Table\n",
    "2. i = 0.05\n",
    "\n",
    "During the first ten years, mortality did follow the Standard Ultimate Life Table.\n",
    "\n",
    "Calculate the average net premium per policy in force received at the beginning of the eleventh year.\n"
   ]
  },
  {
   "cell_type": "code",
   "execution_count": 95,
   "id": "c7d6e0b3",
   "metadata": {
    "colab": {
     "base_uri": "https://localhost:8080/"
    },
    "id": "4f13b0f0",
    "outputId": "3bc9b157-e829-42ae-ebf9-2eaa8e0196e9"
   },
   "outputs": [
    {
     "name": "stdout",
     "output_type": "stream",
     "text": [
      "----- Q6.39 29: 29.033866427845496 [OK] -----\n"
     ]
    },
    {
     "data": {
      "text/plain": [
       "True"
      ]
     },
     "execution_count": 95,
     "metadata": {},
     "output_type": "execute_result"
    }
   ],
   "source": [
    "sult = SULT()\n",
    "P40 = sult.premium_equivalence(sult.whole_life_insurance(40), b=1000)\n",
    "P80 = sult.premium_equivalence(sult.whole_life_insurance(80), b=1000)\n",
    "p40 = sult.p_x(40, t=10)\n",
    "p80 = sult.p_x(80, t=10)\n",
    "P = (P40 * p40 + P80 * p80) / (p80 + p40)\n",
    "isclose(29, P, question=\"Q6.39\")"
   ]
  },
  {
   "attachments": {},
   "cell_type": "markdown",
   "id": "35ddc772",
   "metadata": {
    "id": "2654e85e"
   },
   "source": [
    "__SOA Question 6.40__ : (C) 116 \n",
    "\n",
    "For a special fully discrete whole life insurance, you are given:\n",
    "\n",
    "1. The death benefit is $1000(1.03)^k$ for death in policy year k, for $k = 1, 2, 3...$\n",
    "2. $q_x = 0.05$\n",
    "3. $i = 0.06$\n",
    "4. $\\ddot{a}_{x+1} = 7.00$\n",
    "5. The annual net premium for this insurance at issue age x is 110\n",
    "\n",
    "Calculate the annual net premium for this insurance at issue age $x + 1$.\n"
   ]
  },
  {
   "cell_type": "code",
   "execution_count": 96,
   "id": "63e936ea",
   "metadata": {
    "colab": {
     "base_uri": "https://localhost:8080/"
    },
    "id": "464ce774",
    "outputId": "6960e111-7723-4996-de30-1621183a2618"
   },
   "outputs": [
    {
     "data": {
      "text/latex": [
       "\\begin{array}{lr}\n",
       "~\\texttt{Whole Life Annuity}~\\ddot{a}_{{x}}~:=\\\\\n",
       "~~~\\ddot{a}_{{x}} = 1 + ~E_{x} * ~\\ddot{a}_{{x+1}}& \\quad \\texttt{backward recursion}\\\\\n",
       "~~~~~E_{x} = ~p_{x} * v& \\quad \\texttt{pure endowment}\\\\\n",
       "~~~~~~~p_{x} = 1 - ~q_{x}& \\quad \\texttt{complement of mortality}\\end{array}"
      ]
     },
     "metadata": {},
     "output_type": "display_data"
    },
    {
     "data": {
      "text/latex": [
       "\\begin{array}{lr}\n",
       "~\\texttt{Whole Life Insurance}~A_{{x+1}}~:=\\\\\n",
       "~~~A_{{x+1}} = [ ~A_{{x}} / v - ~q_{x+1} * b ] / ~p_{x+1}& \\quad \\texttt{forward recursion}\\\\\n",
       "~~~~~~~~~p_{x} = 1 - ~q_{x}& \\quad \\texttt{complement of mortality}\\end{array}"
      ]
     },
     "metadata": {},
     "output_type": "display_data"
    },
    {
     "name": "stdout",
     "output_type": "stream",
     "text": [
      "----- Q6.40 116: 116.51945397474269 [OK] -----\n"
     ]
    },
    {
     "data": {
      "text/plain": [
       "True"
      ]
     },
     "execution_count": 96,
     "metadata": {},
     "output_type": "execute_result"
    }
   ],
   "source": [
    "# - standard formula discounts/accumulates by too much (i should be smaller)\n",
    "x = 0\n",
    "life = Recursion().set_interest(i=0.06).set_a(7, x=x+1).set_q(0.05, x=x)\n",
    "a = life.whole_life_annuity(x)\n",
    "A = 110 * a / 1000\n",
    "life = Recursion().set_interest(i=0.06).set_A(A, x=x).set_q(0.05, x=x)\n",
    "A1 = life.whole_life_insurance(x+1)\n",
    "P = life.gross_premium(A=A1 / 1.03, a=7) * 1000\n",
    "isclose(116, P, question=\"Q6.40\")"
   ]
  },
  {
   "attachments": {},
   "cell_type": "markdown",
   "id": "2957cb91",
   "metadata": {
    "id": "fc621da9"
   },
   "source": [
    "__SOA Question 6.41__ :  (B) 1417\n",
    "\n",
    "\n",
    "For a special fully discrete 2-year term insurance on (x), you are given:\n",
    "1. $q_x = 0.01$\n",
    "2. $q_{x + 1} = 0.02$\n",
    "3. $i = 0.05$\n",
    "4. The death benefit in the first year is 100,000\n",
    "5. Both the benefits and premiums increase by 1% in the second year\n",
    "\n",
    "Calculate the annual net premium in the first year."
   ]
  },
  {
   "cell_type": "code",
   "execution_count": 97,
   "id": "6ac6a030",
   "metadata": {
    "colab": {
     "base_uri": "https://localhost:8080/"
    },
    "id": "a76e5f76",
    "outputId": "a7e2d0ff-e1d9-4685-9f04-32b9557003bc"
   },
   "outputs": [
    {
     "name": "stdout",
     "output_type": "stream",
     "text": [
      "----- Q6.41 1417: 1416.9332301924137 [OK] -----\n"
     ]
    },
    {
     "data": {
      "text/plain": [
       "True"
      ]
     },
     "execution_count": 97,
     "metadata": {},
     "output_type": "execute_result"
    }
   ],
   "source": [
    "x = 0\n",
    "life = LifeTable().set_interest(i=0.05).set_table(q={x:.01, x+1:.02})\n",
    "a = 1 + life.E_x(x, t=1) * 1.01\n",
    "A = life.deferred_insurance(x, u=0, t=1) + 1.01*life.deferred_insurance(x, u=1, t=1)\n",
    "P = 100000 * A / a\n",
    "isclose(1417, P, question=\"Q6.41\")"
   ]
  },
  {
   "attachments": {},
   "cell_type": "markdown",
   "id": "00305fe9",
   "metadata": {
    "id": "88c94cf0"
   },
   "source": [
    "__SOA Question 6.42__ :  (D) 0.113\n"
   ]
  },
  {
   "cell_type": "code",
   "execution_count": 98,
   "id": "5d0d410b",
   "metadata": {
    "colab": {
     "base_uri": "https://localhost:8080/"
    },
    "id": "b7ba7db5",
    "outputId": "486cac14-847e-415b-f58b-512cd3e4c7a6"
   },
   "outputs": [
    {
     "name": "stdout",
     "output_type": "stream",
     "text": [
      "----- Q6.42 0.113: 0.11307956328284252 [OK] -----\n"
     ]
    },
    {
     "data": {
      "text/plain": [
       "True"
      ]
     },
     "execution_count": 98,
     "metadata": {},
     "output_type": "execute_result"
    }
   ],
   "source": [
    "x = 0\n",
    "life = ConstantForce(mu=0.06).set_interest(delta=0.06)\n",
    "contract = Contract(discrete=True, premium=315.8, \n",
    "                    T=3, endowment=1000, benefit=1000)\n",
    "L = [life.L_from_t(t, contract=contract) for t in range(3)]    # L(t)\n",
    "Q = [life.q_x(x, u=u, t=1) for u in range(3)]              # prob(die in year t)\n",
    "Q[-1] = 1 - sum(Q[:-1])   # follows SOA Solution: incorrectly treats endowment!\n",
    "p = sum([q for (q, l) in zip (Q, L) if l > 0])\n",
    "isclose(0.113, p, question=\"Q6.42\")"
   ]
  },
  {
   "attachments": {},
   "cell_type": "markdown",
   "id": "146ac54b",
   "metadata": {
    "id": "61779531"
   },
   "source": [
    "__SOA Question 6.43__ :  (C) 170\n",
    "\n",
    "For a fully discrete, 5-payment 10-year term insurance of 200,000 on (30), you are given:\n",
    "1. Mortality follows the Standard Ultimate Life Table\n",
    "2. The following expenses are incurred at the beginning of each respective year:\n",
    "\n",
    "| | Percent of Premium | Per Policy | Percent of Premium | Per Policy |\n",
    "|---|---|---|---|---|\n",
    "| | Year 1 | Year 1 | Years 2 - 10 | Years 2 - 10 |\n",
    "| Taxes | 5% | 0 | 5% | 0 |\n",
    "| Commissions | 30% | 0 | 10% | 0 |\n",
    "| Maintenance | 0% | 8 | 0% | 4 |\n",
    "\n",
    "3. i = 0.05\n",
    "4. $\\ddot{a}_{30:\\overline{5|}} = 4.5431$\n",
    "\n",
    "Calculate the annual gross premium using the equivalence principle.\n",
    "\n",
    "- although 10-year term, premiums only paid first first years: separately calculate the EPV of per-policy maintenance expenses in years 6-10 and treat as additional initial expense"
   ]
  },
  {
   "cell_type": "code",
   "execution_count": 99,
   "id": "50d0e1ea",
   "metadata": {
    "colab": {
     "base_uri": "https://localhost:8080/"
    },
    "id": "acfc0713",
    "outputId": "5b2db075-b4a6-4c73-f692-3ac4fe7136d2"
   },
   "outputs": [
    {
     "name": "stdout",
     "output_type": "stream",
     "text": [
      "----- Q6.43 170: 171.22371939459944 [OK] -----\n"
     ]
    },
    {
     "data": {
      "text/plain": [
       "True"
      ]
     },
     "execution_count": 99,
     "metadata": {},
     "output_type": "execute_result"
    }
   ],
   "source": [
    "sult = SULT()\n",
    "a = sult.temporary_annuity(30, t=5)\n",
    "A = sult.term_insurance(30, t=10)\n",
    "other_expenses = 4 * sult.deferred_annuity(30, u=5, t=5)\n",
    "P = sult.gross_premium(a=a, A=A, benefit=200000, initial_premium=0.35,\n",
    "                       initial_policy=8 + other_expenses, renewal_policy=4,\n",
    "                       renewal_premium=0.15)\n",
    "isclose(170, P, question=\"Q6.43\")"
   ]
  },
  {
   "attachments": {},
   "cell_type": "markdown",
   "id": "a07a577d",
   "metadata": {
    "id": "9c97699e"
   },
   "source": [
    "__SOA Question 6.44__ :  (D) 2.18\n"
   ]
  },
  {
   "cell_type": "code",
   "execution_count": 100,
   "id": "fb52ae77",
   "metadata": {
    "colab": {
     "base_uri": "https://localhost:8080/"
    },
    "id": "11930092",
    "outputId": "1bb43750-0704-4c99-81f5-a4462e81cc4d"
   },
   "outputs": [
    {
     "data": {
      "text/latex": [
       "\\begin{array}{lr}\n",
       "~\\texttt{Whole Life Insurance}~A_{{x+60}}~:=\\\\\n",
       "~~~\\ddot{a}_{{x+60}} = [ 1 - ~A_{{x+60}} ] / d& \\quad \\texttt{annuity twin}\\end{array}"
      ]
     },
     "metadata": {},
     "output_type": "display_data"
    },
    {
     "data": {
      "text/latex": [
       "\\begin{array}{lr}\n",
       "~\\texttt{Whole Life Insurance}~A_{{x+60}}~:=\\\\\n",
       "~~~\\ddot{a}_{{x+60}} = [ 1 - ~A_{{x+60}} ] / d& \\quad \\texttt{annuity twin}\\end{array}"
      ]
     },
     "metadata": {},
     "output_type": "display_data"
    },
    {
     "data": {
      "text/latex": [
       "\\begin{array}{lr}\n",
       "~\\texttt{Whole Life Insurance}~A_{{x+60}}~:=\\\\\n",
       "~~~\\ddot{a}_{{x+60}} = [ 1 - ~A_{{x+60}} ] / d& \\quad \\texttt{annuity twin}\\end{array}"
      ]
     },
     "metadata": {},
     "output_type": "display_data"
    },
    {
     "name": "stdout",
     "output_type": "stream",
     "text": [
      "----- Q6.44 2.2: 2.183803457688809 [OK] -----\n"
     ]
    },
    {
     "data": {
      "text/plain": [
       "True"
      ]
     },
     "execution_count": 100,
     "metadata": {},
     "output_type": "execute_result"
    }
   ],
   "source": [
    "life = Recursion().set_interest(i=0.05)\\\n",
    "                  .set_IA(0.15, x=50, t=10)\\\n",
    "                  .set_a(17, x=50)\\\n",
    "                  .set_a(15, x=60)\\\n",
    "                  .set_E(0.6, x=50, t=10)\n",
    "A = life.deferred_insurance(50, u=10)\n",
    "IA = life.increasing_insurance(50, t=10)\n",
    "a = life.temporary_annuity(50, t=10)\n",
    "P = life.gross_premium(a=a, A=A, IA=IA, benefit=100)\n",
    "isclose(2.2, P, question=\"Q6.44\")"
   ]
  },
  {
   "attachments": {},
   "cell_type": "markdown",
   "id": "47478a00",
   "metadata": {
    "id": "96ebbff1"
   },
   "source": [
    "__SOA Question 6.45__ :  (E) 690\n",
    "\n",
    "For a fully continuous whole life insurance of 100,000 on\n",
    "(35), you are given:\n",
    "\n",
    "1. The annual rate of premium is 560\n",
    "\n",
    "2. Mortality follows the Standard Ultimate Life Table\n",
    "\n",
    "3. Deaths are uniformly distributed over each year of age\n",
    "\n",
    "4. *i* = 0.05\n",
    "\n",
    "Calculate the 75th percentile of the loss at issue random variable for\n",
    "this policy.\n"
   ]
  },
  {
   "cell_type": "code",
   "execution_count": 101,
   "id": "9cb14a2c",
   "metadata": {
    "colab": {
     "base_uri": "https://localhost:8080/",
     "height": 522
    },
    "id": "e434ceb8",
    "outputId": "36a56753-5525-44d3-8341-84f3645c71e4"
   },
   "outputs": [
    {
     "name": "stdout",
     "output_type": "stream",
     "text": [
      "----- Q6.45 690: 689.2659416264196 [OK] -----\n"
     ]
    },
    {
     "data": {
      "text/plain": [
       "True"
      ]
     },
     "execution_count": 101,
     "metadata": {},
     "output_type": "execute_result"
    },
    {
     "data": {
      "image/png": "[encoded data removed]",
      "text/plain": [
       "<Figure size 640x480 with 1 Axes>"
      ]
     },
     "metadata": {},
     "output_type": "display_data"
    }
   ],
   "source": [
    "life = SULT(udd=True)\n",
    "contract = Contract(benefit=100000, premium=560, discrete=False)\n",
    "L = life.L_from_prob(x=35, prob=0.75, contract=contract)\n",
    "life.L_plot(x=35, contract=contract, \n",
    "            T=life.L_to_t(L=L, contract=contract))\n",
    "isclose(690, L, question=\"Q6.45\")"
   ]
  },
  {
   "attachments": {},
   "cell_type": "markdown",
   "id": "a3552b9f",
   "metadata": {
    "id": "96fbe650"
   },
   "source": [
    "__SOA Question 6.46__ :  (E) 208\n"
   ]
  },
  {
   "cell_type": "code",
   "execution_count": 102,
   "id": "9eddfd06",
   "metadata": {
    "colab": {
     "base_uri": "https://localhost:8080/"
    },
    "id": "4467d9db",
    "outputId": "1e064427-1d40-4524-eb59-e5765a4cd8da"
   },
   "outputs": [
    {
     "name": "stdout",
     "output_type": "stream",
     "text": [
      "----- Q6.46 208: 208.12282139036515 [OK] -----\n"
     ]
    },
    {
     "data": {
      "text/plain": [
       "True"
      ]
     },
     "execution_count": 102,
     "metadata": {},
     "output_type": "execute_result"
    }
   ],
   "source": [
    "life = Recursion().set_interest(i=0.05)\\\n",
    "                  .set_IA(0.51213, x=55, t=10)\\\n",
    "                  .set_a(12.2758, x=55)\\\n",
    "                  .set_a(7.4575, x=55, t=10)\n",
    "A = life.deferred_annuity(55, u=10)\n",
    "IA = life.increasing_insurance(55, t=10)\n",
    "a = life.temporary_annuity(55, t=10)\n",
    "P = life.gross_premium(a=a, A=A, IA=IA, benefit=300)\n",
    "isclose(208, P, question=\"Q6.46\")"
   ]
  },
  {
   "attachments": {},
   "cell_type": "markdown",
   "id": "5695fa62",
   "metadata": {
    "id": "6eb80e22"
   },
   "source": [
    "__SOA Question 6.47__ :  (D) 66400\n",
    "\n",
    "For a 10-year deferred whole life annuity-due with payments of 100,000 per year on (70), you are given:\n",
    "1. Annual gross premiums of $G$ are payable for 10 years\n",
    "2. First year expenses are 75% of premium\n",
    "3. Renewal expenses for years 2 and later are 5% of premium during the premium paying period\n",
    "4. Mortality follows the Standard Ultimate Life Table\n",
    "5. i = 0.05\n",
    "\n",
    "Calculate $G$ using the equivalence principle.\n"
   ]
  },
  {
   "cell_type": "code",
   "execution_count": 103,
   "id": "2e612756",
   "metadata": {
    "colab": {
     "base_uri": "https://localhost:8080/"
    },
    "id": "5f701e65",
    "outputId": "87db7fc3-48dc-45b0-db79-6de75a5444c2"
   },
   "outputs": [
    {
     "name": "stdout",
     "output_type": "stream",
     "text": [
      "----- Q6.47 66400: 66384.13293704337 [OK] -----\n"
     ]
    },
    {
     "data": {
      "text/plain": [
       "True"
      ]
     },
     "execution_count": 103,
     "metadata": {},
     "output_type": "execute_result"
    }
   ],
   "source": [
    "sult = SULT()\n",
    "a = sult.temporary_annuity(70, t=10)\n",
    "A = sult.deferred_annuity(70, u=10)\n",
    "P = sult.gross_premium(a=a, A=A, benefit=100000, initial_premium=0.75,\n",
    "                        renewal_premium=0.05)\n",
    "isclose(66400, P, question=\"Q6.47\")"
   ]
  },
  {
   "attachments": {},
   "cell_type": "markdown",
   "id": "4e6c0968",
   "metadata": {
    "id": "7ed3e46c"
   },
   "source": [
    "__SOA Question 6.48__ :  (A) 3195\n",
    "\n",
    "For a special fully discrete 5-year deferred 3-year term insurance of 100,000 on (x) you are given:\n",
    "1. There are two premium payments, each equal to P . The first is paid at the beginning of the first year and the second is paid at the end of the 5-year deferral period\n",
    "2. $p_x = 0.95$\n",
    "3. $q_{x + 5} = 0.02$\n",
    "4. $q_{x + 6} = 0.03$\n",
    "5. $q_{x + 7} = 0.04$\n",
    "6. $i = 0.06$\n",
    "\n",
    "Calculate P using the equivalence principle.\n"
   ]
  },
  {
   "cell_type": "code",
   "execution_count": 104,
   "id": "35b9aba4",
   "metadata": {
    "colab": {
     "base_uri": "https://localhost:8080/"
    },
    "id": "022f6301",
    "outputId": "68a325b9-2d97-476d-bfc2-e0c36019dcb4"
   },
   "outputs": [
    {
     "data": {
      "text/latex": [
       "\\begin{array}{lr}\n",
       "~\\texttt{Pure Endowment}~_{5}E_{x}~:=\\\\\n",
       "~~~_{5}E_{x} = ~_{5}p_{x} * v^{5}& \\quad \\texttt{pure endowment}\\end{array}"
      ]
     },
     "metadata": {},
     "output_type": "display_data"
    },
    {
     "data": {
      "text/latex": [
       "\\begin{array}{lr}\n",
       "~\\texttt{Pure Endowment}~_{5}E_{x}~:=\\\\\n",
       "~~~_{5}E_{x} = ~_{5}p_{x} * v^{5}& \\quad \\texttt{pure endowment}\\end{array}"
      ]
     },
     "metadata": {},
     "output_type": "display_data"
    },
    {
     "data": {
      "text/latex": [
       "\\begin{array}{lr}\n",
       "~\\texttt{Term Insurance}~A^1_{{x+5:\\overline{3|}}}~:=\\\\\n",
       "~~~~~~~~~~~A^1_{{x+5:\\overline{1|}}} = ~A_{{x+5:\\overline{1|}}} - ~E_{x+5}& \\quad \\texttt{endowment insurance - pure}\\\\\n",
       "~~~~~A_{{x+5:\\overline{3|}}} = ~A^1_{{x+5:\\overline{3|}}} + ~_{3}E_{x+5}& \\quad \\texttt{term plus pure endowment}\\\\\n",
       "~~~~~~~_{3}E_{x+5} = ~_{3}p_{x+5} * v^{3}& \\quad \\texttt{pure endowment}\\\\\n",
       "~~~~~~~~~_{3}p_{x+5} = ~_{2}p_{x+6} * ~p_{x+5}& \\quad \\texttt{survival chain rule}\\\\\n",
       "~~~~~~~~~~~_{2}p_{x+6} = ~p_{x+7} * ~p_{x+6}& \\quad \\texttt{survival chain rule}\\\\\n",
       "~~~~~~~A^1_{{x+5:\\overline{3|}}} = ~A_{{x+5:\\overline{3|}}} - ~_{3}E_{x+5}& \\quad \\texttt{endowment insurance - pure}\\\\\n",
       "~~~~~~~~~_{3}E_{x+5} = ~E_{x+5} * ~_{2}E_{x+6}& \\quad \\texttt{pure endowment chain rule}\\\\\n",
       "~~~~~~~~~~~_{2}E_{x+6} = ~E_{x+6} * ~E_{x+7}& \\quad \\texttt{pure endowment chain rule}\\\\\n",
       "~~~~~~~~~~~~~E_{x+7} = ~p_{x+7} * v& \\quad \\texttt{pure endowment}\\\\\n",
       "~~~~~~~~~~~~~E_{x+6} = ~p_{x+6} * v& \\quad \\texttt{pure endowment}\\\\\n",
       "~~~~~~~~~~~E_{x+5} = ~p_{x+5} * v& \\quad \\texttt{pure endowment}\\\\\n",
       "~~~~~~~~~~~~~p_{x+7} = 1 - ~q_{x+7}& \\quad \\texttt{complement of mortality}\\\\\n",
       "~~~~~~~~~A^1_{{x+5:\\overline{3|}}} = v * [ ~q_{x+5} * b + ~p_{x+5} * ~A^1_{{x+6:\\overline{2|}}} ]& \\quad \\texttt{backward recursion}\\\\\n",
       "~~~~~~~~~~~A^1_{{x+6:\\overline{2|}}} = v * [ ~q_{x+6} * b + ~p_{x+6} * ~A^1_{{x+7:\\overline{1|}}} ]& \\quad \\texttt{backward recursion}\\\\\n",
       "~~~~~~~~~~~~~p_{x+6} = 1 - ~q_{x+6}& \\quad \\texttt{complement of mortality}\\\\\n",
       "~~~~~~~~~~~~~p_{x+5} = 1 - ~q_{x+5}& \\quad \\texttt{complement of mortality}\\end{array}"
      ]
     },
     "metadata": {},
     "output_type": "display_data"
    },
    {
     "data": {
      "text/latex": [
       "\\begin{array}{lr}\n",
       "~\\texttt{Term Insurance}~A^1_{{x+5:\\overline{3|}}}~:=\\\\\n",
       "~~~~~~~~~~~A^1_{{x+5:\\overline{1|}}} = ~A_{{x+5:\\overline{1|}}} - ~E_{x+5}& \\quad \\texttt{endowment insurance - pure}\\\\\n",
       "~~~~~A_{{x+5:\\overline{3|}}} = ~A^1_{{x+5:\\overline{3|}}} + ~_{3}E_{x+5}& \\quad \\texttt{term plus pure endowment}\\\\\n",
       "~~~~~~~_{3}E_{x+5} = ~_{3}p_{x+5} * v^{3}& \\quad \\texttt{pure endowment}\\\\\n",
       "~~~~~~~~~_{3}p_{x+5} = ~_{2}p_{x+6} * ~p_{x+5}& \\quad \\texttt{survival chain rule}\\\\\n",
       "~~~~~~~~~~~_{2}p_{x+6} = ~p_{x+7} * ~p_{x+6}& \\quad \\texttt{survival chain rule}\\\\\n",
       "~~~~~~~A^1_{{x+5:\\overline{3|}}} = ~A_{{x+5:\\overline{3|}}} - ~_{3}E_{x+5}& \\quad \\texttt{endowment insurance - pure}\\\\\n",
       "~~~~~~~~~_{3}E_{x+5} = ~E_{x+5} * ~_{2}E_{x+6}& \\quad \\texttt{pure endowment chain rule}\\\\\n",
       "~~~~~~~~~~~_{2}E_{x+6} = ~E_{x+6} * ~E_{x+7}& \\quad \\texttt{pure endowment chain rule}\\\\\n",
       "~~~~~~~~~~~~~E_{x+7} = ~p_{x+7} * v& \\quad \\texttt{pure endowment}\\\\\n",
       "~~~~~~~~~~~~~E_{x+6} = ~p_{x+6} * v& \\quad \\texttt{pure endowment}\\\\\n",
       "~~~~~~~~~~~E_{x+5} = ~p_{x+5} * v& \\quad \\texttt{pure endowment}\\\\\n",
       "~~~~~~~~~~~~~p_{x+7} = 1 - ~q_{x+7}& \\quad \\texttt{complement of mortality}\\\\\n",
       "~~~~~~~~~A^1_{{x+5:\\overline{3|}}} = v * [ ~q_{x+5} * b + ~p_{x+5} * ~A^1_{{x+6:\\overline{2|}}} ]& \\quad \\texttt{backward recursion}\\\\\n",
       "~~~~~~~~~~~A^1_{{x+6:\\overline{2|}}} = v * [ ~q_{x+6} * b + ~p_{x+6} * ~A^1_{{x+7:\\overline{1|}}} ]& \\quad \\texttt{backward recursion}\\\\\n",
       "~~~~~~~~~~~~~p_{x+6} = 1 - ~q_{x+6}& \\quad \\texttt{complement of mortality}\\\\\n",
       "~~~~~~~~~~~~~p_{x+5} = 1 - ~q_{x+5}& \\quad \\texttt{complement of mortality}\\end{array}"
      ]
     },
     "metadata": {},
     "output_type": "display_data"
    },
    {
     "name": "stdout",
     "output_type": "stream",
     "text": [
      "----- Q6.48 3195: 3195.118917658744 [OK] -----\n"
     ]
    },
    {
     "data": {
      "text/plain": [
       "True"
      ]
     },
     "execution_count": 104,
     "metadata": {},
     "output_type": "execute_result"
    }
   ],
   "source": [
    "x = 0\n",
    "life = Recursion(depth=5).set_interest(i=0.06)\\\n",
    "                         .set_p(.95, x=x, t=5)\\\n",
    "                         .set_q(.02, x=x+5)\\\n",
    "                         .set_q(.03, x=x+6)\\\n",
    "                         .set_q(.04, x=x+7)\n",
    "a = 1 + life.E_x(x, t=5)\n",
    "A = life.deferred_insurance(x, u=5, t=3)\n",
    "P = life.gross_premium(A=A, a=a, benefit=100000)\n",
    "isclose(3195, P, question=\"Q6.48\")"
   ]
  },
  {
   "attachments": {},
   "cell_type": "markdown",
   "id": "05d9aeec",
   "metadata": {
    "id": "3d130096"
   },
   "source": [
    "__SOA Question 6.49__ :  (C) 86\n",
    "\n",
    "For a special whole life insurance of 100,000 on (40), you are given:\n",
    "1. The death benefit is payable at the moment of death\n",
    "2. Level gross premiums are payable monthly for a maximum of 20 years\n",
    "3. Mortality follows the Standard Ultimate Life Table\n",
    "4. $i = 0.05$\n",
    "5. Deaths are uniformly distributed over each year of age\n",
    "6. Initial expenses are 200\n",
    "7. Renewal expenses are 4% of each premium including the first\n",
    "8. Gross premiums are calculated using the equivalence principle\n",
    "\n",
    "Calculate the monthly gross premium.\n"
   ]
  },
  {
   "cell_type": "code",
   "execution_count": 105,
   "id": "481147ab",
   "metadata": {
    "colab": {
     "base_uri": "https://localhost:8080/"
    },
    "id": "c0fe3957",
    "outputId": "6593ce49-458a-4489-e5a9-edfde9e285f6"
   },
   "outputs": [
    {
     "name": "stdout",
     "output_type": "stream",
     "text": [
      "----- Q6.49 86: 85.99177833261696 [OK] -----\n"
     ]
    },
    {
     "data": {
      "text/plain": [
       "True"
      ]
     },
     "execution_count": 105,
     "metadata": {},
     "output_type": "execute_result"
    }
   ],
   "source": [
    "sult = SULT(udd=True)\n",
    "a = UDD(m=12, life=sult).temporary_annuity(40, t=20)\n",
    "A = sult.whole_life_insurance(40, discrete=False)\n",
    "P = sult.gross_premium(a=a, A=A, benefit=100000, initial_policy=200,\n",
    "                       renewal_premium=0.04, initial_premium=0.04) / 12\n",
    "isclose(86, P, question=\"Q6.49\")"
   ]
  },
  {
   "attachments": {},
   "cell_type": "markdown",
   "id": "6c0b12db",
   "metadata": {
    "id": "c442a990"
   },
   "source": [
    "__SOA Question 6.50__ :  (A) -47000\n",
    "\n",
    "On July 15, 2017, XYZ Corp buys fully discrete whole life\n",
    "insurance policies of 1,000 on each\n",
    "of its 10,000 workers, all age 35. It uses the death benefits to partially pay the premiums for the following year.\n",
    "\n",
    "You are given:\n",
    "\n",
    "1. Mortality follows the Standard Ultimate Life Table\n",
    "\n",
    "2. *i* = 0.05\n",
    "\n",
    "3. The insurance is priced using the equivalence principle\n",
    "\n",
    "Calculate XYZ Corp's expected net cash flow from these policies during\n",
    "July 2018.\n"
   ]
  },
  {
   "cell_type": "code",
   "execution_count": 106,
   "id": "428adc5c",
   "metadata": {
    "colab": {
     "base_uri": "https://localhost:8080/"
    },
    "id": "f5713876",
    "outputId": "026de178-685d-4d57-f4d4-c90fe5b5a27b"
   },
   "outputs": [
    {
     "name": "stdout",
     "output_type": "stream",
     "text": [
      "----- Q6.50 -47000: -46948.2187697819 [OK] -----\n"
     ]
    },
    {
     "data": {
      "text/plain": [
       "True"
      ]
     },
     "execution_count": 106,
     "metadata": {},
     "output_type": "execute_result"
    }
   ],
   "source": [
    "life = SULT()\n",
    "P = life.premium_equivalence(a=life.whole_life_annuity(35), b=1000) \n",
    "a = life.deferred_annuity(35, u=1, t=1)\n",
    "A = life.term_insurance(35, t=1, b=1000)\n",
    "cash = (A - a * P) * 10000 / life.interest.v\n",
    "isclose(-47000, cash, question=\"Q6.50\")"
   ]
  },
  {
   "attachments": {},
   "cell_type": "markdown",
   "id": "4e1ad05d",
   "metadata": {
    "id": "8aa16e1d"
   },
   "source": [
    "__SOA Question 6.51__ :  (D) 34700\n"
   ]
  },
  {
   "cell_type": "code",
   "execution_count": 107,
   "id": "90a0a01f",
   "metadata": {
    "colab": {
     "base_uri": "https://localhost:8080/"
    },
    "id": "7def4285",
    "outputId": "ca87ff06-ba3f-49ab-dd99-d56113c7197d"
   },
   "outputs": [
    {
     "data": {
      "text/latex": [
       "\\begin{array}{lr}\n",
       "~\\texttt{Increasing Insurance}~(IA)_{{x+62:\\overline{10|}}}~:=\\\\\n",
       "~~~(IA)_{{x+62:\\overline{10|}}} = 11 ~A^1_{{x+62:\\overline{10|}}} - ~(DA)_{{x+62:\\overline{10|}}}& \\quad \\texttt{varying insurance identity}\\end{array}"
      ]
     },
     "metadata": {},
     "output_type": "display_data"
    },
    {
     "name": "stdout",
     "output_type": "stream",
     "text": [
      "----- Q6.51 34700: 34687.207544453246 [OK] -----\n"
     ]
    },
    {
     "data": {
      "text/plain": [
       "True"
      ]
     },
     "execution_count": 107,
     "metadata": {},
     "output_type": "execute_result"
    }
   ],
   "source": [
    "life = Recursion().set_DA(0.4891, x=62, t=10)\\\n",
    "                   .set_A(0.0910, x=62, t=10)\\\n",
    "                   .set_a(12.2758, x=62)\\\n",
    "                   .set_a(7.4574, x=62, t=10)\n",
    "IA = life.increasing_insurance(62, t=10)\n",
    "A = life.deferred_annuity(62, u=10)\n",
    "a = life.temporary_annuity(62, t=10)\n",
    "P = life.gross_premium(a=a, A=A, IA=IA, benefit=50000)\n",
    "isclose(34700, P, question=\"Q6.51\")"
   ]
  },
  {
   "attachments": {},
   "cell_type": "markdown",
   "id": "a08b0ded",
   "metadata": {
    "id": "8e1e6a29"
   },
   "source": [
    "__SOA Question 6.52__ :  (D) 50.80\n",
    "\n",
    "For a fully discrete 10-payment whole life insurance of H on (45), you are given:\n",
    "1. Expenses payable at the beginning of each year are as follows:\n",
    "\n",
    "| Expense Type | First Year | Years 2-10 | Years 11+ |\n",
    "|---|---|---|---|\n",
    "| Per policy | 100 | 20 | 10 |\n",
    "| % of Premium |105% | 5% | 0% |\n",
    "\n",
    "2. Mortality follows the Standard Ultimate Life Table\n",
    "3. i = 0.05\n",
    "4. The gross annual premium, calculated using the equivalence principle, is of the form $G = gH + f$, where $g$ is the premium rate per 1 of insurance and $f$ is the per policy fee\n",
    "\n",
    "Calculate $f$.\n",
    "\n",
    "- set face value benefits to 0\n"
   ]
  },
  {
   "cell_type": "code",
   "execution_count": 108,
   "id": "fdc73497",
   "metadata": {
    "colab": {
     "base_uri": "https://localhost:8080/"
    },
    "id": "4529d7f9",
    "outputId": "990c0666-fe37-49aa-c328-51104bc2da6b"
   },
   "outputs": [
    {
     "name": "stdout",
     "output_type": "stream",
     "text": [
      "----- Q6.52 50.8: 50.80135534704229 [OK] -----\n"
     ]
    },
    {
     "data": {
      "text/plain": [
       "True"
      ]
     },
     "execution_count": 108,
     "metadata": {},
     "output_type": "execute_result"
    }
   ],
   "source": [
    "sult = SULT()\n",
    "a = sult.temporary_annuity(45, t=10)\n",
    "other_cost = 10 * sult.deferred_annuity(45, u=10)\n",
    "P = sult.gross_premium(a=a, A=0, benefit=0,    # set face value H = 0\n",
    "                       initial_premium=1.05, renewal_premium=0.05,\n",
    "                       initial_policy=100 + other_cost, renewal_policy=20)\n",
    "isclose(50.8, P, question=\"Q6.52\")"
   ]
  },
  {
   "attachments": {},
   "cell_type": "markdown",
   "id": "36f94ef8",
   "metadata": {
    "id": "1d1fd427"
   },
   "source": [
    "__SOA Question 6.53__ :  (D) 720\n",
    "\n",
    "A warranty pays 2000 at the end of the year of the first failure if a washing machine fails within\n",
    "three years of purchase. The warranty is purchased with a single premium, G, paid at the time of\n",
    "purchase of the washing machine.\n",
    "You are given:\n",
    "1. 10% of the washing machines that are working at the start of each year fail by the end of that year\n",
    "2. *i* = 0.08\n",
    "3. The sales commission is 35% of G\n",
    "4. G is calculated using the equivalence principle\n",
    "\n",
    "Calculate G.\n",
    "\n"
   ]
  },
  {
   "cell_type": "code",
   "execution_count": 109,
   "id": "fe92dd0c",
   "metadata": {
    "colab": {
     "base_uri": "https://localhost:8080/"
    },
    "id": "a9d23ae6",
    "outputId": "831df386-d243-4a38-8135-aff0e29af063"
   },
   "outputs": [
    {
     "name": "stdout",
     "output_type": "stream",
     "text": [
      "----- Q6.53 720: 720.1646090534978 [OK] -----\n"
     ]
    },
    {
     "data": {
      "text/plain": [
       "True"
      ]
     },
     "execution_count": 109,
     "metadata": {},
     "output_type": "execute_result"
    }
   ],
   "source": [
    "x = 0\n",
    "life = LifeTable().set_interest(i=0.08).set_table(q={x:.1, x+1:.1, x+2:.1})\n",
    "A = life.term_insurance(x, t=3)\n",
    "P = life.gross_premium(a=1, A=A, benefit=2000, initial_premium=0.35)\n",
    "isclose(720, P, question=\"Q6.53\")"
   ]
  },
  {
   "attachments": {},
   "cell_type": "markdown",
   "id": "fec65905",
   "metadata": {
    "id": "41e939f0"
   },
   "source": [
    "__SOA Question 6.54__ :  (A) 25440\n",
    "\n",
    "For a fully discrete whole life insurance of 200,000 on (45),\n",
    "you are given:\n",
    "\n",
    "1. Mortality follows the Standard Ultimate Life Table.\n",
    "\n",
    "2. *i* = 0.05\n",
    "\n",
    "3. The annual premium is determined using the equivalencep rinciple.\n",
    "\n",
    "Calculate the standard deviation of\n",
    "$_0L$ , the present value random variable for the loss at issue. \n",
    "\n",
    "[A modified version of Question 12 on the Fall 2017 exam]\n"
   ]
  },
  {
   "cell_type": "code",
   "execution_count": 110,
   "id": "d9854369",
   "metadata": {
    "colab": {
     "base_uri": "https://localhost:8080/"
    },
    "id": "2ea3fc85",
    "outputId": "d1d9bcd6-0894-4605-dd25-3f4a44d69c89"
   },
   "outputs": [
    {
     "name": "stdout",
     "output_type": "stream",
     "text": [
      "----- Q6.54 25440: 25441.694847703857 [OK] -----\n"
     ]
    },
    {
     "data": {
      "text/plain": [
       "True"
      ]
     },
     "execution_count": 110,
     "metadata": {},
     "output_type": "execute_result"
    }
   ],
   "source": [
    "life = SULT()\n",
    "std = math.sqrt(life.net_policy_variance(45, b=200000))\n",
    "isclose(25440, std, question=\"Q6.54\")"
   ]
  },
  {
   "attachments": {},
   "cell_type": "markdown",
   "id": "9840accd",
   "metadata": {
    "id": "04a31b19"
   },
   "source": [
    "## 7 Policy Values"
   ]
  },
  {
   "attachments": {},
   "cell_type": "markdown",
   "id": "634c2bb9",
   "metadata": {
    "id": "b265fc75"
   },
   "source": [
    "__SOA Question 7.1__ :  (C) 11150\n",
    "\n",
    "For a special fully discrete whole life insurance on (40), you\n",
    "are given:\n",
    "\n",
    "1. The death benefit is 50,000 in the first 20 years and 100,000\n",
    " thereafter\n",
    "\n",
    "2. Level net premiums of 875 are payable for 20 years\n",
    "\n",
    "3. Mortality follows the Standard Ultimate Life Table\n",
    "\n",
    "4. *i* = 0.05\n",
    "\n",
    " Calculate $_{10}V$ the net premium policy value at the end of year 10\n",
    " for this insurance.\n"
   ]
  },
  {
   "cell_type": "code",
   "execution_count": 111,
   "id": "9cfb2e96",
   "metadata": {
    "colab": {
     "base_uri": "https://localhost:8080/"
    },
    "id": "628c0418",
    "outputId": "e3e2ec59-0e2b-420a-9277-44542270cafa"
   },
   "outputs": [
    {
     "name": "stdout",
     "output_type": "stream",
     "text": [
      "----- Q7.1 11150: 11152.108749338717 [OK] -----\n"
     ]
    },
    {
     "data": {
      "text/plain": [
       "True"
      ]
     },
     "execution_count": 111,
     "metadata": {},
     "output_type": "execute_result"
    }
   ],
   "source": [
    "life = SULT()\n",
    "x, n, t = 40, 20, 10\n",
    "A = (life.whole_life_insurance(x+t, b=50000)\n",
    "     + life.deferred_insurance(x+t, u=n-t, b=50000))\n",
    "a = life.temporary_annuity(x+t, t=n-t, b=875)\n",
    "L = life.gross_future_loss(A=A, a=a)\n",
    "isclose(11150, L, question=\"Q7.1\")"
   ]
  },
  {
   "attachments": {},
   "cell_type": "markdown",
   "id": "3ff96ba2",
   "metadata": {
    "id": "40760dac"
   },
   "source": [
    "__SOA Question 7.2__ :  (C) 1152\n"
   ]
  },
  {
   "cell_type": "code",
   "execution_count": 112,
   "id": "cdccf180",
   "metadata": {
    "colab": {
     "base_uri": "https://localhost:8080/"
    },
    "id": "76adf1c8",
    "outputId": "1a57e6cf-fa97-421f-eb4b-e007ddbdecb1"
   },
   "outputs": [
    {
     "name": "stdout",
     "output_type": "stream",
     "text": [
      "----- Q7.2 1152: 1151.5151515151515 [OK] -----\n"
     ]
    },
    {
     "data": {
      "text/plain": [
       "True"
      ]
     },
     "execution_count": 112,
     "metadata": {},
     "output_type": "execute_result"
    }
   ],
   "source": [
    "x = 0\n",
    "life = Recursion(verbose=False).set_interest(i=.1)\\\n",
    "                               .set_q(0.15, x=x)\\\n",
    "                               .set_q(0.165, x=x+1)\\\n",
    "                               .set_reserves(T=2, endowment=2000)\n",
    "\n",
    "def fun(P):  # solve P s.t. V is equal backwards and forwards\n",
    "    policy = dict(t=1, premium=P, benefit=lambda t: 2000, reserve_benefit=True)\n",
    "    return life.t_V_backward(x, **policy) - life.t_V_forward(x, **policy)\n",
    "P = life.solve(fun, target=0, grid=[1070, 1230])\n",
    "isclose(1152, P, question=\"Q7.2\")"
   ]
  },
  {
   "attachments": {},
   "cell_type": "markdown",
   "id": "90067c45",
   "metadata": {
    "id": "9603ae62"
   },
   "source": [
    "__SOA Question 7.3__ :  (E) 730\n"
   ]
  },
  {
   "cell_type": "code",
   "execution_count": 113,
   "id": "df38b525",
   "metadata": {
    "colab": {
     "base_uri": "https://localhost:8080/"
    },
    "id": "985efb46",
    "outputId": "75c17657-64a3-4c9c-9fd8-f5220c65ce9a"
   },
   "outputs": [
    {
     "name": "stdout",
     "output_type": "stream",
     "text": [
      "----- Q7.3 730: 729.998398765594 [OK] -----\n"
     ]
    },
    {
     "data": {
      "text/plain": [
       "True"
      ]
     },
     "execution_count": 113,
     "metadata": {},
     "output_type": "execute_result"
    }
   ],
   "source": [
    "x = 0  # x=0 is (90) and interpret every 3 months as t=1 year\n",
    "life = LifeTable().set_interest(i=0.08/4)\\\n",
    "                  .set_table(l={0:1000, 1:898, 2:800, 3:706})\\\n",
    "                  .set_reserves(T=8, V={3: 753.72})\n",
    "V = life.t_V_backward(x=0, t=2, premium=60*0.9, benefit=lambda t: 1000)\n",
    "V = life.set_reserves(V={2: V})\\\n",
    "        .t_V_backward(x=0, t=1, premium=0, benefit=lambda t: 1000)\n",
    "isclose(730, V, question=\"Q7.3\")"
   ]
  },
  {
   "attachments": {},
   "cell_type": "markdown",
   "id": "cef9e6b9",
   "metadata": {
    "id": "070ec29c"
   },
   "source": [
    "__SOA Question 7.4__ :  (B) -74 \n",
    "\n",
    "For a special fully discrete whole life insurance on (40), you\n",
    "are given:\n",
    "\n",
    "1. The death benefit is 1000 during the first 11 years and 5000\n",
    " thereafter\n",
    "\n",
    "2. Expenses, payable at the beginning of the year, are 100 in year\n",
    " 1 and 10 in years 2 and later\n",
    "\n",
    "3. $\\pi$ is the level annual premium, determined using the\n",
    " equivalence principle\n",
    "\n",
    "4. $G = 1.02 \\times \\pi$ is the level annual gross premium\n",
    "\n",
    "5. Mortality follows the Standard Ultimate Life Table\n",
    "\n",
    "6. *i* = 0.05\n",
    "\n",
    "7. $_{11}E_{40} = 0.57949$\n",
    "\n",
    " Calculate the gross premium policy value at the end of year 1 for this\n",
    " insurance.\n",
    "\n",
    " *hints:*\n",
    "\n",
    "- split benefits into two policies\n"
   ]
  },
  {
   "cell_type": "code",
   "execution_count": 114,
   "id": "2d484a80",
   "metadata": {
    "colab": {
     "base_uri": "https://localhost:8080/"
    },
    "id": "c4940dc2",
    "outputId": "d4555e21-59c9-4d52-f36d-a5660de18442"
   },
   "outputs": [
    {
     "name": "stdout",
     "output_type": "stream",
     "text": [
      "----- Q7.4 -74: -73.942155695248 [OK] -----\n"
     ]
    },
    {
     "data": {
      "text/plain": [
       "True"
      ]
     },
     "execution_count": 114,
     "metadata": {},
     "output_type": "execute_result"
    }
   ],
   "source": [
    "life = SULT()\n",
    "P = life.gross_premium(a=life.whole_life_annuity(40),\n",
    "                       A=life.whole_life_insurance(40),\n",
    "                       initial_policy=100, renewal_policy=10,\n",
    "                       benefit=1000)\n",
    "P += life.gross_premium(a=life.whole_life_annuity(40),\n",
    "                        A=life.deferred_insurance(40, u=11),\n",
    "                        benefit=4000)   # for deferred portion\n",
    "contract = Contract(benefit=1000, premium=1.02*P, \n",
    "                    renewal_policy=10, initial_policy=100)\n",
    "V = life.gross_policy_value(x=40, t=1, contract=contract)\n",
    "contract = Contract(benefit=4000, premium=0)  \n",
    "A = life.deferred_insurance(41, u=10)\n",
    "V += life.gross_future_loss(A=A, a=0, contract=contract)   # for deferred portion\n",
    "isclose(-74, V, question=\"Q7.4\")"
   ]
  },
  {
   "attachments": {},
   "cell_type": "markdown",
   "id": "32be5bd1",
   "metadata": {
    "id": "30a5ba21"
   },
   "source": [
    "__SOA Question 7.5__ :  (E) 1900\n",
    "\n",
    "For a fully discrete whole life insurance of 10,000 on (*x*),\n",
    "you are given:\n",
    "\n",
    "1. Deaths are uniformly distributed over each year of age\n",
    "\n",
    "2. The net premium is 647.46\n",
    "\n",
    "3. The net premium policy value at the end of year 4 is 1405.08\n",
    "\n",
    "4. $q_{x+4}$ = 0.04561\n",
    "\n",
    "5. *i* = 0.03\n",
    "\n",
    " Calculate the net premium policy value at the end of 4.5 years.\n",
    "\n"
   ]
  },
  {
   "cell_type": "code",
   "execution_count": 115,
   "id": "9531d6c9",
   "metadata": {
    "colab": {
     "base_uri": "https://localhost:8080/"
    },
    "id": "0605610d",
    "outputId": "6b36385d-3cc9-44e5-98a3-c0ce1da4f6b9"
   },
   "outputs": [
    {
     "name": "stdout",
     "output_type": "stream",
     "text": [
      "----- Q7.5 1900: 1901.766021537228 [OK] -----\n"
     ]
    },
    {
     "data": {
      "text/plain": [
       "True"
      ]
     },
     "execution_count": 115,
     "metadata": {},
     "output_type": "execute_result"
    }
   ],
   "source": [
    "x = 0\n",
    "life = Recursion(udd=True).set_interest(i=0.03)\\\n",
    "                          .set_q(0.04561, x=x+4)\\\n",
    "                          .set_reserves(T=3, V={4: 1405.08})\n",
    "V = life.r_V_forward(x, s=4, r=0.5, benefit=10000, premium=647.46)\n",
    "isclose(1900, V, question=\"Q7.5\")"
   ]
  },
  {
   "attachments": {},
   "cell_type": "markdown",
   "id": "57937952",
   "metadata": {
    "id": "984679f6"
   },
   "source": [
    "Answer 7.6:  (E) -25.4\n"
   ]
  },
  {
   "cell_type": "code",
   "execution_count": 116,
   "id": "0df703e6",
   "metadata": {
    "colab": {
     "base_uri": "https://localhost:8080/"
    },
    "id": "bf5b013c",
    "outputId": "0987c107-86be-46e3-fef4-5fbb0a401ee4"
   },
   "outputs": [
    {
     "name": "stdout",
     "output_type": "stream",
     "text": [
      "----- Q7.6 -25.4: -25.44920289521204 [OK] -----\n"
     ]
    },
    {
     "data": {
      "text/plain": [
       "True"
      ]
     },
     "execution_count": 116,
     "metadata": {},
     "output_type": "execute_result"
    }
   ],
   "source": [
    "life = SULT()\n",
    "P = life.net_premium(45, b=2000)\n",
    "contract = Contract(benefit=2000, initial_premium=.25, renewal_premium=.05,\n",
    "                    initial_policy=2*1.5 + 30, renewal_policy=2*.5 + 10)\n",
    "G = life.gross_premium(a=life.whole_life_annuity(45), **contract.premium_terms)\n",
    "gross = life.gross_policy_value(45, t=10, contract=contract.set_contract(premium=G))\n",
    "net = life.net_policy_value(45, t=10, b=2000)\n",
    "V = gross - net\n",
    "isclose(-25.4, V, question=\"Q7.6\")    "
   ]
  },
  {
   "attachments": {},
   "cell_type": "markdown",
   "id": "9d95ca0c",
   "metadata": {
    "id": "57e85e76"
   },
   "source": [
    "__SOA Question 7.7__ :  (D) 1110\n",
    "\n",
    "For a whole life insurance of 10,000 on (x), you are given:\n",
    "1. Death benefits are payable at the end of the year of death\n",
    "2. A premium of 30 is payable at the start of each month\n",
    "3. Commissions are 5% of each premium\n",
    "4. Expenses of 100 are payable at the start of each year\n",
    "5. $i = 0.05$\n",
    "6. $1000 A_{x+10} = 400$\n",
    "7. $_{10} V$ is the gross premium policy value at the end of year 10 for this insurance\n",
    "\n",
    "Calculate $_{10} V$ using the two-term Woolhouse formula for annuities.\n"
   ]
  },
  {
   "cell_type": "code",
   "execution_count": 117,
   "id": "161f5450",
   "metadata": {
    "colab": {
     "base_uri": "https://localhost:8080/"
    },
    "id": "a5d4d205",
    "outputId": "ae989774-7e55-4eb0-8db9-23be781de321"
   },
   "outputs": [
    {
     "data": {
      "text/latex": [
       "\\begin{array}{lr}\n",
       "~\\texttt{Whole Life Annuity}~\\ddot{a}_{{x+10}}~:=\\\\\n",
       "~~~\\ddot{a}_{{x+10}} = [1 - ~A_{{x+10}} ] / d& \\quad \\texttt{insurance twin}\\end{array}"
      ]
     },
     "metadata": {},
     "output_type": "display_data"
    },
    {
     "name": "stdout",
     "output_type": "stream",
     "text": [
      "----- Q7.7 1110: 1107.9718253968258 [OK] -----\n"
     ]
    },
    {
     "data": {
      "text/plain": [
       "True"
      ]
     },
     "execution_count": 117,
     "metadata": {},
     "output_type": "execute_result"
    }
   ],
   "source": [
    "x = 0\n",
    "life = Recursion().set_interest(i=0.05).set_A(0.4, x=x+10)\n",
    "a = Woolhouse(m=12, life=life).whole_life_annuity(x+10)\n",
    "contract = Contract(premium=0, benefit=10000, renewal_policy=100)\n",
    "V = life.gross_future_loss(A=0.4, contract=contract.renewals())\n",
    "contract = Contract(premium=30*12, renewal_premium=0.05)\n",
    "V += life.gross_future_loss(a=a, contract=contract.renewals())\n",
    "isclose(1110, V, question=\"Q7.7\")"
   ]
  },
  {
   "attachments": {},
   "cell_type": "markdown",
   "id": "14d3b816",
   "metadata": {
    "id": "78784280"
   },
   "source": [
    "__SOA Question 7.8__ :  (C) 29.85\n"
   ]
  },
  {
   "cell_type": "code",
   "execution_count": 118,
   "id": "db489282",
   "metadata": {
    "colab": {
     "base_uri": "https://localhost:8080/"
    },
    "id": "9311988d",
    "outputId": "76397b86-167e-4661-b3d1-ca91370e6fec"
   },
   "outputs": [
    {
     "data": {
      "text/latex": [
       "\\begin{array}{lr}\n",
       "~\\texttt{Survival}~p_{x+70}~:=\\\\\n",
       "~~~p_{x+70} = 1 - ~q_{x+70}& \\quad \\texttt{complement of mortality}\\end{array}"
      ]
     },
     "metadata": {},
     "output_type": "display_data"
    },
    {
     "name": "stdout",
     "output_type": "stream",
     "text": [
      "----- Q7.8 29.85: 29.85469179271202 [OK] -----\n"
     ]
    },
    {
     "data": {
      "text/plain": [
       "True"
      ]
     },
     "execution_count": 118,
     "metadata": {},
     "output_type": "execute_result"
    }
   ],
   "source": [
    "sult = SULT()\n",
    "x = 70\n",
    "q = {x: [sult.q_x(x+k)*(.7 + .1*k) for k in range(3)] + [sult.q_x(x+3)]}\n",
    "life = Recursion().set_interest(i=.05)\\\n",
    "                  .set_q(sult.q_x(70)*.7, x=x)\\\n",
    "                  .set_reserves(T=3)\n",
    "V = life.t_V(x=70, t=1, premium=35.168, benefit=lambda t: 1000)\n",
    "isclose(29.85, V, question=\"Q7.8\")"
   ]
  },
  {
   "attachments": {},
   "cell_type": "markdown",
   "id": "d0af8dce",
   "metadata": {
    "id": "13417b4b"
   },
   "source": [
    "__SOA Question 7.9__ :  (A) 38100\n",
    "\n",
    "For a semi-continuous 20-year endowment insurance of 100,000 on (45), you are given:\n",
    "1. Net premiums of 253 are payable monthly\n",
    "2. Mortality follows the Standard Ultimate Life Table\n",
    "3. Deaths are uniformly distributed over each year of age\n",
    "4. $i = 0.05$\n",
    "\n",
    "Calculate $_{10}V$, the net premium policy value at the end of year 10 for this insurance.\n"
   ]
  },
  {
   "cell_type": "code",
   "execution_count": 119,
   "id": "4e5c09a1",
   "metadata": {
    "colab": {
     "base_uri": "https://localhost:8080/"
    },
    "id": "95ee4b66",
    "outputId": "a39768fc-33af-451c-e8f8-740877c107b4"
   },
   "outputs": [
    {
     "name": "stdout",
     "output_type": "stream",
     "text": [
      "----- Q7.9 38100: 38099.62176709246 [OK] -----\n"
     ]
    },
    {
     "data": {
      "text/plain": [
       "True"
      ]
     },
     "execution_count": 119,
     "metadata": {},
     "output_type": "execute_result"
    }
   ],
   "source": [
    "sult = SULT(udd=True)\n",
    "x, n, t = 45, 20, 10\n",
    "a = UDD(m=12, life=sult).temporary_annuity(x=x+10, t=n-t)\n",
    "A = UDD(m=0, life=sult).endowment_insurance(x=x+10, t=n-t)\n",
    "contract = Contract(premium=253*12, endowment=100000, benefit=100000)\n",
    "V = sult.gross_future_loss(A=A, a=a, contract=contract)\n",
    "isclose(38100, V, question=\"Q7.9\")"
   ]
  },
  {
   "attachments": {},
   "cell_type": "markdown",
   "id": "62f68b2a",
   "metadata": {
    "id": "4f341dc3"
   },
   "source": [
    "__SOA Question 7.10__ : (C) -970\n",
    "\n",
    "For a fully discrete whole life insurance of 100,000 on (45),\n",
    "you are given:\n",
    "\n",
    "1. Mortality follows the Standard Ultimate Life Table\n",
    "\n",
    "2. *i* = 0.05\n",
    "\n",
    "3. Commission expenses are 60% of the first year's gross premium\n",
    " and 2% of renewal gross premiums\n",
    "\n",
    "4. Administrative expenses are 500 in the first year and 50 in\n",
    " each renewal year\n",
    "\n",
    "5. All expenses are payable at the start of the year\n",
    "\n",
    "6. The gross premium, calculated using the equivalence principle,\n",
    " is 977.60\n",
    "\n",
    " Calculate $_5V^e$, the expense reserve at the end of year 5 for this\n",
    " insurance.\n"
   ]
  },
  {
   "cell_type": "code",
   "execution_count": 120,
   "id": "d7623e4a",
   "metadata": {
    "colab": {
     "base_uri": "https://localhost:8080/"
    },
    "id": "83268a47",
    "outputId": "7de54cc6-30cb-4944-ec28-ab998b7aa9c0"
   },
   "outputs": [
    {
     "name": "stdout",
     "output_type": "stream",
     "text": [
      "----- Q7.10 -970: -971.8909301877826 [OK] -----\n"
     ]
    },
    {
     "data": {
      "text/plain": [
       "True"
      ]
     },
     "execution_count": 120,
     "metadata": {},
     "output_type": "execute_result"
    }
   ],
   "source": [
    "life = SULT()\n",
    "G = 977.6\n",
    "P = life.net_premium(45, b=100000)\n",
    "contract = Contract(benefit=0, premium=G-P, renewal_policy=.02*G + 50)\n",
    "V = life.gross_policy_value(45, t=5, contract=contract)\n",
    "isclose(-970, V, question=\"Q7.10\")"
   ]
  },
  {
   "attachments": {},
   "cell_type": "markdown",
   "id": "60052664",
   "metadata": {
    "id": "55157c76"
   },
   "source": [
    "__SOA Question 7.11__ :  (B) 1460\n"
   ]
  },
  {
   "cell_type": "code",
   "execution_count": 121,
   "id": "c33a4725",
   "metadata": {
    "colab": {
     "base_uri": "https://localhost:8080/"
    },
    "id": "2e0c21b0",
    "outputId": "55159429-6e46-48e7-92d6-57a7bad68cc4"
   },
   "outputs": [
    {
     "data": {
      "text/latex": [
       "\\begin{array}{lr}\n",
       "~\\texttt{Whole Life Insurance}~A_{{x+55}}~:=\\\\\n",
       "~~~\\ddot{a}_{{x+55}} = [ 1 - ~A_{{x+55}} ] / d& \\quad \\texttt{annuity twin}\\end{array}"
      ]
     },
     "metadata": {},
     "output_type": "display_data"
    },
    {
     "name": "stdout",
     "output_type": "stream",
     "text": [
      "----- Q7.11 1460: 1459.9818035330218 [OK] -----\n"
     ]
    },
    {
     "data": {
      "text/plain": [
       "True"
      ]
     },
     "execution_count": 121,
     "metadata": {},
     "output_type": "execute_result"
    }
   ],
   "source": [
    "life = Recursion().set_interest(i=0.05).set_a(13.4205, x=55)\n",
    "contract = Contract(benefit=10000)\n",
    "def fun(P):\n",
    "    return life.L_from_t(t=10, contract=contract.set_contract(premium=P))\n",
    "P = life.solve(fun, target=4450, grid=400)\n",
    "V = life.gross_policy_value(45, t=10, contract=contract.set_contract(premium=P))\n",
    "isclose(1460, V, question=\"Q7.11\")"
   ]
  },
  {
   "attachments": {},
   "cell_type": "markdown",
   "id": "95f5c716",
   "metadata": {
    "id": "6c52d5c3"
   },
   "source": [
    "__SOA Question 7.12__ :  (E) 4.09\n",
    "\n",
    "For a special fully discrete 25-year endowment insurance on\n",
    "(44), you are given:\n",
    "\n",
    "1. The death benefit is ( 26−*k* ) for death in year ,*k* for *k* =\n",
    " 1,2,3,...,25\n",
    "\n",
    "2. The endowment benefit in year 25 is 1\n",
    "\n",
    "3. Net premiums are level\n",
    "\n",
    "4. $q_{55}$= 0.15\n",
    "\n",
    "5. *i* = 0.04\n",
    "\n",
    "6. $_{11}V$ the net premium policy value at the end of year 11, is\n",
    " 5.00\n",
    "\n",
    "1. $_{24}V$ the net premium policy value at the end of year 24, is\n",
    " 0.60\n",
    "\n",
    " Calculate $_{12}V$ the net premium policy value at end of year 12.\n"
   ]
  },
  {
   "cell_type": "code",
   "execution_count": 122,
   "id": "a36794c0",
   "metadata": {
    "colab": {
     "base_uri": "https://localhost:8080/"
    },
    "id": "7993f016",
    "lines_to_next_cell": 2,
    "outputId": "9767525f-ceda-4743-c1a3-5f098fb73e35"
   },
   "outputs": [
    {
     "data": {
      "text/latex": [
       "\\begin{array}{lr}\n",
       "~\\texttt{Survival}~p_{x+55}~:=\\\\\n",
       "~~~p_{x+55} = 1 - ~q_{x+55}& \\quad \\texttt{complement of mortality}\\end{array}"
      ]
     },
     "metadata": {},
     "output_type": "display_data"
    },
    {
     "name": "stdout",
     "output_type": "stream",
     "text": [
      "----- Q7.12 4.09: 4.089411764705883 [OK] -----\n"
     ]
    },
    {
     "data": {
      "text/plain": [
       "True"
      ]
     },
     "execution_count": 122,
     "metadata": {},
     "output_type": "execute_result"
    }
   ],
   "source": [
    "benefit = lambda k: 26 - k\n",
    "x = 44\n",
    "life = Recursion().set_interest(i=0.04)\\\n",
    "                  .set_q(0.15, x=55)\\\n",
    "                  .set_reserves(T=25, endowment=1, V={11: 5.})\n",
    "def fun(P):  # solve for net premium, from final year recursion\n",
    "    return life.t_V(x=x, t=24, premium=P, benefit=benefit)\n",
    "P = life.solve(fun, target=0.6, grid=0.5)    # solved net premium\n",
    "V = life.t_V(x, t=12, premium=P, benefit=benefit)  # recursion formula\n",
    "isclose(4.09, V, question=\"Q7.12\")"
   ]
  },
  {
   "attachments": {},
   "cell_type": "markdown",
   "id": "8bb4de75",
   "metadata": {
    "id": "4ea704b8"
   },
   "source": [
    "Answer 7.13: (A) 180\n"
   ]
  },
  {
   "cell_type": "code",
   "execution_count": 123,
   "id": "8012cb3a",
   "metadata": {
    "colab": {
     "base_uri": "https://localhost:8080/"
    },
    "id": "0b8778cc",
    "outputId": "e86b40bf-745e-4d08-a5ae-bc70e33c4c37"
   },
   "outputs": [
    {
     "name": "stdout",
     "output_type": "stream",
     "text": [
      "----- Q7.13 180: 180.1071785904076 [OK] -----\n"
     ]
    },
    {
     "data": {
      "text/plain": [
       "True"
      ]
     },
     "execution_count": 123,
     "metadata": {},
     "output_type": "execute_result"
    }
   ],
   "source": [
    "life = SULT()\n",
    "V = life.FPT_policy_value(40, t=10, n=30, endowment=1000, b=1000)\n",
    "isclose(180, V, question=\"Q7.13\")"
   ]
  },
  {
   "attachments": {},
   "cell_type": "markdown",
   "id": "41a36bcc",
   "metadata": {
    "id": "58f053bd"
   },
   "source": [
    "__SOA Question 7.14__ :  (A) 2200\n",
    "\n",
    "For a fully discrete whole life insurance of 100,000 on (45),\n",
    "you are given:\n",
    "\n",
    "1. The gross premium policy value at duration 5 is 5500 and at\n",
    " duration 6 is 7100\n",
    "\n",
    "2. $q_{50}$ = 0.009\n",
    "\n",
    "3. *i* = 0.05\n",
    "\n",
    "4. Renewal expenses at the start of each year are 50 plus 4% of the gross premium.\n",
    "\n",
    "5. Claim expenses are 200.\n",
    "\n",
    " Calculate the gross premium.\n",
    "\n"
   ]
  },
  {
   "cell_type": "code",
   "execution_count": 124,
   "id": "e422f440",
   "metadata": {
    "colab": {
     "base_uri": "https://localhost:8080/"
    },
    "id": "e0bf9ee2",
    "outputId": "91220904-60db-453c-9ea0-3931de0b55b2"
   },
   "outputs": [
    {
     "name": "stdout",
     "output_type": "stream",
     "text": [
      "----- Q7.14 2200: 2197.8174603174602 [OK] -----\n"
     ]
    },
    {
     "data": {
      "text/plain": [
       "True"
      ]
     },
     "execution_count": 124,
     "metadata": {},
     "output_type": "execute_result"
    }
   ],
   "source": [
    "x = 45\n",
    "life = Recursion(verbose=False).set_interest(i=0.05)\\\n",
    "                               .set_q(0.009, x=50)\\\n",
    "                               .set_reserves(T=10, V={5: 5500})\n",
    "def fun(P):  # solve for net premium,\n",
    "    return life.t_V(x=x, t=6, premium=P*0.96 - 50, benefit=lambda t: 100000+200)\n",
    "P = life.solve(fun, target=7100, grid=[2200, 2400])\n",
    "isclose(2200, P, question=\"Q7.14\")"
   ]
  },
  {
   "attachments": {},
   "cell_type": "markdown",
   "id": "bfc6846d",
   "metadata": {
    "id": "caab2d47"
   },
   "source": [
    "__SOA Question 7.15__ :  (E) 50.91\n",
    "\n",
    "For a fully discrete whole life insurance of 100 on (*x*), you\n",
    "are given:\n",
    "\n",
    "1. $q_{x+ 15} = 0.10$\n",
    "\n",
    "2. Deaths are uniformly distributed over each year of age\n",
    "\n",
    "3. *i* = 0.05\n",
    "\n",
    "4. $_tV$ denotes the net premium policy value at time *t*\n",
    "\n",
    "5. $_{16}V$ = 49.78\n",
    "\n",
    " Calculate 15.6.\n"
   ]
  },
  {
   "cell_type": "code",
   "execution_count": 125,
   "id": "753c3d58",
   "metadata": {
    "colab": {
     "base_uri": "https://localhost:8080/"
    },
    "id": "bbed6a97",
    "outputId": "5ceafecc-598b-465b-b1b5-a509c56afca5"
   },
   "outputs": [
    {
     "name": "stdout",
     "output_type": "stream",
     "text": [
      "----- Q7.15 50.91: 50.91362826922369 [OK] -----\n"
     ]
    },
    {
     "data": {
      "text/plain": [
       "True"
      ]
     },
     "execution_count": 125,
     "metadata": {},
     "output_type": "execute_result"
    }
   ],
   "source": [
    "x = 0\n",
    "V = Recursion(udd=True).set_interest(i=0.05)\\\n",
    "                       .set_q(0.1, x=x+15)\\\n",
    "                       .set_reserves(T=3, V={16: 49.78})\\\n",
    "                       .r_V_backward(x, s=15, r=0.6, benefit=100)\n",
    "isclose(50.91, V, question=\"Q7.15\")"
   ]
  },
  {
   "attachments": {},
   "cell_type": "markdown",
   "id": "c5bdda83",
   "metadata": {
    "id": "cf793972"
   },
   "source": [
    "__SOA Question 7.16__ :  (D) 380\n"
   ]
  },
  {
   "cell_type": "code",
   "execution_count": 126,
   "id": "dcd70d30",
   "metadata": {
    "colab": {
     "base_uri": "https://localhost:8080/"
    },
    "id": "b3317669",
    "outputId": "9a993a84-58eb-4ef6-a4f6-8bd6cfd33a23"
   },
   "outputs": [
    {
     "name": "stdout",
     "output_type": "stream",
     "text": [
      "----- Q7.16 380: 381.6876905200001 [OK] -----\n"
     ]
    },
    {
     "data": {
      "text/plain": [
       "True"
      ]
     },
     "execution_count": 126,
     "metadata": {},
     "output_type": "execute_result"
    }
   ],
   "source": [
    "life = SelectLife().set_interest(v=.95)\\\n",
    "                   .set_table(A={86: [683/1000]},\n",
    "                              q={80+k: [.01*(k+1)] for k in range(6)})\n",
    "x, t, n = 80, 3, 5\n",
    "A = life.whole_life_insurance(x+t)\n",
    "a = life.temporary_annuity(x+t, t=n-t)\n",
    "V = life.gross_future_loss(A=A, a=a, contract=Contract(benefit=1000, premium=130))\n",
    "isclose(380, V, question=\"Q7.16\")"
   ]
  },
  {
   "attachments": {},
   "cell_type": "markdown",
   "id": "d4be77aa",
   "metadata": {
    "id": "d16fa0a1"
   },
   "source": [
    "__SOA Question 7.17__ :  (D) 1.018\n"
   ]
  },
  {
   "cell_type": "code",
   "execution_count": 127,
   "id": "b10e26f7",
   "metadata": {
    "colab": {
     "base_uri": "https://localhost:8080/"
    },
    "id": "e26e27a3",
    "outputId": "9ca91101-2582-49c4-ca50-8c34c8e7e7d4"
   },
   "outputs": [
    {
     "data": {
      "text/latex": [
       "\\begin{array}{lr}\n",
       "~\\texttt{Whole Life Insurance}~A_{{x+10}}~:=\\\\\n",
       "~~~A_{{x+10}} = v * [ ~q_{x+10} * b + ~p_{x+10} * ~A_{{x+11}} ]& \\quad \\texttt{backward recursion}\\\\\n",
       "~~~~~p_{x+10} = 1 - ~q_{x+10}& \\quad \\texttt{complement of mortality}\\end{array}"
      ]
     },
     "metadata": {},
     "output_type": "display_data"
    },
    {
     "data": {
      "text/latex": [
       "\\begin{array}{lr}\n",
       "~\\texttt{Whole Life Insurance}~^2A_{{x+10}}~:=\\\\\n",
       "~~~^2A_{{x+10}} = v^{2} * [ ~q_{x+10} * b^{2} + ~p_{x+10} * ~^2A_{{x+11}} ]& \\quad \\texttt{backward recursion}\\\\\n",
       "~~~~~p_{x+10} = 1 - ~q_{x+10}& \\quad \\texttt{complement of mortality}\\end{array}"
      ]
     },
     "metadata": {},
     "output_type": "display_data"
    },
    {
     "name": "stdout",
     "output_type": "stream",
     "text": [
      "----- Q7.17 1.018: 1.0182465434445054 [OK] -----\n"
     ]
    },
    {
     "data": {
      "text/plain": [
       "True"
      ]
     },
     "execution_count": 127,
     "metadata": {},
     "output_type": "execute_result"
    }
   ],
   "source": [
    "x = 0\n",
    "life = Recursion().set_interest(v=math.sqrt(0.90703))\\\n",
    "                  .set_q(0.02067, x=x+10)\\\n",
    "                  .set_A(0.52536, x=x+11)\\\n",
    "                  .set_A(0.30783, x=x+11, moment=2)\n",
    "A1 = life.whole_life_insurance(x+10)\n",
    "A2 = life.whole_life_insurance(x+10, moment=2)\n",
    "ratio = (life.insurance_variance(A2=A2, A1=A1) \n",
    "         / life.insurance_variance(A2=0.30783, A1=0.52536))\n",
    "isclose(1.018, ratio, question=\"Q7.17\")"
   ]
  },
  {
   "attachments": {},
   "cell_type": "markdown",
   "id": "bfe4a828",
   "metadata": {
    "id": "1330efbd"
   },
   "source": [
    "__SOA Question 7.18__ :  (A) 17.1\n",
    "\n",
    "For a fully discrete whole life insurance of 1 on (*x*), you\n",
    "are given:\n",
    "\n",
    "1. The net premium policy value at the end of the first year is 0.012\n",
    "\n",
    "2. $q_x$ = 0.009\n",
    "\n",
    "3. *i* = 0.04\n",
    "\n",
    "Calculate $\\ddot{a}_x$\n"
   ]
  },
  {
   "cell_type": "code",
   "execution_count": 128,
   "id": "e2e57641",
   "metadata": {
    "colab": {
     "base_uri": "https://localhost:8080/"
    },
    "id": "789aef65",
    "outputId": "08fc06d5-23b0-47b8-cab4-464ce5900496"
   },
   "outputs": [
    {
     "name": "stdout",
     "output_type": "stream",
     "text": [
      "----- Q7.18 17.1: 17.07941929974385 [OK] -----\n"
     ]
    },
    {
     "data": {
      "text/plain": [
       "True"
      ]
     },
     "execution_count": 128,
     "metadata": {},
     "output_type": "execute_result"
    }
   ],
   "source": [
    "x = 10\n",
    "life = Recursion(verbose=False).set_interest(i=0.04).set_q(0.009, x=x)\n",
    "def fun(a):\n",
    "    return life.set_a(a, x=x).net_policy_value(x, t=1)\n",
    "a = life.solve(fun, target=0.012, grid=[17.1, 19.1])\n",
    "isclose(17.1, a, question=\"Q7.18\")"
   ]
  },
  {
   "attachments": {},
   "cell_type": "markdown",
   "id": "0e565743",
   "metadata": {
    "id": "bcd7d9ae"
   },
   "source": [
    "__SOA Question 7.19__ :  (D) 720\n",
    "\n",
    " For a fully discrete whole life insurance of 100,000 on (40)\n",
    "you are given:\n",
    "\n",
    "1. Expenses incurred at the beginning of the first year are 300\n",
    " plus 50% of the first year premium\n",
    "\n",
    "2. Renewal expenses, incurred at the beginning of the year, are\n",
    " 10% of each of the renewal premiums\n",
    "\n",
    "3. Mortality follows the Standard Ultimate Life Table\n",
    "\n",
    "4. *i* = 0.05\n",
    "\n",
    "5. Gross premiums are calculated using the equivalence principle\n",
    "\n",
    "Calculate the gross premium policy value for this insurance immediately\n",
    "after the second premium and associated renewal expenses are paid.\n"
   ]
  },
  {
   "cell_type": "code",
   "execution_count": 129,
   "id": "d16b352c",
   "metadata": {
    "colab": {
     "base_uri": "https://localhost:8080/"
    },
    "id": "9372ed3c",
    "outputId": "e7299adc-0587-49ac-f6be-ad28a7cd12ef"
   },
   "outputs": [
    {
     "name": "stdout",
     "output_type": "stream",
     "text": [
      "----- Q7.19 720: 722.7510208759086 [OK] -----\n"
     ]
    },
    {
     "data": {
      "text/plain": [
       "True"
      ]
     },
     "execution_count": 129,
     "metadata": {},
     "output_type": "execute_result"
    }
   ],
   "source": [
    "life = SULT()\n",
    "contract = Contract(benefit=100000,\n",
    "                    initial_policy=300,\n",
    "                    initial_premium=.5,\n",
    "                    renewal_premium=.1)\n",
    "P = life.gross_premium(A=life.whole_life_insurance(40), **contract.premium_terms)\n",
    "A = life.whole_life_insurance(41)\n",
    "a = life.immediate_annuity(41)   # after premium and expenses are paid\n",
    "V = life.gross_future_loss(A=A,\n",
    "                           a=a,\n",
    "                           contract=contract.set_contract(premium=P).renewals())\n",
    "isclose(720, V, question=\"Q7.19\")"
   ]
  },
  {
   "attachments": {},
   "cell_type": "markdown",
   "id": "d5e6a000",
   "metadata": {
    "id": "9aa726ed"
   },
   "source": [
    "__SOA Question 7.20__ : (E) -277.23\n",
    "\n",
    "For a fully discrete whole life insurance of 1000 on (35), you\n",
    "are given:\n",
    "\n",
    "1. First year expenses are 30% of the gross premium plus 300\n",
    "\n",
    "2. Renewal expenses are 4% of the gross premium plus 30\n",
    "\n",
    "3. All expenses are incurred at the beginning of the policy year\n",
    "\n",
    "4. Gross premiums are calculated using the equivalence principle\n",
    "\n",
    "5. The gross premium policy value at the end of the first policy\n",
    " year is *R*\n",
    "\n",
    "6. Using the Full Preliminary Term Method, the modified reserve at\n",
    " the end of the first policy year is *S*\n",
    "\n",
    "7. Mortality follows the Standard Ultimate Life Table\n",
    "\n",
    "8. *i* = 0.05\n",
    "\n",
    "Calculate *R*−*S* .\n"
   ]
  },
  {
   "cell_type": "code",
   "execution_count": 130,
   "id": "f05b026e",
   "metadata": {
    "colab": {
     "base_uri": "https://localhost:8080/"
    },
    "id": "ab37f0e4",
    "outputId": "5b19e726-20b7-4479-8712-64f957268bc8"
   },
   "outputs": [
    {
     "name": "stdout",
     "output_type": "stream",
     "text": [
      "----- Q7.20 -277.23: -277.19303323929216 [OK] -----\n"
     ]
    },
    {
     "data": {
      "text/plain": [
       "True"
      ]
     },
     "execution_count": 130,
     "metadata": {},
     "output_type": "execute_result"
    }
   ],
   "source": [
    "life = SULT()\n",
    "S = life.FPT_policy_value(35, t=1, b=1000)  # is 0 for FPT at t=0,1\n",
    "contract = Contract(benefit=1000,\n",
    "                    initial_premium=.3,\n",
    "                    initial_policy=300,\n",
    "                    renewal_premium=.04,\n",
    "                    renewal_policy=30)\n",
    "G = life.gross_premium(A=life.whole_life_insurance(35), **contract.premium_terms)\n",
    "R = life.gross_policy_value(35, t=1, contract=contract.set_contract(premium=G))\n",
    "isclose(-277.23, R - S, question=\"Q7.20\")"
   ]
  },
  {
   "attachments": {},
   "cell_type": "markdown",
   "id": "b9d06d0a",
   "metadata": {
    "id": "bc06c100"
   },
   "source": [
    "__SOA Question 7.21__ :  (D) 11866\n"
   ]
  },
  {
   "cell_type": "code",
   "execution_count": 131,
   "id": "51b51108",
   "metadata": {
    "colab": {
     "base_uri": "https://localhost:8080/"
    },
    "id": "25c496da",
    "outputId": "7bbf37b7-2194-48e5-8741-0f00ca75ed76"
   },
   "outputs": [
    {
     "name": "stdout",
     "output_type": "stream",
     "text": [
      "----- Q7.21 11866: 11866.30158100453 [OK] -----\n"
     ]
    },
    {
     "data": {
      "text/plain": [
       "True"
      ]
     },
     "execution_count": 131,
     "metadata": {},
     "output_type": "execute_result"
    }
   ],
   "source": [
    "life = SULT()\n",
    "x, t, u = 55, 9, 10\n",
    "P = life.gross_premium(IA=0.14743,\n",
    "                       a=life.temporary_annuity(x, t=u),\n",
    "                       A=life.deferred_annuity(x, u=u),\n",
    "                       benefit=1000)\n",
    "contract = Contract(initial_policy=life.term_insurance(x+t, t=1, b=10*P),\n",
    "                    premium=P,\n",
    "                    benefit=1000)\n",
    "a = life.temporary_annuity(x+t, t=u-t)\n",
    "A = life.deferred_annuity(x+t, u=u-t)\n",
    "V = life.gross_future_loss(A=A, a=a, contract=contract)\n",
    "isclose(11866, V, question=\"Q7.21\")"
   ]
  },
  {
   "attachments": {},
   "cell_type": "markdown",
   "id": "a4a3ae2e",
   "metadata": {
    "id": "d2110715"
   },
   "source": [
    "__SOA Question 7.22__ :  (C) 46.24\n"
   ]
  },
  {
   "cell_type": "code",
   "execution_count": 132,
   "id": "997b30d7",
   "metadata": {
    "colab": {
     "base_uri": "https://localhost:8080/"
    },
    "id": "6a2abdfc",
    "outputId": "eaec365e-118b-42b1-a2c3-9da83962e4e8"
   },
   "outputs": [
    {
     "name": "stdout",
     "output_type": "stream",
     "text": [
      "----- Q7.22 46.2: 46.2375 [OK] -----\n"
     ]
    },
    {
     "data": {
      "text/plain": [
       "True"
      ]
     },
     "execution_count": 132,
     "metadata": {},
     "output_type": "execute_result"
    }
   ],
   "source": [
    "life = PolicyValues().set_interest(i=0.06)\n",
    "contract = Contract(benefit=8, premium=1.250)\n",
    "def fun(A2): \n",
    "    return life.gross_variance_loss(A1=0, A2=A2, contract=contract)\n",
    "A2 = life.solve(fun, target=20.55, grid=20.55/8**2)\n",
    "contract = Contract(benefit=12, premium=1.875)\n",
    "var = life.gross_variance_loss(A1=0, A2=A2, contract=contract)\n",
    "isclose(46.2, var, question=\"Q7.22\")"
   ]
  },
  {
   "attachments": {},
   "cell_type": "markdown",
   "id": "1abc4e77",
   "metadata": {
    "id": "18e5b35a"
   },
   "source": [
    "__SOA Question 7.23__ :  (D) 233\n"
   ]
  },
  {
   "cell_type": "code",
   "execution_count": 133,
   "id": "e060a01b",
   "metadata": {
    "colab": {
     "base_uri": "https://localhost:8080/"
    },
    "id": "c4c42da2",
    "outputId": "e4ea3f12-649d-4e2f-b614-dcb99e226f4d"
   },
   "outputs": [
    {
     "data": {
      "text/latex": [
       "\\begin{array}{lr}\n",
       "~\\texttt{Term Insurance}~A^1_{{x+25:\\overline{1|}}}* 10000~:=\\\\\n",
       "~~~A^1_{{x+25:\\overline{1|}}} = ~A_{{x+25:\\overline{1|}}} - ~E_{x+25}& \\quad \\texttt{endowment insurance - pure}\\\\\n",
       "~~~~~E_{x+25} = ~p_{x+25} * v& \\quad \\texttt{pure endowment}\\end{array}"
      ]
     },
     "metadata": {},
     "output_type": "display_data"
    },
    {
     "name": "stdout",
     "output_type": "stream",
     "text": [
      "----- Q7.23 233: 232.64747466274176 [OK] -----\n"
     ]
    },
    {
     "data": {
      "text/plain": [
       "True"
      ]
     },
     "execution_count": 133,
     "metadata": {},
     "output_type": "execute_result"
    }
   ],
   "source": [
    "life = Recursion().set_interest(i=0.04).set_p(0.995, x=25)\n",
    "A = life.term_insurance(25, t=1, b=10000)\n",
    "def fun(beta):  # value of premiums in first 20 years must be equal\n",
    "    return beta * 11.087 + (A - beta) \n",
    "beta = life.solve(fun, target=216 * 11.087, grid=[140, 260])\n",
    "isclose(233, beta, question=\"Q7.23\")"
   ]
  },
  {
   "attachments": {},
   "cell_type": "markdown",
   "id": "5b9a7b6f",
   "metadata": {
    "id": "4b82caf4"
   },
   "source": [
    "__SOA Question 7.24__ :  (C) 680\n",
    "\n",
    "For a fully discrete whole life insurance policy of 1,000,000\n",
    "on (50), you are given:\n",
    "\n",
    "1. The annual gross premium, calculated using the equivalence\n",
    " principle, is 11,800\n",
    "\n",
    "2. Mortality follows the Standard Ultimate Life Table\n",
    "\n",
    "3. *i* = 0.05\n",
    "\n",
    " Calculate the expense loading, *P* for this policy.\n"
   ]
  },
  {
   "cell_type": "code",
   "execution_count": 134,
   "id": "b741d3a8",
   "metadata": {
    "colab": {
     "base_uri": "https://localhost:8080/"
    },
    "id": "75d8d20b",
    "outputId": "4a1e843e-c342-4b5b-b9fa-a8b11d772431"
   },
   "outputs": [
    {
     "name": "stdout",
     "output_type": "stream",
     "text": [
      "----- Q7.24 680: 680.291823645397 [OK] -----\n"
     ]
    },
    {
     "data": {
      "text/plain": [
       "True"
      ]
     },
     "execution_count": 134,
     "metadata": {},
     "output_type": "execute_result"
    }
   ],
   "source": [
    "life = SULT()\n",
    "P = life.premium_equivalence(A=life.whole_life_insurance(50), b=1000000)\n",
    "isclose(680, 11800 - P, question=\"Q7.24\")"
   ]
  },
  {
   "attachments": {},
   "cell_type": "markdown",
   "id": "7e9c8e08",
   "metadata": {
    "id": "8410e40c"
   },
   "source": [
    "__SOA Question 7.25__ :  (B) 3947.37\n"
   ]
  },
  {
   "cell_type": "code",
   "execution_count": 135,
   "id": "084921ee",
   "metadata": {
    "colab": {
     "base_uri": "https://localhost:8080/"
    },
    "id": "9928c491",
    "outputId": "7b6ece99-0b78-4860-c706-3ff13a520657"
   },
   "outputs": [
    {
     "name": "stdout",
     "output_type": "stream",
     "text": [
      "----- Q7.25 3950: 3947.3684210526353 [OK] -----\n"
     ]
    },
    {
     "data": {
      "text/plain": [
       "True"
      ]
     },
     "execution_count": 135,
     "metadata": {},
     "output_type": "execute_result"
    }
   ],
   "source": [
    "life = SelectLife().set_interest(i=.04)\\\n",
    "                   .set_table(A={55: [.23, .24, .25],\n",
    "                                 56: [.25, .26, .27],\n",
    "                                 57: [.27, .28, .29],\n",
    "                                 58: [.20, .30, .31]})\n",
    "V = life.FPT_policy_value(55, t=3, b=100000)\n",
    "isclose(3950, V, question=\"Q7.25\")"
   ]
  },
  {
   "attachments": {},
   "cell_type": "markdown",
   "id": "1592b3ae",
   "metadata": {
    "id": "9e538fc9"
   },
   "source": [
    "__SOA Question 7.26__ :  (D) 28540 \n",
    "- backward = forward reserve recursion\n"
   ]
  },
  {
   "cell_type": "code",
   "execution_count": 136,
   "id": "7c242e1e",
   "metadata": {
    "colab": {
     "base_uri": "https://localhost:8080/"
    },
    "id": "9fc808b8",
    "outputId": "83fb08e0-06da-4cb8-92a4-05f9ed1fc035"
   },
   "outputs": [
    {
     "name": "stdout",
     "output_type": "stream",
     "text": [
      "----- Q7.26 28540: 28542.392566782808 [OK] -----\n"
     ]
    },
    {
     "data": {
      "text/plain": [
       "True"
      ]
     },
     "execution_count": 136,
     "metadata": {},
     "output_type": "execute_result"
    }
   ],
   "source": [
    "x = 0\n",
    "life = Recursion(verbose=False).set_interest(i=.05)\\\n",
    "                               .set_p(0.85, x=x)\\\n",
    "                               .set_p(0.85, x=x+1)\\\n",
    "                               .set_reserves(T=2, endowment=50000)\n",
    "def benefit(k): return k * 25000\n",
    "def fun(P):  # solve P s.t. V is equal backwards and forwards\n",
    "    policy = dict(t=1, premium=P, benefit=benefit, reserve_benefit=True)\n",
    "    return life.t_V_backward(x, **policy) - life.t_V_forward(x, **policy)\n",
    "P = life.solve(fun, target=0, grid=[27650, 28730])\n",
    "isclose(28540, P, question=\"Q7.26\")"
   ]
  },
  {
   "attachments": {},
   "cell_type": "markdown",
   "id": "ff347c08",
   "metadata": {
    "id": "45908bc1"
   },
   "source": [
    "__SOA Question 7.27__ :  (B) 213\n"
   ]
  },
  {
   "cell_type": "code",
   "execution_count": 137,
   "id": "444b0627",
   "metadata": {
    "colab": {
     "base_uri": "https://localhost:8080/"
    },
    "id": "7ad342a1",
    "outputId": "f223b0c4-cda8-4739-bc6c-4fc51c84a85d"
   },
   "outputs": [
    {
     "name": "stdout",
     "output_type": "stream",
     "text": [
      "----- Q7.27 213: 212.970355987055 [OK] -----\n"
     ]
    },
    {
     "data": {
      "text/plain": [
       "True"
      ]
     },
     "execution_count": 137,
     "metadata": {},
     "output_type": "execute_result"
    }
   ],
   "source": [
    "x = 0\n",
    "life = Recursion(verbose=False).set_interest(i=0.03)\\\n",
    "                               .set_q(0.008, x=x)\\\n",
    "                               .set_reserves(V={0: 0})\n",
    "def fun(G):  # Solve gross premium from expense reserves equation\n",
    "    return life.t_V(x=x, t=1, premium=G - 187, benefit=lambda t: 0,\n",
    "                    per_policy=10 + 0.25*G)\n",
    "G = life.solve(fun, target=-38.70, grid=[200, 252])\n",
    "isclose(213, G, question=\"Q7.27\")"
   ]
  },
  {
   "attachments": {},
   "cell_type": "markdown",
   "id": "e2549692",
   "metadata": {
    "id": "a691f65c"
   },
   "source": [
    "__SOA Question 7.28__ :  (D) 24.3\n"
   ]
  },
  {
   "cell_type": "code",
   "execution_count": 138,
   "id": "2a2fcfe0",
   "metadata": {
    "colab": {
     "base_uri": "https://localhost:8080/"
    },
    "id": "99412e64",
    "outputId": "87fc6efa-2bb9-4bc5-f91d-b74731102985"
   },
   "outputs": [
    {
     "name": "stdout",
     "output_type": "stream",
     "text": [
      "----- Q7.28 24.3: 24.334725400123975 [OK] -----\n"
     ]
    },
    {
     "data": {
      "text/plain": [
       "True"
      ]
     },
     "execution_count": 138,
     "metadata": {},
     "output_type": "execute_result"
    }
   ],
   "source": [
    "life = SULT()\n",
    "PW = life.net_premium(65, b=1000)   # 20_V=0 => P+W is net premium for A_65\n",
    "P = life.net_premium(45, t=20, b=1000)  # => P is net premium for A_45:20\n",
    "isclose(24.3, PW - P, question=\"Q7.28\")"
   ]
  },
  {
   "attachments": {},
   "cell_type": "markdown",
   "id": "72666250",
   "metadata": {
    "id": "04bd97d2"
   },
   "source": [
    "__SOA Question 7.29__ :  (E) 2270\n",
    "\n",
    "For a fully discrete whole life insurance of *B* on  *(x)*,\n",
    "you are given:\n",
    "\n",
    "1. Expenses, incurred at the beginning of each year, equal 30 in\n",
    " the first year and 5 in subsequent years\n",
    "\n",
    "2. The net premium policy value at the end of year 10 is 2290\n",
    "\n",
    "3. Gross premiums are calculated using the equivalence principle\n",
    "\n",
    "4. *i* = 0.04\n",
    "\n",
    "5. $\\ddot{a}_x$ = 14.8\n",
    "\n",
    "6. $\\ddot{a}_{x+10}$ = 11.4\n",
    "\n",
    " Calculate $_{10}V^{g}$, the gross premium policy value at the end of year\n",
    " 10.\n"
   ]
  },
  {
   "cell_type": "code",
   "execution_count": 139,
   "id": "447f3205",
   "metadata": {
    "colab": {
     "base_uri": "https://localhost:8080/"
    },
    "id": "e301c605",
    "outputId": "6a27f280-1530-4b9f-dda9-4b26dd1366c8"
   },
   "outputs": [
    {
     "name": "stdout",
     "output_type": "stream",
     "text": [
      "----- Q7.29 2270: 2270.743243243244 [OK] -----\n"
     ]
    },
    {
     "data": {
      "text/plain": [
       "True"
      ]
     },
     "execution_count": 139,
     "metadata": {},
     "output_type": "execute_result"
    }
   ],
   "source": [
    "x = 0\n",
    "life = Recursion(verbose=False).set_interest(i=0.04)\\\n",
    "                               .set_a(14.8, x=x)\\\n",
    "                               .set_a(11.4, x=x+10)\n",
    "def fun(B): \n",
    "    return life.net_policy_value(x, t=10, b=B)\n",
    "B = life.solve(fun, target=2290, grid=2290*10)  # Solve benefit B given net 10_V\n",
    "contract = Contract(initial_policy=30, renewal_policy=5, benefit=B)\n",
    "G = life.gross_premium(a=life.whole_life_annuity(x), **contract.premium_terms)\n",
    "V = life.gross_policy_value(x, t=10, contract=contract.set_contract(premium=G))\n",
    "isclose(2270, V, question=\"Q7.29\")"
   ]
  },
  {
   "attachments": {},
   "cell_type": "markdown",
   "id": "f431c064",
   "metadata": {
    "id": "72f5987a"
   },
   "source": [
    "__SOA Question 7.30__ :  (E) 9035\n",
    "\n",
    "Ten years ago J, then age 25, purchased a fully discrete\n",
    "10-payment whole life policy of 10,000.\n",
    "\n",
    " All actuarial calculations for this policy were based on the\n",
    " following:\n",
    "\n",
    "1. Mortality follows the Standard Ultimate Life Table\n",
    "\n",
    "2. *i* = 0.05\n",
    "\n",
    "3. The equivalence principle\n",
    "\n",
    " In addition:\n",
    "\n",
    "1. $L_{10}$ is the present value of future losses random variable at\n",
    " time 10\n",
    "\n",
    "2. At the end of policy year 10, the interest rate used to\n",
    " calculate $L_{10}$ is changed to 0%\n",
    "\n",
    " Calculate the increase in $E[L_{10}]$ that results from this change.\n",
    "\n"
   ]
  },
  {
   "cell_type": "code",
   "execution_count": 140,
   "id": "85453683",
   "metadata": {
    "colab": {
     "base_uri": "https://localhost:8080/"
    },
    "id": "cdd25b58",
    "outputId": "27b419e7-2e45-4c15-b867-a7c22fbb8c08"
   },
   "outputs": [
    {
     "name": "stdout",
     "output_type": "stream",
     "text": [
      "----- Q7.30 9035: 9034.654127845053 [OK] -----\n"
     ]
    },
    {
     "data": {
      "text/plain": [
       "True"
      ]
     },
     "execution_count": 140,
     "metadata": {},
     "output_type": "execute_result"
    }
   ],
   "source": [
    "b = 10000  # premiums=0 after t=10\n",
    "L = SULT().set_interest(i=0.05).whole_life_insurance(x=35, b=b)\n",
    "V = SULT().set_interest(i=0).whole_life_insurance(x=35, b=b)\n",
    "isclose(9035, V - L, question=\"Q7.30\")"
   ]
  },
  {
   "attachments": {},
   "cell_type": "markdown",
   "id": "1dfe2687",
   "metadata": {
    "id": "df03679b"
   },
   "source": [
    "__SOA Question 7.31__ :  (E) 0.310\n",
    "\n",
    "For a fully discrete 3-year endowment insurance of 1000 on (x), you are given:\n",
    "1.  Expenses, payable at the beginning of the year, are:\n",
    "\n",
    "| Year(s) | Percent of Premium | Per Policy |\n",
    "|---|---|---|\n",
    "| 1 | 20% | 15 |\n",
    "| 2 and 3 | 8% | 5 |\n",
    "\n",
    "2. The expense reserve at the end of year 2 is –23.64\n",
    "3. The gross annual premium calculated using the equivalence principle is G = 368.\n",
    "4. $G = 1000 P_{x:\\overline{3|}} + P^e$ , where $P^e$ is the expense loading\n",
    "\n",
    "Calculate $P_{x:\\overline{3|}}$ .\n"
   ]
  },
  {
   "cell_type": "code",
   "execution_count": 141,
   "id": "4d277efe",
   "metadata": {
    "colab": {
     "base_uri": "https://localhost:8080/"
    },
    "id": "0d9cd985",
    "outputId": "0756a3a7-c334-4159-804c-f71f5a395664"
   },
   "outputs": [
    {
     "name": "stdout",
     "output_type": "stream",
     "text": [
      "----- Q7.31 0.31: 0.309966 [OK] -----\n"
     ]
    },
    {
     "data": {
      "text/plain": [
       "True"
      ]
     },
     "execution_count": 141,
     "metadata": {},
     "output_type": "execute_result"
    }
   ],
   "source": [
    "x = 0\n",
    "life = Reserves().set_reserves(T=3)\n",
    "G = 368.05\n",
    "def fun(P):  # solve net premium expense reserve equation\n",
    "    return life.t_V(x, t=2, premium=G-P, benefit=lambda t:0, per_policy=5+0.08*G)\n",
    "P = life.solve(fun, target=-23.64, grid=[.29, .31]) / 1000\n",
    "isclose(0.310, P, question=\"Q7.31\")"
   ]
  },
  {
   "attachments": {},
   "cell_type": "markdown",
   "id": "3c4b825d",
   "metadata": {
    "id": "164f3498"
   },
   "source": [
    "__SOA Question 7.32__ :  (B) 1.4\n",
    "\n",
    "For two fully continuous whole life insurance policies on (x), you are given:\n",
    "\n",
    "| | Death Benefit | Annual Premium Rate | Variance of the PV of Future Loss at t |\n",
    "|---|---|---|---|\n",
    "| Policy A | 1 | 0.10 | 0.455 |\n",
    "| Policy B | 2 | 0.16 | - |\n",
    "\n",
    "- $\\delta= 0.06$\n",
    "\n",
    "Calculate the variance of the present value of future loss at $t$ for Policy B.\n"
   ]
  },
  {
   "cell_type": "code",
   "execution_count": 142,
   "id": "902eb6b2",
   "metadata": {
    "colab": {
     "base_uri": "https://localhost:8080/"
    },
    "id": "cf0604c6",
    "outputId": "0a51b4dd-cf4a-4ef1-d517-a576b01fa30b"
   },
   "outputs": [
    {
     "name": "stdout",
     "output_type": "stream",
     "text": [
      "----- Q7.32 1.39: 1.3848168384380901 [OK] -----\n"
     ]
    },
    {
     "data": {
      "text/plain": [
       "True"
      ]
     },
     "execution_count": 142,
     "metadata": {},
     "output_type": "execute_result"
    }
   ],
   "source": [
    "life = PolicyValues().set_interest(i=0.06)\n",
    "contract = Contract(benefit=1, premium=0.1)\n",
    "def fun(A2): \n",
    "    return life.gross_variance_loss(A1=0, A2=A2, contract=contract)\n",
    "A2 = life.solve(fun, target=0.455, grid=0.455)\n",
    "contract = Contract(benefit=2, premium=0.16)\n",
    "var = life.gross_variance_loss(A1=0, A2=A2, contract=contract)\n",
    "isclose(1.39, var, question=\"Q7.32\")"
   ]
  },
  {
   "attachments": {},
   "cell_type": "markdown",
   "id": "4416f5db",
   "metadata": {
    "id": "1ebd4d3a"
   },
   "source": [
    "__Final Score__"
   ]
  },
  {
   "cell_type": "code",
   "execution_count": 143,
   "id": "aad3b435",
   "metadata": {
    "colab": {
     "base_uri": "https://localhost:8080/"
    },
    "id": "40395bce",
    "outputId": "392524a9-6e25-4857-a99d-c517a8a21905"
   },
   "outputs": [
    {
     "name": "stdout",
     "output_type": "stream",
     "text": [
      "2023-06-23 16:13:16.234573\n",
      "Passed: 135/135\n",
      "\n"
     ]
    }
   ],
   "source": [
    "from datetime import datetime\n",
    "print(datetime.now())\n",
    "print(isclose)"
   ]
  }
 ],
 "metadata": {
  "kernelspec": {
   "display_name": "Python 3.10.5 ('env3.10')",
   "language": "python",
   "name": "python3"
  },
  "language_info": {
   "codemirror_mode": {
    "name": "ipython",
    "version": 3
   },
   "file_extension": ".py",
   "mimetype": "text/x-python",
   "name": "python",
   "nbconvert_exporter": "python",
   "pygments_lexer": "ipython3",
   "version": "3.11.4"
  }
 },
 "nbformat": 4,
 "nbformat_minor": 5
}
