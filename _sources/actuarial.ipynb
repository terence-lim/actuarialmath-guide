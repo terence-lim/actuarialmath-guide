{
 "cells": [
  {
   "attachments": {},
   "cell_type": "markdown",
   "metadata": {},
   "source": [
    "# Actuarial Python\n",
    "\n",
    "The `actuarialmath` package is written in and requires Python (currently: version 3.10). Though the comparable R language possesses other desirable qualities, object-oriented programming is more straightforward in Python: since our sequence of actuarial concepts logically build upon each other, they are naturally developed as a hieararchy of Python classes with inherited methods and properties. \n",
    "\n",
    "## Installation\n",
    "\n",
    "Install either by using [pip](https://pypi.org/project/actuarialmath/):\n",
    "\n",
    "- ``pip install actuarialmath``\n",
    "\n",
    "or cloning from [github](https://github.com/terence-lim/actuarialmath.git):\n",
    "\n",
    "- ``git clone https://github.com/terence-lim/actuarialmath.git``\n"
   ]
  },
  {
   "attachments": {},
   "cell_type": "markdown",
   "metadata": {},
   "source": [
    "## Overview\n",
    "\n",
    "Each section of this document introduces a class, along with the actuarial concepts it implements, arranged logically in three groups. To use the package, a suitable subclass should first be selected from the last group to load the given actuarial assumptions. Then the appropriate computational methods can be called, which may be inherited from the other general classes or make use of any shortcut formulas that can be obtained from the specific survival model assumed.\n",
    "\n",
    "\n",
    "1. Implement general actuarial methods\n",
    "\n",
    "   - Basic interest theory and probability laws\n",
    "\n",
    "   - Survival functions, expected future lifetimes and fractional ages\n",
    "\n",
    "   - Insurance, annuity, premiums, policy values, and reserves calculations\n",
    "\n",
    "\n",
    "2. Adjust results for\n",
    "\n",
    "   - Extra mortality risks\n",
    "\n",
    "   - 1/mthly payment frequency using UDD or Woolhouse approaches\n",
    "\n",
    "3. Specify survival models and assumptions, and implement associated shortcut formulas\n",
    "\n",
    "   - Recursion inputs\n",
    "  \n",
    "   - Life table, select life table, or standard ultimate life table\n",
    "\n",
    "   - Mortality laws, such as constant force of maturity, beta and uniform distributions, or Makeham's and Gompertz's laws\n",
    "\n",
    "\n",
    "\n",
    "\n",
    "\n"
   ]
  },
  {
   "cell_type": "markdown",
   "metadata": {},
   "source": [
    "## License\n",
    "\n",
    "MIT License\n",
    "\n",
    "Copyright (c) 2022-2023 Terence Lim\n",
    "\n",
    "Permission is hereby granted, free of charge, to any person obtaining a copy\n",
    "of this software and associated documentation files (the \"Software\"), to deal\n",
    "in the Software without restriction, including without limitation the rights\n",
    "to use, copy, modify, merge, publish, distribute, sublicense, and/or sell\n",
    "copies of the Software, and to permit persons to whom the Software is\n",
    "furnished to do so, subject to the following conditions:\n",
    "\n",
    "The above copyright notice and this permission notice shall be included in all\n",
    "copies or substantial portions of the Software.\n",
    "\n",
    "THE SOFTWARE IS PROVIDED \"AS IS\", WITHOUT WARRANTY OF ANY KIND, EXPRESS OR\n",
    "IMPLIED, INCLUDING BUT NOT LIMITED TO THE WARRANTIES OF MERCHANTABILITY,\n",
    "FITNESS FOR A PARTICULAR PURPOSE AND NONINFRINGEMENT. IN NO EVENT SHALL THE\n",
    "AUTHORS OR COPYRIGHT HOLDERS BE LIABLE FOR ANY CLAIM, DAMAGES OR OTHER\n",
    "LIABILITY, WHETHER IN AN ACTION OF CONTRACT, TORT OR OTHERWISE, ARISING FROM,\n",
    "OUT OF OR IN CONNECTION WITH THE SOFTWARE OR THE USE OR OTHER DEALINGS IN THE\n",
    "SOFTWARE.\n"
   ]
  },
  {
   "attachments": {},
   "cell_type": "markdown",
   "metadata": {},
   "source": [
    "## Methods\n",
    "\n",
    "\n",
    "The `Actuarial` base class provides some common helpful utility functions and definitions of constants, that are needed by other classes in the package. "
   ]
  },
  {
   "cell_type": "code",
   "execution_count": 1,
   "metadata": {},
   "outputs": [
    {
     "name": "stdout",
     "output_type": "stream",
     "text": [
      "\n",
      "class Actuarial - Define constants and common utility functions\n",
      "\n",
      "    Constants:\n",
      "      VARIANCE : select variance as the statistical moment to calculate\n",
      "\n",
      "      WHOLE : indicates that term of insurance or annuity is Whole Life\n",
      "\n",
      "    Methods:\n",
      "    --------\n",
      "\n",
      "    solve(fun, target, grid, mad):\n",
      "      Solve root, or parameter that minimizes absolute value, of a function\n",
      "\n",
      "    add_term(t, n):\n",
      "      Add two terms, either term may be Whole Life\n",
      "\n",
      "    max_term(x, t, u):\n",
      "      Decrease term t if adding deferral period u to (x) exceeds maxage\n",
      "\n",
      "    isclose(r, target, abs_tol):\n",
      "      Is close to zero or target value\n",
      "\n",
      "\n"
     ]
    }
   ],
   "source": [
    "from actuarialmath import Actuarial\n",
    "import math\n",
    "import describe\n",
    "describe.methods(Actuarial)"
   ]
  },
  {
   "attachments": {},
   "cell_type": "markdown",
   "metadata": {},
   "source": [
    "## Examples\n",
    " "
   ]
  },
  {
   "attachments": {},
   "cell_type": "markdown",
   "metadata": {},
   "source": [
    "The `solve()` method is called to impute the value of a parameter such that its function output value is equal to a specified target value, by either returning the zero _root_ (set argument `mad = False`, by default) or minimizing the absolute difference (set `mad = True`).  As a simple example, to solve for the median of the exponential cumulative distribution:"
   ]
  },
  {
   "cell_type": "code",
   "execution_count": 2,
   "metadata": {},
   "outputs": [
    {
     "data": {
      "text/plain": [
       "0.6931471805599453"
      ]
     },
     "execution_count": 2,
     "metadata": {},
     "output_type": "execute_result"
    }
   ],
   "source": [
    "Actuarial.solve(fun=lambda x: 1 - math.exp(-x), target=0.5, grid=[0, 2])"
   ]
  },
  {
   "attachments": {},
   "cell_type": "markdown",
   "metadata": {},
   "source": [
    "The `add_term` method adds two terms, while handling the case where either may not be a fixed term, i.e. they may be _whole life_ and indicated with the constant `WHOLE`.  The `max_term` method trims the value of a term _t_, such that its sum with age _x_ and deferral period _u_ is no larger than the maximum age\n"
   ]
  },
  {
   "cell_type": "code",
   "execution_count": 3,
   "metadata": {},
   "outputs": [
    {
     "name": "stdout",
     "output_type": "stream",
     "text": [
      "3 + WHOLE_LIFE = WHOLE_LIFE\n",
      "WHOLE_LIFE + -1 = WHOLE_LIFE\n",
      "3 + 2 = 5\n",
      "3 + -1 = 2\n",
      "\n",
      "10 -> 10\n",
      "50 -> 15\n",
      "WHOLE_LIFE -> 15\n"
     ]
    }
   ],
   "source": [
    "actuarial = Actuarial()\n",
    "\n",
    "def as_term(t): return \"WHOLE_LIFE\" if t == Actuarial.WHOLE else t\n",
    "\n",
    "for a,b in [(3, Actuarial.WHOLE), (Actuarial.WHOLE, -1), (3, 2), (3, -1)]:\n",
    "    print(f\"{as_term(a)} + {as_term(b)} =\", as_term(actuarial.add_term(a, b)))\n",
    "print()\n",
    "for t in [10, 50, Actuarial.WHOLE]:\n",
    "    print(as_term(t), '->', actuarial.max_term(x=65, t=t, u=20))"
   ]
  }
 ],
 "metadata": {
  "kernelspec": {
   "display_name": "Python 3.10.5 ('env3.10')",
   "language": "python",
   "name": "python3"
  },
  "language_info": {
   "codemirror_mode": {
    "name": "ipython",
    "version": 3
   },
   "file_extension": ".py",
   "mimetype": "text/x-python",
   "name": "python",
   "nbconvert_exporter": "python",
   "pygments_lexer": "ipython3",
   "version": "3.11.4"
  },
  "orig_nbformat": 4,
  "vscode": {
   "interpreter": {
    "hash": "a53bd658f9a5b7202fd97fcbe4e35965efc28d0eb9d85b0766bd67191bc6202c"
   }
  }
 },
 "nbformat": 4,
 "nbformat_minor": 2
}
