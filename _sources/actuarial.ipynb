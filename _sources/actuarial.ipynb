{
 "cells": [
  {
   "attachments": {},
   "cell_type": "markdown",
   "metadata": {},
   "source": [
    "# Actuarial Python\n",
    "\n",
    "The `actuarialmath` package is written in and requires Python (currently: version 3.10). Though the comparable R language possesses other desirable qualities, object-oriented programming is more straightforward in Python: since our sequence of actuarial concepts logically build upon each other, they are more naturally developed as a hieararchy of Python classes with inherited methods and properties. \n",
    "\n",
    "## Installation\n",
    "\n",
    "Either use [pip](https://pypi.org/project/actuarialmath/):\n",
    "\n",
    "``pip install actuarialmath``\n",
    "\n",
    "or clone from [github](https://github.com/terence-lim/actuarialmath.git):\n",
    "\n",
    "``git clone https://github.com/terence-lim/actuarialmath.git``\n"
   ]
  },
  {
   "attachments": {},
   "cell_type": "markdown",
   "metadata": {},
   "source": [
    "## Overview\n",
    "\n",
    "Each section of this document introduces a class, along with the actuarial concepts it implements, arranged logically in three groups. To use the package, a suitable subclass should first be selected from the second group to load the given actuarial assumptions. Then the appropriate computational methods can be called, which may be inherited from the other general classes and make use of any shortcut formulas or survival distributions that can be obtained from the specified assumptions.\n",
    "\n",
    "\n",
    "1. Implement general actuarial methods\n",
    "\n",
    "   - Basic interest theory and probability laws\n",
    "\n",
    "   - Survival functions, expected future lifetimes and fractional ages\n",
    "\n",
    "   - Insurance, annuity, premiums, policy values, and reserves calculations\n",
    "\n",
    "\n",
    "2. Adjust results for\n",
    "\n",
    "   - Extra mortality risks\n",
    "\n",
    "   - 1/mthly payment frequency using UDD or Woolhouse approaches\n",
    "\n",
    "3. Specify and load a particular form of assumptions\n",
    "\n",
    "   - Life table, select life table, or standard ultimate life table\n",
    "\n",
    "   - Mortality laws, such as constant force of maturity, beta and uniform distributions, or Makeham's and Gompertz's laws\n",
    "\n",
    "   - Recursion inputs\n",
    "\n"
   ]
  },
  {
   "attachments": {},
   "cell_type": "markdown",
   "metadata": {},
   "source": [
    "## Methods\n",
    "\n",
    "\n",
    "The `Actuarial` base class provides some common helpful utility functions and definitions of constants, that are needed by other classes in the package. "
   ]
  },
  {
   "cell_type": "code",
   "execution_count": 1,
   "metadata": {},
   "outputs": [
    {
     "name": "stdout",
     "output_type": "stream",
     "text": [
      "\n",
      "class Actuarial - Define constants and common utility functions\n",
      "\n",
      "    Constants:\n",
      "      VARIANCE : select variance as the statistical moment to calculate\n",
      "\n",
      "      WHOLE : indicates that term of insurance or annuity is Whole Life\n",
      "\n",
      "    Methods:\n",
      "    --------\n",
      "\n",
      "    solve(fun, target, grid, mad):\n",
      "      Solve for the root of, or parameter value that minimizes, a function\n",
      "\n",
      "    add_term(t, n):\n",
      "      Add two terms, either term may be Whole Life\n",
      "\n",
      "    max_term(x, t, u):\n",
      "      Decrease term t if adding deferral period u to (x) exceeds maxage\n",
      "\n",
      "\n"
     ]
    }
   ],
   "source": [
    "from actuarialmath import Actuarial\n",
    "import describe\n",
    "describe.methods(Actuarial)"
   ]
  },
  {
   "attachments": {},
   "cell_type": "markdown",
   "metadata": {},
   "source": [
    "## Examples\n",
    " "
   ]
  },
  {
   "attachments": {},
   "cell_type": "markdown",
   "metadata": {},
   "source": [
    "For example, the constant `WHOLE` indicates the contract term of a whole life insurance or annuity policy, whenever we need to add to (or subtract from) finite periods of time."
   ]
  },
  {
   "cell_type": "code",
   "execution_count": 2,
   "metadata": {},
   "outputs": [
    {
     "name": "stdout",
     "output_type": "stream",
     "text": [
      "3 + WHOLE_LIFE = WHOLE_LIFE\n",
      "WHOLE_LIFE + -1 = WHOLE_LIFE\n",
      "3 + 2 = 5\n",
      "3 + -1 = 2\n"
     ]
    }
   ],
   "source": [
    "actuarial = Actuarial()\n",
    "\n",
    "def as_term(t): return \"WHOLE_LIFE\" if t == Actuarial.WHOLE else t\n",
    "\n",
    "for a,b in [(3, Actuarial.WHOLE), (Actuarial.WHOLE, -1), (3, 2), (3, -1)]:\n",
    "    print(f\"{as_term(a)} + {as_term(b)} =\", as_term(actuarial.add_term(a, b)))\n"
   ]
  },
  {
   "attachments": {},
   "cell_type": "markdown",
   "metadata": {},
   "source": [
    "The `solve()` method returns the zero (i.e root), or alternatively the value that minimizes the absolute value, of a function, hence can be useful for ``backing out'' the value of the parameter which sets the output of a formula equal to a required target."
   ]
  },
  {
   "cell_type": "code",
   "execution_count": 3,
   "metadata": {},
   "outputs": [
    {
     "data": {
      "text/plain": [
       "20.0"
      ]
     },
     "execution_count": 3,
     "metadata": {},
     "output_type": "execute_result"
    }
   ],
   "source": [
    "Actuarial.solve(fun=lambda omega: 1/omega, target=1/20, grid=[1, 100])"
   ]
  }
 ],
 "metadata": {
  "kernelspec": {
   "display_name": "Python 3.10.5 ('env3.10')",
   "language": "python",
   "name": "python3"
  },
  "language_info": {
   "codemirror_mode": {
    "name": "ipython",
    "version": 3
   },
   "file_extension": ".py",
   "mimetype": "text/x-python",
   "name": "python",
   "nbconvert_exporter": "python",
   "pygments_lexer": "ipython3",
   "version": "3.11.4"
  },
  "orig_nbformat": 4,
  "vscode": {
   "interpreter": {
    "hash": "a53bd658f9a5b7202fd97fcbe4e35965efc28d0eb9d85b0766bd67191bc6202c"
   }
  }
 },
 "nbformat": 4,
 "nbformat_minor": 2
}
