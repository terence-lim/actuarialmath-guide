{
 "cells": [
  {
   "attachments": {},
   "cell_type": "markdown",
   "metadata": {},
   "source": [
    "# Actuarial Python\n",
    "\n",
    "The `actuarialmath` package is written in and requires Python (currently: version 3.10). Though the comparable R language possesses other desirable qualities, object-oriented programming is simpler in Python: since our sequence of actuarial concepts logically build upon each other, they are more naturally developed as a hieararchy of Python classes with inherited methods and attributes. \n",
    "\n",
    "## Installation\n",
    "\n",
    "Using pip or git, either:\n",
    "\n",
    "1. ``pip install actuarialmath``, or\n",
    "\n",
    "2. `git clone https://github.com/terence-lim/actuarialmath.git`\n"
   ]
  },
  {
   "attachments": {},
   "cell_type": "markdown",
   "metadata": {},
   "source": [
    "## Overview\n",
    "\n",
    "The package comprises three sets of classes, which:\n",
    "\n",
    "1. Implement general actuarial concepts\n",
    "\n",
    "   1. Basic interest theory and probability laws\n",
    "   2. Survival functions, future lifetimes and fractional ages\n",
    "   3. Insurance, annuity, premiums, policy values, and reserves calculations\n",
    "\n",
    "2. Adjust results for\n",
    "\n",
    "   1. Extra risks\n",
    "   2. 1/mthly payments using UDD or Woolhouse approaches\n",
    "\n",
    "3. Specify and load a particular form of assumptions\n",
    "\n",
    "   1. Life table, select life table, or standard ultimate life table\n",
    "   2. Mortality laws, such as constant force of maturity, beta and uniform distributions, or Makeham's and Gompertz's laws\n",
    "   3. Recursion inputs\n",
    "\n",
    "A user should first initialize a class selected from the last set to load their actuarial assumptions, then call appropriate methods that are either specific to that class or inherited from other general classes, which make use of any shortcut formulas or survival distributions obtained from those assumptions."
   ]
  },
  {
   "attachments": {},
   "cell_type": "markdown",
   "metadata": {},
   "source": [
    "## Examples\n",
    "\n",
    "The `Actuarial` base class provides some common helpful utility functions and definitions of constants, that are needed by other subclasses in the package.  "
   ]
  },
  {
   "cell_type": "code",
   "execution_count": 1,
   "metadata": {},
   "outputs": [],
   "source": [
    "from actuarialmath.actuarial import Actuarial\n",
    "actuarial = Actuarial()"
   ]
  },
  {
   "attachments": {},
   "cell_type": "markdown",
   "metadata": {},
   "source": [
    "For example, the constant `WHOLE` indicates the contract term of a whole life insurance or annuity policy, whenever we need to add to (or subtract from) finite periods of time."
   ]
  },
  {
   "cell_type": "code",
   "execution_count": 2,
   "metadata": {},
   "outputs": [
    {
     "name": "stdout",
     "output_type": "stream",
     "text": [
      "3 + WHOLE_LIFE = WHOLE_LIFE\n",
      "WHOLE_LIFE + -1 = WHOLE_LIFE\n",
      "3 + 2 = 5\n",
      "3 + -1 = 2\n"
     ]
    }
   ],
   "source": [
    "def as_term(t): return \"WHOLE_LIFE\" if t == Actuarial.WHOLE else t\n",
    "\n",
    "for a,b in [(3, Actuarial.WHOLE), (Actuarial.WHOLE, -1), (3, 2), (3, -1)]:\n",
    "    print(f\"{as_term(a)} + {as_term(b)} =\", as_term(actuarial.add_term(a, b)))\n"
   ]
  },
  {
   "attachments": {},
   "cell_type": "markdown",
   "metadata": {},
   "source": [
    "The `solve()` method numerically solves for the a zero (or root) of an equation, hence can be useful for the purpose of ``backing out'' the value of the parameter which sets the output of a formula to be equal to a required target."
   ]
  },
  {
   "cell_type": "code",
   "execution_count": 3,
   "metadata": {},
   "outputs": [
    {
     "name": "stdout",
     "output_type": "stream",
     "text": [
      "20.0\n"
     ]
    }
   ],
   "source": [
    "print(Actuarial.solve(fun=lambda omega: 1/omega, \n",
    "                      target=1/20,\n",
    "                      grid=[1, 100]))"
   ]
  },
  {
   "attachments": {},
   "cell_type": "markdown",
   "metadata": {},
   "source": [
    "## Methods"
   ]
  },
  {
   "cell_type": "code",
   "execution_count": 5,
   "metadata": {},
   "outputs": [
    {
     "name": "stdout",
     "output_type": "stream",
     "text": [
      "\n",
      "class Actuarial - Define constants and common utility functions\n",
      "\n",
      "    Constants:\n",
      "      VARIANCE : select variance as the statistical moment to calculate\n",
      "\n",
      "      WHOLE : indicates that term of insurance or annuity is Whole Life\n",
      "\n",
      "    Methods:\n",
      "    --------\n",
      "\n",
      "    solve(fun, target, grid, mad):\n",
      "      Solve for the root of, or parameter value that minimizes, an equation\n",
      "\n",
      "    add_term(t, n):\n",
      "      Add two terms, either term may be Whole Life\n",
      "\n",
      "    max_term(x, t, u):\n",
      "      Adjust term if adding term and deferral periods to (x) exceeds maxage\n",
      "\n",
      "\n"
     ]
    }
   ],
   "source": [
    "import describe\n",
    "describe.methods(Actuarial)"
   ]
  }
 ],
 "metadata": {
  "kernelspec": {
   "display_name": "Python 3.10.5 ('env3.10')",
   "language": "python",
   "name": "python3"
  },
  "language_info": {
   "codemirror_mode": {
    "name": "ipython",
    "version": 3
   },
   "file_extension": ".py",
   "mimetype": "text/x-python",
   "name": "python",
   "nbconvert_exporter": "python",
   "pygments_lexer": "ipython3",
   "version": "3.11.3"
  },
  "orig_nbformat": 4,
  "vscode": {
   "interpreter": {
    "hash": "a53bd658f9a5b7202fd97fcbe4e35965efc28d0eb9d85b0766bd67191bc6202c"
   }
  }
 },
 "nbformat": 4,
 "nbformat_minor": 2
}
