{
 "cells": [
  {
   "attachments": {},
   "cell_type": "markdown",
   "metadata": {},
   "source": [
    "# Extra Risk\n",
    "\n",
    "If underwriting determines that an individual should offered insurance but at above standard rates, there are different ways in which we can model the extra mortality risk in a premium calculation.\n",
    "\n",
    "## Adjust mortality risk\n",
    "\n",
    "$\\mu_{x+t} + k \\Rightarrow ~_tp_x \\gets ~_tp_x ~ e^{-kt}$\n",
    "- add constant to force of mortality: \n",
    "\n",
    "$\\mu_{x+t} \\cdot k \\Rightarrow ~_tp_x \\gets ~(_tp_x)^{k}$\n",
    "- multiply force of mortality by constant: \n",
    "\n",
    "$q_{x} \\gets q_{x} \\cdot k$\n",
    "- multiply mortality rate by a constant\n",
    "\n",
    "\n",
    "$\\Rightarrow (x) \\gets (x+k)$\n",
    "- add years to age, referred to as age rating\n",
    "\n"
   ]
  },
  {
   "attachments": {},
   "cell_type": "markdown",
   "metadata": {},
   "source": [
    "## Examples\n",
    "\n",
    "The `ExtraRisk` class implements methods to adjust the survival or mortality function by extra risks."
   ]
  },
  {
   "cell_type": "code",
   "execution_count": 9,
   "metadata": {},
   "outputs": [],
   "source": [
    "from actuarialmath.extrarisk import ExtraRisk\n",
    "from actuarialmath.selectlife import SelectLife\n",
    "from actuarialmath.sult import SULT"
   ]
  },
  {
   "attachments": {},
   "cell_type": "markdown",
   "metadata": {},
   "source": [
    "__SOA Question 5.5__\n",
    "\n",
    "For an annuity-due that pays 100 at the beginning of each year that (45) is alive, you are given:\n",
    "- Mortality for standard lives follows the Standard Ultimate Life Table\n",
    "- The force of mortality for standard lives age 45 + t is represented as $\\mu_{45+t}^{SULT}$\n",
    "- The force of mortality for substandard lives age 45 + t, $\\mu_{45+t}^{S}$, is defined as:\n",
    "\n",
    "$$\\begin{align*}\n",
    "\\mu_{45+t}^{S} &= \\mu_{45+t}^{SULT} + 0.05, \\quad 0 \\le t < 1\\\\\n",
    "&= \\mu_{45+t}^{SULT}, \\quad t \\ge 1\n",
    "\\end{align*}$$\n",
    "- $i = 0.05$\n",
    "\n",
    "Calculate the actuarial present value of this annuity for a substandard life age 45."
   ]
  },
  {
   "cell_type": "code",
   "execution_count": 10,
   "metadata": {},
   "outputs": [
    {
     "name": "stdout",
     "output_type": "stream",
     "text": [
      "SOA Question 5.5: (A) 1699.6\n",
      "1699.6076593190103\n"
     ]
    }
   ],
   "source": [
    "print(\"SOA Question 5.5: (A) 1699.6\")\n",
    "life = SULT()\n",
    "extra = ExtraRisk(life=life, extra=0.05, risk=\"ADD_FORCE\")\n",
    "select = SelectLife(periods=1)\\\n",
    "    .set_interest(i=.05)\\\n",
    "    .set_select(s=0, age_selected=True, q=extra['q'])\\\n",
    "    .set_select(s=1, age_selected=False, a=life['a'])\\\n",
    "    .fill_table()\n",
    "print(100*select['a'][45][0])"
   ]
  },
  {
   "attachments": {},
   "cell_type": "markdown",
   "metadata": {},
   "source": [
    "__SOA Question 4.19__\n",
    "\n",
    "(80) purchases a whole life insurance policy of 100,000. You are given:\n",
    "- The policy is priced with a select period of one year\n",
    "- The select mortality rate equals 80% of the mortality rate from the Standard\n",
    "Ultimate Life Table\n",
    "- Ultimate mortality follows the Standard Ultimate Life Table\n",
    "- $i = 0.05$\n",
    "\n",
    "Calculate the actuarial present value of the death benefits for this insurance"
   ]
  },
  {
   "cell_type": "code",
   "execution_count": 11,
   "metadata": {},
   "outputs": [
    {
     "name": "stdout",
     "output_type": "stream",
     "text": [
      "SOA Question 4.19:  (B) 59050\n",
      "59050.59973285648\n"
     ]
    }
   ],
   "source": [
    "print(\"SOA Question 4.19:  (B) 59050\")\n",
    "life = SULT()\n",
    "extra = ExtraRisk(life=life, extra=0.8, risk=\"MULTIPLY_RATE\")\n",
    "select = SelectLife(periods=1)\\\n",
    "    .set_interest(i=.05)\\\n",
    "    .set_select(s=0, age_selected=True, q=extra['q'])\\\n",
    "    .set_select(s=1, age_selected=False, q=life['q'])\\\n",
    "    .fill_table()\n",
    "print(100000*select.whole_life_insurance(80, s=0))\n"
   ]
  },
  {
   "attachments": {},
   "cell_type": "markdown",
   "metadata": {},
   "source": [
    "__Other examples__"
   ]
  },
  {
   "cell_type": "code",
   "execution_count": 12,
   "metadata": {},
   "outputs": [
    {
     "name": "stdout",
     "output_type": "stream",
     "text": [
      "0.9992288829941123 0.9984583606096613\n"
     ]
    }
   ],
   "source": [
    "life = SULT()\n",
    "extra = ExtraRisk(life=life, extra=2, risk=\"MULTIPLY_FORCE\")\n",
    "print(life.p_x(45), extra.p_x(45))"
   ]
  },
  {
   "attachments": {},
   "cell_type": "markdown",
   "metadata": {},
   "source": [
    "## Methods"
   ]
  },
  {
   "cell_type": "code",
   "execution_count": 13,
   "metadata": {},
   "outputs": [
    {
     "name": "stdout",
     "output_type": "stream",
     "text": [
      "\n",
      "class ExtraRisk - Adjust mortality by extra risk\n",
      "\n",
      "    Args:\n",
      "      life : original survival and mortality rates\n",
      "      extra : amount of extra risk to adjust\n",
      "      risk : adjust by {\"ADD_FORCE\" \"MULTIPLY_FORCE\" \"ADD_AGE\" \"MULTIPLY_RATE\"}\n",
      "\n",
      "    Methods:\n",
      "    --------\n",
      "\n",
      "    q_x(x, s):\n",
      "      Return q_[x]+s after adding age rating or multipliying mortality rate\n",
      "\n",
      "    p_x(x, s):\n",
      "      Return p_[x]+s after adding or multiplying force of mortality\n",
      "\n",
      "    __getitem__(col):\n",
      "      Returns survival function values adjusted by extra risk\n",
      "\n",
      "\n"
     ]
    }
   ],
   "source": [
    "import describe\n",
    "describe.methods(ExtraRisk)"
   ]
  }
 ],
 "metadata": {
  "kernelspec": {
   "display_name": "Python 3.10.5 ('env3.10')",
   "language": "python",
   "name": "python3"
  },
  "language_info": {
   "codemirror_mode": {
    "name": "ipython",
    "version": 3
   },
   "file_extension": ".py",
   "mimetype": "text/x-python",
   "name": "python",
   "nbconvert_exporter": "python",
   "pygments_lexer": "ipython3",
   "version": "3.11.3"
  },
  "orig_nbformat": 4,
  "vscode": {
   "interpreter": {
    "hash": "a53bd658f9a5b7202fd97fcbe4e35965efc28d0eb9d85b0766bd67191bc6202c"
   }
  }
 },
 "nbformat": 4,
 "nbformat_minor": 2
}
